{
 "cells": [
  {
   "cell_type": "markdown",
   "metadata": {},
   "source": [
    "### Importing required libraries"
   ]
  },
  {
   "cell_type": "code",
   "execution_count": 1,
   "metadata": {
    "collapsed": false
   },
   "outputs": [],
   "source": [
    "%matplotlib inline\n",
    "\n",
    "from ipywidgets import FloatProgress\n",
    "from IPython.display import display\n",
    "from ipywidgets import *\n",
    "\n",
    "import scipy.io as sio\n",
    "import numpy as np\n",
    "import matplotlib.pyplot as plt\n",
    "\n",
    "import scipy.stats as stats\n",
    "from sklearn import cross_validation\n",
    "from sklearn.multiclass import OneVsRestClassifier\n",
    "from sklearn.neighbors import KNeighborsClassifier\n",
    "from sklearn.decomposition import PCA\n",
    "from sklearn.metrics import confusion_matrix\n",
    "from sklearn.linear_model import LassoCV"
   ]
  },
  {
   "cell_type": "markdown",
   "metadata": {},
   "source": [
    "### Utilities"
   ]
  },
  {
   "cell_type": "code",
   "execution_count": 2,
   "metadata": {
    "collapsed": true
   },
   "outputs": [],
   "source": [
    "# Regression plot showing predicted gF scores vs original gF scores\n",
    "def regression_plot(x,y,n,title):\n",
    "\n",
    "    # fit a curve to the data using a least squares 1st order polynomial fit\n",
    "    z = np.polyfit(x,y,1)\n",
    "\n",
    "    p = np.poly1d(z)\n",
    "    fit = p(x)\n",
    "\n",
    "    # get the coordinates for the fit curve\n",
    "    c_x = [np.min(x),np.max(x)]\n",
    "    c_y = p(c_x)\n",
    "\n",
    "    # predict y values of origional data using the fit\n",
    "    p_y = z[0] * x + z[1]\n",
    "\n",
    "    # calculate the y-error (residuals)\n",
    "    y_err = y - p_y\n",
    "\n",
    "    # create series of new test x-values to predict for\n",
    "    p_x = np.arange(np.min(x),np.max(x)+1,1)\n",
    "\n",
    "    # now calculate confidence intervals for new test x-series\n",
    "    mean_x = np.mean(x)         # mean of x\n",
    "    DF = n - z.size                            # degrees of freedom\n",
    "    t = stats.t.ppf(0.95,DF)           # used for CI and PI bands\n",
    "    s_err = np.sum(np.power(y_err,2))   # sum of the squares of the residuals\n",
    "\n",
    "    #confs = t * np.sqrt((s_err/(n-2))*(1.0/n + (np.power((p_x-mean_x),2)/((np.sum(np.power(x,2)))-n*(np.power(mean_x,2))))))\n",
    "    confs = t * np.sqrt((s_err/(n-2)) * (1.0/n + (np.power((p_x-mean_x),2)/(np.sum(np.power(x - mean_x,2))))))\n",
    "    # now predict y based on test x-values\n",
    "    p_y = z[0]*p_x+z[1]\n",
    "\n",
    "    # get lower and upper confidence limits based on predicted y and confidence intervals\n",
    "    lower = p_y - abs(confs)\n",
    "    upper = p_y + abs(confs)\n",
    "\n",
    "    # set-up the plot\n",
    "    plt.subplots(figsize=(8,8))\n",
    "    plt.axes().set_aspect('equal')\n",
    "    plt.xlabel('Original score')\n",
    "    plt.ylabel('Predicted score')\n",
    "    plt.title(title)\n",
    "\n",
    "    # plot sample data\n",
    "    plt.plot(x,y,'bo')\n",
    "\n",
    "    # plot line of best fit\n",
    "    plt.plot(c_x,c_y,'r-',label='Regression line')\n",
    "\n",
    "    # plot confidence limits\n",
    "    plt.plot(p_x,lower,'b--',label='Lower confidence limit (95%)')\n",
    "    plt.plot(p_x,upper,'b--',label='Upper confidence limit (95%)')\n",
    "\n",
    "    # set coordinate limits\n",
    "    plt.xlim(4,25)\n",
    "    plt.ylim(5,25)\n",
    "\n",
    "    # configure legend\n",
    "    plt.legend(loc=0)\n",
    "    leg = plt.gca().get_legend()\n",
    "    ltext = leg.get_texts()\n",
    "    plt.setp(ltext, fontsize=10)\n",
    "\n",
    "    # add text\n",
    "    rho,p = stats.pearsonr(np.ravel(y),x)\n",
    "    s = 'r={:0.2f}\\np={:1.4f}'.format(rho,p)\n",
    "    plt.text(20, 7, s, fontsize=12)\n",
    "\n",
    "    # show the plot\n",
    "    plt.show()\n",
    "    \n",
    "    \n",
    "def plot_confusion_matrix(cm, title='Confusion matrix', cmap=plt.cm.Blues):\n",
    "    plt.imshow(cm, interpolation='nearest', cmap=cmap)\n",
    "    plt.title(title)\n",
    "    plt.colorbar()\n",
    "    plt.tight_layout()\n",
    "    plt.ylabel('True label')\n",
    "    plt.xlabel('Predicted label')\n",
    "    plt.tick_params(\n",
    "    axis='both',    \n",
    "    which='both',      # both major and minor ticks are affected\n",
    "    bottom='off',      # ticks along the bottom edge are off\n",
    "    top='off',         # ticks along the top edge are off\n",
    "    labelbottom='off',\n",
    "    labelleft='off') # labels along the bottom edge are off\n",
    "   \n",
    "    \n",
    "    "
   ]
  },
  {
   "cell_type": "markdown",
   "metadata": {
    "collapsed": true
   },
   "source": [
    "### Importing data"
   ]
  },
  {
   "cell_type": "code",
   "execution_count": 2,
   "metadata": {
    "collapsed": false
   },
   "outputs": [
    {
     "name": "stdout",
     "output_type": "stream",
     "text": [
      "No. of subjects: 115\n"
     ]
    }
   ],
   "source": [
    "# finn's data set \n",
    "data = sio.loadmat('rfMRI_REST1_HCP_Q2')\n",
    "gF = np.ravel(data['PMAT24_A_CR'])\n",
    "n_subj = len(gF)\n",
    "print('No. of subjects:',n_subj)"
   ]
  },
  {
   "cell_type": "code",
   "execution_count": 40,
   "metadata": {
    "collapsed": false
   },
   "outputs": [
    {
     "name": "stdout",
     "output_type": "stream",
     "text": [
      "No. of subjects: 435\n"
     ]
    }
   ],
   "source": [
    "# extended data set\n",
    "data = sio.loadmat('rfMRI_REST1_HCP_Q2')\n",
    "gF = np.ravel(data['PMAT24_A_CR'])\n",
    "data2 = sio.loadmat('rfMRI_REST1_HCP_S500.mat')\n",
    "gF2 = np.ravel(data2['PMAT24_A_CR'])\n",
    "data_ext = np.concatenate((data['rest_1_mat'],data2['rest_1_mat']),axis=2)\n",
    "gF = np.concatenate((gF,gF2))\n",
    "n_subj = len(gF)\n",
    "print('No. of subjects:',n_subj)"
   ]
  },
  {
   "cell_type": "code",
   "execution_count": 28,
   "metadata": {
    "collapsed": false
   },
   "outputs": [],
   "source": [
    "#data = sio.loadmat('improved_preproc/rfMRI_REST1_HCP_Q2.mat')\n",
    "data = sio.loadmat('improved_preproc/rfMRI_REST2_HCP_Q2.mat')\n",
    "gF = np.ravel(data['PMAT24_A_CR'])\n",
    "n_subj = len(gF)"
   ]
  },
  {
   "cell_type": "markdown",
   "metadata": {},
   "source": [
    "### gF score distribution \n",
    "The gF score is used to divide subjects in 2 or 3 classes."
   ]
  },
  {
   "cell_type": "code",
   "execution_count": 47,
   "metadata": {
    "collapsed": false
   },
   "outputs": [
    {
     "name": "stdout",
     "output_type": "stream",
     "text": [
      "[  5.          11.33333333  17.66666667]\n"
     ]
    },
    {
     "data": {
      "image/png": "[encoded data removed]",
      "text/plain": [
       "<matplotlib.figure.Figure at 0xb7010a44e0>"
      ]
     },
     "metadata": {},
     "output_type": "display_data"
    }
   ],
   "source": [
    "n_bins = 3\n",
    "\n",
    "# needed for stratified k-fold\n",
    "hist, bin_limits = np.histogram(gF, n_bins)\n",
    "bins = np.digitize(gF, bin_limits[:-1])\n",
    "plt.hist(bins,n_bins)\n",
    "print(bin_limits[:-1])"
   ]
  },
  {
   "cell_type": "code",
   "execution_count": 45,
   "metadata": {
    "collapsed": true
   },
   "outputs": [],
   "source": [
    "bins  = np.digitize(gF, [16, 20, 27])"
   ]
  },
  {
   "cell_type": "markdown",
   "metadata": {},
   "source": [
    "### Building of input matrix\n",
    "Starting from the connectivity matrices of each subject a #subjects x #edges matrix is built selecting for each subject the upper triangular matrix of the connectivity matrix (without the diagonal)."
   ]
  },
  {
   "cell_type": "code",
   "execution_count": 42,
   "metadata": {
    "collapsed": false,
    "scrolled": true
   },
   "outputs": [
    {
     "data": {
      "image/png": "[encoded data removed]",
      "text/plain": [
       "<matplotlib.figure.Figure at 0xb7011473c8>"
      ]
     },
     "metadata": {},
     "output_type": "display_data"
    }
   ],
   "source": [
    "# choose dataset\n",
    "#conn_mats = data['rest_1_mat']\n",
    "#conn_mats = data['rest_2_mat']\n",
    "conn_mats = data_ext\n",
    "\n",
    "# build matrix n_subjects x n_edges\n",
    "n_parcels = conn_mats.shape[0]\n",
    "triu_idx = np.triu_indices(n_parcels,1)\n",
    "n_edges = len(triu_idx[1]);\n",
    "\n",
    "def plt_conn(subject):\n",
    "    plt.imshow(np.triu(conn_mats[:,:,subject-1]))\n",
    "    plt.colorbar()\n",
    "    plt.title('Connectivity matrix for subject '+str(subject))\n",
    "\n",
    "interact(plt_conn, subject=(1,n_subj))    \n",
    "    \n",
    "    \n",
    "edges = np.zeros([n_subj,n_edges])\n",
    "\n",
    "for subject in range(conn_mats.shape[-1]):\n",
    "    edges[subject,] = conn_mats[:,:,subject][triu_idx]"
   ]
  },
  {
   "cell_type": "markdown",
   "metadata": {},
   "source": [
    "### Tests\n",
    "Instead of performing regression in this experiment we try to divide subjects in 2 or 3 classes according to their gF score."
   ]
  },
  {
   "cell_type": "markdown",
   "metadata": {},
   "source": [
    "When performing PCA, select the number of components such that the amount of variance that needs to be explained is greater than 99.9%."
   ]
  },
  {
   "cell_type": "code",
   "execution_count": 48,
   "metadata": {
    "collapsed": false
   },
   "outputs": [
    {
     "name": "stdout",
     "output_type": "stream",
     "text": [
      "Accuracy: 0.413793103448\n"
     ]
    }
   ],
   "source": [
    "# Test with all edges (PCA in CV)\n",
    "loo = cross_validation.LeaveOneOut(n_subj)\n",
    "errors = np.zeros([n_subj,1])\n",
    "predictions = np.zeros([n_subj,1])\n",
    "prob = np.zeros([n_subj,n_bins])\n",
    "estimator = KNeighborsClassifier(n_neighbors=3)\n",
    "pca = PCA(n_components=0.999)\n",
    "\n",
    "i=0\n",
    "f = FloatProgress(min=0, max=n_subj)\n",
    "display(f)\n",
    "for train_index, test_index in loo:\n",
    "    # decomposition\n",
    "    data_pc = pca.fit_transform(edges[train_index,])\n",
    "    # regression\n",
    "    estimator.fit(data_pc,bins[train_index])\n",
    "    predictions[i] = estimator.predict(pca.transform(edges[test_index,]))\n",
    "    prob[i,] = estimator.predict_proba(pca.transform(edges[test_index,]))\n",
    "    errors[i] = 1 if predictions[i]==bins[test_index] else 0\n",
    "    i += 1\n",
    "    f.value += 1\n",
    "        \n",
    "print('Accuracy:',errors.mean())\n"
   ]
  },
  {
   "cell_type": "code",
   "execution_count": 50,
   "metadata": {
    "collapsed": false
   },
   "outputs": [
    {
     "name": "stdout",
     "output_type": "stream",
     "text": [
      "Accuracy: 0.425287356322\n"
     ]
    }
   ],
   "source": [
    "# Test with all edges (no PCA)\n",
    "loo = cross_validation.LeaveOneOut(n_subj)\n",
    "errors = np.zeros([n_subj,1])\n",
    "predictions = np.zeros([n_subj,1])\n",
    "prob = np.zeros([n_subj,n_bins])\n",
    "estimator = KNeighborsClassifier(n_neighbors=5)\n",
    "pca = PCA(n_components=0.999)\n",
    "\n",
    "i=0\n",
    "f = FloatProgress(min=0, max=n_subj)\n",
    "display(f)\n",
    "for train_index, test_index in loo:\n",
    "    estimator.fit(edges[train_index,],bins[train_index])\n",
    "    predictions[i] = estimator.predict(edges[test_index,])\n",
    "    prob[i,] = estimator.predict_proba(edges[test_index,])\n",
    "    errors[i] = 1 if predictions[i]==bins[test_index] else 0\n",
    "    i += 1\n",
    "    f.value += 1\n",
    "        \n",
    "print('Accuracy:',errors.mean())\n"
   ]
  },
  {
   "cell_type": "code",
   "execution_count": 7,
   "metadata": {
    "collapsed": false
   },
   "outputs": [
    {
     "name": "stdout",
     "output_type": "stream",
     "text": [
      "[[ 2.  2.  1.  2.  2.  2.  2.  2.  1.  1.  1.  2.  2.  2.  2.  1.  2.  1.\n",
      "   2.  2.  2.  2.  2.  2.  1.  1.  2.  2.  2.  2.  2.  1.  2.  2.  2.  1.\n",
      "   2.  2.  2.  2.  2.  1.  2.  1.  1.  2.  2.  1.  2.  2.  2.  2.  2.  2.\n",
      "   2.  2.  2.  1.  2.  1.  2.  2.  2.  2.  2.  2.  2.  2.  2.  1.  2.  2.\n",
      "   2.  2.  1.  2.  1.  2.  1.  2.  2.  2.  2.  1.  2.  2.  2.  2.  2.  2.\n",
      "   2.  1.  1.  2.  2.  2.  2.  1.  2.  1.  2.  2.  2.  2.  2.  2.  2.  2.\n",
      "   2.  2.  2.  2.  2.  2.  2.]]\n"
     ]
    }
   ],
   "source": [
    "# pca + knn on finn's data\n",
    "print(np.transpose(predictions))"
   ]
  },
  {
   "cell_type": "code",
   "execution_count": 10,
   "metadata": {
    "collapsed": false
   },
   "outputs": [
    {
     "name": "stdout",
     "output_type": "stream",
     "text": [
      "[[ 2.  2.  1.  3.  1.  3.  3.  3.  2.  1.  1.  3.  3.  3.  3.  1.  3.  1.\n",
      "   3.  2.  3.  3.  3.  3.  1.  2.  3.  3.  1.  3.  3.  1.  1.  3.  3.  2.\n",
      "   3.  2.  3.  3.  1.  1.  2.  2.  2.  1.  1.  1.  3.  3.  2.  2.  3.  1.\n",
      "   3.  3.  3.  1.  3.  1.  2.  2.  2.  3.  1.  2.  2.  3.  3.  2.  3.  2.\n",
      "   3.  3.  1.  1.  1.  3.  1.  3.  3.  1.  3.  1.  1.  3.  2.  3.  3.  3.\n",
      "   3.  2.  1.  3.  3.  3.  3.  1.  2.  1.  2.  3.  3.  3.  3.  1.  3.  3.\n",
      "   3.  3.  3.  3.  3.  3.  3.]]\n"
     ]
    }
   ],
   "source": [
    "# pca + knn on finn's data\n",
    "print(np.transpose(predictions))"
   ]
  },
  {
   "cell_type": "code",
   "execution_count": 15,
   "metadata": {
    "collapsed": false
   },
   "outputs": [
    {
     "name": "stdout",
     "output_type": "stream",
     "text": [
      "[[ 2.  2.  1.  2.  2.  2.  2.  2.  2.  2.  2.  2.  2.  2.  2.  1.  2.  1.\n",
      "   2.  2.  2.  2.  2.  2.  2.  2.  2.  2.  2.  2.  2.  1.  2.  2.  2.  1.\n",
      "   2.  2.  1.  2.  2.  1.  2.  1.  1.  2.  2.  1.  2.  2.  1.  2.  2.  2.\n",
      "   2.  2.  2.  1.  2.  2.  2.  2.  2.  2.  2.  2.  2.  2.  2.  1.  2.  2.\n",
      "   2.  2.  1.  2.  2.  2.  2.  1.  2.  2.  2.  1.  2.  2.  2.  2.  2.  2.\n",
      "   2.  1.  1.  2.  2.  2.  2.  1.  2.  2.  2.  2.  2.  2.  2.  2.  2.  2.\n",
      "   2.  2.  2.  2.  2.  2.  2.]]\n"
     ]
    }
   ],
   "source": [
    "# knn on finn's data\n",
    "print(np.transpose(predictions))"
   ]
  },
  {
   "cell_type": "code",
   "execution_count": 12,
   "metadata": {
    "collapsed": false
   },
   "outputs": [
    {
     "name": "stdout",
     "output_type": "stream",
     "text": [
      "[[ 3.  2.  1.  3.  1.  3.  3.  3.  2.  1.  1.  3.  1.  1.  3.  1.  3.  1.\n",
      "   3.  2.  3.  3.  3.  3.  3.  2.  3.  3.  2.  2.  3.  1.  2.  3.  2.  2.\n",
      "   3.  2.  1.  3.  1.  1.  2.  2.  2.  1.  1.  1.  2.  3.  1.  2.  2.  1.\n",
      "   3.  3.  3.  1.  3.  2.  2.  3.  2.  2.  3.  2.  2.  2.  3.  1.  2.  2.\n",
      "   3.  3.  1.  3.  2.  3.  1.  1.  3.  1.  3.  1.  1.  3.  2.  3.  3.  3.\n",
      "   3.  2.  1.  3.  3.  3.  2.  2.  3.  2.  2.  3.  3.  3.  3.  2.  3.  3.\n",
      "   3.  3.  3.  2.  3.  3.  3.]]\n"
     ]
    }
   ],
   "source": [
    "# knn on finn's data\n",
    "print(np.transpose(predictions))"
   ]
  },
  {
   "cell_type": "code",
   "execution_count": 20,
   "metadata": {
    "collapsed": false
   },
   "outputs": [
    {
     "name": "stdout",
     "output_type": "stream",
     "text": [
      "[[ 1.  1.  1.  1.  1.  1.  2.  2.  1.  2.  2.  2.  1.  2.  2.  2.  1.  1.\n",
      "   1.  2.  2.  2.  2.  2.  1.  2.  2.  2.  1.  2.  2.  2.  2.  2.  1.  2.\n",
      "   2.  2.  2.  2.  1.  1.  1.  1.  1.  1.  1.  1.  1.  2.  2.  1.  1.  1.\n",
      "   1.  1.  1.  2.  1.  1.  1.  1.  2.  2.  1.  2.  2.  1.  2.  1.  1.  1.\n",
      "   1.  1.  2.  2.  1.  2.  2.  2.  1.  1.  2.  1.  1.  1.  1.  2.  1.  2.\n",
      "   2.  2.  2.  1.  1.  1.  1.  1.  1.  2.  2.  1.  1.  2.  2.  2.  2.  2.\n",
      "   1.  2.  2.  2.  2.  2.  1.  1.  1.]]\n"
     ]
    }
   ],
   "source": [
    "# pca + knn on rest1\n",
    "print(np.transpose(predictions))"
   ]
  },
  {
   "cell_type": "code",
   "execution_count": 25,
   "metadata": {
    "collapsed": false
   },
   "outputs": [
    {
     "name": "stdout",
     "output_type": "stream",
     "text": [
      "[[ 2.  2.  1.  1.  1.  2.  3.  3.  1.  2.  1.  3.  1.  3.  3.  2.  2.  1.\n",
      "   1.  3.  3.  3.  3.  3.  1.  2.  3.  3.  2.  1.  2.  3.  1.  3.  1.  3.\n",
      "   3.  2.  2.  3.  1.  1.  1.  2.  1.  2.  1.  1.  1.  2.  2.  1.  1.  2.\n",
      "   1.  2.  1.  1.  1.  1.  1.  1.  3.  3.  2.  3.  1.  2.  1.  2.  1.  2.\n",
      "   2.  1.  3.  3.  2.  3.  1.  3.  1.  1.  3.  1.  1.  1.  1.  3.  1.  3.\n",
      "   3.  1.  3.  2.  1.  1.  1.  2.  2.  3.  1.  1.  2.  3.  3.  1.  3.  1.\n",
      "   2.  3.  1.  3.  3.  3.  1.  1.  1.]]\n"
     ]
    }
   ],
   "source": [
    "# pca + knn on rest1\n",
    "print(np.transpose(predictions))"
   ]
  },
  {
   "cell_type": "code",
   "execution_count": 22,
   "metadata": {
    "collapsed": false
   },
   "outputs": [
    {
     "name": "stdout",
     "output_type": "stream",
     "text": [
      "[[ 1.  1.  2.  2.  1.  1.  2.  2.  1.  2.  1.  2.  1.  2.  2.  2.  2.  1.\n",
      "   2.  2.  2.  2.  2.  2.  1.  2.  2.  2.  2.  2.  2.  2.  2.  2.  2.  2.\n",
      "   2.  2.  1.  2.  2.  1.  1.  2.  2.  1.  2.  2.  2.  1.  2.  1.  1.  2.\n",
      "   1.  1.  1.  1.  2.  1.  1.  1.  1.  2.  2.  2.  2.  2.  2.  2.  2.  1.\n",
      "   2.  2.  2.  2.  2.  2.  2.  2.  2.  1.  2.  1.  2.  1.  1.  2.  2.  2.\n",
      "   2.  2.  2.  1.  1.  1.  2.  2.  2.  2.  1.  2.  2.  2.  1.  2.  2.  1.\n",
      "   1.  2.  1.  2.  2.  2.  1.  2.  1.]]\n"
     ]
    }
   ],
   "source": [
    "# knn on rest1\n",
    "print(np.transpose(predictions))"
   ]
  },
  {
   "cell_type": "code",
   "execution_count": 27,
   "metadata": {
    "collapsed": false
   },
   "outputs": [
    {
     "name": "stdout",
     "output_type": "stream",
     "text": [
      "[[ 1.  1.  2.  3.  1.  2.  3.  2.  1.  2.  1.  3.  1.  2.  3.  2.  2.  1.\n",
      "   2.  3.  3.  3.  3.  3.  1.  1.  3.  3.  2.  1.  2.  3.  2.  2.  2.  3.\n",
      "   3.  1.  2.  3.  2.  2.  1.  2.  2.  2.  2.  1.  1.  2.  2.  2.  1.  2.\n",
      "   2.  2.  2.  1.  2.  1.  1.  1.  2.  3.  2.  3.  1.  2.  2.  2.  2.  2.\n",
      "   2.  2.  3.  3.  2.  3.  2.  3.  3.  2.  3.  1.  3.  1.  1.  3.  2.  3.\n",
      "   3.  2.  2.  2.  2.  2.  2.  2.  2.  3.  1.  3.  2.  3.  2.  3.  3.  1.\n",
      "   1.  3.  1.  1.  3.  3.  2.  3.  1.]]\n"
     ]
    }
   ],
   "source": [
    "# knn on rest1\n",
    "print(np.transpose(predictions))"
   ]
  },
  {
   "cell_type": "code",
   "execution_count": 37,
   "metadata": {
    "collapsed": false
   },
   "outputs": [
    {
     "name": "stdout",
     "output_type": "stream",
     "text": [
      "[[ 1.  1.  2.  2.  2.  1.  2.  1.  2.  1.  2.  2.  1.  1.  2.  2.  2.  2.\n",
      "   1.  2.  1.  2.  2.  2.  2.  2.  2.  2.  2.  2.  2.  2.  1.  2.  1.  1.\n",
      "   2.  2.  2.  1.  2.  2.  1.  1.  2.  2.  1.  2.  2.  2.  2.  1.  2.  1.\n",
      "   1.  2.  2.  1.  1.  1.  2.  2.  2.  1.  2.  2.  2.  1.  2.  2.  2.  1.\n",
      "   2.  2.  1.  2.  2.  2.  2.  2.  1.  2.  1.  2.  1.  1.  2.  1.  2.  2.\n",
      "   2.  1.  1.  2.  1.  1.  2.  2.  1.  1.  2.  2.  2.  2.  2.  2.  2.  2.\n",
      "   2.  2.  2.  2.  2.  2.]]\n"
     ]
    }
   ],
   "source": [
    "# pca + knn on rest2\n",
    "print(np.transpose(predictions))"
   ]
  },
  {
   "cell_type": "code",
   "execution_count": 32,
   "metadata": {
    "collapsed": false
   },
   "outputs": [
    {
     "name": "stdout",
     "output_type": "stream",
     "text": [
      "[[ 2.  2.  3.  2.  3.  2.  2.  1.  3.  2.  2.  3.  2.  2.  3.  2.  2.  3.\n",
      "   2.  3.  2.  2.  3.  3.  3.  2.  3.  2.  2.  2.  1.  3.  2.  2.  2.  2.\n",
      "   3.  3.  2.  2.  3.  2.  2.  2.  2.  2.  2.  3.  3.  2.  2.  2.  2.  2.\n",
      "   1.  3.  1.  2.  2.  1.  2.  2.  3.  2.  2.  1.  2.  2.  3.  3.  2.  2.\n",
      "   3.  3.  2.  3.  1.  3.  3.  3.  2.  3.  2.  3.  2.  2.  3.  2.  3.  1.\n",
      "   3.  2.  2.  2.  2.  2.  2.  2.  2.  2.  2.  3.  1.  3.  3.  2.  2.  2.\n",
      "   2.  3.  2.  3.  3.  3.]]\n"
     ]
    }
   ],
   "source": [
    "# pca + knn on rest2\n",
    "print(np.transpose(predictions))"
   ]
  },
  {
   "cell_type": "code",
   "execution_count": 39,
   "metadata": {
    "collapsed": false
   },
   "outputs": [
    {
     "name": "stdout",
     "output_type": "stream",
     "text": [
      "[[ 1.  2.  2.  2.  2.  2.  2.  2.  2.  2.  2.  2.  1.  2.  2.  2.  2.  2.\n",
      "   1.  2.  2.  1.  2.  2.  2.  2.  2.  2.  2.  2.  2.  2.  2.  2.  2.  2.\n",
      "   2.  2.  2.  1.  2.  2.  1.  1.  1.  2.  2.  2.  2.  2.  2.  1.  2.  2.\n",
      "   2.  2.  2.  2.  2.  2.  2.  1.  2.  1.  2.  2.  2.  1.  2.  2.  2.  2.\n",
      "   2.  2.  2.  2.  2.  2.  2.  2.  1.  2.  2.  2.  2.  2.  2.  2.  2.  2.\n",
      "   2.  1.  2.  2.  2.  2.  2.  2.  2.  1.  2.  2.  2.  2.  1.  2.  2.  2.\n",
      "   2.  2.  2.  2.  2.  2.]]\n"
     ]
    }
   ],
   "source": [
    "# knn on rest2\n",
    "print(np.transpose(predictions))"
   ]
  },
  {
   "cell_type": "code",
   "execution_count": 34,
   "metadata": {
    "collapsed": false
   },
   "outputs": [
    {
     "name": "stdout",
     "output_type": "stream",
     "text": [
      "[[ 2.  3.  3.  2.  3.  2.  2.  2.  3.  2.  2.  3.  2.  2.  2.  2.  3.  2.\n",
      "   2.  3.  3.  2.  3.  3.  3.  2.  3.  2.  2.  2.  2.  3.  3.  2.  2.  3.\n",
      "   2.  3.  2.  2.  3.  2.  2.  2.  2.  2.  2.  3.  3.  2.  2.  2.  2.  2.\n",
      "   3.  2.  2.  2.  3.  3.  2.  2.  3.  2.  3.  2.  2.  2.  3.  3.  2.  2.\n",
      "   3.  3.  2.  3.  2.  2.  3.  3.  2.  3.  2.  3.  3.  2.  3.  2.  3.  2.\n",
      "   3.  2.  2.  2.  2.  2.  2.  3.  3.  2.  3.  2.  2.  3.  2.  2.  2.  2.\n",
      "   3.  3.  2.  3.  3.  3.]]\n"
     ]
    }
   ],
   "source": [
    "# knn on rest2\n",
    "print(np.transpose(predictions))"
   ]
  },
  {
   "cell_type": "code",
   "execution_count": 44,
   "metadata": {
    "collapsed": false
   },
   "outputs": [
    {
     "name": "stdout",
     "output_type": "stream",
     "text": [
      "[[ 2.  2.  2.  2.  2.  2.  1.  2.  1.  2.  2.  2.  2.  1.  2.  2.  2.  2.\n",
      "   2.  2.  1.  1.  1.  2.  2.  1.  2.  1.  2.  2.  1.  1.  2.  1.  2.  1.\n",
      "   2.  2.  2.  1.  2.  2.  2.  1.  1.  2.  1.  1.  2.  1.  2.  2.  2.  1.\n",
      "   1.  1.  2.  1.  2.  1.  2.  2.  2.  2.  2.  2.  2.  2.  2.  2.  2.  2.\n",
      "   2.  1.  1.  2.  2.  2.  2.  2.  2.  1.  2.  1.  2.  1.  2.  2.  2.  2.\n",
      "   2.  1.  1.  2.  2.  2.  2.  2.  2.  2.  1.  1.  2.  2.  2.  2.  2.  2.\n",
      "   2.  1.  2.  2.  2.  2.  2.  1.  2.  2.  2.  1.  2.  2.  2.  2.  2.  2.\n",
      "   2.  2.  2.  2.  2.  2.  2.  1.  1.  2.  1.  2.  1.  2.  1.  2.  2.  2.\n",
      "   2.  2.  2.  2.  2.  2.  1.  2.  2.  1.  2.  2.  2.  2.  2.  2.  2.  1.\n",
      "   2.  2.  1.  2.  2.  2.  2.  1.  2.  2.  2.  2.  2.  2.  2.  1.  2.  2.\n",
      "   2.  2.  1.  2.  2.  2.  2.  2.  1.  2.  2.  2.  2.  1.  2.  2.  2.  2.\n",
      "   1.  2.  1.  1.  1.  1.  2.  2.  2.  2.  2.  2.  2.  2.  2.  2.  2.  2.\n",
      "   2.  2.  2.  2.  1.  1.  2.  2.  2.  2.  2.  2.  1.  1.  2.  2.  2.  2.\n",
      "   2.  2.  2.  2.  2.  1.  2.  2.  2.  2.  2.  2.  2.  1.  1.  2.  2.  2.\n",
      "   1.  2.  2.  1.  2.  2.  2.  2.  2.  2.  2.  2.  2.  2.  2.  2.  1.  2.\n",
      "   1.  2.  2.  2.  2.  2.  1.  2.  1.  2.  2.  2.  2.  1.  1.  1.  2.  1.\n",
      "   1.  1.  1.  2.  2.  2.  2.  2.  2.  2.  2.  2.  1.  1.  2.  2.  1.  2.\n",
      "   1.  2.  2.  1.  2.  2.  2.  1.  2.  2.  2.  1.  2.  1.  2.  1.  2.  2.\n",
      "   2.  1.  2.  1.  2.  1.  2.  2.  2.  2.  2.  2.  2.  1.  2.  2.  2.  2.\n",
      "   2.  2.  1.  2.  1.  1.  2.  1.  2.  2.  2.  2.  2.  1.  2.  2.  2.  2.\n",
      "   2.  2.  2.  2.  2.  2.  1.  2.  2.  2.  2.  2.  2.  2.  2.  1.  2.  2.\n",
      "   2.  2.  1.  2.  2.  2.  2.  2.  1.  2.  1.  1.  2.  1.  2.  2.  2.  2.\n",
      "   2.  2.  2.  2.  2.  1.  2.  2.  2.  2.  2.  2.  2.  2.  1.  1.  2.  2.\n",
      "   2.  1.  2.  2.  2.  2.  1.  2.  2.  2.  2.  2.  2.  2.  1.  2.  1.  1.\n",
      "   2.  2.  1.]]\n"
     ]
    }
   ],
   "source": [
    "# pca knn on extended data\n",
    "print(np.transpose(predictions))"
   ]
  },
  {
   "cell_type": "code",
   "execution_count": 49,
   "metadata": {
    "collapsed": false
   },
   "outputs": [
    {
     "name": "stdout",
     "output_type": "stream",
     "text": [
      "[[ 3.  3.  3.  3.  2.  3.  1.  3.  2.  3.  1.  3.  3.  1.  2.  3.  3.  1.\n",
      "   3.  3.  1.  1.  1.  3.  3.  1.  3.  2.  2.  3.  2.  1.  2.  1.  2.  2.\n",
      "   3.  1.  3.  1.  3.  3.  2.  2.  2.  1.  2.  1.  3.  1.  3.  2.  2.  1.\n",
      "   2.  1.  3.  2.  3.  1.  2.  3.  3.  2.  3.  2.  2.  2.  3.  3.  3.  1.\n",
      "   3.  1.  2.  1.  3.  3.  3.  3.  3.  1.  2.  1.  1.  2.  3.  3.  3.  3.\n",
      "   2.  2.  1.  1.  3.  3.  2.  3.  2.  2.  2.  2.  3.  3.  3.  2.  3.  3.\n",
      "   3.  1.  3.  3.  3.  3.  1.  2.  1.  3.  3.  2.  3.  3.  2.  2.  3.  2.\n",
      "   2.  3.  3.  3.  3.  2.  3.  1.  1.  3.  1.  2.  1.  2.  1.  3.  3.  3.\n",
      "   1.  1.  3.  3.  3.  1.  2.  2.  3.  2.  3.  2.  3.  3.  2.  3.  1.  2.\n",
      "   2.  3.  1.  3.  1.  3.  3.  2.  3.  3.  1.  2.  3.  3.  3.  2.  3.  2.\n",
      "   2.  2.  2.  3.  2.  3.  1.  3.  2.  2.  3.  1.  3.  2.  3.  2.  3.  3.\n",
      "   1.  2.  1.  2.  2.  1.  3.  1.  3.  3.  3.  3.  3.  3.  3.  2.  3.  3.\n",
      "   3.  3.  3.  3.  2.  1.  3.  2.  3.  3.  1.  3.  1.  2.  2.  2.  2.  3.\n",
      "   3.  3.  3.  2.  3.  1.  3.  3.  3.  3.  1.  2.  2.  1.  1.  3.  3.  3.\n",
      "   2.  3.  3.  1.  3.  3.  2.  3.  1.  3.  2.  3.  2.  3.  2.  3.  2.  3.\n",
      "   1.  3.  3.  1.  3.  3.  1.  3.  2.  3.  2.  3.  3.  1.  1.  2.  2.  1.\n",
      "   1.  2.  1.  3.  1.  3.  3.  3.  2.  2.  3.  1.  1.  1.  3.  3.  1.  2.\n",
      "   1.  2.  3.  2.  3.  3.  3.  1.  3.  3.  3.  1.  3.  2.  3.  1.  3.  3.\n",
      "   3.  2.  3.  1.  2.  2.  1.  2.  3.  3.  3.  3.  2.  1.  3.  3.  3.  3.\n",
      "   2.  2.  2.  2.  1.  1.  2.  1.  3.  2.  1.  1.  3.  1.  3.  2.  2.  3.\n",
      "   3.  1.  2.  1.  3.  1.  1.  2.  3.  1.  2.  3.  2.  3.  3.  1.  2.  2.\n",
      "   2.  3.  1.  3.  3.  2.  2.  3.  1.  3.  2.  1.  3.  1.  3.  3.  2.  3.\n",
      "   1.  2.  2.  3.  3.  2.  3.  2.  3.  3.  3.  3.  3.  1.  1.  2.  3.  2.\n",
      "   3.  1.  2.  3.  3.  3.  1.  3.  3.  2.  2.  3.  3.  3.  1.  3.  1.  2.\n",
      "   1.  3.  1.]]\n"
     ]
    }
   ],
   "source": [
    "# pca knn on extended data\n",
    "print(np.transpose(predictions))"
   ]
  },
  {
   "cell_type": "code",
   "execution_count": 46,
   "metadata": {
    "collapsed": false
   },
   "outputs": [
    {
     "name": "stdout",
     "output_type": "stream",
     "text": [
      "[[ 2.  2.  2.  2.  2.  2.  2.  2.  2.  2.  2.  2.  2.  1.  1.  1.  2.  2.\n",
      "   2.  2.  1.  1.  2.  2.  2.  2.  2.  2.  2.  2.  2.  2.  2.  2.  2.  1.\n",
      "   1.  2.  2.  2.  2.  2.  2.  1.  1.  2.  2.  1.  2.  1.  2.  2.  2.  1.\n",
      "   1.  1.  2.  1.  2.  2.  1.  2.  2.  2.  2.  2.  2.  2.  2.  2.  2.  2.\n",
      "   2.  2.  2.  2.  2.  2.  2.  2.  2.  1.  2.  1.  2.  2.  2.  2.  2.  2.\n",
      "   2.  1.  1.  1.  2.  2.  2.  2.  2.  2.  1.  2.  2.  2.  2.  2.  2.  2.\n",
      "   2.  1.  2.  2.  2.  2.  2.  2.  2.  2.  2.  2.  2.  2.  2.  2.  2.  2.\n",
      "   2.  2.  2.  2.  2.  2.  2.  1.  1.  2.  2.  2.  2.  2.  1.  2.  2.  2.\n",
      "   2.  2.  2.  2.  2.  1.  1.  2.  1.  1.  2.  2.  2.  2.  2.  2.  2.  2.\n",
      "   2.  2.  2.  2.  2.  2.  2.  2.  2.  2.  2.  2.  2.  2.  2.  2.  2.  2.\n",
      "   2.  2.  1.  2.  2.  2.  2.  2.  1.  2.  2.  2.  2.  1.  2.  2.  2.  2.\n",
      "   1.  2.  1.  1.  2.  2.  2.  2.  2.  2.  2.  2.  2.  2.  2.  2.  2.  2.\n",
      "   2.  2.  2.  2.  1.  2.  2.  2.  2.  2.  2.  2.  2.  1.  2.  2.  2.  2.\n",
      "   2.  2.  2.  2.  2.  2.  2.  2.  2.  2.  2.  2.  2.  2.  2.  2.  2.  2.\n",
      "   1.  2.  2.  2.  2.  2.  2.  2.  2.  2.  2.  2.  1.  2.  2.  2.  1.  2.\n",
      "   1.  1.  2.  1.  2.  2.  2.  2.  1.  2.  2.  2.  2.  2.  1.  1.  2.  2.\n",
      "   1.  1.  2.  2.  1.  2.  2.  2.  2.  1.  1.  2.  1.  1.  2.  2.  2.  2.\n",
      "   2.  2.  2.  1.  2.  2.  1.  2.  2.  2.  2.  1.  2.  1.  2.  1.  2.  2.\n",
      "   2.  1.  2.  1.  2.  2.  2.  2.  2.  2.  2.  2.  2.  2.  2.  2.  2.  2.\n",
      "   2.  2.  2.  2.  1.  2.  2.  1.  2.  2.  2.  2.  2.  1.  2.  2.  2.  2.\n",
      "   2.  2.  2.  2.  2.  2.  1.  2.  2.  2.  2.  2.  2.  2.  2.  1.  2.  2.\n",
      "   2.  2.  1.  2.  1.  2.  2.  2.  2.  2.  2.  1.  2.  1.  2.  2.  2.  2.\n",
      "   2.  2.  2.  2.  2.  2.  2.  2.  2.  2.  2.  2.  2.  2.  1.  1.  2.  2.\n",
      "   2.  1.  2.  2.  2.  2.  1.  2.  2.  2.  2.  2.  2.  2.  2.  2.  2.  1.\n",
      "   2.  2.  1.]]\n"
     ]
    }
   ],
   "source": [
    "# knn on extended data\n",
    "print(np.transpose(predictions))"
   ]
  },
  {
   "cell_type": "code",
   "execution_count": 51,
   "metadata": {
    "collapsed": false
   },
   "outputs": [
    {
     "name": "stdout",
     "output_type": "stream",
     "text": [
      "[[ 3.  3.  3.  3.  3.  3.  2.  1.  2.  3.  1.  3.  2.  1.  2.  1.  3.  2.\n",
      "   3.  3.  1.  1.  1.  3.  3.  1.  3.  3.  2.  3.  2.  3.  3.  1.  2.  2.\n",
      "   2.  1.  3.  3.  2.  3.  2.  1.  2.  1.  2.  2.  3.  2.  2.  2.  2.  1.\n",
      "   2.  1.  3.  2.  1.  3.  2.  3.  2.  3.  2.  2.  2.  3.  3.  3.  3.  3.\n",
      "   3.  3.  2.  2.  2.  3.  3.  3.  3.  1.  3.  1.  2.  2.  2.  3.  3.  3.\n",
      "   3.  2.  1.  2.  3.  3.  3.  2.  2.  2.  1.  3.  3.  3.  3.  3.  2.  3.\n",
      "   3.  2.  3.  3.  3.  3.  3.  3.  1.  3.  3.  2.  3.  3.  2.  2.  3.  2.\n",
      "   2.  3.  3.  3.  3.  2.  3.  1.  1.  3.  3.  2.  3.  2.  1.  3.  3.  3.\n",
      "   3.  3.  3.  3.  3.  1.  2.  3.  2.  2.  3.  2.  3.  3.  2.  3.  2.  2.\n",
      "   2.  3.  3.  3.  2.  3.  2.  2.  3.  2.  1.  2.  3.  1.  3.  2.  2.  2.\n",
      "   3.  2.  2.  3.  3.  3.  2.  3.  2.  2.  3.  2.  3.  2.  3.  2.  3.  3.\n",
      "   1.  2.  1.  2.  2.  3.  3.  2.  3.  3.  3.  3.  3.  3.  3.  2.  3.  3.\n",
      "   3.  3.  2.  3.  1.  2.  3.  2.  3.  3.  2.  3.  3.  2.  2.  2.  2.  3.\n",
      "   3.  3.  3.  2.  3.  3.  3.  3.  3.  3.  2.  2.  3.  3.  3.  3.  3.  2.\n",
      "   2.  3.  2.  1.  3.  3.  2.  3.  2.  3.  3.  3.  2.  3.  2.  3.  2.  3.\n",
      "   1.  2.  3.  1.  3.  3.  3.  3.  2.  3.  2.  3.  3.  2.  1.  1.  2.  3.\n",
      "   1.  2.  1.  3.  1.  3.  3.  2.  2.  1.  1.  1.  1.  1.  1.  3.  2.  2.\n",
      "   3.  2.  3.  1.  3.  3.  2.  1.  3.  2.  3.  2.  3.  2.  2.  1.  3.  3.\n",
      "   3.  2.  3.  1.  2.  2.  1.  2.  3.  3.  3.  2.  3.  3.  3.  3.  3.  3.\n",
      "   2.  3.  2.  3.  1.  2.  3.  1.  3.  2.  3.  3.  3.  1.  3.  2.  2.  3.\n",
      "   3.  2.  3.  3.  3.  1.  1.  3.  3.  2.  3.  3.  1.  3.  3.  1.  3.  2.\n",
      "   2.  3.  1.  3.  2.  2.  2.  3.  1.  3.  2.  1.  3.  1.  3.  3.  2.  3.\n",
      "   2.  2.  2.  3.  3.  2.  3.  3.  3.  2.  2.  3.  3.  2.  1.  2.  3.  2.\n",
      "   3.  1.  2.  3.  2.  3.  1.  3.  3.  2.  3.  3.  3.  2.  2.  2.  3.  2.\n",
      "   3.  2.  2.]]\n"
     ]
    }
   ],
   "source": [
    "# knn on extended data\n",
    "print(np.transpose(predictions))"
   ]
  },
  {
   "cell_type": "code",
   "execution_count": 10,
   "metadata": {
    "collapsed": false
   },
   "outputs": [
    {
     "data": {
      "text/plain": [
       "array([[ 39,  98],\n",
       "       [ 69, 229]])"
      ]
     },
     "execution_count": 10,
     "metadata": {},
     "output_type": "execute_result"
    }
   ],
   "source": [
    "confusion_matrix(bins,preds_ext)"
   ]
  },
  {
   "cell_type": "code",
   "execution_count": 9,
   "metadata": {
    "collapsed": false,
    "scrolled": true
   },
   "outputs": [
    {
     "name": "stdout",
     "output_type": "stream",
     "text": [
      "[[ 2.  2.  2.  2.  2.  2.  1.  2.  1.  2.  2.  2.  2.  1.  2.  2.  2.  2.\n",
      "   2.  2.  1.  1.  1.  2.  2.  1.  2.  1.  2.  2.  1.  1.  2.  1.  2.  1.\n",
      "   2.  2.  2.  1.  2.  2.  2.  1.  1.  2.  1.  1.  2.  1.  2.  2.  2.  1.\n",
      "   1.  1.  2.  1.  2.  1.  2.  2.  2.  2.  2.  2.  2.  2.  2.  2.  2.  2.\n",
      "   2.  1.  1.  2.  2.  2.  2.  2.  2.  1.  2.  1.  2.  1.  2.  2.  2.  2.\n",
      "   2.  1.  1.  2.  2.  2.  2.  2.  2.  2.  1.  1.  2.  2.  2.  2.  2.  2.\n",
      "   2.  1.  2.  2.  2.  2.  2.  1.  2.  2.  2.  1.  2.  2.  2.  2.  2.  2.\n",
      "   2.  2.  2.  2.  2.  2.  2.  1.  1.  2.  1.  2.  1.  2.  1.  2.  2.  2.\n",
      "   2.  2.  2.  2.  2.  2.  1.  2.  2.  1.  2.  2.  2.  2.  2.  2.  2.  1.\n",
      "   2.  2.  1.  2.  2.  2.  2.  1.  2.  2.  2.  2.  2.  2.  2.  1.  2.  2.\n",
      "   2.  2.  1.  2.  2.  2.  2.  2.  1.  2.  2.  2.  2.  1.  2.  2.  2.  2.\n",
      "   1.  2.  1.  1.  1.  1.  2.  2.  2.  2.  2.  2.  2.  2.  2.  2.  2.  2.\n",
      "   2.  2.  2.  2.  1.  1.  2.  2.  2.  2.  2.  2.  1.  1.  2.  2.  2.  2.\n",
      "   2.  2.  2.  2.  2.  1.  2.  2.  2.  2.  2.  2.  2.  1.  1.  2.  2.  2.\n",
      "   1.  2.  2.  1.  2.  2.  2.  2.  2.  2.  2.  2.  2.  2.  2.  2.  1.  2.\n",
      "   1.  2.  2.  2.  2.  2.  1.  2.  1.  2.  2.  2.  2.  1.  1.  1.  2.  1.\n",
      "   1.  1.  1.  2.  2.  2.  2.  2.  2.  2.  2.  2.  1.  1.  2.  2.  1.  2.\n",
      "   1.  2.  2.  1.  2.  2.  2.  1.  2.  2.  2.  1.  2.  1.  2.  1.  2.  2.\n",
      "   2.  1.  2.  1.  2.  1.  2.  2.  2.  2.  2.  2.  2.  1.  2.  2.  2.  2.\n",
      "   2.  2.  1.  2.  1.  1.  2.  1.  2.  2.  2.  2.  2.  1.  2.  2.  2.  2.\n",
      "   2.  2.  2.  2.  2.  2.  1.  2.  2.  2.  2.  2.  2.  2.  2.  1.  2.  2.\n",
      "   2.  2.  1.  2.  2.  2.  2.  2.  1.  2.  1.  1.  2.  1.  2.  2.  2.  2.\n",
      "   2.  2.  2.  2.  2.  1.  2.  2.  2.  2.  2.  2.  2.  2.  1.  1.  2.  2.\n",
      "   2.  1.  2.  2.  2.  2.  1.  2.  2.  2.  2.  2.  2.  2.  1.  2.  1.  1.\n",
      "   2.  2.  1.]]\n",
      "[[ 0.33333333  0.66666667]\n",
      " [ 0.33333333  0.66666667]\n",
      " [ 0.33333333  0.66666667]\n",
      " [ 0.33333333  0.66666667]\n",
      " [ 0.          1.        ]\n",
      " [ 0.          1.        ]\n",
      " [ 0.66666667  0.33333333]\n",
      " [ 0.33333333  0.66666667]\n",
      " [ 0.66666667  0.33333333]\n",
      " [ 0.          1.        ]\n",
      " [ 0.33333333  0.66666667]\n",
      " [ 0.33333333  0.66666667]\n",
      " [ 0.33333333  0.66666667]\n",
      " [ 0.66666667  0.33333333]\n",
      " [ 0.33333333  0.66666667]\n",
      " [ 0.33333333  0.66666667]\n",
      " [ 0.33333333  0.66666667]\n",
      " [ 0.33333333  0.66666667]\n",
      " [ 0.33333333  0.66666667]\n",
      " [ 0.          1.        ]\n",
      " [ 0.66666667  0.33333333]\n",
      " [ 0.66666667  0.33333333]\n",
      " [ 0.66666667  0.33333333]\n",
      " [ 0.          1.        ]\n",
      " [ 0.          1.        ]\n",
      " [ 0.66666667  0.33333333]\n",
      " [ 0.          1.        ]\n",
      " [ 0.66666667  0.33333333]\n",
      " [ 0.33333333  0.66666667]\n",
      " [ 0.          1.        ]\n",
      " [ 0.66666667  0.33333333]\n",
      " [ 0.66666667  0.33333333]\n",
      " [ 0.          1.        ]\n",
      " [ 0.66666667  0.33333333]\n",
      " [ 0.          1.        ]\n",
      " [ 0.66666667  0.33333333]\n",
      " [ 0.33333333  0.66666667]\n",
      " [ 0.33333333  0.66666667]\n",
      " [ 0.          1.        ]\n",
      " [ 0.66666667  0.33333333]\n",
      " [ 0.          1.        ]\n",
      " [ 0.33333333  0.66666667]\n",
      " [ 0.          1.        ]\n",
      " [ 0.66666667  0.33333333]\n",
      " [ 0.66666667  0.33333333]\n",
      " [ 0.33333333  0.66666667]\n",
      " [ 0.66666667  0.33333333]\n",
      " [ 0.66666667  0.33333333]\n",
      " [ 0.          1.        ]\n",
      " [ 0.66666667  0.33333333]\n",
      " [ 0.          1.        ]\n",
      " [ 0.33333333  0.66666667]\n",
      " [ 0.33333333  0.66666667]\n",
      " [ 1.          0.        ]\n",
      " [ 1.          0.        ]\n",
      " [ 0.66666667  0.33333333]\n",
      " [ 0.          1.        ]\n",
      " [ 1.          0.        ]\n",
      " [ 0.          1.        ]\n",
      " [ 0.66666667  0.33333333]\n",
      " [ 0.33333333  0.66666667]\n",
      " [ 0.          1.        ]\n",
      " [ 0.          1.        ]\n",
      " [ 0.33333333  0.66666667]\n",
      " [ 0.          1.        ]\n",
      " [ 0.33333333  0.66666667]\n",
      " [ 0.33333333  0.66666667]\n",
      " [ 0.          1.        ]\n",
      " [ 0.33333333  0.66666667]\n",
      " [ 0.          1.        ]\n",
      " [ 0.33333333  0.66666667]\n",
      " [ 0.33333333  0.66666667]\n",
      " [ 0.          1.        ]\n",
      " [ 0.66666667  0.33333333]\n",
      " [ 0.66666667  0.33333333]\n",
      " [ 0.33333333  0.66666667]\n",
      " [ 0.          1.        ]\n",
      " [ 0.          1.        ]\n",
      " [ 0.33333333  0.66666667]\n",
      " [ 0.33333333  0.66666667]\n",
      " [ 0.33333333  0.66666667]\n",
      " [ 0.66666667  0.33333333]\n",
      " [ 0.33333333  0.66666667]\n",
      " [ 0.66666667  0.33333333]\n",
      " [ 0.33333333  0.66666667]\n",
      " [ 0.66666667  0.33333333]\n",
      " [ 0.          1.        ]\n",
      " [ 0.33333333  0.66666667]\n",
      " [ 0.          1.        ]\n",
      " [ 0.          1.        ]\n",
      " [ 0.          1.        ]\n",
      " [ 0.66666667  0.33333333]\n",
      " [ 1.          0.        ]\n",
      " [ 0.33333333  0.66666667]\n",
      " [ 0.33333333  0.66666667]\n",
      " [ 0.          1.        ]\n",
      " [ 0.          1.        ]\n",
      " [ 0.          1.        ]\n",
      " [ 0.          1.        ]\n",
      " [ 0.          1.        ]\n",
      " [ 0.66666667  0.33333333]\n",
      " [ 0.66666667  0.33333333]\n",
      " [ 0.          1.        ]\n",
      " [ 0.33333333  0.66666667]\n",
      " [ 0.33333333  0.66666667]\n",
      " [ 0.33333333  0.66666667]\n",
      " [ 0.33333333  0.66666667]\n",
      " [ 0.          1.        ]\n",
      " [ 0.          1.        ]\n",
      " [ 0.66666667  0.33333333]\n",
      " [ 0.33333333  0.66666667]\n",
      " [ 0.          1.        ]\n",
      " [ 0.          1.        ]\n",
      " [ 0.33333333  0.66666667]\n",
      " [ 0.33333333  0.66666667]\n",
      " [ 0.66666667  0.33333333]\n",
      " [ 0.33333333  0.66666667]\n",
      " [ 0.33333333  0.66666667]\n",
      " [ 0.          1.        ]\n",
      " [ 0.66666667  0.33333333]\n",
      " [ 0.33333333  0.66666667]\n",
      " [ 0.          1.        ]\n",
      " [ 0.          1.        ]\n",
      " [ 0.33333333  0.66666667]\n",
      " [ 0.33333333  0.66666667]\n",
      " [ 0.33333333  0.66666667]\n",
      " [ 0.33333333  0.66666667]\n",
      " [ 0.33333333  0.66666667]\n",
      " [ 0.          1.        ]\n",
      " [ 0.33333333  0.66666667]\n",
      " [ 0.33333333  0.66666667]\n",
      " [ 0.33333333  0.66666667]\n",
      " [ 0.33333333  0.66666667]\n",
      " [ 0.66666667  0.33333333]\n",
      " [ 0.66666667  0.33333333]\n",
      " [ 0.          1.        ]\n",
      " [ 0.66666667  0.33333333]\n",
      " [ 0.33333333  0.66666667]\n",
      " [ 0.66666667  0.33333333]\n",
      " [ 0.33333333  0.66666667]\n",
      " [ 0.66666667  0.33333333]\n",
      " [ 0.33333333  0.66666667]\n",
      " [ 0.          1.        ]\n",
      " [ 0.33333333  0.66666667]\n",
      " [ 0.33333333  0.66666667]\n",
      " [ 0.33333333  0.66666667]\n",
      " [ 0.          1.        ]\n",
      " [ 0.33333333  0.66666667]\n",
      " [ 0.33333333  0.66666667]\n",
      " [ 0.33333333  0.66666667]\n",
      " [ 0.66666667  0.33333333]\n",
      " [ 0.          1.        ]\n",
      " [ 0.33333333  0.66666667]\n",
      " [ 0.66666667  0.33333333]\n",
      " [ 0.33333333  0.66666667]\n",
      " [ 0.          1.        ]\n",
      " [ 0.          1.        ]\n",
      " [ 0.          1.        ]\n",
      " [ 0.          1.        ]\n",
      " [ 0.          1.        ]\n",
      " [ 0.33333333  0.66666667]\n",
      " [ 0.66666667  0.33333333]\n",
      " [ 0.33333333  0.66666667]\n",
      " [ 0.          1.        ]\n",
      " [ 0.66666667  0.33333333]\n",
      " [ 0.          1.        ]\n",
      " [ 0.33333333  0.66666667]\n",
      " [ 0.33333333  0.66666667]\n",
      " [ 0.          1.        ]\n",
      " [ 0.66666667  0.33333333]\n",
      " [ 0.          1.        ]\n",
      " [ 0.          1.        ]\n",
      " [ 0.33333333  0.66666667]\n",
      " [ 0.33333333  0.66666667]\n",
      " [ 0.          1.        ]\n",
      " [ 0.          1.        ]\n",
      " [ 0.33333333  0.66666667]\n",
      " [ 0.66666667  0.33333333]\n",
      " [ 0.33333333  0.66666667]\n",
      " [ 0.33333333  0.66666667]\n",
      " [ 0.33333333  0.66666667]\n",
      " [ 0.          1.        ]\n",
      " [ 0.66666667  0.33333333]\n",
      " [ 0.          1.        ]\n",
      " [ 0.33333333  0.66666667]\n",
      " [ 0.33333333  0.66666667]\n",
      " [ 0.33333333  0.66666667]\n",
      " [ 0.          1.        ]\n",
      " [ 1.          0.        ]\n",
      " [ 0.33333333  0.66666667]\n",
      " [ 0.33333333  0.66666667]\n",
      " [ 0.33333333  0.66666667]\n",
      " [ 0.33333333  0.66666667]\n",
      " [ 0.66666667  0.33333333]\n",
      " [ 0.33333333  0.66666667]\n",
      " [ 0.33333333  0.66666667]\n",
      " [ 0.          1.        ]\n",
      " [ 0.          1.        ]\n",
      " [ 0.66666667  0.33333333]\n",
      " [ 0.33333333  0.66666667]\n",
      " [ 0.66666667  0.33333333]\n",
      " [ 1.          0.        ]\n",
      " [ 0.66666667  0.33333333]\n",
      " [ 0.66666667  0.33333333]\n",
      " [ 0.          1.        ]\n",
      " [ 0.33333333  0.66666667]\n",
      " [ 0.          1.        ]\n",
      " [ 0.33333333  0.66666667]\n",
      " [ 0.          1.        ]\n",
      " [ 0.          1.        ]\n",
      " [ 0.          1.        ]\n",
      " [ 0.          1.        ]\n",
      " [ 0.          1.        ]\n",
      " [ 0.33333333  0.66666667]\n",
      " [ 0.          1.        ]\n",
      " [ 0.          1.        ]\n",
      " [ 0.          1.        ]\n",
      " [ 0.33333333  0.66666667]\n",
      " [ 0.33333333  0.66666667]\n",
      " [ 0.33333333  0.66666667]\n",
      " [ 0.66666667  0.33333333]\n",
      " [ 0.66666667  0.33333333]\n",
      " [ 0.          1.        ]\n",
      " [ 0.33333333  0.66666667]\n",
      " [ 0.33333333  0.66666667]\n",
      " [ 0.33333333  0.66666667]\n",
      " [ 0.33333333  0.66666667]\n",
      " [ 0.          1.        ]\n",
      " [ 0.66666667  0.33333333]\n",
      " [ 0.66666667  0.33333333]\n",
      " [ 0.33333333  0.66666667]\n",
      " [ 0.          1.        ]\n",
      " [ 0.33333333  0.66666667]\n",
      " [ 0.33333333  0.66666667]\n",
      " [ 0.33333333  0.66666667]\n",
      " [ 0.33333333  0.66666667]\n",
      " [ 0.33333333  0.66666667]\n",
      " [ 0.33333333  0.66666667]\n",
      " [ 0.33333333  0.66666667]\n",
      " [ 0.66666667  0.33333333]\n",
      " [ 0.33333333  0.66666667]\n",
      " [ 0.33333333  0.66666667]\n",
      " [ 0.          1.        ]\n",
      " [ 0.          1.        ]\n",
      " [ 0.33333333  0.66666667]\n",
      " [ 0.33333333  0.66666667]\n",
      " [ 0.33333333  0.66666667]\n",
      " [ 0.66666667  0.33333333]\n",
      " [ 0.66666667  0.33333333]\n",
      " [ 0.          1.        ]\n",
      " [ 0.          1.        ]\n",
      " [ 0.33333333  0.66666667]\n",
      " [ 0.66666667  0.33333333]\n",
      " [ 0.33333333  0.66666667]\n",
      " [ 0.          1.        ]\n",
      " [ 0.66666667  0.33333333]\n",
      " [ 0.          1.        ]\n",
      " [ 0.33333333  0.66666667]\n",
      " [ 0.33333333  0.66666667]\n",
      " [ 0.          1.        ]\n",
      " [ 0.33333333  0.66666667]\n",
      " [ 0.33333333  0.66666667]\n",
      " [ 0.33333333  0.66666667]\n",
      " [ 0.          1.        ]\n",
      " [ 0.33333333  0.66666667]\n",
      " [ 0.33333333  0.66666667]\n",
      " [ 0.33333333  0.66666667]\n",
      " [ 0.          1.        ]\n",
      " [ 1.          0.        ]\n",
      " [ 0.33333333  0.66666667]\n",
      " [ 0.66666667  0.33333333]\n",
      " [ 0.33333333  0.66666667]\n",
      " [ 0.          1.        ]\n",
      " [ 0.33333333  0.66666667]\n",
      " [ 0.          1.        ]\n",
      " [ 0.33333333  0.66666667]\n",
      " [ 0.66666667  0.33333333]\n",
      " [ 0.33333333  0.66666667]\n",
      " [ 1.          0.        ]\n",
      " [ 0.33333333  0.66666667]\n",
      " [ 0.33333333  0.66666667]\n",
      " [ 0.33333333  0.66666667]\n",
      " [ 0.          1.        ]\n",
      " [ 0.66666667  0.33333333]\n",
      " [ 0.66666667  0.33333333]\n",
      " [ 1.          0.        ]\n",
      " [ 0.33333333  0.66666667]\n",
      " [ 0.66666667  0.33333333]\n",
      " [ 0.66666667  0.33333333]\n",
      " [ 0.66666667  0.33333333]\n",
      " [ 0.66666667  0.33333333]\n",
      " [ 0.          1.        ]\n",
      " [ 0.33333333  0.66666667]\n",
      " [ 0.          1.        ]\n",
      " [ 0.          1.        ]\n",
      " [ 0.33333333  0.66666667]\n",
      " [ 0.33333333  0.66666667]\n",
      " [ 0.33333333  0.66666667]\n",
      " [ 0.33333333  0.66666667]\n",
      " [ 0.33333333  0.66666667]\n",
      " [ 0.66666667  0.33333333]\n",
      " [ 0.66666667  0.33333333]\n",
      " [ 0.33333333  0.66666667]\n",
      " [ 0.          1.        ]\n",
      " [ 0.66666667  0.33333333]\n",
      " [ 0.33333333  0.66666667]\n",
      " [ 0.66666667  0.33333333]\n",
      " [ 0.33333333  0.66666667]\n",
      " [ 0.33333333  0.66666667]\n",
      " [ 0.66666667  0.33333333]\n",
      " [ 0.          1.        ]\n",
      " [ 0.33333333  0.66666667]\n",
      " [ 0.33333333  0.66666667]\n",
      " [ 0.66666667  0.33333333]\n",
      " [ 0.33333333  0.66666667]\n",
      " [ 0.          1.        ]\n",
      " [ 0.          1.        ]\n",
      " [ 0.66666667  0.33333333]\n",
      " [ 0.33333333  0.66666667]\n",
      " [ 1.          0.        ]\n",
      " [ 0.33333333  0.66666667]\n",
      " [ 0.66666667  0.33333333]\n",
      " [ 0.33333333  0.66666667]\n",
      " [ 0.          1.        ]\n",
      " [ 0.          1.        ]\n",
      " [ 1.          0.        ]\n",
      " [ 0.33333333  0.66666667]\n",
      " [ 0.66666667  0.33333333]\n",
      " [ 0.33333333  0.66666667]\n",
      " [ 0.66666667  0.33333333]\n",
      " [ 0.33333333  0.66666667]\n",
      " [ 0.33333333  0.66666667]\n",
      " [ 0.          1.        ]\n",
      " [ 0.33333333  0.66666667]\n",
      " [ 0.33333333  0.66666667]\n",
      " [ 0.33333333  0.66666667]\n",
      " [ 0.33333333  0.66666667]\n",
      " [ 0.66666667  0.33333333]\n",
      " [ 0.          1.        ]\n",
      " [ 0.          1.        ]\n",
      " [ 0.          1.        ]\n",
      " [ 0.33333333  0.66666667]\n",
      " [ 0.33333333  0.66666667]\n",
      " [ 0.33333333  0.66666667]\n",
      " [ 0.66666667  0.33333333]\n",
      " [ 0.33333333  0.66666667]\n",
      " [ 0.66666667  0.33333333]\n",
      " [ 0.66666667  0.33333333]\n",
      " [ 0.33333333  0.66666667]\n",
      " [ 0.66666667  0.33333333]\n",
      " [ 0.          1.        ]\n",
      " [ 0.33333333  0.66666667]\n",
      " [ 0.33333333  0.66666667]\n",
      " [ 0.33333333  0.66666667]\n",
      " [ 0.          1.        ]\n",
      " [ 0.66666667  0.33333333]\n",
      " [ 0.          1.        ]\n",
      " [ 0.33333333  0.66666667]\n",
      " [ 0.          1.        ]\n",
      " [ 0.          1.        ]\n",
      " [ 0.33333333  0.66666667]\n",
      " [ 0.33333333  0.66666667]\n",
      " [ 0.          1.        ]\n",
      " [ 0.33333333  0.66666667]\n",
      " [ 0.          1.        ]\n",
      " [ 0.33333333  0.66666667]\n",
      " [ 0.66666667  0.33333333]\n",
      " [ 0.          1.        ]\n",
      " [ 0.33333333  0.66666667]\n",
      " [ 0.33333333  0.66666667]\n",
      " [ 0.          1.        ]\n",
      " [ 0.          1.        ]\n",
      " [ 0.33333333  0.66666667]\n",
      " [ 0.          1.        ]\n",
      " [ 0.          1.        ]\n",
      " [ 1.          0.        ]\n",
      " [ 0.          1.        ]\n",
      " [ 0.          1.        ]\n",
      " [ 0.          1.        ]\n",
      " [ 0.          1.        ]\n",
      " [ 0.66666667  0.33333333]\n",
      " [ 0.33333333  0.66666667]\n",
      " [ 0.33333333  0.66666667]\n",
      " [ 0.33333333  0.66666667]\n",
      " [ 0.33333333  0.66666667]\n",
      " [ 0.33333333  0.66666667]\n",
      " [ 0.66666667  0.33333333]\n",
      " [ 0.          1.        ]\n",
      " [ 0.66666667  0.33333333]\n",
      " [ 0.66666667  0.33333333]\n",
      " [ 0.          1.        ]\n",
      " [ 0.66666667  0.33333333]\n",
      " [ 0.          1.        ]\n",
      " [ 0.          1.        ]\n",
      " [ 0.33333333  0.66666667]\n",
      " [ 0.          1.        ]\n",
      " [ 0.33333333  0.66666667]\n",
      " [ 0.33333333  0.66666667]\n",
      " [ 0.          1.        ]\n",
      " [ 0.          1.        ]\n",
      " [ 0.          1.        ]\n",
      " [ 0.66666667  0.33333333]\n",
      " [ 0.          1.        ]\n",
      " [ 0.33333333  0.66666667]\n",
      " [ 0.33333333  0.66666667]\n",
      " [ 0.          1.        ]\n",
      " [ 0.33333333  0.66666667]\n",
      " [ 0.          1.        ]\n",
      " [ 0.          1.        ]\n",
      " [ 0.33333333  0.66666667]\n",
      " [ 0.66666667  0.33333333]\n",
      " [ 0.66666667  0.33333333]\n",
      " [ 0.          1.        ]\n",
      " [ 0.          1.        ]\n",
      " [ 0.33333333  0.66666667]\n",
      " [ 0.66666667  0.33333333]\n",
      " [ 0.33333333  0.66666667]\n",
      " [ 0.33333333  0.66666667]\n",
      " [ 0.33333333  0.66666667]\n",
      " [ 0.          1.        ]\n",
      " [ 1.          0.        ]\n",
      " [ 0.          1.        ]\n",
      " [ 0.33333333  0.66666667]\n",
      " [ 0.33333333  0.66666667]\n",
      " [ 0.          1.        ]\n",
      " [ 0.33333333  0.66666667]\n",
      " [ 0.          1.        ]\n",
      " [ 0.          1.        ]\n",
      " [ 0.66666667  0.33333333]\n",
      " [ 0.33333333  0.66666667]\n",
      " [ 0.66666667  0.33333333]\n",
      " [ 1.          0.        ]\n",
      " [ 0.33333333  0.66666667]\n",
      " [ 0.          1.        ]\n",
      " [ 0.66666667  0.33333333]]\n"
     ]
    }
   ],
   "source": [
    "print(np.transpose(preds_ext))\n",
    "print(prob)"
   ]
  },
  {
   "cell_type": "code",
   "execution_count": 58,
   "metadata": {
    "collapsed": false,
    "scrolled": true
   },
   "outputs": [
    {
     "name": "stdout",
     "output_type": "stream",
     "text": [
      "[[ 0.66666667  0.33333333]\n",
      " [ 0.66666667  0.33333333]\n",
      " [ 0.          1.        ]\n",
      " [ 0.33333333  0.66666667]\n",
      " [ 0.          1.        ]\n",
      " [ 0.66666667  0.33333333]\n",
      " [ 0.33333333  0.66666667]\n",
      " [ 0.66666667  0.33333333]\n",
      " [ 0.33333333  0.66666667]\n",
      " [ 0.66666667  0.33333333]\n",
      " [ 0.33333333  0.66666667]\n",
      " [ 0.          1.        ]\n",
      " [ 0.66666667  0.33333333]\n",
      " [ 0.66666667  0.33333333]\n",
      " [ 0.          1.        ]\n",
      " [ 0.33333333  0.66666667]\n",
      " [ 0.33333333  0.66666667]\n",
      " [ 0.33333333  0.66666667]\n",
      " [ 0.66666667  0.33333333]\n",
      " [ 0.33333333  0.66666667]\n",
      " [ 0.66666667  0.33333333]\n",
      " [ 0.33333333  0.66666667]\n",
      " [ 0.33333333  0.66666667]\n",
      " [ 0.33333333  0.66666667]\n",
      " [ 0.33333333  0.66666667]\n",
      " [ 0.33333333  0.66666667]\n",
      " [ 0.          1.        ]\n",
      " [ 0.33333333  0.66666667]\n",
      " [ 0.33333333  0.66666667]\n",
      " [ 0.33333333  0.66666667]\n",
      " [ 0.33333333  0.66666667]\n",
      " [ 0.          1.        ]\n",
      " [ 0.66666667  0.33333333]\n",
      " [ 0.33333333  0.66666667]\n",
      " [ 0.66666667  0.33333333]\n",
      " [ 0.66666667  0.33333333]\n",
      " [ 0.          1.        ]\n",
      " [ 0.33333333  0.66666667]\n",
      " [ 0.33333333  0.66666667]\n",
      " [ 0.66666667  0.33333333]\n",
      " [ 0.33333333  0.66666667]\n",
      " [ 0.33333333  0.66666667]\n",
      " [ 0.66666667  0.33333333]\n",
      " [ 0.66666667  0.33333333]\n",
      " [ 0.33333333  0.66666667]\n",
      " [ 0.33333333  0.66666667]\n",
      " [ 0.66666667  0.33333333]\n",
      " [ 0.          1.        ]\n",
      " [ 0.          1.        ]\n",
      " [ 0.33333333  0.66666667]\n",
      " [ 0.33333333  0.66666667]\n",
      " [ 0.66666667  0.33333333]\n",
      " [ 0.33333333  0.66666667]\n",
      " [ 0.66666667  0.33333333]\n",
      " [ 0.66666667  0.33333333]\n",
      " [ 0.33333333  0.66666667]\n",
      " [ 0.33333333  0.66666667]\n",
      " [ 0.66666667  0.33333333]\n",
      " [ 0.66666667  0.33333333]\n",
      " [ 0.66666667  0.33333333]\n",
      " [ 0.33333333  0.66666667]\n",
      " [ 0.33333333  0.66666667]\n",
      " [ 0.          1.        ]\n",
      " [ 1.          0.        ]\n",
      " [ 0.33333333  0.66666667]\n",
      " [ 0.33333333  0.66666667]\n",
      " [ 0.33333333  0.66666667]\n",
      " [ 0.66666667  0.33333333]\n",
      " [ 0.33333333  0.66666667]\n",
      " [ 0.33333333  0.66666667]\n",
      " [ 0.33333333  0.66666667]\n",
      " [ 0.66666667  0.33333333]\n",
      " [ 0.          1.        ]\n",
      " [ 0.          1.        ]\n",
      " [ 0.66666667  0.33333333]\n",
      " [ 0.33333333  0.66666667]\n",
      " [ 0.33333333  0.66666667]\n",
      " [ 0.          1.        ]\n",
      " [ 0.33333333  0.66666667]\n",
      " [ 0.33333333  0.66666667]\n",
      " [ 0.66666667  0.33333333]\n",
      " [ 0.          1.        ]\n",
      " [ 0.66666667  0.33333333]\n",
      " [ 0.          1.        ]\n",
      " [ 0.66666667  0.33333333]\n",
      " [ 0.66666667  0.33333333]\n",
      " [ 0.33333333  0.66666667]\n",
      " [ 0.66666667  0.33333333]\n",
      " [ 0.          1.        ]\n",
      " [ 0.33333333  0.66666667]\n",
      " [ 0.          1.        ]\n",
      " [ 0.66666667  0.33333333]\n",
      " [ 0.66666667  0.33333333]\n",
      " [ 0.33333333  0.66666667]\n",
      " [ 0.66666667  0.33333333]\n",
      " [ 0.66666667  0.33333333]\n",
      " [ 0.33333333  0.66666667]\n",
      " [ 0.33333333  0.66666667]\n",
      " [ 0.66666667  0.33333333]\n",
      " [ 0.66666667  0.33333333]\n",
      " [ 0.33333333  0.66666667]\n",
      " [ 0.33333333  0.66666667]\n",
      " [ 0.33333333  0.66666667]\n",
      " [ 0.          1.        ]\n",
      " [ 0.33333333  0.66666667]\n",
      " [ 0.33333333  0.66666667]\n",
      " [ 0.33333333  0.66666667]\n",
      " [ 0.33333333  0.66666667]\n",
      " [ 0.33333333  0.66666667]\n",
      " [ 0.33333333  0.66666667]\n",
      " [ 0.          1.        ]\n",
      " [ 0.33333333  0.66666667]\n",
      " [ 0.          1.        ]\n",
      " [ 0.          1.        ]]\n"
     ]
    }
   ],
   "source": [
    "#Rest2\n",
    "print(prob)"
   ]
  },
  {
   "cell_type": "code",
   "execution_count": 16,
   "metadata": {
    "collapsed": false
   },
   "outputs": [
    {
     "data": {
      "text/plain": [
       "array([[10, 22],\n",
       "       [27, 55]])"
      ]
     },
     "execution_count": 16,
     "metadata": {},
     "output_type": "execute_result"
    }
   ],
   "source": [
    "confusion_matrix(bins, preds)"
   ]
  },
  {
   "cell_type": "code",
   "execution_count": 17,
   "metadata": {
    "collapsed": false
   },
   "outputs": [
    {
     "data": {
      "text/plain": [
       "array([[27, 25],\n",
       "       [20, 42]])"
      ]
     },
     "execution_count": 17,
     "metadata": {},
     "output_type": "execute_result"
    }
   ],
   "source": [
    "confusion_matrix(bins, preds_2)"
   ]
  },
  {
   "cell_type": "code",
   "execution_count": 20,
   "metadata": {
    "collapsed": false,
    "scrolled": true
   },
   "outputs": [
    {
     "data": {
      "text/plain": [
       "array([[ 1, 31],\n",
       "       [ 6, 76]])"
      ]
     },
     "execution_count": 20,
     "metadata": {},
     "output_type": "execute_result"
    }
   ],
   "source": [
    "confusion_matrix(bins, preds_3)"
   ]
  },
  {
   "cell_type": "code",
   "execution_count": 25,
   "metadata": {
    "collapsed": false,
    "scrolled": true
   },
   "outputs": [
    {
     "data": {
      "text/plain": [
       "array([[ 1, 31],\n",
       "       [ 6, 76]])"
      ]
     },
     "execution_count": 25,
     "metadata": {},
     "output_type": "execute_result"
    }
   ],
   "source": [
    "confusion_matrix(bins, preds_4)"
   ]
  },
  {
   "cell_type": "code",
   "execution_count": 41,
   "metadata": {
    "collapsed": false,
    "scrolled": false
   },
   "outputs": [
    {
     "name": "stdout",
     "output_type": "stream",
     "text": [
      "[[ 0 17  3]\n",
      " [ 4 17 11]\n",
      " [ 5 32 25]]\n"
     ]
    },
    {
     "data": {
      "image/png": "[encoded data removed]",
      "text/plain": [
       "<matplotlib.figure.Figure at 0x5420b4d438>"
      ]
     },
     "metadata": {},
     "output_type": "display_data"
    }
   ],
   "source": [
    "cm = confusion_matrix(bins, preds_5)\n",
    "cm_normalized = cm.astype('float') / cm.sum(axis=1)[:, np.newaxis]\n",
    "plot_confusion_matrix(cm_normalized)\n",
    "print(cm)"
   ]
  },
  {
   "cell_type": "code",
   "execution_count": 46,
   "metadata": {
    "collapsed": false,
    "scrolled": false
   },
   "outputs": [
    {
     "data": {
      "image/png": "[encoded data removed]",
      "text/plain": [
       "<matplotlib.figure.Figure at 0x5424061be0>"
      ]
     },
     "metadata": {},
     "output_type": "display_data"
    }
   ],
   "source": [
    "cm = confusion_matrix(bins, preds_6)\n",
    "cm_normalized = cm.astype('float') / cm.sum(axis=1)[:, np.newaxis]\n",
    "plot_confusion_matrix(cm_normalized)"
   ]
  },
  {
   "cell_type": "markdown",
   "metadata": {},
   "source": [
    "### Classification and regression\n",
    "Data are split in training and test set. Then the training set is used to train a classifier in order to divide data in two classes according to their gF score. Two regressor are built, one for each of the classes, still using training data alone. Finally the trained classifier is used to assign each sample of the test data to one of the two regressors."
   ]
  },
  {
   "cell_type": "code",
   "execution_count": 11,
   "metadata": {
    "collapsed": true
   },
   "outputs": [],
   "source": [
    "n_bins = 2\n",
    "hist, bin_limits = np.histogram(gF, n_bins)\n",
    "bins = np.digitize(gF, bin_limits[:-1])"
   ]
  },
  {
   "cell_type": "code",
   "execution_count": 12,
   "metadata": {
    "collapsed": false
   },
   "outputs": [
    {
     "data": {
      "image/png": "[encoded data removed]",
      "text/plain": [
       "<matplotlib.figure.Figure at 0xdbf0608390>"
      ]
     },
     "metadata": {},
     "output_type": "display_data"
    },
    {
     "data": {
      "image/png": "[encoded data removed]",
      "text/plain": [
       "<matplotlib.figure.Figure at 0xdbf0650438>"
      ]
     },
     "metadata": {},
     "output_type": "display_data"
    }
   ],
   "source": [
    "# Hold out set\n",
    "X_train, X_test, y_train, y_test = cross_validation.train_test_split(edges,gF,test_size=0.2, random_state=42, stratify=bins)\n",
    "test_bins = np.digitize(y_test, bin_limits[:-1])\n",
    "train_bins = np.digitize(y_train, bin_limits[:-1])\n",
    "\n",
    "plt.hist(y_train, bins=n_bins)\n",
    "plt.title('training set gF distribution')\n",
    "plt.show()\n",
    "plt.hist(y_test, bins=n_bins)\n",
    "plt.title('test set gF distribution')\n",
    "plt.show()"
   ]
  },
  {
   "cell_type": "code",
   "execution_count": 13,
   "metadata": {
    "collapsed": false,
    "scrolled": false
   },
   "outputs": [
    {
     "name": "stderr",
     "output_type": "stream",
     "text": [
      "C:\\Users\\Paola\\Anaconda3\\lib\\site-packages\\sklearn\\linear_model\\coordinate_descent.py:466: ConvergenceWarning: Objective did not converge. You might want to increase the number of iterations\n",
      "  ConvergenceWarning)\n"
     ]
    }
   ],
   "source": [
    "errors_c = np.zeros([len(y_test)])\n",
    "errors_r = np.zeros([len(y_test)])\n",
    "predictions_c = np.zeros([len(y_test)])\n",
    "predictions_r = np.zeros([len(y_test)])\n",
    "estimator = KNeighborsClassifier(n_neighbors=5)\n",
    "pca = PCA(n_components=0.999)\n",
    "k=5\n",
    "n_bins_cv = 2\n",
    "\n",
    "# decomposition\n",
    "data_pc = pca.fit_transform(X_train)\n",
    "\n",
    "# classification\n",
    "estimator.fit(data_pc,train_bins)\n",
    "predictions_c = estimator.predict(pca.transform(X_test))\n",
    "errors_c = predictions_c==test_bins\n",
    "\n",
    "# regressor for class 1\n",
    "hist_cv, bin_limits_cv = np.histogram(y_train[train_bins==1], n_bins_cv)\n",
    "bins_cv = np.digitize(y_train[train_bins==1], bin_limits_cv[:-1])\n",
    "cv = cross_validation.StratifiedKFold(bins_cv,k)\n",
    "#cv = cross_validation.KFold(k)\n",
    "lasso = LassoCV(cv=cv,n_jobs=-1)\n",
    "lasso.fit(X_train[train_bins==1,],y_train[train_bins==1])\n",
    "predictions_r[predictions_c==1] = lasso.predict(X_test[predictions_c==1])\n",
    "errors_r[test_bins==1] = abs(predictions_r[test_bins==1]-y_test[test_bins==1])\n",
    "\n",
    "# regressor for class 2\n",
    "hist_cv, bin_limits_cv = np.histogram(y_train[train_bins==2], n_bins_cv)\n",
    "bins_cv = np.digitize(y_train[train_bins==2], bin_limits_cv[:-1])\n",
    "cv = cross_validation.StratifiedKFold(bins_cv,k)\n",
    "lasso = LassoCV(cv=cv,n_jobs=-1)\n",
    "lasso.fit(X_train[train_bins==2,],y_train[train_bins==2])\n",
    "predictions_r[predictions_c==2] = lasso.predict(X_test[predictions_c==2])      \n",
    "errors_r[test_bins==2] = abs(predictions_r[test_bins==2]-y_test[test_bins==2])\n",
    "\n"
   ]
  },
  {
   "cell_type": "code",
   "execution_count": 14,
   "metadata": {
    "collapsed": false,
    "scrolled": true
   },
   "outputs": [
    {
     "name": "stdout",
     "output_type": "stream",
     "text": [
      "[[ 1 26]\n",
      " [13 47]]\n",
      "[2 2 2 1 2 2 2 2 1 2 2 1 2 2 1 1 2 2 2 2 1 2 2 2 2 2 2 2 2 2 2 2 2 2 2 2 2\n",
      " 2 1 2 1 2 2 2 2 2 1 1 2 2 2 2 2 2 1 2 2 2 2 2 2 2 2 2 2 2 2 2 2 2 2 1 2 2\n",
      " 2 2 2 2 2 2 2 2 1 2 2 1 2]\n",
      "[ 19.322294    19.01522167  19.77912626  10.73636364  20.40935917\n",
      "  19.30616907  19.93841357  19.49063084  10.73636364  19.04494765\n",
      "  19.09632526  10.73636364  19.87433107  20.55652168  10.73636364\n",
      "  10.73636364  19.15894863  20.13698226  18.93892366  20.58466351\n",
      "  10.73636364  18.98916885  19.41736325  19.76923772  20.10100903\n",
      "  19.40851404  19.34766597  19.22277643  19.073469    19.36156509\n",
      "  19.77047393  18.76534125  20.16051397  19.85540237  19.6060716\n",
      "  19.01125509  20.03383038  19.01093313  10.73636364  19.18725181\n",
      "  10.73636364  20.28112823  19.53723207  19.66685988  20.21605318\n",
      "  19.46451833  10.73636364  10.73636364  19.99440385  19.68846158\n",
      "  19.52626571  19.68034536  20.02878663  19.05117987  10.73636364\n",
      "  19.06520594  19.10776867  19.61875082  19.19607683  19.57087256\n",
      "  19.42869079  19.40917566  19.68900163  19.603279    19.64964352\n",
      "  19.85526292  19.63277518  19.57430424  19.31110434  19.30760597\n",
      "  19.75778557  10.73636364  18.84528409  19.56919179  19.47315834\n",
      "  18.85372424  19.66681775  19.80607411  19.23777274  19.75037357\n",
      "  19.46638417  19.53028615  10.73636364  19.65356179  19.20171238\n",
      "  10.73636364  19.81106928]\n"
     ]
    }
   ],
   "source": [
    "#data ext\n",
    "print(confusion_matrix(test_bins, predictions_c))\n",
    "print(predictions_c)\n",
    "print(predictions_r)"
   ]
  },
  {
   "cell_type": "code",
   "execution_count": 18,
   "metadata": {
    "collapsed": false,
    "scrolled": true
   },
   "outputs": [
    {
     "name": "stdout",
     "output_type": "stream",
     "text": [
      "[[ 1  5]\n",
      " [ 3 14]]\n",
      "Mean regression error: 4.49255144975\n"
     ]
    }
   ],
   "source": [
    "print(confusion_matrix(test_bins, predictions_c))\n",
    "print('Mean regression error:',errors_r.mean())"
   ]
  },
  {
   "cell_type": "code",
   "execution_count": 14,
   "metadata": {
    "collapsed": false
   },
   "outputs": [
    {
     "data": {
      "image/png": "[encoded data removed]",
      "text/plain": [
       "<matplotlib.figure.Figure at 0x4ba1b98780>"
      ]
     },
     "metadata": {},
     "output_type": "display_data"
    }
   ],
   "source": [
    "regression_plot(np.ravel(y_test),predictions_r,len(y_test),'kNN + Lasso on Finn\\'s data (training-test split)')"
   ]
  },
  {
   "cell_type": "code",
   "execution_count": 15,
   "metadata": {
    "collapsed": false
   },
   "outputs": [
    {
     "data": {
      "image/png": "[encoded data removed]",
      "text/plain": [
       "<matplotlib.figure.Figure at 0xdbf0678198>"
      ]
     },
     "metadata": {},
     "output_type": "display_data"
    }
   ],
   "source": [
    "regression_plot(np.ravel(y_test),predictions_r,len(y_test),'kNN + Lasso on extended data (training-test split)')"
   ]
  },
  {
   "cell_type": "markdown",
   "metadata": {},
   "source": [
    "### Classification and regression with leave-one-out cross-validation"
   ]
  },
  {
   "cell_type": "code",
   "execution_count": 70,
   "metadata": {
    "collapsed": false,
    "scrolled": false
   },
   "outputs": [
    {
     "name": "stdout",
     "output_type": "stream",
     "text": [
      "Accuracy: 0.570175438596\n",
      "Mean error: 4.86379378542\n"
     ]
    }
   ],
   "source": [
    "loo = cross_validation.LeaveOneOut(n_subj)\n",
    "errors_c = np.zeros([n_subj])\n",
    "errors_r = np.zeros([n_subj])\n",
    "predictions_c = np.zeros([n_subj])\n",
    "predictions_r = np.zeros([n_subj])\n",
    "estimator = KNeighborsClassifier(n_neighbors=3)\n",
    "pca = PCA(n_components=0.999)\n",
    "k=5\n",
    "n_bins = 2\n",
    "n_bins_cv = 4\n",
    "cv = cross_validation.KFold(k)\n",
    "lasso = LassoCV(cv=cv,n_jobs=-1)\n",
    "\n",
    "i=0\n",
    "f = FloatProgress(min=0, max=n_subj)\n",
    "display(f)\n",
    "for train_index, test_index in loo:\n",
    "    X_train, X_test, y_train, y_test = edges[train_index,], edges[test_index,],gF[train_index],gF[test_index]\n",
    "    hist, bin_limits = np.histogram(y_train, n_bins)\n",
    "    bins = np.digitize(y_train, bin_limits[:-1])\n",
    "    test_bin = np.digitize(y_test, bin_limits[:-1])\n",
    "    # decomposition\n",
    "    data_pc = pca.fit_transform(X_train)\n",
    "    # classification\n",
    "    estimator.fit(data_pc,bins)\n",
    "    predictions_c[i] = estimator.predict(pca.transform(X_test))\n",
    "    errors_c[i] = 1 if predictions_c[i]==test_bin else 0\n",
    "    \n",
    "    #hist_cv, bin_limits_cv = np.histogram(y_train, n_bins_cv)\n",
    "    #bins_cv = np.digitize(y_train, bin_limits_cv[:-1])\n",
    "    #cv = cross_validation.StratifiedKFold(bins_cv,k)\n",
    "    \n",
    "    if predictions_c[i] == 1:\n",
    "        # regression 1\n",
    "        lasso.fit(X_train[bins==1,],y_train[bins==1])\n",
    "        predictions_r[i] = lasso.predict(X_test)\n",
    "        errors_r[i] = abs(predictions_r[i]-y_test)\n",
    "    else:\n",
    "        # regression 2\n",
    "        lasso.fit(X_train[bins==2,],y_train[bins==2])\n",
    "        predictions_r[i] = lasso.predict(X_test)\n",
    "        errors_r[i] = abs(predictions_r[i]-y_test)\n",
    "    \n",
    "    i += 1\n",
    "    f.value += 1\n",
    "        \n",
    "print('Accuracy:',errors_c.mean())\n",
    "print('Mean error:',errors_r.mean())\n"
   ]
  },
  {
   "cell_type": "code",
   "execution_count": 71,
   "metadata": {
    "collapsed": false
   },
   "outputs": [
    {
     "name": "stdout",
     "output_type": "stream",
     "text": [
      "[ 10.34375     10.34375     19.44828835  19.33314359  19.37037037  10.34375\n",
      "  19.38271605  10.50534548  19.27160494  10.35483871  19.33333333\n",
      "  19.32926829  10.34375     10.41935484  19.34567901  19.32926829\n",
      "  19.32926829  19.27160494  10.34375     19.32926829  10.34375     19.32098765\n",
      "  19.33333333  19.32098765  19.33333333  19.32926829  19.30864198\n",
      "  19.35802469  19.33333333  19.34567901  19.28395062  19.32098765  10.34375\n",
      "  19.32926829  10.34375     10.34375     19.2962963   19.35802469\n",
      "  19.38271605  10.34375     19.32926829  19.30864198  10.34375     10.48387097\n",
      "  19.34567901  19.2962963   10.34375     19.32926829  19.28395062\n",
      "  19.35802469  19.32926829  10.34375     19.32926829  10.34375     10.34375\n",
      "  19.32926829  19.30864198  10.34375     10.34375     10.34375     19.38271605\n",
      "  19.32926829  19.2962963   10.34375     19.38271605  19.35802469\n",
      "  19.32926829  10.29032258  19.34567901  19.34567901  19.30864198  10.34375\n",
      "  19.32098765  19.30864198  10.34375     19.32098765  19.32098765\n",
      "  19.32926829  19.28395062  19.32926829  10.32258065  19.32926829\n",
      "  10.38709677  19.30864198  10.34375     10.41935484  19.32098765  10.34375\n",
      "  19.2962963   19.28395062  19.32926829  10.34375     10.38709677\n",
      "  19.34567901  10.34375     10.34375     19.30864198  19.32926829\n",
      "  10.41935484  10.34375     19.32926829  19.32098765  19.30864198\n",
      "  19.32098765  19.38271605  19.32926829  19.34567901  19.32926829\n",
      "  19.32098765  19.34567901  19.33333333  19.33333333  19.2962963\n",
      "  19.32926829]\n",
      "[17 17 16 22 16 17 15 14 24 10 19 12 22  8 18  8 14 24 20 13 20 20 19 20 19\n",
      " 10 21 17 19 18 23 20 18 11 22 22 22 17 15 21 10 21 17  6 18 22 22  9 23 17\n",
      "  5 16  9 20 15 12 21 20 16 16 15  9 22 18 15 17 14 12 18 18 21 22 20 21 18\n",
      " 20 20 12 23  7 11 14  9 21 20  8 20 20 22 23 12 21  9 18 20 16 21 10  8 19\n",
      "  7 20 21 20 15 10 18 14 20 18 19 19 22 14]\n",
      "[ 1.  1.  2.  2.  2.  1.  2.  1.  2.  1.  2.  2.  1.  1.  2.  2.  2.  2.\n",
      "  1.  2.  1.  2.  2.  2.  2.  2.  2.  2.  2.  2.  2.  2.  1.  2.  1.  1.\n",
      "  2.  2.  2.  1.  2.  2.  1.  1.  2.  2.  1.  2.  2.  2.  2.  1.  2.  1.\n",
      "  1.  2.  2.  1.  1.  1.  2.  2.  2.  1.  2.  2.  2.  1.  2.  2.  2.  1.\n",
      "  2.  2.  1.  2.  2.  2.  2.  2.  1.  2.  1.  2.  1.  1.  2.  1.  2.  2.\n",
      "  2.  1.  1.  2.  1.  1.  2.  2.  1.  1.  2.  2.  2.  2.  2.  2.  2.  2.\n",
      "  2.  2.  2.  2.  2.  2.]\n"
     ]
    }
   ],
   "source": [
    "print(predictions_r)\n",
    "print(gF)\n",
    "print(predictions_c)"
   ]
  },
  {
   "cell_type": "code",
   "execution_count": 72,
   "metadata": {
    "collapsed": false,
    "scrolled": false
   },
   "outputs": [
    {
     "data": {
      "text/plain": [
       "array([[10, 22],\n",
       "       [27, 55]])"
      ]
     },
     "execution_count": 72,
     "metadata": {},
     "output_type": "execute_result"
    }
   ],
   "source": [
    "n_bins = 2\n",
    "hist, bin_limits = np.histogram(gF, n_bins)\n",
    "bins = np.digitize(gF, bin_limits[:-1])\n",
    "confusion_matrix(bins, predictions_c)"
   ]
  },
  {
   "cell_type": "code",
   "execution_count": 73,
   "metadata": {
    "collapsed": false,
    "scrolled": false
   },
   "outputs": [
    {
     "data": {
      "image/png": "[encoded data removed]",
      "text/plain": [
       "<matplotlib.figure.Figure at 0x4ba0551d30>"
      ]
     },
     "metadata": {},
     "output_type": "display_data"
    }
   ],
   "source": [
    "regression_plot(np.ravel(gF),predictions_r,n_subj,'kNN + Lasso on Finn\\'s data (LOOCV)')"
   ]
  },
  {
   "cell_type": "markdown",
   "metadata": {},
   "source": [
    "#### Preliminary test\n",
    "In order to evaluate the performance of the double regression, an oracle is used instead of the classifier"
   ]
  },
  {
   "cell_type": "code",
   "execution_count": 18,
   "metadata": {
    "collapsed": false,
    "scrolled": true
   },
   "outputs": [
    {
     "name": "stderr",
     "output_type": "stream",
     "text": [
      "C:\\Users\\paola\\Anaconda3\\lib\\site-packages\\sklearn\\cross_validation.py:516: Warning: The least populated class in y has only 4 members, which is too few. The minimum number of labels for any class cannot be less than n_folds=5.\n",
      "  % (min_labels, self.n_folds)), Warning)\n",
      "C:\\Users\\paola\\Anaconda3\\lib\\site-packages\\sklearn\\cross_validation.py:516: Warning: The least populated class in y has only 4 members, which is too few. The minimum number of labels for any class cannot be less than n_folds=5.\n",
      "  % (min_labels, self.n_folds)), Warning)\n",
      "C:\\Users\\paola\\Anaconda3\\lib\\site-packages\\sklearn\\cross_validation.py:516: Warning: The least populated class in y has only 4 members, which is too few. The minimum number of labels for any class cannot be less than n_folds=5.\n",
      "  % (min_labels, self.n_folds)), Warning)\n",
      "C:\\Users\\paola\\Anaconda3\\lib\\site-packages\\sklearn\\cross_validation.py:516: Warning: The least populated class in y has only 4 members, which is too few. The minimum number of labels for any class cannot be less than n_folds=5.\n",
      "  % (min_labels, self.n_folds)), Warning)\n",
      "C:\\Users\\paola\\Anaconda3\\lib\\site-packages\\sklearn\\cross_validation.py:516: Warning: The least populated class in y has only 4 members, which is too few. The minimum number of labels for any class cannot be less than n_folds=5.\n",
      "  % (min_labels, self.n_folds)), Warning)\n",
      "C:\\Users\\paola\\Anaconda3\\lib\\site-packages\\sklearn\\cross_validation.py:516: Warning: The least populated class in y has only 4 members, which is too few. The minimum number of labels for any class cannot be less than n_folds=5.\n",
      "  % (min_labels, self.n_folds)), Warning)\n",
      "C:\\Users\\paola\\Anaconda3\\lib\\site-packages\\sklearn\\cross_validation.py:516: Warning: The least populated class in y has only 4 members, which is too few. The minimum number of labels for any class cannot be less than n_folds=5.\n",
      "  % (min_labels, self.n_folds)), Warning)\n",
      "C:\\Users\\paola\\Anaconda3\\lib\\site-packages\\sklearn\\cross_validation.py:516: Warning: The least populated class in y has only 4 members, which is too few. The minimum number of labels for any class cannot be less than n_folds=5.\n",
      "  % (min_labels, self.n_folds)), Warning)\n",
      "C:\\Users\\paola\\Anaconda3\\lib\\site-packages\\sklearn\\cross_validation.py:516: Warning: The least populated class in y has only 4 members, which is too few. The minimum number of labels for any class cannot be less than n_folds=5.\n",
      "  % (min_labels, self.n_folds)), Warning)\n",
      "C:\\Users\\paola\\Anaconda3\\lib\\site-packages\\sklearn\\cross_validation.py:516: Warning: The least populated class in y has only 4 members, which is too few. The minimum number of labels for any class cannot be less than n_folds=5.\n",
      "  % (min_labels, self.n_folds)), Warning)\n",
      "C:\\Users\\paola\\Anaconda3\\lib\\site-packages\\sklearn\\cross_validation.py:516: Warning: The least populated class in y has only 3 members, which is too few. The minimum number of labels for any class cannot be less than n_folds=5.\n",
      "  % (min_labels, self.n_folds)), Warning)\n",
      "C:\\Users\\paola\\Anaconda3\\lib\\site-packages\\sklearn\\cross_validation.py:516: Warning: The least populated class in y has only 4 members, which is too few. The minimum number of labels for any class cannot be less than n_folds=5.\n",
      "  % (min_labels, self.n_folds)), Warning)\n",
      "C:\\Users\\paola\\Anaconda3\\lib\\site-packages\\sklearn\\cross_validation.py:516: Warning: The least populated class in y has only 4 members, which is too few. The minimum number of labels for any class cannot be less than n_folds=5.\n",
      "  % (min_labels, self.n_folds)), Warning)\n",
      "C:\\Users\\paola\\Anaconda3\\lib\\site-packages\\sklearn\\cross_validation.py:516: Warning: The least populated class in y has only 4 members, which is too few. The minimum number of labels for any class cannot be less than n_folds=5.\n",
      "  % (min_labels, self.n_folds)), Warning)\n",
      "C:\\Users\\paola\\Anaconda3\\lib\\site-packages\\sklearn\\cross_validation.py:516: Warning: The least populated class in y has only 4 members, which is too few. The minimum number of labels for any class cannot be less than n_folds=5.\n",
      "  % (min_labels, self.n_folds)), Warning)\n",
      "C:\\Users\\paola\\Anaconda3\\lib\\site-packages\\sklearn\\cross_validation.py:516: Warning: The least populated class in y has only 4 members, which is too few. The minimum number of labels for any class cannot be less than n_folds=5.\n",
      "  % (min_labels, self.n_folds)), Warning)\n",
      "C:\\Users\\paola\\Anaconda3\\lib\\site-packages\\sklearn\\cross_validation.py:516: Warning: The least populated class in y has only 4 members, which is too few. The minimum number of labels for any class cannot be less than n_folds=5.\n",
      "  % (min_labels, self.n_folds)), Warning)\n",
      "C:\\Users\\paola\\Anaconda3\\lib\\site-packages\\sklearn\\cross_validation.py:516: Warning: The least populated class in y has only 4 members, which is too few. The minimum number of labels for any class cannot be less than n_folds=5.\n",
      "  % (min_labels, self.n_folds)), Warning)\n",
      "C:\\Users\\paola\\Anaconda3\\lib\\site-packages\\sklearn\\cross_validation.py:516: Warning: The least populated class in y has only 3 members, which is too few. The minimum number of labels for any class cannot be less than n_folds=5.\n",
      "  % (min_labels, self.n_folds)), Warning)\n",
      "C:\\Users\\paola\\Anaconda3\\lib\\site-packages\\sklearn\\cross_validation.py:516: Warning: The least populated class in y has only 4 members, which is too few. The minimum number of labels for any class cannot be less than n_folds=5.\n",
      "  % (min_labels, self.n_folds)), Warning)\n",
      "C:\\Users\\paola\\Anaconda3\\lib\\site-packages\\sklearn\\cross_validation.py:516: Warning: The least populated class in y has only 4 members, which is too few. The minimum number of labels for any class cannot be less than n_folds=5.\n",
      "  % (min_labels, self.n_folds)), Warning)\n",
      "C:\\Users\\paola\\Anaconda3\\lib\\site-packages\\sklearn\\cross_validation.py:516: Warning: The least populated class in y has only 4 members, which is too few. The minimum number of labels for any class cannot be less than n_folds=5.\n",
      "  % (min_labels, self.n_folds)), Warning)\n",
      "C:\\Users\\paola\\Anaconda3\\lib\\site-packages\\sklearn\\cross_validation.py:516: Warning: The least populated class in y has only 4 members, which is too few. The minimum number of labels for any class cannot be less than n_folds=5.\n",
      "  % (min_labels, self.n_folds)), Warning)\n",
      "C:\\Users\\paola\\Anaconda3\\lib\\site-packages\\sklearn\\cross_validation.py:516: Warning: The least populated class in y has only 4 members, which is too few. The minimum number of labels for any class cannot be less than n_folds=5.\n",
      "  % (min_labels, self.n_folds)), Warning)\n",
      "C:\\Users\\paola\\Anaconda3\\lib\\site-packages\\sklearn\\cross_validation.py:516: Warning: The least populated class in y has only 4 members, which is too few. The minimum number of labels for any class cannot be less than n_folds=5.\n",
      "  % (min_labels, self.n_folds)), Warning)\n",
      "C:\\Users\\paola\\Anaconda3\\lib\\site-packages\\sklearn\\cross_validation.py:516: Warning: The least populated class in y has only 4 members, which is too few. The minimum number of labels for any class cannot be less than n_folds=5.\n",
      "  % (min_labels, self.n_folds)), Warning)\n",
      "C:\\Users\\paola\\Anaconda3\\lib\\site-packages\\sklearn\\cross_validation.py:516: Warning: The least populated class in y has only 4 members, which is too few. The minimum number of labels for any class cannot be less than n_folds=5.\n",
      "  % (min_labels, self.n_folds)), Warning)\n",
      "C:\\Users\\paola\\Anaconda3\\lib\\site-packages\\sklearn\\cross_validation.py:516: Warning: The least populated class in y has only 3 members, which is too few. The minimum number of labels for any class cannot be less than n_folds=5.\n",
      "  % (min_labels, self.n_folds)), Warning)\n",
      "C:\\Users\\paola\\Anaconda3\\lib\\site-packages\\sklearn\\cross_validation.py:516: Warning: The least populated class in y has only 4 members, which is too few. The minimum number of labels for any class cannot be less than n_folds=5.\n",
      "  % (min_labels, self.n_folds)), Warning)\n",
      "C:\\Users\\paola\\Anaconda3\\lib\\site-packages\\sklearn\\cross_validation.py:516: Warning: The least populated class in y has only 4 members, which is too few. The minimum number of labels for any class cannot be less than n_folds=5.\n",
      "  % (min_labels, self.n_folds)), Warning)\n",
      "C:\\Users\\paola\\Anaconda3\\lib\\site-packages\\sklearn\\cross_validation.py:516: Warning: The least populated class in y has only 4 members, which is too few. The minimum number of labels for any class cannot be less than n_folds=5.\n",
      "  % (min_labels, self.n_folds)), Warning)\n"
     ]
    },
    {
     "name": "stdout",
     "output_type": "stream",
     "text": [
      "Mean error: 2.20228445536\n",
      "[ 19.35802469  19.34073025  19.37037037  19.05160996  20.185034\n",
      "  19.46434959  19.87369982  10.46930599  18.47846992  10.788681\n",
      "  20.04710193  12.40553655  19.14692991   9.8031376   19.72838298\n",
      "  10.59637619  10.96605715  19.27160494  19.33828947  11.83121645\n",
      "  19.37547246  19.24169419  19.40956326  18.98626788  19.63024393\n",
      "   9.93510863  19.30864198  19.27333041  18.95972824  19.73517884\n",
      "  18.44960385  19.32131908  19.86161012  10.01737541  19.31469092\n",
      "  19.2962963   19.2962963   19.31442135  19.38271605  19.21926654\n",
      "   6.75225107  19.03761832  19.31027949  10.26238886  19.27262001\n",
      "  19.73354552  18.96405949  10.52477733  19.19413023  19.35659439\n",
      "  19.0204032   19.46055559  11.49946395  19.2916394   19.38271605\n",
      "  10.94787848  19.2295488   19.61293719  19.41976967  19.32327149\n",
      "  19.17561617   9.74724413  19.16348881  18.99125566  19.38271605\n",
      "  19.47805314  10.038874    11.04982865  19.27744569  18.52555361\n",
      "  19.28670117  19.41053818  18.50330379  19.25767342  18.85345881\n",
      "  19.39937831  18.95090741   9.5278438   18.29448049  10.27113694\n",
      "  10.24411341  10.49025568  10.4928865   19.09158282  19.26985182\n",
      "   8.73933045  20.01815892  19.28927365  19.2962963   19.13878226\n",
      "   9.96138146  19.28787776  10.63502075  20.17980476  19.38617527\n",
      "  19.37037037  19.41601286  10.20520554  10.71397024  19.27532245\n",
      "  12.02878289  19.65718748  19.17873918  19.30327951  19.48480446\n",
      "  10.65871939  19.31323924  10.22580645  19.40707863  19.27183396\n",
      "  19.68995619  18.40409006  19.32317979   9.82795083]\n"
     ]
    }
   ],
   "source": [
    "loo = cross_validation.LeaveOneOut(n_subj)\n",
    "errors_r = np.zeros([n_subj])\n",
    "predictions_r = np.zeros([n_subj])\n",
    "k=5\n",
    "n_bins = 2\n",
    "n_bins_cv = 4\n",
    "#cv = cross_validation.KFold(k)\n",
    "lasso = LassoCV(cv=cv,n_jobs=-1)\n",
    "\n",
    "i=0\n",
    "f = FloatProgress(min=0, max=n_subj)\n",
    "display(f)\n",
    "for train_index, test_index in loo:\n",
    "    X_train, X_test, y_train, y_test = edges[train_index,], edges[test_index,],gF[train_index],gF[test_index]\n",
    "    hist, bin_limits = np.histogram(y_train, n_bins)\n",
    "    bins = np.digitize(y_train, bin_limits[:-1])\n",
    "    test_bin = np.digitize(y_test, bin_limits[:-1])\n",
    "    \n",
    "    if test_bin == 1:\n",
    "        # regression 1\n",
    "        hist_cv, bin_limits_cv = np.histogram(y_train[bins==1], n_bins_cv)\n",
    "        bins_cv = np.digitize(y_train[bins==1], bin_limits_cv[:-1])\n",
    "        cv = cross_validation.StratifiedKFold(bins_cv,k)\n",
    "        lasso = LassoCV(cv=cv,n_jobs=-1)\n",
    "        lasso.fit(X_train[bins==1,],y_train[bins==1])\n",
    "        predictions_r[i] = lasso.predict(X_test)\n",
    "        errors_r[i] = abs(predictions_r[i]-y_test)\n",
    "    else:\n",
    "        # regression 2\n",
    "        hist_cv, bin_limits_cv = np.histogram(y_train[bins==2], n_bins_cv)\n",
    "        bins_cv = np.digitize(y_train[bins==2], bin_limits_cv[:-1])\n",
    "        cv = cross_validation.StratifiedKFold(bins_cv,k)\n",
    "        lasso = LassoCV(cv=cv,n_jobs=-1)\n",
    "        lasso.fit(X_train[bins==2,],y_train[bins==2])\n",
    "        predictions_r[i] = lasso.predict(X_test)\n",
    "        errors_r[i] = abs(predictions_r[i]-y_test)\n",
    "    \n",
    "    i += 1\n",
    "    f.value += 1\n",
    "        \n",
    "print('Mean error:',errors_r.mean())\n",
    "print(predictions_r)"
   ]
  },
  {
   "cell_type": "markdown",
   "metadata": {},
   "source": [
    "preds = [ 18.19233306  17.91531932  19.44828835  19.33314359  19.37037037\n",
    "  19.35802469  19.38271605  10.50534548  19.27160494  10.35483871\n",
    "  19.33333333  10.29032258  19.2962963   10.41935484  19.34567901\n",
    "  10.41935484  10.22580645  19.27160494  19.32098765  10.25806452\n",
    "  19.32098765  19.32098765  19.33333333  19.32098765  19.33333333\n",
    "  10.35483871  19.30864198  19.35802469  19.33333333  19.34567901\n",
    "  19.28395062  19.32098765  19.34567901  10.32258065  19.2962963\n",
    "  19.2962963   19.2962963   19.35802469  19.38271605  19.30864198\n",
    "  10.35483871  19.30864198  19.35802469  10.48387097  19.34567901\n",
    "  19.2962963   19.2962963   10.38709677  19.28395062  19.35802469\n",
    "  19.32926829  19.37037037  10.38709677  19.32098765  19.38271605\n",
    "  10.29032258  19.30864198  19.32098765  19.37037037  19.37037037\n",
    "  19.38271605  10.38709677  19.2962963   19.34567901  19.38271605\n",
    "  19.35802469  10.22580645  10.29032258  19.34567901  19.34567901\n",
    "  19.30864198  19.2962963   19.32098765  19.30864198  19.34567901\n",
    "  19.32098765  19.32098765  10.29032258  19.28395062  10.4516129\n",
    "  10.32258065  10.22580645  10.38709677  19.30864198  19.32098765\n",
    "  10.41935484  19.32098765  19.32098765  19.2962963   19.28395062\n",
    "  10.29032258  19.30864198  10.38709677  19.34567901  19.32098765\n",
    "  19.37037037  19.30864198  10.35483871  10.41935484  19.33333333\n",
    "  10.4516129   19.32098765  19.30864198  19.32098765  19.38271605\n",
    "  10.35483871  19.34567901  10.22580645  19.32098765  19.34567901\n",
    "  19.33333333  19.33333333  19.2962963   10.22580645]"
   ]
  },
  {
   "cell_type": "code",
   "execution_count": 15,
   "metadata": {
    "collapsed": false
   },
   "outputs": [
    {
     "name": "stdout",
     "output_type": "stream",
     "text": [
      "(1, 35778)\n",
      "114\n"
     ]
    }
   ],
   "source": [
    "print(X_test.shape)\n",
    "print(i)"
   ]
  },
  {
   "cell_type": "code",
   "execution_count": 8,
   "metadata": {
    "collapsed": false,
    "scrolled": false
   },
   "outputs": [
    {
     "data": {
      "image/png": "[encoded data removed]",
      "text/plain": [
       "<matplotlib.figure.Figure at 0x115c3014e0>"
      ]
     },
     "metadata": {},
     "output_type": "display_data"
    }
   ],
   "source": [
    "regression_plot(np.ravel(gF),predictions_r,n_subj,'Oracle + Lasso on Finn\\'s data (LOOCV)')"
   ]
  },
  {
   "cell_type": "code",
   "execution_count": 19,
   "metadata": {
    "collapsed": false,
    "scrolled": false
   },
   "outputs": [
    {
     "data": {
      "image/png": "[encoded data removed]",
      "text/plain": [
       "<matplotlib.figure.Figure at 0x1af24b7eac8>"
      ]
     },
     "metadata": {},
     "output_type": "display_data"
    }
   ],
   "source": [
    "regression_plot(np.ravel(gF),predictions_r,n_subj,'Oracle + Lasso on Finn\\'s data (LOOCV)')"
   ]
  }
 ],
 "metadata": {
  "anaconda-cloud": {},
  "kernelspec": {
   "display_name": "Python [Root]",
   "language": "python",
   "name": "Python [Root]"
  },
  "language_info": {
   "codemirror_mode": {
    "name": "ipython",
    "version": 3
   },
   "file_extension": ".py",
   "mimetype": "text/x-python",
   "name": "python",
   "nbconvert_exporter": "python",
   "pygments_lexer": "ipython3",
   "version": "3.5.2"
  }
 },
 "nbformat": 4,
 "nbformat_minor": 0
}
