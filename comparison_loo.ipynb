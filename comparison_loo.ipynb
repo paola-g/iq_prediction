{
 "cells": [
  {
   "cell_type": "code",
   "execution_count": null,
   "metadata": {
    "collapsed": false,
    "nbpresent": {
     "id": "8f892fd1-edba-440f-a9fc-cac7685cbdeb"
    }
   },
   "outputs": [],
   "source": [
    "import nbpresent\n",
    "nbpresent.__version__"
   ]
  },
  {
   "cell_type": "code",
   "execution_count": null,
   "metadata": {
    "collapsed": true,
    "nbpresent": {
     "id": "c8c8af39-f5ae-42ca-8ded-8742ca798a2c"
    }
   },
   "outputs": [],
   "source": [
    "%matplotlib inline\n",
    "\n",
    "from ipywidgets import FloatProgress\n",
    "from IPython.display import display\n",
    "from ipywidgets import *\n",
    "\n",
    "import scipy.io as sio\n",
    "import numpy as np\n",
    "import matplotlib.pyplot as plt\n",
    "\n",
    "import scipy.stats as stats\n",
    "import pandas as pd\n",
    "from sklearn.metrics import r2_score\n"
   ]
  },
  {
   "cell_type": "markdown",
   "metadata": {
    "nbpresent": {
     "id": "d7132d9a-220c-47ee-ae9c-8ce3313ccef7"
    }
   },
   "source": [
    "### Utilities"
   ]
  },
  {
   "cell_type": "code",
   "execution_count": null,
   "metadata": {
    "collapsed": false,
    "nbpresent": {
     "id": "b69c4ba7-7020-4211-b11f-6a5f185cbc17"
    }
   },
   "outputs": [],
   "source": [
    "# Regression plot showing predicted gF scores vs original gF scores\n",
    "def regression_plot(x,y,n,title):\n",
    "\n",
    "    # fit a curve to the data using a least squares 1st order polynomial fit\n",
    "    z = np.polyfit(x,y,1)\n",
    "\n",
    "    p = np.poly1d(z)\n",
    "    fit = p(x)\n",
    "\n",
    "    # get the coordinates for the fit curve\n",
    "    c_x = [np.min(x),np.max(x)]\n",
    "    c_y = p(c_x)\n",
    "\n",
    "    # predict y values of origional data using the fit\n",
    "    p_y = z[0] * x + z[1]\n",
    "\n",
    "    # calculate the y-error (residuals)\n",
    "    y_err = y - p_y\n",
    "\n",
    "    # create series of new test x-values to predict for\n",
    "    p_x = np.arange(np.min(x),np.max(x)+1,1)\n",
    "\n",
    "    # now calculate confidence intervals for new test x-series\n",
    "    mean_x = np.mean(x)         # mean of x\n",
    "    DF = n - z.size                            # degrees of freedom\n",
    "    t = stats.t.ppf(0.95,DF)           # used for CI and PI bands\n",
    "    s_err = np.sum(np.power(y_err,2))   # sum of the squares of the residuals\n",
    "\n",
    "    #confs = t * np.sqrt((s_err/(n-2))*(1.0/n + (np.power((p_x-mean_x),2)/((np.sum(np.power(x,2)))-n*(np.power(mean_x,2))))))\n",
    "    confs = t * np.sqrt((s_err/(n-2)) * (1.0/n + (np.power((p_x-mean_x),2)/(np.sum(np.power(x - mean_x,2))))))\n",
    "    # now predict y based on test x-values\n",
    "    p_y = z[0]*p_x+z[1]\n",
    "\n",
    "    # get lower and upper confidence limits based on predicted y and confidence intervals\n",
    "    lower = p_y - abs(confs)\n",
    "    upper = p_y + abs(confs)\n",
    "\n",
    "    # set-up the plot\n",
    "    #plt.axes().set_aspect('equal')\n",
    "    plt.xlabel('Original score')\n",
    "    plt.ylabel('Predicted score')\n",
    "    plt.title(title)\n",
    "\n",
    "    # plot sample data\n",
    "    plt.plot(x,y,'bo')\n",
    "\n",
    "    # plot line of best fit\n",
    "    plt.plot(c_x,c_y,'r-',label='Regression line')\n",
    "\n",
    "    # plot confidence limits\n",
    "    plt.plot(p_x,lower,'b--',label='Lower confidence limit (95%)')\n",
    "    plt.plot(p_x,upper,'b--',label='Upper confidence limit (95%)')\n",
    "\n",
    "    # set coordinate limits\n",
    "    plt.xlim(4,25)\n",
    "    plt.ylim(5,25)\n",
    "\n",
    "    # configure legend\n",
    "    plt.legend(loc=0)\n",
    "    leg = plt.gca().get_legend()\n",
    "    ltext = leg.get_texts()\n",
    "    plt.setp(ltext, fontsize=10)\n",
    "\n",
    "    # add text\n",
    "    rho,p = stats.pearsonr(np.ravel(y),x)\n",
    "    s = 'r={:0.2f}\\np={:1.4f}'.format(rho,p)\n",
    "    plt.text(20, 7, s, fontsize=12)\n",
    "\n",
    "    \n",
    "    \n",
    "def mean_absolute_percentage_error(y_true, y_pred,perc=False):\n",
    "    if perc:\n",
    "        return np.mean(np.abs((y_true - y_pred) / y_true)) * 100 \n",
    "    else:\n",
    "        return np.mean(np.abs((y_true - y_pred) / y_true))\n",
    "    \n",
    "def absolute_percentage_error(y_true, y_pred,perc=False):\n",
    "    if perc:\n",
    "        return np.abs((y_true - y_pred) / y_true) * 100 \n",
    "    else:\n",
    "        return np.abs((y_true - y_pred) / y_true)\n",
    "    \n",
    "def percentage_error(y_true, y_pred,perc=False):\n",
    "    if perc:\n",
    "        return (y_true - y_pred) / y_true * 100 \n",
    "    else:\n",
    "        return (y_true - y_pred) / y_true    \n",
    "    \n",
    "    \n",
    "def plot_hist(data,n_bins,title,xlabel):\n",
    "    plt.hist(data, bins=n_bins)\n",
    "    plt.title(title)\n",
    "    plt.xlabel(xlabel)\n",
    "    plt.ylabel(\"Frequency\")\n",
    "\n",
    "def plot_scatter(x,y,xlabel,ylabel):\n",
    "    plt.plot(x,y,'bo')\n",
    "    plt.axhline(y=0, ls='dashed')\n",
    "    plt.xlabel(xlabel)\n",
    "    plt.ylabel(ylabel)\n",
    "    \n",
    "def plot_bar_h(df,title,rotation):\n",
    "    # Setting the positions and width for the bars\n",
    "    pos = list(range(len(df['pearson r'])))\n",
    "    width = 0.2\n",
    "\n",
    "    # Plotting the bars\n",
    "    fig, ax = plt.subplots(figsize=(20,5))\n",
    "\n",
    "    # Create a bar with pre_score data,\n",
    "    # in position pos,\n",
    "    plt.bar(pos,\n",
    "            #using df['pre_score'] data,\n",
    "            df['pearson r'],\n",
    "            # of width\n",
    "            width,\n",
    "            # with alpha 0.5\n",
    "            alpha=0.5,\n",
    "            # with color\n",
    "            color='#EE3224',\n",
    "            # with label the first value in first_name\n",
    "            label=df['model'].iloc[0])\n",
    "\n",
    "    # Create a bar with mid_score data,\n",
    "    # in position pos + some width buffer,\n",
    "    plt.bar([p + width for p in pos],\n",
    "            #using df['mid_score'] data,\n",
    "            df['r squared'],\n",
    "            # of width\n",
    "            width,\n",
    "            # with alpha 0.5\n",
    "            alpha=0.5,\n",
    "            # with color\n",
    "            color='#F78F1E',\n",
    "            # with label the second value in first_name\n",
    "            label=df['model'].iloc[1])\n",
    "\n",
    "    # Create a bar with post_score data,\n",
    "    # in position pos + some width buffer,\n",
    "    plt.bar([p + width*2 for p in pos],\n",
    "            #using df['post_score'] data,\n",
    "            df['mape'],\n",
    "            # of width\n",
    "            width,\n",
    "            # with alpha 0.5\n",
    "            alpha=0.5,\n",
    "            # with color\n",
    "            color='#FFC222',\n",
    "            # with label the third value in first_name\n",
    "            label=df['model'].iloc[2])\n",
    "\n",
    "    # Set the y axis label\n",
    "    ax.set_ylabel('Score')\n",
    "\n",
    "    # Set the chart's title\n",
    "    ax.set_title(title)\n",
    "\n",
    "    # Set the position of the x ticks\n",
    "    ax.set_xticks([p + 1.5 * width for p in pos])\n",
    "\n",
    "    # Set the labels for the x ticks\n",
    "    ax.set_xticklabels(df['model'],rotation=rotation)\n",
    "\n",
    "    # Setting the x-axis and y-axis limits\n",
    "    plt.xlim(min(pos)-width, max(pos)+width*4)\n",
    "    plt.ylim([-0.1, max(df['pearson r'] + df['r squared'] + df['mape'])] )\n",
    "\n",
    "    # Adding the legend and showing the plot\n",
    "    plt.legend(['Pearson r', 'r squared', 'MAPE'], loc='upper left')\n",
    "    plt.grid()\n",
    "    plt.show()\n",
    "    \n",
    "def plot_bar_v(df,title):\n",
    "    # Setting the positions and width for the bars\n",
    "    pos = list(range(len(df['pearson r'])))\n",
    "    width = 0.2\n",
    "\n",
    "    # Plotting the bars\n",
    "    fig, ax = plt.subplots(figsize=(5,20))\n",
    "\n",
    "    # Create a bar with pre_score data,\n",
    "    # in position pos,\n",
    "    plt.barh(pos,\n",
    "            #using df['pre_score'] data,\n",
    "            df['pearson r'],\n",
    "            # of width\n",
    "            width,\n",
    "            # with alpha 0.5\n",
    "            alpha=0.5,\n",
    "            # with color\n",
    "            color='#EE3224',\n",
    "            # with label the first value in first_name\n",
    "            label=df['model'][0])\n",
    "\n",
    "    # Create a bar with mid_score data,\n",
    "    # in position pos + some width buffer,\n",
    "    plt.barh([p + width for p in pos],\n",
    "            #using df['mid_score'] data,\n",
    "            df['r squared'],\n",
    "            # of width\n",
    "            width,\n",
    "            # with alpha 0.5\n",
    "            alpha=0.5,\n",
    "            # with color\n",
    "            color='#F78F1E',\n",
    "            # with label the second value in first_name\n",
    "            label=df['model'][1])\n",
    "\n",
    "    # Create a bar with post_score data,\n",
    "    # in position pos + some width buffer,\n",
    "    plt.barh([p + width*2 for p in pos],\n",
    "            #using df['post_score'] data,\n",
    "            df['mape'],\n",
    "            # of width\n",
    "            width,\n",
    "            # with alpha 0.5\n",
    "            alpha=0.5,\n",
    "            # with color\n",
    "            color='#FFC222',\n",
    "            # with label the third value in first_name\n",
    "            label=df['model'][2])\n",
    "\n",
    "    # Set the y axis label\n",
    "    #ax.set_ylabel('Model Score')\n",
    "\n",
    "    # Set the chart's title\n",
    "    ax.set_title(title)\n",
    "\n",
    "    # Set the position of the x ticks\n",
    "    ax.set_yticks([p + 1.5 * width for p in pos])\n",
    "\n",
    "    # Set the labels for the x ticks\n",
    "    ax.set_yticklabels(df['model'])\n",
    "\n",
    "    # Setting the x-axis and y-axis limits\n",
    "    plt.ylim(min(pos)-width, max(pos)+width*4)\n",
    "    plt.xlim([-0.1, max(df['pearson r'] + df['r squared'] + df['mape'])] )\n",
    "\n",
    "    # Adding the legend and showing the plot\n",
    "    plt.legend(['Pearson r', 'r squared', 'MAPE'], loc='upper right')\n",
    "    plt.grid()\n"
   ]
  },
  {
   "cell_type": "markdown",
   "metadata": {
    "nbpresent": {
     "id": "d7e51c86-fa96-4e90-888d-6eef9cdd86b7"
    }
   },
   "source": [
    "### Import data"
   ]
  },
  {
   "cell_type": "code",
   "execution_count": null,
   "metadata": {
    "collapsed": false,
    "nbpresent": {
     "id": "0b9abe03-8342-483a-b895-0d4cbba3bac2"
    }
   },
   "outputs": [],
   "source": [
    "finn = sio.loadmat('res_finn.mat')\n",
    "finn_ext = sio.loadmat('res_finn_ext.mat')\n",
    "finn_improved_1 = sio.loadmat('res_finn_improved_1.mat')\n",
    "finn_improved_2 = sio.loadmat('res_finn_improved_2.mat')\n",
    "randforest = sio.loadmat('res_randomforest.mat')\n",
    "randforest_ext = sio.loadmat('res_randomforest_ext.mat')\n",
    "randforest_improved_1 = sio.loadmat('res_randomforest_improved_1.mat')\n",
    "randforest_improved_2 = sio.loadmat('res_randomforest_improved_2.mat')\n",
    "elasticnet = sio.loadmat('res_elasticnet.mat')\n",
    "elasticnet_ext = sio.loadmat('res_elasticnet_ext.mat')\n",
    "elasticnet_improved_1 = sio.loadmat('res_elasticnet_improved_1.mat')\n",
    "elasticnet_improved_2 = sio.loadmat('res_elasticnet_improved_2.mat')\n",
    "svm = sio.loadmat('res_svm.mat')\n",
    "svm_ext = sio.loadmat('res_svm_ext.mat')\n",
    "svm_improved_1 = sio.loadmat('res_svm_improved_1.mat')\n",
    "svm_improved_2 = sio.loadmat('res_svm_improved_2.mat')\n",
    "mars = sio.loadmat('res_mars.mat')\n",
    "mars_ext = sio.loadmat('res_mars_ext.mat')\n",
    "mars_improved_1 = sio.loadmat('res_mars_improved_1.mat')\n",
    "mars_improved_2 = sio.loadmat('res_mars_improved_2.mat')\n",
    "models = {}"
   ]
  },
  {
   "cell_type": "markdown",
   "metadata": {
    "nbpresent": {
     "id": "75d9293d-8e72-4b1b-97b1-6635562ce68d"
    }
   },
   "source": [
    "### Percentage error"
   ]
  },
  {
   "cell_type": "markdown",
   "metadata": {},
   "source": [
    "#### Finn's experiment"
   ]
  },
  {
   "cell_type": "code",
   "execution_count": null,
   "metadata": {
    "collapsed": false,
    "nbpresent": {
     "id": "01e6bf81-432a-4a43-9d2f-e665f2ffbf2b"
    }
   },
   "outputs": [],
   "source": [
    "y_true = np.ravel(finn['finn_score'])\n",
    "y_pred = np.ravel(finn['finn_preds_pos'])\n",
    "ape = absolute_percentage_error(y_true,y_pred)\n",
    "pe = percentage_error(y_true,y_pred)\n",
    "models['finn'] = (y_true,y_pred)\n",
    "plt.figure(figsize=(15, 15))\n",
    "plt.subplot(221)\n",
    "plot_hist(ape,25,'Finn (positive edges)','absolute percentage error %.4f' % np.mean(ape))\n",
    "plt.subplot(222)\n",
    "plot_scatter(y_true,ape,'score','absolute percentage error')\n",
    "plt.subplot(223)\n",
    "plot_scatter(y_true,pe,'score','percentage error')\n",
    "plt.subplot(224)\n",
    "regression_plot(np.ravel(y_true),np.ravel(y_pred),len(y_pred),'Correlation predictions-scores') \n",
    "plt.show()"
   ]
  },
  {
   "cell_type": "markdown",
   "metadata": {},
   "source": [
    "#### Finn's experiment on extended data set"
   ]
  },
  {
   "cell_type": "code",
   "execution_count": null,
   "metadata": {
    "collapsed": false,
    "nbpresent": {
     "id": "855398ae-9477-4ce8-9fb0-630bd66f09c7"
    }
   },
   "outputs": [],
   "source": [
    "y_true = np.ravel(finn_ext['finn_ext_score'])\n",
    "y_pred = np.ravel(finn_ext['finn_ext_preds_pos'])\n",
    "ape = absolute_percentage_error(y_true,y_pred)\n",
    "pe = percentage_error(y_true,y_pred)\n",
    "models['finn_ext'] = (y_true,y_pred)\n",
    "plt.figure(figsize=(15, 15))\n",
    "plt.subplot(221)\n",
    "plot_hist(ape,25,'Finn extended (positive edges)','absolute percentage error %.4f' % np.mean(ape))\n",
    "plt.subplot(222)\n",
    "plot_scatter(y_true,ape,'score','absolute percentage error')\n",
    "plt.subplot(223)\n",
    "plot_scatter(y_true,pe,'score','percentage error')\n",
    "plt.subplot(224)\n",
    "regression_plot(np.ravel(y_true),np.ravel(y_pred),len(y_pred),'Correlation predictions-scores') \n",
    "plt.show()"
   ]
  },
  {
   "cell_type": "markdown",
   "metadata": {},
   "source": [
    "#### Finn's experiment on Rest Session 1 (improved preprocessing)"
   ]
  },
  {
   "cell_type": "code",
   "execution_count": null,
   "metadata": {
    "collapsed": false,
    "nbpresent": {
     "id": "0cf883f4-8f04-4106-95bd-5ab7339d1f3b"
    }
   },
   "outputs": [],
   "source": [
    "y_true = np.ravel(finn_improved_1['finn_improved_1_score'])\n",
    "y_pred = np.ravel(finn_improved_1['finn_improved_1_preds_pos'])\n",
    "ape = absolute_percentage_error(y_true,y_pred)\n",
    "pe = percentage_error(y_true,y_pred)\n",
    "models['finn_improved_1'] = (y_true,y_pred)\n",
    "plt.figure(figsize=(15, 15))\n",
    "plt.subplot(221)\n",
    "plot_hist(ape,25,'Finn improved Rest1 (positive edges)','absolute percentage error %.4f' % np.mean(ape))\n",
    "plt.subplot(222)\n",
    "plot_scatter(y_true,ape,'score','absolute percentage error')\n",
    "plt.subplot(223)\n",
    "plot_scatter(y_true,pe,'score','percentage error')\n",
    "plt.subplot(224)\n",
    "regression_plot(np.ravel(y_true),np.ravel(y_pred),len(y_pred),'Correlation predictions-scores') \n",
    "plt.show()"
   ]
  },
  {
   "cell_type": "markdown",
   "metadata": {},
   "source": [
    "#### Finn's experiment on Rest Session 2 (improved preprocessing)"
   ]
  },
  {
   "cell_type": "code",
   "execution_count": null,
   "metadata": {
    "collapsed": false,
    "nbpresent": {
     "id": "31884ee9-02bf-454b-9aec-5ae8579e0929"
    },
    "scrolled": false
   },
   "outputs": [],
   "source": [
    "y_true = np.ravel(finn_improved_2['finn_improved_2_score'])\n",
    "y_pred = np.ravel(finn_improved_2['finn_improved_2_preds_pos'])\n",
    "ape = absolute_percentage_error(y_true,y_pred)\n",
    "pe = percentage_error(y_true,y_pred)\n",
    "models['finn_improved_2'] = (y_true,y_pred)\n",
    "plt.figure(figsize=(15, 15))\n",
    "plt.subplot(221)\n",
    "plot_hist(ape,25,'Finn improved Rest2 (positive edges)','absolute percentage error %.4f' % np.mean(ape))\n",
    "plt.subplot(222)\n",
    "plot_scatter(y_true,ape,'score','absolute percentage error')\n",
    "plt.subplot(223)\n",
    "plot_scatter(y_true,pe,'score','percentage error')\n",
    "plt.subplot(224)\n",
    "regression_plot(np.ravel(y_true),np.ravel(y_pred),len(y_pred),'Correlation predictions-scores') \n",
    "plt.show()"
   ]
  },
  {
   "cell_type": "markdown",
   "metadata": {},
   "source": [
    "#### Random Forest on Finn's data"
   ]
  },
  {
   "cell_type": "code",
   "execution_count": null,
   "metadata": {
    "collapsed": false,
    "nbpresent": {
     "id": "5f69ee53-9934-4955-9271-0f7d6a489075"
    }
   },
   "outputs": [],
   "source": [
    "y_true = np.ravel(finn['finn_score'])\n",
    "y_pred = np.ravel(randforest['rf_preds_allfeat'])\n",
    "ape = absolute_percentage_error(y_true,y_pred)\n",
    "pe = percentage_error(y_true,y_pred)\n",
    "models['randforest'] = (y_true,y_pred)\n",
    "plt.figure(figsize=(15, 15))\n",
    "plt.subplot(221)\n",
    "plot_hist(ape,25,'Random Forest','absolute percentage error %.4f' % np.mean(ape))\n",
    "plt.subplot(222)\n",
    "plot_scatter(y_true,ape,'score','absolute percentage error')\n",
    "plt.subplot(223)\n",
    "plot_scatter(y_true,pe,'score','percentage error')\n",
    "plt.subplot(224)\n",
    "regression_plot(np.ravel(y_true),np.ravel(y_pred),len(y_pred),'Correlation predictions-scores') \n",
    "plt.show()"
   ]
  },
  {
   "cell_type": "markdown",
   "metadata": {},
   "source": [
    "#### Random Forest on extended data set"
   ]
  },
  {
   "cell_type": "code",
   "execution_count": null,
   "metadata": {
    "collapsed": false
   },
   "outputs": [],
   "source": [
    "y_true = np.ravel(finn_ext['finn_ext_score'])\n",
    "y_pred = np.ravel(randforest_ext['rf_ext_preds_allfeat'])\n",
    "ape = absolute_percentage_error(y_true,y_pred)\n",
    "pe = percentage_error(y_true,y_pred)\n",
    "models['randforest_ext'] = (y_true,y_pred)\n",
    "plt.figure(figsize=(15, 15))\n",
    "plt.subplot(221)\n",
    "plot_hist(ape,25,'Random Forest on extended data set','absolute percentage error %.4f' % np.mean(ape))\n",
    "plt.subplot(222)\n",
    "plot_scatter(y_true,ape,'score','absolute percentage error')\n",
    "plt.subplot(223)\n",
    "plot_scatter(y_true,pe,'score','percentage error')\n",
    "plt.subplot(224)\n",
    "regression_plot(np.ravel(y_true),np.ravel(y_pred),len(y_pred),'Correlation predictions-scores') \n",
    "plt.show()"
   ]
  },
  {
   "cell_type": "markdown",
   "metadata": {},
   "source": [
    "#### Random Forest on Rest Session 1 (improved preprocessing)"
   ]
  },
  {
   "cell_type": "code",
   "execution_count": null,
   "metadata": {
    "collapsed": false
   },
   "outputs": [],
   "source": [
    "y_true = np.ravel(finn_improved_1['finn_improved_1_score'])\n",
    "y_pred = np.ravel(randforest_improved_1['rf_improved_1_preds_allfeat'])\n",
    "ape = absolute_percentage_error(y_true,y_pred)\n",
    "pe = percentage_error(y_true,y_pred)\n",
    "models['randforest_improved_1'] = (y_true,y_pred)\n",
    "plt.figure(figsize=(15, 15))\n",
    "plt.subplot(221)\n",
    "plot_hist(ape,25,'Random Forest on Rest 1 (improved preprocessing)','absolute percentage error %.4f' % np.mean(ape))\n",
    "plt.subplot(222)\n",
    "plot_scatter(y_true,ape,'score','absolute percentage error')\n",
    "plt.subplot(223)\n",
    "plot_scatter(y_true,pe,'score','percentage error')\n",
    "plt.subplot(224)\n",
    "regression_plot(np.ravel(y_true),np.ravel(y_pred),len(y_pred),'Correlation predictions-scores') \n",
    "plt.show()"
   ]
  },
  {
   "cell_type": "markdown",
   "metadata": {},
   "source": [
    "#### Random Forest on Rest Session 2 (improved preprocessing)"
   ]
  },
  {
   "cell_type": "code",
   "execution_count": null,
   "metadata": {
    "collapsed": false
   },
   "outputs": [],
   "source": [
    "y_true = np.ravel(finn_improved_2['finn_improved_2_score'])\n",
    "y_pred = np.ravel(randforest_improved_2['rf_improved_2_preds_allfeat'])\n",
    "ape = absolute_percentage_error(y_true,y_pred)\n",
    "pe = percentage_error(y_true,y_pred)\n",
    "models['randforest_improved_2'] = (y_true,y_pred)\n",
    "plt.figure(figsize=(15, 15))\n",
    "plt.subplot(221)\n",
    "plot_hist(ape,25,'Random Forest on Rest 2 (improved preprocessing)','absolute percentage error %.4f' % np.mean(ape))\n",
    "plt.subplot(222)\n",
    "plot_scatter(y_true,ape,'score','absolute percentage error')\n",
    "plt.subplot(223)\n",
    "plot_scatter(y_true,pe,'score','percentage error')\n",
    "plt.subplot(224)\n",
    "regression_plot(np.ravel(y_true),np.ravel(y_pred),len(y_pred),'Correlation predictions-scores') \n",
    "plt.show()"
   ]
  },
  {
   "cell_type": "markdown",
   "metadata": {},
   "source": [
    "#### PCA + Random Forest on Finn's data"
   ]
  },
  {
   "cell_type": "code",
   "execution_count": null,
   "metadata": {
    "collapsed": false,
    "nbpresent": {
     "id": "97433717-d14a-406e-8413-45d2710bd7a6"
    },
    "scrolled": false
   },
   "outputs": [],
   "source": [
    "y_true = np.ravel(finn['finn_score'])\n",
    "y_pred = np.ravel(randforest['rf_preds_pca_train'])\n",
    "ape = absolute_percentage_error(y_true,y_pred)\n",
    "pe = percentage_error(y_true,y_pred)\n",
    "models['randforest+pca'] = (y_true,y_pred)\n",
    "plt.figure(figsize=(15, 15))\n",
    "plt.subplot(221)\n",
    "plot_hist(ape,25,'Random Forest + PCA','absolute percentage error %.4f' % np.mean(ape))\n",
    "plt.subplot(222)\n",
    "plot_scatter(y_true,ape,'score','absolute percentage error')\n",
    "plt.subplot(223)\n",
    "plot_scatter(y_true,pe,'score','percentage error')\n",
    "plt.subplot(224)\n",
    "regression_plot(np.ravel(y_true),np.ravel(y_pred),len(y_pred),'Correlation predictions-scores') \n",
    "plt.show()"
   ]
  },
  {
   "cell_type": "markdown",
   "metadata": {},
   "source": [
    "#### PCA + Random Forest on extended data set"
   ]
  },
  {
   "cell_type": "code",
   "execution_count": null,
   "metadata": {
    "collapsed": false,
    "nbpresent": {
     "id": "2da024a4-9a53-4d62-8e10-e28c77a90abb"
    },
    "scrolled": false
   },
   "outputs": [],
   "source": [
    "y_true = np.ravel(finn_ext['finn_ext_score'])\n",
    "y_pred = np.ravel(randforest_ext['rf_ext_preds_pca_train'])\n",
    "pe = percentage_error(y_true,y_pred)\n",
    "ape = absolute_percentage_error(y_true,y_pred)\n",
    "models['randforest+pca_ext'] = (y_true,y_pred)\n",
    "plt.figure(figsize=(15, 15))\n",
    "plt.subplot(221)\n",
    "plot_hist(ape,25,'Random Forest + PCA (extended data set)','absolute percentage error %.4f' % np.mean(ape))\n",
    "plt.subplot(222)\n",
    "plot_scatter(y_true,ape,'score','absolute percentage error')\n",
    "plt.subplot(223)\n",
    "plot_scatter(y_true,pe,'score','percentage error')\n",
    "plt.subplot(224)\n",
    "regression_plot(np.ravel(y_true),np.ravel(y_pred),len(y_pred),'Correlation predictions-scores') \n",
    "plt.show()"
   ]
  },
  {
   "cell_type": "markdown",
   "metadata": {},
   "source": [
    "#### PCA + Random Forest on Rest Session 1 (improved preprocessing)"
   ]
  },
  {
   "cell_type": "code",
   "execution_count": null,
   "metadata": {
    "collapsed": false,
    "nbpresent": {
     "id": "561ade68-fd2b-42b6-bc13-0b1f1acc4359"
    },
    "scrolled": false
   },
   "outputs": [],
   "source": [
    "y_true = np.ravel(finn_improved_1['finn_improved_1_score'])\n",
    "y_pred = np.ravel(randforest_improved_1['rf_improved_1_preds_pca_train'])\n",
    "pe = percentage_error(y_true,y_pred)\n",
    "ape = absolute_percentage_error(y_true,y_pred)\n",
    "models['randforest+pca_improved_1'] = (y_true,y_pred)\n",
    "plt.figure(figsize=(15, 15))\n",
    "plt.subplot(221)\n",
    "plot_hist(ape,25,'Random Forest + PCA on Rest1 (improved preprocessing)','absolute percentage error %.4f' % np.mean(ape))\n",
    "plt.subplot(222)\n",
    "plot_scatter(y_true,ape,'score','absolute percentage error')\n",
    "plt.subplot(223)\n",
    "plot_scatter(y_true,pe,'score','percentage error')\n",
    "plt.subplot(224)\n",
    "regression_plot(np.ravel(y_true),np.ravel(y_pred),len(y_pred),'Correlation predictions-scores') \n",
    "plt.show()"
   ]
  },
  {
   "cell_type": "markdown",
   "metadata": {},
   "source": [
    "#### PCA + Random Forest on Rest Session 2 (improved preprocessing)"
   ]
  },
  {
   "cell_type": "code",
   "execution_count": null,
   "metadata": {
    "collapsed": false,
    "nbpresent": {
     "id": "5fc0bc75-8c91-4a60-ae7a-2267429c0502"
    },
    "scrolled": false
   },
   "outputs": [],
   "source": [
    "y_true = np.ravel(finn_improved_2['finn_improved_2_score'])\n",
    "y_pred = np.ravel(randforest_improved_2['rf_improved_2_preds_pca_train'])\n",
    "pe = percentage_error(y_true,y_pred)\n",
    "ape = absolute_percentage_error(y_true,y_pred)\n",
    "models['randforest+pca_improved_2'] = (y_true,y_pred)\n",
    "plt.figure(figsize=(15, 15))\n",
    "plt.subplot(221)\n",
    "plot_hist(ape,25,'Random Forest + PCA on Rest2 (improved preprocessing)','absolute percentage error %.4f' % np.mean(ape))\n",
    "plt.subplot(222)\n",
    "plot_scatter(y_true,ape,'score','absolute percentage error')\n",
    "plt.subplot(223)\n",
    "plot_scatter(y_true,pe,'score','percentage error')\n",
    "plt.subplot(224)\n",
    "regression_plot(np.ravel(y_true),np.ravel(y_pred),len(y_pred),'Correlation predictions-scores') \n",
    "plt.show()"
   ]
  },
  {
   "cell_type": "markdown",
   "metadata": {},
   "source": [
    "#### Elastic Net on Finn's data"
   ]
  },
  {
   "cell_type": "code",
   "execution_count": null,
   "metadata": {
    "collapsed": false,
    "scrolled": false
   },
   "outputs": [],
   "source": [
    "y_true = np.ravel(elasticnet['score'])\n",
    "y_pred = np.ravel(elasticnet['res_elasticnet'])\n",
    "pe = percentage_error(y_true,y_pred)\n",
    "ape = absolute_percentage_error(y_true,y_pred)\n",
    "models['elasticnet'] = (y_true,y_pred)\n",
    "plt.figure(figsize=(15, 15))\n",
    "plt.subplot(221)\n",
    "plot_hist(ape,25,'Elastic Net on Finn data','absolute percentage error %.4f' % np.mean(ape))\n",
    "plt.subplot(222)\n",
    "plot_scatter(y_true,ape,'score','absolute percentage error')\n",
    "plt.subplot(223)\n",
    "plot_scatter(y_true,pe,'score','percentage error')\n",
    "plt.subplot(224)\n",
    "regression_plot(np.ravel(y_true),np.ravel(y_pred),len(y_pred),'Correlation predictions-scores') \n",
    "plt.show()"
   ]
  },
  {
   "cell_type": "markdown",
   "metadata": {},
   "source": [
    "#### Elastic Net on extended data set"
   ]
  },
  {
   "cell_type": "code",
   "execution_count": null,
   "metadata": {
    "collapsed": false,
    "nbpresent": {
     "id": "28576d7c-5d32-48a7-9472-9fa0bf038271"
    },
    "scrolled": false
   },
   "outputs": [],
   "source": [
    "y_true = np.ravel(elasticnet_ext['score'])\n",
    "y_pred = np.ravel(elasticnet_ext['res_elasticnet'])\n",
    "pe = percentage_error(y_true,y_pred)\n",
    "ape = absolute_percentage_error(y_true,y_pred)\n",
    "models['elasticnet_ext'] = (y_true,y_pred)\n",
    "plt.figure(figsize=(15, 15))\n",
    "plt.subplot(221)\n",
    "plot_hist(ape,25,'Elastic Net on extended data','absolute percentage error %.4f' % np.mean(ape))\n",
    "plt.subplot(222)\n",
    "plot_scatter(y_true,ape,'score','absolute percentage error')\n",
    "plt.subplot(223)\n",
    "plot_scatter(y_true,pe,'score','percentage error')\n",
    "plt.subplot(224)\n",
    "regression_plot(np.ravel(y_true),np.ravel(y_pred),len(y_pred),'Correlation predictions-scores') \n",
    "plt.show()"
   ]
  },
  {
   "cell_type": "markdown",
   "metadata": {},
   "source": [
    "#### Elastic Net on Rest Session 1 (improved preprocessing)"
   ]
  },
  {
   "cell_type": "code",
   "execution_count": null,
   "metadata": {
    "collapsed": false,
    "nbpresent": {
     "id": "11c6a379-4d09-462f-90b8-6c4939f12800"
    },
    "scrolled": false
   },
   "outputs": [],
   "source": [
    "y_true = np.ravel(elasticnet_improved_1['score'])\n",
    "y_pred = np.ravel(elasticnet_improved_1['res_elasticnet'])\n",
    "pe = percentage_error(y_true,y_pred)\n",
    "ape = absolute_percentage_error(y_true,y_pred)\n",
    "models['elasticnet_improved_1'] = (y_true,y_pred)\n",
    "plt.figure(figsize=(15, 15))\n",
    "plt.subplot(221)\n",
    "plot_hist(ape,25,'Elastic Net on Rest1 (improved preprocessing)','absolute percentage error %.4f' % np.mean(ape))\n",
    "plt.subplot(222)\n",
    "plot_scatter(y_true,ape,'score','absolute percentage error')\n",
    "plt.subplot(223)\n",
    "plot_scatter(y_true,pe,'score','percentage error')\n",
    "plt.subplot(224)\n",
    "regression_plot(np.ravel(y_true),np.ravel(y_pred),len(y_pred),'Correlation predictions-scores') \n",
    "plt.show()"
   ]
  },
  {
   "cell_type": "markdown",
   "metadata": {},
   "source": [
    "#### Elastic Net on Rest Session 2 (improved preprocessing)"
   ]
  },
  {
   "cell_type": "code",
   "execution_count": null,
   "metadata": {
    "collapsed": false,
    "nbpresent": {
     "id": "c9a2120c-e0c1-4145-a176-eebc8a478f07"
    },
    "scrolled": true
   },
   "outputs": [],
   "source": [
    "y_true = np.ravel(elasticnet_improved_2['score'])\n",
    "y_pred = np.ravel(elasticnet_improved_2['res_elasticnet'])\n",
    "pe = percentage_error(y_true,y_pred)\n",
    "ape = absolute_percentage_error(y_true,y_pred)\n",
    "models['elasticnet_improved_2'] = (y_true,y_pred)\n",
    "plt.figure(figsize=(15, 15))\n",
    "plt.subplot(221)\n",
    "plot_hist(ape,25,'Elastic Net on Rest2 (improved preprocessing)','absolute percentage error %.4f' % np.mean(ape))\n",
    "plt.subplot(222)\n",
    "plot_scatter(y_true,ape,'score','absolute percentage error')\n",
    "plt.subplot(223)\n",
    "plot_scatter(y_true,pe,'score','percentage error')\n",
    "plt.subplot(224)\n",
    "regression_plot(np.ravel(y_true),np.ravel(y_pred),len(y_pred),'Correlation predictions-scores') \n",
    "plt.show()"
   ]
  },
  {
   "cell_type": "markdown",
   "metadata": {},
   "source": [
    "#### Lasso on Finn's data"
   ]
  },
  {
   "cell_type": "code",
   "execution_count": null,
   "metadata": {
    "collapsed": false,
    "scrolled": false
   },
   "outputs": [],
   "source": [
    "y_true = np.ravel(elasticnet['score'])\n",
    "y_pred = np.ravel(elasticnet['res_lasso'])\n",
    "pe = percentage_error(y_true,y_pred)\n",
    "ape = absolute_percentage_error(y_true,y_pred)\n",
    "models['lasso'] = (y_true,y_pred)\n",
    "plt.figure(figsize=(15, 15))\n",
    "plt.subplot(221)\n",
    "plot_hist(ape,25,'Lasso on Finn data','absolute percentage error %.4f' % np.mean(ape))\n",
    "plt.subplot(222)\n",
    "plot_scatter(y_true,ape,'score','absolute percentage error')\n",
    "plt.subplot(223)\n",
    "plot_scatter(y_true,pe,'score','percentage error')\n",
    "plt.subplot(224)\n",
    "regression_plot(np.ravel(y_true),np.ravel(y_pred),len(y_pred),'Correlation predictions-scores') \n",
    "plt.show()"
   ]
  },
  {
   "cell_type": "markdown",
   "metadata": {},
   "source": [
    "#### Lasso on extended data set"
   ]
  },
  {
   "cell_type": "code",
   "execution_count": null,
   "metadata": {
    "collapsed": false,
    "scrolled": false
   },
   "outputs": [],
   "source": [
    "y_true = np.ravel(elasticnet_ext['score'])\n",
    "y_pred = np.ravel(elasticnet_ext['res_lasso'])\n",
    "pe = percentage_error(y_true,y_pred)\n",
    "ape = absolute_percentage_error(y_true,y_pred)\n",
    "models['lasso_ext'] = (y_true,y_pred)\n",
    "plt.figure(figsize=(15, 15))\n",
    "plt.subplot(221)\n",
    "plot_hist(ape,25,'Lasso on extended data','absolute percentage error %.4f' % np.mean(ape))\n",
    "plt.subplot(222)\n",
    "plot_scatter(y_true,ape,'score','absolute percentage error')\n",
    "plt.subplot(223)\n",
    "plot_scatter(y_true,pe,'score','percentage error')\n",
    "plt.subplot(224)\n",
    "regression_plot(np.ravel(y_true),np.ravel(y_pred),len(y_pred),'Correlation predictions-scores') \n",
    "plt.show()"
   ]
  },
  {
   "cell_type": "markdown",
   "metadata": {},
   "source": [
    "#### Lasso on Rest Session 1 (improved preprocessing)"
   ]
  },
  {
   "cell_type": "code",
   "execution_count": null,
   "metadata": {
    "collapsed": false,
    "nbpresent": {
     "id": "14b5e6e8-7bc9-4b97-9b69-0375847e298d"
    },
    "scrolled": false
   },
   "outputs": [],
   "source": [
    "y_true = np.ravel(elasticnet_improved_1['score'])\n",
    "y_pred = np.ravel(elasticnet_improved_1['res_lasso'])\n",
    "pe = percentage_error(y_true,y_pred)\n",
    "ape = absolute_percentage_error(y_true,y_pred)\n",
    "models['lasso_improved_1'] = (y_true,y_pred)\n",
    "plt.figure(figsize=(15, 15))\n",
    "plt.subplot(221)\n",
    "plot_hist(ape,25,'Lasso on Rest1 (improved preprocessing)','absolute percentage error %.4f' % np.mean(ape))\n",
    "plt.subplot(222)\n",
    "plot_scatter(y_true,ape,'score','absolute percentage error')\n",
    "plt.subplot(223)\n",
    "plot_scatter(y_true,pe,'score','percentage error')\n",
    "plt.subplot(224)\n",
    "regression_plot(np.ravel(y_true),np.ravel(y_pred),len(y_pred),'Correlation predictions-scores') \n",
    "plt.show()"
   ]
  },
  {
   "cell_type": "markdown",
   "metadata": {},
   "source": [
    "#### Lasso on Rest Session 2 (improved preprocessing)"
   ]
  },
  {
   "cell_type": "code",
   "execution_count": null,
   "metadata": {
    "collapsed": false,
    "nbpresent": {
     "id": "094c6a85-27fd-4ccf-b366-ac5b3ffd200f"
    },
    "scrolled": false
   },
   "outputs": [],
   "source": [
    "y_true = np.ravel(elasticnet_improved_2['score'])\n",
    "y_pred = np.ravel(elasticnet_improved_2['res_lasso'])\n",
    "pe = percentage_error(y_true,y_pred)\n",
    "ape = absolute_percentage_error(y_true,y_pred)\n",
    "models['lasso_improved_2'] = (y_true,y_pred)\n",
    "plt.figure(figsize=(15, 15))\n",
    "plt.subplot(221)\n",
    "plot_hist(ape,25,'Lasso on Rest2 (improved preprocessing)','absolute percentage error %.4f' % np.mean(ape))\n",
    "plt.subplot(222)\n",
    "plot_scatter(y_true,ape,'score','absolute percentage error')\n",
    "plt.subplot(223)\n",
    "plot_scatter(y_true,pe,'score','percentage error')\n",
    "plt.subplot(224)\n",
    "regression_plot(np.ravel(y_true),np.ravel(y_pred),len(y_pred),'Correlation predictions-scores') \n",
    "plt.show()"
   ]
  },
  {
   "cell_type": "markdown",
   "metadata": {},
   "source": [
    "#### SVM on Finn's data set"
   ]
  },
  {
   "cell_type": "code",
   "execution_count": null,
   "metadata": {
    "collapsed": false,
    "nbpresent": {
     "id": "74d9a764-f2e9-44b5-8ba3-ca470d2be813"
    },
    "scrolled": false
   },
   "outputs": [],
   "source": [
    "y_true = np.ravel(svm['score'])\n",
    "y_pred = np.ravel(svm['svm_preds'])\n",
    "pe = percentage_error(y_true,y_pred)\n",
    "ape = absolute_percentage_error(y_true,y_pred)\n",
    "models['svm'] = (y_true,y_pred)\n",
    "plt.figure(figsize=(15, 15))\n",
    "plt.subplot(221)\n",
    "plot_hist(ape,25,'SVM','absolute percentage error %.4f' % np.mean(ape))\n",
    "plt.subplot(222)\n",
    "plot_scatter(y_true,ape,'score','absolute percentage error')\n",
    "plt.subplot(223)\n",
    "plot_scatter(y_true,pe,'score','percentage error')\n",
    "plt.subplot(224)\n",
    "regression_plot(np.ravel(y_true),np.ravel(y_pred),len(y_pred),'Correlation predictions-scores') \n",
    "plt.show()"
   ]
  },
  {
   "cell_type": "markdown",
   "metadata": {},
   "source": [
    "#### SVM on extended data set"
   ]
  },
  {
   "cell_type": "code",
   "execution_count": null,
   "metadata": {
    "collapsed": false,
    "nbpresent": {
     "id": "1e5bd372-3d04-434c-b2e9-272bd201c04f"
    },
    "scrolled": false
   },
   "outputs": [],
   "source": [
    "y_true = np.ravel(svm_ext['score'])\n",
    "y_pred = np.ravel(svm_ext['svm_preds'])\n",
    "pe = percentage_error(y_true,y_pred)\n",
    "ape = absolute_percentage_error(y_true,y_pred)\n",
    "models['svm_ext'] = (y_true,y_pred)\n",
    "plt.figure(figsize=(15, 15))\n",
    "plt.subplot(221)\n",
    "plot_hist(ape,25,'SVM (extendend data set)','absolute percentage error %.4f' % np.mean(ape))\n",
    "plt.subplot(222)\n",
    "plot_scatter(y_true,ape,'score','absolute percentage error')\n",
    "plt.subplot(223)\n",
    "plot_scatter(y_true,pe,'score','percentage error')\n",
    "plt.subplot(224)\n",
    "regression_plot(np.ravel(y_true),np.ravel(y_pred),len(y_pred),'Correlation predictions-scores') \n",
    "plt.show()"
   ]
  },
  {
   "cell_type": "markdown",
   "metadata": {},
   "source": [
    "#### SVM on Rest Session 1 (improved preprocessing)"
   ]
  },
  {
   "cell_type": "code",
   "execution_count": null,
   "metadata": {
    "collapsed": false,
    "scrolled": false
   },
   "outputs": [],
   "source": [
    "y_true = np.ravel(svm_improved_1['score'])\n",
    "y_pred = np.ravel(svm_improved_1['svm_preds_improved_1'])\n",
    "pe = percentage_error(y_true,y_pred)\n",
    "ape = absolute_percentage_error(y_true,y_pred)\n",
    "models['svm_improved_1'] = (y_true,y_pred)\n",
    "plt.figure(figsize=(15, 15))\n",
    "plt.subplot(221)\n",
    "plot_hist(ape,25,'SVM on Rest 1 (improved pewprocessing)','absolute percentage error %.4f' % np.mean(ape))\n",
    "plt.subplot(222)\n",
    "plot_scatter(y_true,ape,'score','absolute percentage error')\n",
    "plt.subplot(223)\n",
    "plot_scatter(y_true,pe,'score','percentage error')\n",
    "plt.subplot(224)\n",
    "regression_plot(np.ravel(y_true),np.ravel(y_pred),len(y_pred),'Correlation predictions-scores') \n",
    "plt.show()"
   ]
  },
  {
   "cell_type": "markdown",
   "metadata": {},
   "source": [
    "#### SVM on Rest Session 2 (improved preprocessing)"
   ]
  },
  {
   "cell_type": "code",
   "execution_count": null,
   "metadata": {
    "collapsed": false,
    "scrolled": false
   },
   "outputs": [],
   "source": [
    "y_true = np.ravel(svm_improved_2['score'])\n",
    "y_pred = np.ravel(svm_improved_2['svm_preds_improved_2'])\n",
    "pe = percentage_error(y_true,y_pred)\n",
    "ape = absolute_percentage_error(y_true,y_pred)\n",
    "models['svm_improved_2'] = (y_true,y_pred)\n",
    "plt.figure(figsize=(15, 15))\n",
    "plt.subplot(221)\n",
    "plot_hist(ape,25,'SVM on Rest 2 (improved preprocessing)','absolute percentage error %.4f' % np.mean(ape))\n",
    "plt.subplot(222)\n",
    "plot_scatter(y_true,ape,'score','absolute percentage error')\n",
    "plt.subplot(223)\n",
    "plot_scatter(y_true,pe,'score','percentage error')\n",
    "plt.subplot(224)\n",
    "regression_plot(np.ravel(y_true),np.ravel(y_pred),len(y_pred),'Correlation predictions-scores') \n",
    "plt.show()"
   ]
  },
  {
   "cell_type": "markdown",
   "metadata": {},
   "source": [
    "#### MARS on Finn's data set"
   ]
  },
  {
   "cell_type": "code",
   "execution_count": null,
   "metadata": {
    "collapsed": false,
    "scrolled": false
   },
   "outputs": [],
   "source": [
    "y_true = np.ravel(mars['score'])\n",
    "y_pred = np.ravel(mars['mars_preds'])\n",
    "pe = percentage_error(y_true,y_pred)\n",
    "ape = absolute_percentage_error(y_true,y_pred)\n",
    "models['mars'] = (y_true,y_pred)\n",
    "plt.figure(figsize=(15, 15))\n",
    "plt.subplot(221)\n",
    "plot_hist(ape,25,'MARS','absolute percentage error %.4f' % np.mean(ape))\n",
    "plt.subplot(222)\n",
    "plot_scatter(y_true,ape,'score','absolute percentage error')\n",
    "plt.subplot(223)\n",
    "plot_scatter(y_true,pe,'score','percentage error')\n",
    "plt.subplot(224)\n",
    "regression_plot(np.ravel(y_true),np.ravel(y_pred),len(y_pred),'Correlation predictions-scores') \n",
    "plt.show()"
   ]
  },
  {
   "cell_type": "markdown",
   "metadata": {},
   "source": [
    "#### MARS on extended data set"
   ]
  },
  {
   "cell_type": "code",
   "execution_count": null,
   "metadata": {
    "collapsed": false,
    "scrolled": false
   },
   "outputs": [],
   "source": [
    "y_true = np.ravel(mars_ext['score'])\n",
    "y_pred = np.ravel(mars_ext['mars_ext_preds'])\n",
    "pe = percentage_error(y_true,y_pred)\n",
    "ape = absolute_percentage_error(y_true,y_pred)\n",
    "models['mars_ext'] = (y_true,y_pred)\n",
    "plt.figure(figsize=(15, 15))\n",
    "plt.subplot(221)\n",
    "plot_hist(ape,25,'MARS (extended data set)','absolute percentage error %.4f' % np.mean(ape))\n",
    "plt.subplot(222)\n",
    "plot_scatter(y_true,ape,'score','absolute percentage error')\n",
    "plt.subplot(223)\n",
    "plot_scatter(y_true,pe,'score','percentage error')\n",
    "plt.subplot(224)\n",
    "regression_plot(np.ravel(y_true),np.ravel(y_pred),len(y_pred),'Correlation predictions-scores') \n",
    "plt.show()"
   ]
  },
  {
   "cell_type": "markdown",
   "metadata": {},
   "source": [
    "#### MARS on Rest Session 1 (improved preprocessing)"
   ]
  },
  {
   "cell_type": "code",
   "execution_count": null,
   "metadata": {
    "collapsed": false,
    "scrolled": false
   },
   "outputs": [],
   "source": [
    "y_true = np.ravel(mars_improved_1['score'])\n",
    "y_pred = np.ravel(mars_improved_1['mars_improved'])\n",
    "pe = percentage_error(y_true,y_pred)\n",
    "ape = absolute_percentage_error(y_true,y_pred)\n",
    "models['mars_improved_1'] = (y_true,y_pred)\n",
    "plt.figure(figsize=(15, 15))\n",
    "plt.subplot(221)\n",
    "plot_hist(ape,25,'MARS on Rest 1 (improved preprocessing)','absolute percentage error %.4f' % np.mean(ape))\n",
    "plt.subplot(222)\n",
    "plot_scatter(y_true,ape,'score','absolute percentage error')\n",
    "plt.subplot(223)\n",
    "plot_scatter(y_true,pe,'score','percentage error')\n",
    "plt.subplot(224)\n",
    "regression_plot(np.ravel(y_true),np.ravel(y_pred),len(y_pred),'Correlation predictions-scores') \n",
    "plt.show()"
   ]
  },
  {
   "cell_type": "markdown",
   "metadata": {},
   "source": [
    "#### MARS on Rest Session 2 (improved preprocessing)"
   ]
  },
  {
   "cell_type": "code",
   "execution_count": null,
   "metadata": {
    "collapsed": false,
    "scrolled": false
   },
   "outputs": [],
   "source": [
    "y_true = np.ravel(mars_improved_2['score'])\n",
    "y_pred = np.ravel(mars_improved_2['mars_improved'])\n",
    "pe = percentage_error(y_true,y_pred)\n",
    "ape = absolute_percentage_error(y_true,y_pred)\n",
    "models['mars_improved_2'] = (y_true,y_pred)\n",
    "plt.figure(figsize=(15, 15))\n",
    "plt.subplot(221)\n",
    "plot_hist(ape,25,'MARS on Rest 2 (improved preprocessing)','absolute percentage error %.4f' % np.mean(ape))\n",
    "plt.subplot(222)\n",
    "plot_scatter(y_true,ape,'score','absolute percentage error')\n",
    "plt.subplot(223)\n",
    "plot_scatter(y_true,pe,'score','percentage error')\n",
    "plt.subplot(224)\n",
    "regression_plot(np.ravel(y_true),np.ravel(y_pred),len(y_pred),'Correlation predictions-scores') \n",
    "plt.show()"
   ]
  },
  {
   "cell_type": "markdown",
   "metadata": {
    "nbpresent": {
     "id": "0bc05a4e-efd7-49cb-bd28-e7bdefba6987"
    }
   },
   "source": [
    "### Pearson's r, r<sup>2</sup>, MAPE\n",
    "Comparison among model with respect to:\n",
    "- Pearson's correlation coefficient between predictions and original scores\n",
    "- The coefficient of determination r<sup>2</sup> (proportion of explained variance)\n",
    "- MAPE: Mean Absolute Percentage Error"
   ]
  },
  {
   "cell_type": "code",
   "execution_count": null,
   "metadata": {
    "collapsed": false,
    "nbpresent": {
     "id": "d770fa60-96fd-492f-b1cd-2c31a80686eb"
    }
   },
   "outputs": [],
   "source": [
    "raw_data = {'model':[m for m in models.keys()],\n",
    "           'pearson r':[stats.pearsonr(v[1],v[0])[0] for v in models.values()],\n",
    "           'r squared':[r2_score(v[0],v[1]) for v in models.values()],\n",
    "           'mape':[mean_absolute_percentage_error(v[0], v[1]) for v in models.values()]}\n",
    "df = pd.DataFrame(raw_data, columns = ['model', 'pearson r', 'r squared', 'mape'])\n",
    "df = df.sort_values('model')\n",
    "print(df)\n",
    "\n",
    "df_1 = df.loc[df['model'].isin(['svm','randforest','randforest+pca','finn', 'elasticnet','lasso','mars'])].sort_values('model')\n",
    "df_2 = df.loc[df['model'].isin(['svm_ext','randforest_ext','randforest+pca_ext','finn_ext','elasticnet_ext',\n",
    "                                'lasso_ext','mars_ext'])].sort_values('model')\n",
    "df_3 = df.loc[df['model'].isin(['svm_improved_1','randforest_improved_1','randforest+pca_improved_1','finn_improved_1',\n",
    "                                'elasticnet_improved_1','lasso_improved_1','mars_improved_1'])].sort_values('model')\n",
    "df_4 = df.loc[df['model'].isin(['svm_improved_2','randforest_improved_2','randforest+pca_improved_2','finn_improved_2',\n",
    "                                'elasticnet_improved_2','lasso_improved_2','mars_improved_2'])].sort_values('model')\n",
    "\n",
    "\n"
   ]
  },
  {
   "cell_type": "code",
   "execution_count": null,
   "metadata": {
    "collapsed": false,
    "nbpresent": {
     "id": "72a0810b-d0e1-43ad-b0a3-463c4b8a3420"
    },
    "scrolled": true
   },
   "outputs": [],
   "source": [
    "plot_bar_h(df,'Model Scores','vertical')\n",
    "plot_bar_h(df_1,'Finn\\'s data set','horizontal')\n",
    "plot_bar_h(df_2,'Extended data set','horizontal')\n",
    "plot_bar_h(df_3,'Rest 1 improved','horizontal')\n",
    "plot_bar_h(df_4,'Rest 2 improved','horizontal')\n"
   ]
  },
  {
   "cell_type": "code",
   "execution_count": null,
   "metadata": {
    "collapsed": false
   },
   "outputs": [],
   "source": [
    "plot_bar_v(df,'Scores')"
   ]
  }
 ],
 "metadata": {
  "anaconda-cloud": {},
  "kernelspec": {
   "display_name": "Python [Root]",
   "language": "python",
   "name": "Python [Root]"
  },
  "language_info": {
   "codemirror_mode": {
    "name": "ipython",
    "version": 3
   },
   "file_extension": ".py",
   "mimetype": "text/x-python",
   "name": "python",
   "nbconvert_exporter": "python",
   "pygments_lexer": "ipython3",
   "version": "3.5.2"
  },
  "nbpresent": {
   "slides": {
    "34c5da37-80a1-4645-a132-f6708a3ac8c3": {
     "id": "34c5da37-80a1-4645-a132-f6708a3ac8c3",
     "prev": "4d09939d-bfe2-4bba-b9f6-6392345ff010",
     "regions": {
      "b275074e-0c7c-4824-a96d-2e5da932ef13": {
       "attrs": {
        "height": 1,
        "width": 1,
        "x": 0,
        "y": 0
       },
       "content": {
        "cell": "249e9ee3-834c-4892-8e5c-484321cfa05f",
        "part": "outputs"
       },
       "id": "b275074e-0c7c-4824-a96d-2e5da932ef13"
      }
     }
    },
    "3af1534d-d4c0-44e1-a94a-7f6e6b6a3155": {
     "id": "3af1534d-d4c0-44e1-a94a-7f6e6b6a3155",
     "prev": null,
     "regions": {}
    },
    "480f33e8-56d9-427b-b38c-047d749a5f47": {
     "id": "480f33e8-56d9-427b-b38c-047d749a5f47",
     "prev": "dde1548d-9659-4c91-8a36-ca0220a850ed",
     "regions": {
      "d024b663-7447-4ee1-9120-546ae187037b": {
       "attrs": {
        "height": 1,
        "width": 1,
        "x": 0,
        "y": 0
       },
       "content": {
        "cell": "28576d7c-5d32-48a7-9472-9fa0bf038271",
        "part": "outputs"
       },
       "id": "d024b663-7447-4ee1-9120-546ae187037b"
      }
     }
    },
    "4d09939d-bfe2-4bba-b9f6-6392345ff010": {
     "id": "4d09939d-bfe2-4bba-b9f6-6392345ff010",
     "prev": "55a59378-103f-4ff6-9c1c-b89f78db1546",
     "regions": {
      "35065415-a8d8-4497-845b-9aaa0501ef3b": {
       "attrs": {
        "height": 1,
        "width": 1,
        "x": 0,
        "y": 0
       },
       "content": {
        "cell": "c9a2120c-e0c1-4145-a176-eebc8a478f07",
        "part": "outputs"
       },
       "id": "35065415-a8d8-4497-845b-9aaa0501ef3b"
      }
     }
    },
    "55a59378-103f-4ff6-9c1c-b89f78db1546": {
     "id": "55a59378-103f-4ff6-9c1c-b89f78db1546",
     "prev": "480f33e8-56d9-427b-b38c-047d749a5f47",
     "regions": {
      "e49702fe-1d71-40b5-ad45-732113155569": {
       "attrs": {
        "height": 1,
        "width": 1,
        "x": 0,
        "y": 0
       },
       "content": {
        "cell": "11c6a379-4d09-462f-90b8-6c4939f12800",
        "part": "outputs"
       },
       "id": "e49702fe-1d71-40b5-ad45-732113155569"
      }
     }
    },
    "63020524-350f-489c-9fec-9a671f61ef33": {
     "id": "63020524-350f-489c-9fec-9a671f61ef33",
     "prev": "b3861796-039d-4f31-9169-b1aa45048cf5",
     "regions": {
      "1bbd7026-0ff3-4a29-949c-87724830689c": {
       "attrs": {
        "height": 1,
        "width": 1,
        "x": 0,
        "y": 0
       },
       "content": {
        "cell": "74d9a764-f2e9-44b5-8ba3-ca470d2be813",
        "part": "outputs"
       },
       "id": "1bbd7026-0ff3-4a29-949c-87724830689c"
      }
     }
    },
    "7128580a-eaf3-4b4a-9a19-66d2f345062a": {
     "id": "7128580a-eaf3-4b4a-9a19-66d2f345062a",
     "prev": "3af1534d-d4c0-44e1-a94a-7f6e6b6a3155",
     "regions": {
      "92e9c0bb-5589-40b5-a2cf-8765715f2050": {
       "attrs": {
        "height": 1,
        "width": 1,
        "x": 0,
        "y": 0
       },
       "content": {
        "cell": "01e6bf81-432a-4a43-9d2f-e665f2ffbf2b",
        "part": "outputs"
       },
       "id": "92e9c0bb-5589-40b5-a2cf-8765715f2050"
      }
     }
    },
    "776644a5-1cc7-409b-8cb9-65723586da42": {
     "id": "776644a5-1cc7-409b-8cb9-65723586da42",
     "prev": "8d25ef72-15b9-4a5d-8f84-4c1dcd1b747d",
     "regions": {
      "272e44ce-1b55-4943-bbfd-1e57a9eb394f": {
       "attrs": {
        "height": 1,
        "width": 1,
        "x": 0,
        "y": 0
       },
       "content": {
        "cell": "31884ee9-02bf-454b-9aec-5ae8579e0929",
        "part": "outputs"
       },
       "id": "272e44ce-1b55-4943-bbfd-1e57a9eb394f"
      }
     }
    },
    "8d25ef72-15b9-4a5d-8f84-4c1dcd1b747d": {
     "id": "8d25ef72-15b9-4a5d-8f84-4c1dcd1b747d",
     "prev": "ccbb82d9-5214-4a71-a679-c3f993ec774b",
     "regions": {
      "7fdb8d16-62fc-464b-a3e2-4fb61afa489c": {
       "attrs": {
        "height": 1,
        "width": 1,
        "x": 0,
        "y": 0
       },
       "content": {
        "cell": "0cf883f4-8f04-4106-95bd-5ab7339d1f3b",
        "part": "outputs"
       },
       "id": "7fdb8d16-62fc-464b-a3e2-4fb61afa489c"
      }
     }
    },
    "a533d288-5a85-430a-93f1-fd16b6f5192a": {
     "id": "a533d288-5a85-430a-93f1-fd16b6f5192a",
     "prev": "63020524-350f-489c-9fec-9a671f61ef33",
     "regions": {
      "05dbc557-5f48-4f6d-b85a-44052a5abbce": {
       "attrs": {
        "height": 1,
        "width": 1,
        "x": 0,
        "y": 0
       },
       "content": {
        "cell": "1e5bd372-3d04-434c-b2e9-272bd201c04f",
        "part": "outputs"
       },
       "id": "05dbc557-5f48-4f6d-b85a-44052a5abbce"
      }
     }
    },
    "b1875397-a4a5-4bc1-8f81-05674aa1d347": {
     "id": "b1875397-a4a5-4bc1-8f81-05674aa1d347",
     "prev": "776644a5-1cc7-409b-8cb9-65723586da42",
     "regions": {
      "b690e234-28ef-4dcf-b608-d5024e9d56cc": {
       "attrs": {
        "height": 1,
        "width": 1,
        "x": 0,
        "y": 0
       },
       "content": {
        "cell": "5f69ee53-9934-4955-9271-0f7d6a489075",
        "part": "outputs"
       },
       "id": "b690e234-28ef-4dcf-b608-d5024e9d56cc"
      }
     }
    },
    "b3861796-039d-4f31-9169-b1aa45048cf5": {
     "id": "b3861796-039d-4f31-9169-b1aa45048cf5",
     "prev": "fe3f232f-77b7-42e5-a6df-826fe11456cd",
     "regions": {
      "d441a732-029d-4b9d-a4f6-ee9e18d6cd29": {
       "attrs": {
        "height": 1,
        "width": 1,
        "x": 0,
        "y": 0
       },
       "content": {
        "cell": "094c6a85-27fd-4ccf-b366-ac5b3ffd200f",
        "part": "outputs"
       },
       "id": "d441a732-029d-4b9d-a4f6-ee9e18d6cd29"
      }
     }
    },
    "c7d19edb-42e6-48ac-af48-33b8e762e6e7": {
     "id": "c7d19edb-42e6-48ac-af48-33b8e762e6e7",
     "prev": "e9e041c0-6a5d-4861-a500-30c7b08523ce",
     "regions": {
      "7394a11e-4452-4fd6-9101-ad9cedeff653": {
       "attrs": {
        "height": 1,
        "width": 1,
        "x": 0,
        "y": 0
       },
       "content": {
        "cell": "2da024a4-9a53-4d62-8e10-e28c77a90abb",
        "part": "outputs"
       },
       "id": "7394a11e-4452-4fd6-9101-ad9cedeff653"
      }
     }
    },
    "ccbb82d9-5214-4a71-a679-c3f993ec774b": {
     "id": "ccbb82d9-5214-4a71-a679-c3f993ec774b",
     "prev": "7128580a-eaf3-4b4a-9a19-66d2f345062a",
     "regions": {
      "cadca528-4cec-4464-93bc-884e27becfb3": {
       "attrs": {
        "height": 1,
        "width": 1,
        "x": 0,
        "y": 0
       },
       "content": {
        "cell": "855398ae-9477-4ce8-9fb0-630bd66f09c7",
        "part": "outputs"
       },
       "id": "cadca528-4cec-4464-93bc-884e27becfb3"
      }
     }
    },
    "dde1548d-9659-4c91-8a36-ca0220a850ed": {
     "id": "dde1548d-9659-4c91-8a36-ca0220a850ed",
     "prev": "e4dfafde-ec3d-4d01-8a51-ac4a0ba60bab",
     "regions": {
      "cbbbad90-6a7e-4394-aeff-24aef993f99f": {
       "attrs": {
        "height": 1,
        "width": 1,
        "x": 0,
        "y": 0
       },
       "content": {
        "cell": "5fc0bc75-8c91-4a60-ae7a-2267429c0502",
        "part": "outputs"
       },
       "id": "cbbbad90-6a7e-4394-aeff-24aef993f99f"
      }
     }
    },
    "e4dfafde-ec3d-4d01-8a51-ac4a0ba60bab": {
     "id": "e4dfafde-ec3d-4d01-8a51-ac4a0ba60bab",
     "prev": "c7d19edb-42e6-48ac-af48-33b8e762e6e7",
     "regions": {
      "8a6c2502-5cd8-458b-b34d-1737c323511d": {
       "attrs": {
        "height": 1,
        "width": 1,
        "x": 0,
        "y": 0
       },
       "content": {
        "cell": "561ade68-fd2b-42b6-bc13-0b1f1acc4359",
        "part": "outputs"
       },
       "id": "8a6c2502-5cd8-458b-b34d-1737c323511d"
      }
     }
    },
    "e9e041c0-6a5d-4861-a500-30c7b08523ce": {
     "id": "e9e041c0-6a5d-4861-a500-30c7b08523ce",
     "prev": "b1875397-a4a5-4bc1-8f81-05674aa1d347",
     "regions": {
      "6b4cceb3-388e-43a7-9c24-774268ddd35f": {
       "attrs": {
        "height": 1,
        "width": 1,
        "x": 0,
        "y": 0
       },
       "content": {
        "cell": "97433717-d14a-406e-8413-45d2710bd7a6",
        "part": "outputs"
       },
       "id": "6b4cceb3-388e-43a7-9c24-774268ddd35f"
      }
     }
    },
    "fe3f232f-77b7-42e5-a6df-826fe11456cd": {
     "id": "fe3f232f-77b7-42e5-a6df-826fe11456cd",
     "prev": "34c5da37-80a1-4645-a132-f6708a3ac8c3",
     "regions": {
      "cb058cce-9c6d-4610-97a9-0906d5d2c795": {
       "attrs": {
        "height": 1,
        "width": 1,
        "x": 0,
        "y": 0
       },
       "content": {
        "cell": "14b5e6e8-7bc9-4b97-9b69-0375847e298d",
        "part": "outputs"
       },
       "id": "cb058cce-9c6d-4610-97a9-0906d5d2c795"
      }
     }
    }
   },
   "themes": {}
  }
 },
 "nbformat": 4,
 "nbformat_minor": 0
}
