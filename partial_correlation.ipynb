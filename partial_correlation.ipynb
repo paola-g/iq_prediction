{
 "cells": [
  {
   "cell_type": "code",
   "execution_count": 6,
   "metadata": {
    "collapsed": false
   },
   "outputs": [],
   "source": [
    "path = 'C:/Users/Paola/Downloads/ICAFIXtimeseries/'\n",
    "import os \n",
    "import fnmatch\n",
    "from ipywidgets import *\n",
    "from IPython.display import display\n",
    "from joblib import Parallel, delayed\n",
    "import multiprocessing\n",
    "import scipy.io as sio"
   ]
  },
  {
   "cell_type": "code",
   "execution_count": 2,
   "metadata": {
    "collapsed": true
   },
   "outputs": [],
   "source": [
    "\"\"\"\n",
    "Partial Correlation in Python (clone of Matlab's partialcorr)\n",
    "\n",
    "This uses the linear regression approach to compute the partial \n",
    "correlation (might be slow for a huge number of variables). The \n",
    "algorithm is detailed here:\n",
    "\n",
    "    http://en.wikipedia.org/wiki/Partial_correlation#Using_linear_regression\n",
    "\n",
    "Taking X and Y two variables of interest and Z the matrix with all the variable minus {X, Y},\n",
    "the algorithm can be summarized as\n",
    "\n",
    "    1) perform a normal linear least-squares regression with X as the target and Z as the predictor\n",
    "    2) calculate the residuals in Step #1\n",
    "    3) perform a normal linear least-squares regression with Y as the target and Z as the predictor\n",
    "    4) calculate the residuals in Step #3\n",
    "    5) calculate the correlation coefficient between the residuals from Steps #2 and #4; \n",
    "\n",
    "    The result is the partial correlation between X and Y while controlling for the effect of Z\n",
    "\n",
    "\n",
    "Date: Nov 2014\n",
    "Author: Fabian Pedregosa-Izquierdo, f@bianp.net\n",
    "Testing: Valentina Borghesani, valentinaborghesani@gmail.com\n",
    "\"\"\"\n",
    "\n",
    "import numpy as np\n",
    "from scipy import stats, linalg\n",
    "\n",
    "def partial_corr(C):\n",
    "    \"\"\"\n",
    "    Returns the sample linear partial correlation coefficients between pairs of variables in C, controlling \n",
    "    for the remaining variables in C.\n",
    "\n",
    "\n",
    "    Parameters\n",
    "    ----------\n",
    "    C : array-like, shape (n, p)\n",
    "        Array with the different variables. Each column of C is taken as a variable\n",
    "\n",
    "\n",
    "    Returns\n",
    "    -------\n",
    "    P : array-like, shape (p, p)\n",
    "        P[i, j] contains the partial correlation of C[:, i] and C[:, j] controlling\n",
    "        for the remaining variables in C.\n",
    "    \"\"\"\n",
    "    \n",
    "    C = np.asarray(C)\n",
    "    p = C.shape[1]\n",
    "    P_corr = np.zeros((p, p), dtype=np.float)\n",
    "    for i in range(p):\n",
    "        P_corr[i, i] = 1\n",
    "        for j in range(i+1, p):\n",
    "            idx = np.ones(p, dtype=np.bool)\n",
    "            idx[i] = False\n",
    "            idx[j] = False\n",
    "            beta_i = linalg.lstsq(C[:, idx], C[:, j])[0]\n",
    "            beta_j = linalg.lstsq(C[:, idx], C[:, i])[0]\n",
    "\n",
    "            res_j = C[:, j] - C[:, idx].dot( beta_i)\n",
    "            res_i = C[:, i] - C[:, idx].dot(beta_j)\n",
    "            \n",
    "            corr = stats.pearsonr(res_i, res_j)[0]\n",
    "            P_corr[i, j] = corr\n",
    "            P_corr[j, i] = corr\n",
    "        \n",
    "    return P_corr"
   ]
  },
  {
   "cell_type": "code",
   "execution_count": null,
   "metadata": {
    "collapsed": false
   },
   "outputs": [],
   "source": [
    "files = os.listdir(path+'rfMRI_REST1')\n",
    "l = int(len(files)/2)\n",
    "\n",
    "\n",
    "def processInput(fn,regex,folder):\n",
    "    if fnmatch.fnmatch(fn, regex):\n",
    "        ts = np.loadtxt(path+folder+fn)\n",
    "        pcorr = partial_corr(ts)\n",
    "        return pcorr\n",
    "\n",
    "num_cores = multiprocessing.cpu_count()\n",
    "    \n",
    "results = Parallel(n_jobs=num_cores,verbose=1)(delayed(processInput)(fn,'*LR.txt','rfMRI_REST1/') for fn in files)"
   ]
  },
  {
   "cell_type": "code",
   "execution_count": 3,
   "metadata": {
    "collapsed": false
   },
   "outputs": [
    {
     "ename": "KeyboardInterrupt",
     "evalue": "",
     "output_type": "error",
     "traceback": [
      "\u001b[1;31m---------------------------------------------------------------------------\u001b[0m",
      "\u001b[1;31mKeyboardInterrupt\u001b[0m                         Traceback (most recent call last)",
      "\u001b[1;32m<ipython-input-3-7eb04c4906f1>\u001b[0m in \u001b[0;36m<module>\u001b[1;34m()\u001b[0m\n\u001b[0;32m      9\u001b[0m      \u001b[1;32mif\u001b[0m \u001b[0mfnmatch\u001b[0m\u001b[1;33m.\u001b[0m\u001b[0mfnmatch\u001b[0m\u001b[1;33m(\u001b[0m\u001b[0mfn\u001b[0m\u001b[1;33m,\u001b[0m \u001b[1;34m'*LR.txt'\u001b[0m\u001b[1;33m)\u001b[0m\u001b[1;33m:\u001b[0m\u001b[1;33m\u001b[0m\u001b[0m\n\u001b[0;32m     10\u001b[0m         \u001b[0mts\u001b[0m \u001b[1;33m=\u001b[0m \u001b[0mnp\u001b[0m\u001b[1;33m.\u001b[0m\u001b[0mloadtxt\u001b[0m\u001b[1;33m(\u001b[0m\u001b[0mpath\u001b[0m\u001b[1;33m+\u001b[0m\u001b[1;34m'rfMRI_REST1/'\u001b[0m\u001b[1;33m+\u001b[0m\u001b[0mfn\u001b[0m\u001b[1;33m)\u001b[0m\u001b[1;33m\u001b[0m\u001b[0m\n\u001b[1;32m---> 11\u001b[1;33m         \u001b[0mpcorr_LR_1\u001b[0m\u001b[1;33m[\u001b[0m\u001b[1;33m:\u001b[0m\u001b[1;33m,\u001b[0m\u001b[1;33m:\u001b[0m\u001b[1;33m,\u001b[0m\u001b[0mi\u001b[0m\u001b[1;33m]\u001b[0m \u001b[1;33m=\u001b[0m \u001b[0mpartial_corr\u001b[0m\u001b[1;33m(\u001b[0m\u001b[0mts\u001b[0m\u001b[1;33m)\u001b[0m\u001b[1;33m\u001b[0m\u001b[0m\n\u001b[0m\u001b[0;32m     12\u001b[0m         \u001b[0mf\u001b[0m\u001b[1;33m.\u001b[0m\u001b[0mvalue\u001b[0m \u001b[1;33m+=\u001b[0m \u001b[1;36m1\u001b[0m\u001b[1;33m\u001b[0m\u001b[0m\n\u001b[0;32m     13\u001b[0m         \u001b[0mi\u001b[0m \u001b[1;33m=\u001b[0m \u001b[0mi\u001b[0m\u001b[1;33m+\u001b[0m\u001b[1;36m1\u001b[0m\u001b[1;33m\u001b[0m\u001b[0m\n",
      "\u001b[1;32m<ipython-input-2-541b95adc752>\u001b[0m in \u001b[0;36mpartial_corr\u001b[1;34m(C)\u001b[0m\n\u001b[0;32m     56\u001b[0m             \u001b[0midx\u001b[0m\u001b[1;33m[\u001b[0m\u001b[0mi\u001b[0m\u001b[1;33m]\u001b[0m \u001b[1;33m=\u001b[0m \u001b[1;32mFalse\u001b[0m\u001b[1;33m\u001b[0m\u001b[0m\n\u001b[0;32m     57\u001b[0m             \u001b[0midx\u001b[0m\u001b[1;33m[\u001b[0m\u001b[0mj\u001b[0m\u001b[1;33m]\u001b[0m \u001b[1;33m=\u001b[0m \u001b[1;32mFalse\u001b[0m\u001b[1;33m\u001b[0m\u001b[0m\n\u001b[1;32m---> 58\u001b[1;33m             \u001b[0mbeta_i\u001b[0m \u001b[1;33m=\u001b[0m \u001b[0mlinalg\u001b[0m\u001b[1;33m.\u001b[0m\u001b[0mlstsq\u001b[0m\u001b[1;33m(\u001b[0m\u001b[0mC\u001b[0m\u001b[1;33m[\u001b[0m\u001b[1;33m:\u001b[0m\u001b[1;33m,\u001b[0m \u001b[0midx\u001b[0m\u001b[1;33m]\u001b[0m\u001b[1;33m,\u001b[0m \u001b[0mC\u001b[0m\u001b[1;33m[\u001b[0m\u001b[1;33m:\u001b[0m\u001b[1;33m,\u001b[0m \u001b[0mj\u001b[0m\u001b[1;33m]\u001b[0m\u001b[1;33m)\u001b[0m\u001b[1;33m[\u001b[0m\u001b[1;36m0\u001b[0m\u001b[1;33m]\u001b[0m\u001b[1;33m\u001b[0m\u001b[0m\n\u001b[0m\u001b[0;32m     59\u001b[0m             \u001b[0mbeta_j\u001b[0m \u001b[1;33m=\u001b[0m \u001b[0mlinalg\u001b[0m\u001b[1;33m.\u001b[0m\u001b[0mlstsq\u001b[0m\u001b[1;33m(\u001b[0m\u001b[0mC\u001b[0m\u001b[1;33m[\u001b[0m\u001b[1;33m:\u001b[0m\u001b[1;33m,\u001b[0m \u001b[0midx\u001b[0m\u001b[1;33m]\u001b[0m\u001b[1;33m,\u001b[0m \u001b[0mC\u001b[0m\u001b[1;33m[\u001b[0m\u001b[1;33m:\u001b[0m\u001b[1;33m,\u001b[0m \u001b[0mi\u001b[0m\u001b[1;33m]\u001b[0m\u001b[1;33m)\u001b[0m\u001b[1;33m[\u001b[0m\u001b[1;36m0\u001b[0m\u001b[1;33m]\u001b[0m\u001b[1;33m\u001b[0m\u001b[0m\n\u001b[0;32m     60\u001b[0m \u001b[1;33m\u001b[0m\u001b[0m\n",
      "\u001b[1;32mC:\\Users\\Paola\\Anaconda3\\lib\\site-packages\\scipy\\linalg\\basic.py\u001b[0m in \u001b[0;36mlstsq\u001b[1;34m(a, b, cond, overwrite_a, overwrite_b, check_finite, lapack_driver)\u001b[0m\n\u001b[0;32m    892\u001b[0m \u001b[1;33m\u001b[0m\u001b[0m\n\u001b[0;32m    893\u001b[0m                 x, s, rank, info = lapack_func(a1, b1, lwork,\n\u001b[1;32m--> 894\u001b[1;33m                                                iwork, cond, False, False)\n\u001b[0m\u001b[0;32m    895\u001b[0m             \u001b[1;32melse\u001b[0m\u001b[1;33m:\u001b[0m  \u001b[1;31m# complex data\u001b[0m\u001b[1;33m\u001b[0m\u001b[0m\n\u001b[0;32m    896\u001b[0m                 lwork, rwork, iwork = _compute_lwork(lapack_lwork, m, n,\n",
      "\u001b[1;31mKeyboardInterrupt\u001b[0m: "
     ]
    }
   ],
   "source": [
    "files = os.listdir(path+'rfMRI_REST1')\n",
    "l = int(len(files)/2)\n",
    "\n",
    "pcorr_LR_1 = np.zeros([268,268,l])\n",
    "i=0\n",
    "f = FloatProgress(min=0, max=l)\n",
    "display(f)\n",
    "for fn in files:\n",
    "     if fnmatch.fnmatch(fn, '*LR.txt'):\n",
    "        ts = np.loadtxt(path+'rfMRI_REST1/'+fn)\n",
    "        pcorr_LR_1[:,:,i] = partial_corr(ts)\n",
    "        f.value += 1\n",
    "        i = i+1\n",
    "        "
   ]
  },
  {
   "cell_type": "code",
   "execution_count": 4,
   "metadata": {
    "collapsed": false
   },
   "outputs": [
    {
     "name": "stdout",
     "output_type": "stream",
     "text": [
      "[[ 1.         -0.0295215  -0.02509423 ..., -0.02757572 -0.00985024\n",
      "  -0.02619222]\n",
      " [-0.0295215   1.          0.0017804  ...,  0.00444317 -0.03650057\n",
      "   0.07437129]\n",
      " [-0.02509423  0.0017804   1.         ..., -0.01888155  0.05945833\n",
      "  -0.03038365]\n",
      " ..., \n",
      " [-0.02757572  0.00444317 -0.01888155 ...,  1.         -0.07551081\n",
      "   0.05016466]\n",
      " [-0.00985024 -0.03650057  0.05945833 ..., -0.07551081  1.          0.0748843 ]\n",
      " [-0.02619222  0.07437129 -0.03038365 ...,  0.05016466  0.0748843   1.        ]]\n"
     ]
    }
   ],
   "source": [
    "print(pcorr_LR_1[:,:,0])"
   ]
  },
  {
   "cell_type": "code",
   "execution_count": 7,
   "metadata": {
    "collapsed": false
   },
   "outputs": [],
   "source": [
    "results = {'pcorr_LR_1':pcorr_LR_1}\n",
    "sio.savemat('pcorr_LR_1_intermediate.mat',results)"
   ]
  }
 ],
 "metadata": {
  "kernelspec": {
   "display_name": "Python [Root]",
   "language": "python",
   "name": "Python [Root]"
  },
  "language_info": {
   "codemirror_mode": {
    "name": "ipython",
    "version": 3
   },
   "file_extension": ".py",
   "mimetype": "text/x-python",
   "name": "python",
   "nbconvert_exporter": "python",
   "pygments_lexer": "ipython3",
   "version": "3.5.2"
  }
 },
 "nbformat": 4,
 "nbformat_minor": 0
}
