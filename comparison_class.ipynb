{
 "cells": [
  {
   "cell_type": "code",
   "execution_count": null,
   "metadata": {
    "collapsed": false,
    "nbpresent": {
     "id": "8f892fd1-edba-440f-a9fc-cac7685cbdeb"
    }
   },
   "outputs": [],
   "source": [
    "import nbpresent\n",
    "nbpresent.__version__"
   ]
  },
  {
   "cell_type": "code",
   "execution_count": 1,
   "metadata": {
    "collapsed": true,
    "nbpresent": {
     "id": "c8c8af39-f5ae-42ca-8ded-8742ca798a2c"
    }
   },
   "outputs": [],
   "source": [
    "%matplotlib inline\n",
    "\n",
    "from ipywidgets import FloatProgress\n",
    "from IPython.display import display\n",
    "from ipywidgets import *\n",
    "\n",
    "import scipy.io as sio\n",
    "import numpy as np\n",
    "import matplotlib.pyplot as plt\n",
    "\n",
    "import scipy.stats as stats\n",
    "import pandas as pd\n",
    "from sklearn.metrics import r2_score, accuracy_score, classification_report\n",
    "from sklearn.metrics import confusion_matrix\n"
   ]
  },
  {
   "cell_type": "markdown",
   "metadata": {
    "nbpresent": {
     "id": "d7132d9a-220c-47ee-ae9c-8ce3313ccef7"
    }
   },
   "source": [
    "### Utilities"
   ]
  },
  {
   "cell_type": "code",
   "execution_count": 3,
   "metadata": {
    "collapsed": false,
    "nbpresent": {
     "id": "b69c4ba7-7020-4211-b11f-6a5f185cbc17"
    }
   },
   "outputs": [],
   "source": [
    "# Regression plot showing predicted gF scores vs original gF scores\n",
    "def regression_plot(x,y,n,title):\n",
    "\n",
    "    # fit a curve to the data using a least squares 1st order polynomial fit\n",
    "    z = np.polyfit(x,y,1)\n",
    "\n",
    "    p = np.poly1d(z)\n",
    "    fit = p(x)\n",
    "\n",
    "    # get the coordinates for the fit curve\n",
    "    c_x = [np.min(x),np.max(x)]\n",
    "    c_y = p(c_x)\n",
    "\n",
    "    # predict y values of origional data using the fit\n",
    "    p_y = z[0] * x + z[1]\n",
    "\n",
    "    # calculate the y-error (residuals)\n",
    "    y_err = y - p_y\n",
    "\n",
    "    # create series of new test x-values to predict for\n",
    "    p_x = np.arange(np.min(x),np.max(x)+1,1)\n",
    "\n",
    "    # now calculate confidence intervals for new test x-series\n",
    "    mean_x = np.mean(x)         # mean of x\n",
    "    DF = n - z.size                            # degrees of freedom\n",
    "    t = stats.t.ppf(0.95,DF)           # used for CI and PI bands\n",
    "    s_err = np.sum(np.power(y_err,2))   # sum of the squares of the residuals\n",
    "\n",
    "    #confs = t * np.sqrt((s_err/(n-2))*(1.0/n + (np.power((p_x-mean_x),2)/((np.sum(np.power(x,2)))-n*(np.power(mean_x,2))))))\n",
    "    confs = t * np.sqrt((s_err/(n-2)) * (1.0/n + (np.power((p_x-mean_x),2)/(np.sum(np.power(x - mean_x,2))))))\n",
    "    # now predict y based on test x-values\n",
    "    p_y = z[0]*p_x+z[1]\n",
    "\n",
    "    # get lower and upper confidence limits based on predicted y and confidence intervals\n",
    "    lower = p_y - abs(confs)\n",
    "    upper = p_y + abs(confs)\n",
    "\n",
    "    # set-up the plot\n",
    "    #plt.axes().set_aspect('equal')\n",
    "    plt.xlabel('Original score')\n",
    "    plt.ylabel('Predicted score')\n",
    "    plt.title(title)\n",
    "\n",
    "    # plot sample data\n",
    "    plt.plot(x,y,'bo')\n",
    "\n",
    "    # plot line of best fit\n",
    "    plt.plot(c_x,c_y,'r-',label='Regression line')\n",
    "\n",
    "    # plot confidence limits\n",
    "    plt.plot(p_x,lower,'b--',label='Lower confidence limit (95%)')\n",
    "    plt.plot(p_x,upper,'b--',label='Upper confidence limit (95%)')\n",
    "\n",
    "    # set coordinate limits\n",
    "    plt.xlim(4,25)\n",
    "    plt.ylim(5,25)\n",
    "\n",
    "    # configure legend\n",
    "    plt.legend(loc=0)\n",
    "    leg = plt.gca().get_legend()\n",
    "    ltext = leg.get_texts()\n",
    "    plt.setp(ltext, fontsize=10)\n",
    "\n",
    "    # add text\n",
    "    rho,p = stats.pearsonr(np.ravel(y),x)\n",
    "    s = 'r={:0.2f}\\np={:1.4f}'.format(rho,p)\n",
    "    plt.text(20, 7, s, fontsize=12)\n",
    "\n",
    "    \n",
    "    \n",
    "def mean_absolute_percentage_error(y_true, y_pred,perc=False):\n",
    "    if perc:\n",
    "        return np.mean(np.abs((y_true - y_pred) / y_true)) * 100 \n",
    "    else:\n",
    "        return np.mean(np.abs((y_true - y_pred) / y_true))\n",
    "    \n",
    "def absolute_percentage_error(y_true, y_pred,perc=False):\n",
    "    if perc:\n",
    "        return np.abs((y_true - y_pred) / y_true) * 100 \n",
    "    else:\n",
    "        return np.abs((y_true - y_pred) / y_true)\n",
    "    \n",
    "def percentage_error(y_true, y_pred,perc=False):\n",
    "    if perc:\n",
    "        return (y_true - y_pred) / y_true * 100 \n",
    "    else:\n",
    "        return (y_true - y_pred) / y_true    \n",
    "    \n",
    "    \n",
    "def plot_hist(data,n_bins,title,xlabel):\n",
    "    plt.hist(data, bins=n_bins)\n",
    "    plt.title(title)\n",
    "    plt.xlabel(xlabel)\n",
    "    plt.ylabel(\"Frequency\")\n",
    "\n",
    "def plot_scatter(x,y,xlabel,ylabel):\n",
    "    plt.plot(x,y,'bo')\n",
    "    plt.axhline(y=0, ls='dashed')\n",
    "    plt.xlabel(xlabel)\n",
    "    plt.ylabel(ylabel)\n",
    "    \n",
    "def plot_bar_h(df,title,rotation):\n",
    "    # Setting the positions and width for the bars\n",
    "    pos = list(range(len(df['pearson r'])))\n",
    "    width = 0.2\n",
    "\n",
    "    # Plotting the bars\n",
    "    fig, ax = plt.subplots(figsize=(20,5))\n",
    "\n",
    "    # Create a bar with pre_score data,\n",
    "    # in position pos,\n",
    "    plt.bar(pos,\n",
    "            #using df['pre_score'] data,\n",
    "            df['pearson r'],\n",
    "            # of width\n",
    "            width,\n",
    "            # with alpha 0.5\n",
    "            alpha=0.5,\n",
    "            # with color\n",
    "            color='#EE3224',\n",
    "            # with label the first value in first_name\n",
    "            label=df['model'].iloc[0])\n",
    "\n",
    "    # Create a bar with mid_score data,\n",
    "    # in position pos + some width buffer,\n",
    "    plt.bar([p + width for p in pos],\n",
    "            #using df['mid_score'] data,\n",
    "            df['r squared'],\n",
    "            # of width\n",
    "            width,\n",
    "            # with alpha 0.5\n",
    "            alpha=0.5,\n",
    "            # with color\n",
    "            color='#F78F1E',\n",
    "            # with label the second value in first_name\n",
    "            label=df['model'].iloc[1])\n",
    "\n",
    "    # Create a bar with post_score data,\n",
    "    # in position pos + some width buffer,\n",
    "    plt.bar([p + width*2 for p in pos],\n",
    "            #using df['post_score'] data,\n",
    "            df['mape'],\n",
    "            # of width\n",
    "            width,\n",
    "            # with alpha 0.5\n",
    "            alpha=0.5,\n",
    "            # with color\n",
    "            color='#FFC222',\n",
    "            # with label the third value in first_name\n",
    "            label=df['model'].iloc[2])\n",
    "\n",
    "    # Set the y axis label\n",
    "    ax.set_ylabel('Score')\n",
    "\n",
    "    # Set the chart's title\n",
    "    ax.set_title(title)\n",
    "\n",
    "    # Set the position of the x ticks\n",
    "    ax.set_xticks([p + 1.5 * width for p in pos])\n",
    "\n",
    "    # Set the labels for the x ticks\n",
    "    ax.set_xticklabels(df['model'],rotation=rotation)\n",
    "\n",
    "    # Setting the x-axis and y-axis limits\n",
    "    plt.xlim(min(pos)-width, max(pos)+width*4)\n",
    "    plt.ylim([-0.1, max(df['pearson r'] + df['r squared'] + df['mape'])] )\n",
    "\n",
    "    # Adding the legend and showing the plot\n",
    "    plt.legend(['Pearson r', 'r squared', 'MAPE'], loc='upper left')\n",
    "    plt.grid()\n",
    "    plt.show()\n",
    "    \n",
    "def plot_bar_v(df,title):\n",
    "    # Setting the positions and width for the bars\n",
    "    pos = list(range(len(df['pearson r'])))\n",
    "    width = 0.2\n",
    "\n",
    "    # Plotting the bars\n",
    "    fig, ax = plt.subplots(figsize=(5,20))\n",
    "\n",
    "    # Create a bar with pre_score data,\n",
    "    # in position pos,\n",
    "    plt.barh(pos,\n",
    "            #using df['pre_score'] data,\n",
    "            df['pearson r'],\n",
    "            # of width\n",
    "            width,\n",
    "            # with alpha 0.5\n",
    "            alpha=0.5,\n",
    "            # with color\n",
    "            color='#EE3224',\n",
    "            # with label the first value in first_name\n",
    "            label=df['model'][0])\n",
    "\n",
    "    # Create a bar with mid_score data,\n",
    "    # in position pos + some width buffer,\n",
    "    plt.barh([p + width for p in pos],\n",
    "            #using df['mid_score'] data,\n",
    "            df['r squared'],\n",
    "            # of width\n",
    "            width,\n",
    "            # with alpha 0.5\n",
    "            alpha=0.5,\n",
    "            # with color\n",
    "            color='#F78F1E',\n",
    "            # with label the second value in first_name\n",
    "            label=df['model'][1])\n",
    "\n",
    "    # Create a bar with post_score data,\n",
    "    # in position pos + some width buffer,\n",
    "    plt.barh([p + width*2 for p in pos],\n",
    "            #using df['post_score'] data,\n",
    "            df['mape'],\n",
    "            # of width\n",
    "            width,\n",
    "            # with alpha 0.5\n",
    "            alpha=0.5,\n",
    "            # with color\n",
    "            color='#FFC222',\n",
    "            # with label the third value in first_name\n",
    "            label=df['model'][2])\n",
    "\n",
    "    # Set the y axis label\n",
    "    #ax.set_ylabel('Model Score')\n",
    "\n",
    "    # Set the chart's title\n",
    "    ax.set_title(title)\n",
    "\n",
    "    # Set the position of the x ticks\n",
    "    ax.set_yticks([p + 1.5 * width for p in pos])\n",
    "\n",
    "    # Set the labels for the x ticks\n",
    "    ax.set_yticklabels(df['model'])\n",
    "\n",
    "    # Setting the x-axis and y-axis limits\n",
    "    plt.ylim(min(pos)-width, max(pos)+width*4)\n",
    "    plt.xlim([-0.1, max(df['pearson r'] + df['r squared'] + df['mape'])] )\n",
    "\n",
    "    # Adding the legend and showing the plot\n",
    "    plt.legend(['Pearson r', 'r squared', 'MAPE'], loc='upper right')\n",
    "    plt.grid()\n",
    "    \n",
    "    \n",
    "def plot_confusion_matrix(cm, title='Confusion matrix', cmap=plt.cm.Blues):\n",
    "    plt.imshow(cm, interpolation='nearest', cmap=cmap)\n",
    "    plt.title(title)\n",
    "    plt.colorbar()\n",
    "    plt.tight_layout()\n",
    "    plt.ylabel('True label')\n",
    "    plt.xlabel('Predicted label')\n",
    "    plt.tick_params(\n",
    "    axis='both',    \n",
    "    which='both',      # both major and minor ticks are affected\n",
    "    bottom='off',      # ticks along the bottom edge are off\n",
    "    top='off',         # ticks along the top edge are off\n",
    "    labelbottom='off',\n",
    "    labelleft='off') # labels along the bottom edge are off    \n"
   ]
  },
  {
   "cell_type": "markdown",
   "metadata": {
    "nbpresent": {
     "id": "d7e51c86-fa96-4e90-888d-6eef9cdd86b7"
    }
   },
   "source": [
    "### Import data"
   ]
  },
  {
   "cell_type": "code",
   "execution_count": 2,
   "metadata": {
    "collapsed": false
   },
   "outputs": [
    {
     "name": "stdout",
     "output_type": "stream",
     "text": [
      "No. of subjects: 115\n"
     ]
    }
   ],
   "source": [
    "# finn's data set \n",
    "data = sio.loadmat('rfMRI_REST1_HCP_Q2')\n",
    "gF = np.ravel(data['PMAT24_A_CR'])\n",
    "n_subj = len(gF)\n",
    "print('No. of subjects:',n_subj)"
   ]
  },
  {
   "cell_type": "code",
   "execution_count": 94,
   "metadata": {
    "collapsed": false
   },
   "outputs": [
    {
     "name": "stdout",
     "output_type": "stream",
     "text": [
      "No. of subjects: 435\n"
     ]
    }
   ],
   "source": [
    "# extended data set\n",
    "data = sio.loadmat('rfMRI_REST1_HCP_Q2')\n",
    "gF = np.ravel(data['PMAT24_A_CR'])\n",
    "data2 = sio.loadmat('rfMRI_REST1_HCP_S500.mat')\n",
    "gF2 = np.ravel(data2['PMAT24_A_CR'])\n",
    "gF = np.concatenate((gF,gF2))\n",
    "n_subj = len(gF)\n",
    "print('No. of subjects:',n_subj)"
   ]
  },
  {
   "cell_type": "code",
   "execution_count": 84,
   "metadata": {
    "collapsed": true
   },
   "outputs": [],
   "source": [
    "# Rest1 (improved preprocessing)\n",
    "data = sio.loadmat('improved_preproc/rfMRI_REST1_HCP_Q2.mat')\n",
    "gF = np.ravel(data['PMAT24_A_CR'])\n",
    "n_subj = len(gF)"
   ]
  },
  {
   "cell_type": "code",
   "execution_count": 89,
   "metadata": {
    "collapsed": true
   },
   "outputs": [],
   "source": [
    "# Rest2 (improved preprocessing)\n",
    "data = sio.loadmat('improved_preproc/rfMRI_REST2_HCP_Q2.mat')\n",
    "gF = np.ravel(data['PMAT24_A_CR'])\n",
    "n_subj = len(gF)"
   ]
  },
  {
   "cell_type": "markdown",
   "metadata": {},
   "source": [
    "### gF score distribution \n",
    "The gF score is used to divide subjects in 2 or 3 classes."
   ]
  },
  {
   "cell_type": "code",
   "execution_count": 5,
   "metadata": {
    "collapsed": false
   },
   "outputs": [
    {
     "name": "stdout",
     "output_type": "stream",
     "text": [
      "[  5.   14.5]\n"
     ]
    },
    {
     "data": {
      "image/png": "[encoded data removed]",
      "text/plain": [
       "<matplotlib.figure.Figure at 0xc7c5ebcda0>"
      ]
     },
     "metadata": {},
     "output_type": "display_data"
    }
   ],
   "source": [
    "n_bins = 2\n",
    "\n",
    "hist, bin_limits = np.histogram(gF, n_bins)\n",
    "bins = np.digitize(gF, bin_limits[:-1])\n",
    "plt.hist(bins,n_bins)\n",
    "print(bin_limits[:-1])\n"
   ]
  },
  {
   "cell_type": "code",
   "execution_count": 97,
   "metadata": {
    "collapsed": false
   },
   "outputs": [
    {
     "name": "stdout",
     "output_type": "stream",
     "text": [
      "[  5.          11.33333333  17.66666667]\n"
     ]
    },
    {
     "data": {
      "image/png": "[encoded data removed]",
      "text/plain": [
       "<matplotlib.figure.Figure at 0x5be51b7860>"
      ]
     },
     "metadata": {},
     "output_type": "display_data"
    }
   ],
   "source": [
    "n_bins = 3\n",
    "\n",
    "hist, bin_limits = np.histogram(gF, n_bins)\n",
    "bins = np.digitize(gF, bin_limits[:-1])\n",
    "plt.hist(bins,n_bins)\n",
    "print(bin_limits[:-1])"
   ]
  },
  {
   "cell_type": "markdown",
   "metadata": {
    "nbpresent": {
     "id": "75d9293d-8e72-4b1b-97b1-6635562ce68d"
    }
   },
   "source": [
    "## Classification task"
   ]
  },
  {
   "cell_type": "markdown",
   "metadata": {},
   "source": [
    "Models that put all test data in the biggest class:\n",
    "- PCA + Random Forest on Finn's data (2 classes) and Rest1 (2 and 3 classes) and extended data (2 and 3 classes) \n",
    "- Random Forest on Rest1 (2 and 3 classes)\n",
    "- SVM + RFE on Finn's data (2 classes)\n"
   ]
  },
  {
   "cell_type": "markdown",
   "metadata": {},
   "source": [
    "### Finn's data"
   ]
  },
  {
   "cell_type": "markdown",
   "metadata": {},
   "source": [
    "#### PCA + SVM"
   ]
  },
  {
   "cell_type": "code",
   "execution_count": 22,
   "metadata": {
    "collapsed": false,
    "nbpresent": {
     "id": "01e6bf81-432a-4a43-9d2f-e665f2ffbf2b"
    },
    "scrolled": false
   },
   "outputs": [
    {
     "name": "stdout",
     "output_type": "stream",
     "text": [
      "[[11 23]\n",
      " [13 68]]\n",
      "Accuracy: 0.686956521739\n",
      "             precision    recall  f1-score   support\n",
      "\n",
      "          1       0.46      0.32      0.38        34\n",
      "          2       0.75      0.84      0.79        81\n",
      "\n",
      "avg / total       0.66      0.69      0.67       115\n",
      "\n"
     ]
    },
    {
     "data": {
      "image/png": "[encoded data removed]",
      "text/plain": [
       "<matplotlib.figure.Figure at 0x5be60dc6d8>"
      ]
     },
     "metadata": {},
     "output_type": "display_data"
    }
   ],
   "source": [
    "y_true = bins\n",
    "y_pred = [ 1,  2,  1,  2,  2,  2,  2,  2,  1,  2,  2,  2,  2,  2,  2,  2,  2,  2,\n",
    "   2,  2,  2,  2,  2,  2,  2,  1,  2,  2,  2,  2,  2,  2,  2,  2,  2,  2,\n",
    "   1,  2,  1,  1,  2,  2,  1,  1,  2,  2,  2,  2,  2,  2,  2,  2,  2,  1,\n",
    "   1,  2,  1,  2,  1,  2,  1,  2,  1,  2,  2,  2,  2,  1,  2,  1,  2,  2,\n",
    "   2,  2,  1,  2,  2,  2,  2,  2,  1,  2,  1,  1,  2,  2,  2,  2,  2,  2,\n",
    "   2,  1,  2,  2,  2,  2,  2,  2,  1,  2,  2,  2,  2,  2,  2,  1,  2,  2,\n",
    "   2,  2,  2,  2,  2,  2,  2]\n",
    "\n",
    "cm = confusion_matrix(y_true, y_pred)\n",
    "cm_normalized = cm.astype('float') / cm.sum(axis=1)[:, np.newaxis]\n",
    "plot_confusion_matrix(cm_normalized)\n",
    "print(cm)\n",
    "print('Accuracy:', accuracy_score(y_true, y_pred))\n",
    "print(classification_report(y_true, y_pred))"
   ]
  },
  {
   "cell_type": "code",
   "execution_count": 74,
   "metadata": {
    "collapsed": false,
    "scrolled": false
   },
   "outputs": [
    {
     "name": "stdout",
     "output_type": "stream",
     "text": [
      "[[ 2  7 12]\n",
      " [ 6  9 18]\n",
      " [ 8 10 43]]\n",
      "Accuracy: 0.469565217391\n",
      "             precision    recall  f1-score   support\n",
      "\n",
      "          1       0.12      0.10      0.11        21\n",
      "          2       0.35      0.27      0.31        33\n",
      "          3       0.59      0.70      0.64        61\n",
      "\n",
      "avg / total       0.43      0.47      0.45       115\n",
      "\n"
     ]
    },
    {
     "data": {
      "image/png": "[encoded data removed]",
      "text/plain": [
       "<matplotlib.figure.Figure at 0x5be51d5cc0>"
      ]
     },
     "metadata": {},
     "output_type": "display_data"
    }
   ],
   "source": [
    "y_true = bins\n",
    "y_pred = [ 2,  3,  2,  3,  1,  3,  3,  3,  1,  3,  3,  3,  3,  3,  3,  3,  3,  3,\n",
    "   3,  3,  3,  3,  3,  3,  3,  1,  3,  3,  2,  3,  3,  3,  2,  3,  2,  3,\n",
    "   3,  1,  1,  3,  2,  3,  2,  1,  3,  3,  2,  3,  3,  3,  3,  2,  3,  2,\n",
    "   3,  3,  1,  3,  3,  1,  2,  2,  2,  3,  2,  2,  2,  1,  3,  1,  3,  1,\n",
    "   3,  3,  1,  3,  3,  1,  3,  3,  3,  3,  2,  2,  2,  3,  3,  3,  3,  3,\n",
    "   3,  1,  3,  2,  3,  3,  3,  3,  1,  2,  1,  3,  2,  3,  3,  2,  3,  3,\n",
    "   2,  3,  2,  3,  2,  3,  3,]\n",
    "\n",
    "cm = confusion_matrix(y_true, y_pred)\n",
    "cm_normalized = cm.astype('float') / cm.sum(axis=1)[:, np.newaxis]\n",
    "plot_confusion_matrix(cm_normalized)\n",
    "print(cm)\n",
    "print('Accuracy:', accuracy_score(y_true, y_pred))\n",
    "print(classification_report(y_true, y_pred))"
   ]
  },
  {
   "cell_type": "markdown",
   "metadata": {},
   "source": [
    "#### SVM + RFE"
   ]
  },
  {
   "cell_type": "code",
   "execution_count": 73,
   "metadata": {
    "collapsed": false,
    "scrolled": false
   },
   "outputs": [
    {
     "name": "stdout",
     "output_type": "stream",
     "text": [
      "[[ 0  2 19]\n",
      " [ 1  4 28]\n",
      " [ 2  7 52]]\n",
      "Accuracy: 0.486956521739\n",
      "             precision    recall  f1-score   support\n",
      "\n",
      "          1       0.00      0.00      0.00        21\n",
      "          2       0.31      0.12      0.17        33\n",
      "          3       0.53      0.85      0.65        61\n",
      "\n",
      "avg / total       0.37      0.49      0.39       115\n",
      "\n"
     ]
    },
    {
     "data": {
      "image/png": "[encoded data removed]",
      "text/plain": [
       "<matplotlib.figure.Figure at 0x5be6106588>"
      ]
     },
     "metadata": {},
     "output_type": "display_data"
    }
   ],
   "source": [
    "y_true = bins\n",
    "y_pred = [ 3,  3,  3,  3,  1,  3,  3,  3,  3,  3,  3,  3,  3,  3,  3,  3,  3,  3,\n",
    "   3,  3,  3,  3,  3,  3,  3,  3,  3,  3,  3,  3,  3,  3,  3,  3,  3,  3,\n",
    "   3,  3,  3,  3,  2,  3,  2,  3,  3,  3,  2,  3,  3,  3,  3,  3,  3,  3,\n",
    "   3,  3,  3,  3,  3,  3,  2,  3,  2,  3,  3,  3,  2,  1,  3,  2,  3,  3,\n",
    "   3,  3,  3,  3,  3,  3,  3,  3,  3,  3,  2,  3,  2,  3,  3,  3,  3,  3,\n",
    "   3,  3,  3,  2,  3,  3,  3,  3,  3,  3,  1,  3,  2,  3,  3,  3,  3,  3,\n",
    "   2,  3,  3,  3,  2,  3,  3,]\n",
    "\n",
    "cm = confusion_matrix(y_true, y_pred)\n",
    "cm_normalized = cm.astype('float') / cm.sum(axis=1)[:, np.newaxis]\n",
    "plot_confusion_matrix(cm_normalized)\n",
    "print(cm)\n",
    "print('Accuracy:', accuracy_score(y_true, y_pred))\n",
    "print(classification_report(y_true, y_pred))"
   ]
  },
  {
   "cell_type": "markdown",
   "metadata": {},
   "source": [
    "#### Random Forest"
   ]
  },
  {
   "cell_type": "code",
   "execution_count": 23,
   "metadata": {
    "collapsed": false,
    "scrolled": false
   },
   "outputs": [
    {
     "name": "stdout",
     "output_type": "stream",
     "text": [
      "[[ 8 26]\n",
      " [ 4 77]]\n",
      "Accuracy: 0.739130434783\n",
      "             precision    recall  f1-score   support\n",
      "\n",
      "          1       0.67      0.24      0.35        34\n",
      "          2       0.75      0.95      0.84        81\n",
      "\n",
      "avg / total       0.72      0.74      0.69       115\n",
      "\n"
     ]
    },
    {
     "data": {
      "image/png": "[encoded data removed]",
      "text/plain": [
       "<matplotlib.figure.Figure at 0x5be61ecba8>"
      ]
     },
     "metadata": {},
     "output_type": "display_data"
    }
   ],
   "source": [
    "y_true = bins\n",
    "y_pred = [ 2,  2,  2,  2,  2,  2,  2,  2,  2,  2,  1,  2,  2,  2,  2,  2,  2,  2,\n",
    "   2,  1,  2,  2,  2,  2,  2,  1,  2,  2,  2,  2,  2,  2,  2,  2,  2,  2,\n",
    "   2,  2,  2,  2,  2,  2,  2,  1,  2,  2,  2,  2,  2,  2,  2,  2,  2,  2,\n",
    "   2,  2,  2,  2,  2,  1,  2,  2,  1,  2,  2,  2,  2,  1,  2,  2,  2,  2,\n",
    "   2,  2,  2,  2,  2,  2,  2,  2,  2,  2,  1,  1,  2,  2,  2,  2,  2,  2,\n",
    "   2,  1,  2,  2,  2,  2,  2,  2,  1,  2,  1,  2,  2,  2,  2,  2,  2,  2,\n",
    "   2,  2,  2,  2,  2,  2,  2]\n",
    "\n",
    "cm = confusion_matrix(y_true, y_pred)\n",
    "cm_normalized = cm.astype('float') / cm.sum(axis=1)[:, np.newaxis]\n",
    "plot_confusion_matrix(cm_normalized)\n",
    "print(cm)\n",
    "print('Accuracy:', accuracy_score(y_true, y_pred))\n",
    "print(classification_report(y_true, y_pred))"
   ]
  },
  {
   "cell_type": "code",
   "execution_count": 31,
   "metadata": {
    "collapsed": false,
    "scrolled": false
   },
   "outputs": [
    {
     "name": "stdout",
     "output_type": "stream",
     "text": [
      "[[ 3  4 14]\n",
      " [ 3  3 27]\n",
      " [ 2  4 55]]\n",
      "Accuracy: 0.530434782609\n",
      "             precision    recall  f1-score   support\n",
      "\n",
      "          1       0.38      0.14      0.21        21\n",
      "          2       0.27      0.09      0.14        33\n",
      "          3       0.57      0.90      0.70        61\n",
      "\n",
      "avg / total       0.45      0.53      0.45       115\n",
      "\n"
     ]
    },
    {
     "data": {
      "image/png": "[encoded data removed]",
      "text/plain": [
       "<matplotlib.figure.Figure at 0x5be5fd0780>"
      ]
     },
     "metadata": {},
     "output_type": "display_data"
    }
   ],
   "source": [
    "y_true = bins\n",
    "y_pred = [ 3,  3,  3,  3,  3,  3,  3,  3,  1,  3,  1,  3,  3,  1,  3,  3,  3,  3,\n",
    "3,  2,  2,  3,  3,  2,  3,  1,  3,  2,  3,  3,  3,  3,  2,  3,  3,  3,\n",
    "3,  1,  3,  3,  3,  3,  2,  2,  3,  3,  3,  3,  3,  3,  3,  3,  3,  3,\n",
    "3,  3,  3,  3,  3,  1,  3,  3,  2,  3,  3,  3,  3,  3,  3,  3,  3,  3,\n",
    "3,  3,  3,  3,  3,  3,  3,  3,  2,  2,  3,  2,  3,  3,  3,  3,  3,  3,\n",
    "3,  3,  3,  3,  3,  3,  3,  3,  1,  3,  1,  3,  3,  3,  3,  3,  3,  3,\n",
    "3,  3,  3,  3,  3,  3,  3]\n",
    "\n",
    "cm = confusion_matrix(y_true, y_pred)\n",
    "cm_normalized = cm.astype('float') / cm.sum(axis=1)[:, np.newaxis]\n",
    "plot_confusion_matrix(cm_normalized)\n",
    "print(cm)\n",
    "print('Accuracy:', accuracy_score(y_true, y_pred))\n",
    "print(classification_report(y_true, y_pred))"
   ]
  },
  {
   "cell_type": "markdown",
   "metadata": {},
   "source": [
    "#### PCA + Random Forest"
   ]
  },
  {
   "cell_type": "code",
   "execution_count": 55,
   "metadata": {
    "collapsed": false,
    "scrolled": false
   },
   "outputs": [
    {
     "name": "stdout",
     "output_type": "stream",
     "text": [
      "[[ 3  4 14]\n",
      " [ 3  3 27]\n",
      " [ 2  4 55]]\n",
      "Accuracy: 0.530434782609\n",
      "             precision    recall  f1-score   support\n",
      "\n",
      "          1       0.38      0.14      0.21        21\n",
      "          2       0.27      0.09      0.14        33\n",
      "          3       0.57      0.90      0.70        61\n",
      "\n",
      "avg / total       0.45      0.53      0.45       115\n",
      "\n"
     ]
    },
    {
     "data": {
      "image/png": "[encoded data removed]",
      "text/plain": [
       "<matplotlib.figure.Figure at 0x5be60af4e0>"
      ]
     },
     "metadata": {},
     "output_type": "display_data"
    }
   ],
   "source": [
    "y_true = bins\n",
    "y_pred = [ 3,  3,  3,  3,  3,  3,  3,  3,  1,  3,  1,  3,  3,  1,  3,  3,  3,  3,\n",
    "   3,  2,  2,  3,  3,  2,  3,  1,  3,  2,  3,  3,  3,  3,  2,  3,  3,  3,\n",
    "   3,  1,  3,  3,  3,  3,  2,  2,  3,  3,  3,  3,  3,  3,  3,  3,  3,  3,\n",
    "   3,  3,  3,  3,  3,  1,  3,  3,  2,  3,  3,  3,  3,  3,  3,  3,  3,  3,\n",
    "   3,  3,  3,  3,  3,  3,  3,  3,  2,  2,  3,  2,  3,  3,  3,  3,  3,  3,\n",
    "   3,  3,  3,  3,  3,  3,  3,  3,  1,  3,  1,  3,  3,  3,  3,  3,  3,  3,\n",
    "   3,  3,  3,  3,  3,  3,  3,]\n",
    "\n",
    "cm = confusion_matrix(y_true, y_pred)\n",
    "cm_normalized = cm.astype('float') / cm.sum(axis=1)[:, np.newaxis]\n",
    "plot_confusion_matrix(cm_normalized)\n",
    "print(cm)\n",
    "print('Accuracy:', accuracy_score(y_true, y_pred))\n",
    "print(classification_report(y_true, y_pred))"
   ]
  },
  {
   "cell_type": "markdown",
   "metadata": {},
   "source": [
    "#### PCA + kNN"
   ]
  },
  {
   "cell_type": "code",
   "execution_count": 25,
   "metadata": {
    "collapsed": false
   },
   "outputs": [
    {
     "name": "stdout",
     "output_type": "stream",
     "text": [
      "[[10 24]\n",
      " [15 66]]\n",
      "Accuracy: 0.660869565217\n",
      "             precision    recall  f1-score   support\n",
      "\n",
      "          1       0.40      0.29      0.34        34\n",
      "          2       0.73      0.81      0.77        81\n",
      "\n",
      "avg / total       0.63      0.66      0.64       115\n",
      "\n"
     ]
    },
    {
     "data": {
      "image/png": "[encoded data removed]",
      "text/plain": [
       "<matplotlib.figure.Figure at 0x5be60d89b0>"
      ]
     },
     "metadata": {},
     "output_type": "display_data"
    }
   ],
   "source": [
    "y_true = bins\n",
    "y_pred = [ 2,  2,  1,  2,  2,  2,  2,  2,  1,  1,  1,  2,  2,  2,  2,  1,  2,  1,\n",
    "   2,  2,  2,  2,  2,  2,  1,  1,  2,  2,  2,  2,  2,  1,  2,  2,  2,  1,\n",
    "   2,  2,  2,  2,  2,  1,  2,  1,  1,  2,  2,  1,  2,  2,  2,  2,  2,  2,\n",
    "   2,  2,  2,  1,  2,  1,  2,  2,  2,  2,  2,  2,  2,  2,  2,  1,  2,  2,\n",
    "   2,  2,  1,  2,  1,  2,  1,  2,  2,  2,  2,  1,  2,  2,  2,  2,  2,  2,\n",
    "   2,  1,  1,  2,  2,  2,  2,  1,  2,  1,  2,  2,  2,  2,  2,  2,  2,  2,\n",
    "   2,  2,  2,  2,  2,  2,  2]\n",
    "\n",
    "cm = confusion_matrix(y_true, y_pred)\n",
    "cm_normalized = cm.astype('float') / cm.sum(axis=1)[:, np.newaxis]\n",
    "plot_confusion_matrix(cm_normalized)\n",
    "print(cm)\n",
    "print('Accuracy:', accuracy_score(y_true, y_pred))\n",
    "print(classification_report(y_true, y_pred))"
   ]
  },
  {
   "cell_type": "code",
   "execution_count": 32,
   "metadata": {
    "collapsed": false,
    "scrolled": false
   },
   "outputs": [
    {
     "name": "stdout",
     "output_type": "stream",
     "text": [
      "[[ 8  7  6]\n",
      " [ 4 10 19]\n",
      " [18  6 37]]\n",
      "Accuracy: 0.478260869565\n",
      "             precision    recall  f1-score   support\n",
      "\n",
      "          1       0.27      0.38      0.31        21\n",
      "          2       0.43      0.30      0.36        33\n",
      "          3       0.60      0.61      0.60        61\n",
      "\n",
      "avg / total       0.49      0.48      0.48       115\n",
      "\n"
     ]
    },
    {
     "data": {
      "image/png": "[encoded data removed]",
      "text/plain": [
       "<matplotlib.figure.Figure at 0x5be5a12f60>"
      ]
     },
     "metadata": {},
     "output_type": "display_data"
    }
   ],
   "source": [
    "y_true = bins\n",
    "y_pred = [ 2,  2,  1,  3,  1,  3,  3,  3,  2,  1,  1,  3,  3,  3,  3,  1,  3,  1,\n",
    "   3,  2,  3,  3,  3,  3,  1,  2,  3,  3,  1,  3,  3,  1,  1,  3,  3,  2,\n",
    "   3,  2,  3,  3,  1,  1,  2,  2,  2,  1,  1,  1,  3,  3,  2,  2,  3,  1,\n",
    "   3,  3,  3,  1,  3,  1,  2,  2,  2,  3,  1,  2,  2,  3,  3,  2,  3,  2,\n",
    "   3,  3,  1,  1,  1,  3,  1,  3,  3,  1,  3,  1,  1,  3,  2,  3,  3,  3,\n",
    "   3,  2,  1,  3,  3,  3,  3,  1,  2,  1,  2,  3,  3,  3,  3,  1,  3,  3,\n",
    "   3,  3,  3,  3,  3,  3,  3]\n",
    "\n",
    "cm = confusion_matrix(y_true, y_pred)\n",
    "cm_normalized = cm.astype('float') / cm.sum(axis=1)[:, np.newaxis]\n",
    "plot_confusion_matrix(cm_normalized)\n",
    "print(cm)\n",
    "print('Accuracy:', accuracy_score(y_true, y_pred))\n",
    "print(classification_report(y_true, y_pred))"
   ]
  },
  {
   "cell_type": "markdown",
   "metadata": {},
   "source": [
    "#### kNN"
   ]
  },
  {
   "cell_type": "code",
   "execution_count": 36,
   "metadata": {
    "collapsed": false,
    "scrolled": false
   },
   "outputs": [
    {
     "name": "stdout",
     "output_type": "stream",
     "text": [
      "[[ 8 26]\n",
      " [11 70]]\n",
      "Accuracy: 0.678260869565\n",
      "             precision    recall  f1-score   support\n",
      "\n",
      "          1       0.42      0.24      0.30        34\n",
      "          2       0.73      0.86      0.79        81\n",
      "\n",
      "avg / total       0.64      0.68      0.65       115\n",
      "\n"
     ]
    },
    {
     "data": {
      "image/png": "[encoded data removed]",
      "text/plain": [
       "<matplotlib.figure.Figure at 0x5be612b278>"
      ]
     },
     "metadata": {},
     "output_type": "display_data"
    }
   ],
   "source": [
    "y_true = bins\n",
    "y_pred = [ 2,  2,  1,  2,  2,  2,  2,  2,  2,  2,  2,  2,  2,  2,  2,  1,  2,  1,\n",
    "   2,  2,  2,  2,  2,  2,  2,  2,  2,  2,  2,  2,  2,  1,  2,  2,  2,  1,\n",
    "   2,  2,  1,  2,  2,  1,  2,  1,  1,  2,  2,  1,  2,  2,  1,  2,  2,  2,\n",
    "   2,  2,  2,  1,  2,  2,  2,  2,  2,  2,  2,  2,  2,  2,  2,  1,  2,  2,\n",
    "   2,  2,  1,  2,  2,  2,  2,  1,  2,  2,  2,  1,  2,  2,  2,  2,  2,  2,\n",
    "   2,  1,  1,  2,  2,  2,  2,  1,  2,  2,  2,  2,  2,  2,  2,  2,  2,  2,\n",
    "   2,  2,  2,  2,  2,  2,  2,]\n",
    "\n",
    "cm = confusion_matrix(y_true, y_pred)\n",
    "cm_normalized = cm.astype('float') / cm.sum(axis=1)[:, np.newaxis]\n",
    "plot_confusion_matrix(cm_normalized)\n",
    "print(cm)\n",
    "print('Accuracy:', accuracy_score(y_true, y_pred))\n",
    "print(classification_report(y_true, y_pred))"
   ]
  },
  {
   "cell_type": "code",
   "execution_count": 33,
   "metadata": {
    "collapsed": false,
    "scrolled": false
   },
   "outputs": [
    {
     "name": "stdout",
     "output_type": "stream",
     "text": [
      "[[ 8  7  6]\n",
      " [ 2 13 18]\n",
      " [16 14 31]]\n",
      "Accuracy: 0.452173913043\n",
      "             precision    recall  f1-score   support\n",
      "\n",
      "          1       0.31      0.38      0.34        21\n",
      "          2       0.38      0.39      0.39        33\n",
      "          3       0.56      0.51      0.53        61\n",
      "\n",
      "avg / total       0.46      0.45      0.46       115\n",
      "\n"
     ]
    },
    {
     "data": {
      "image/png": "[encoded data removed]",
      "text/plain": [
       "<matplotlib.figure.Figure at 0x5bda53ec88>"
      ]
     },
     "metadata": {},
     "output_type": "display_data"
    }
   ],
   "source": [
    "y_true = bins\n",
    "y_pred = [ 3,  2,  1,  3,  1,  3,  3,  3,  2,  1,  1,  3,  1,  1,  3,  1,  3,  1,\n",
    "   3,  2,  3,  3,  3,  3,  3,  2,  3,  3,  2,  2,  3,  1,  2,  3,  2,  2,\n",
    "   3,  2,  1,  3,  1,  1,  2,  2,  2,  1,  1,  1,  2,  3,  1,  2,  2,  1,\n",
    "   3,  3,  3,  1,  3,  2,  2,  3,  2,  2,  3,  2,  2,  2,  3,  1,  2,  2,\n",
    "   3,  3,  1,  3,  2,  3,  1,  1,  3,  1,  3,  1,  1,  3,  2,  3,  3,  3,\n",
    "   3,  2,  1,  3,  3,  3,  2,  2,  3,  2,  2,  3,  3,  3,  3,  2,  3,  3,\n",
    "   3,  3,  3,  2,  3,  3,  3,]\n",
    "\n",
    "cm = confusion_matrix(y_true, y_pred)\n",
    "cm_normalized = cm.astype('float') / cm.sum(axis=1)[:, np.newaxis]\n",
    "plot_confusion_matrix(cm_normalized)\n",
    "print(cm)\n",
    "print('Accuracy:', accuracy_score(y_true, y_pred))\n",
    "print(classification_report(y_true, y_pred))"
   ]
  },
  {
   "cell_type": "markdown",
   "metadata": {},
   "source": [
    "### Rest1 (improved preprocessing)"
   ]
  },
  {
   "cell_type": "markdown",
   "metadata": {},
   "source": [
    "#### PCA + SVM"
   ]
  },
  {
   "cell_type": "code",
   "execution_count": 87,
   "metadata": {
    "collapsed": false,
    "scrolled": false
   },
   "outputs": [
    {
     "name": "stdout",
     "output_type": "stream",
     "text": [
      "[[ 2 32]\n",
      " [ 6 77]]\n",
      "Accuracy: 0.675213675214\n",
      "             precision    recall  f1-score   support\n",
      "\n",
      "          1       0.25      0.06      0.10        34\n",
      "          2       0.71      0.93      0.80        83\n",
      "\n",
      "avg / total       0.57      0.68      0.60       117\n",
      "\n"
     ]
    },
    {
     "data": {
      "image/png": "[encoded data removed]",
      "text/plain": [
       "<matplotlib.figure.Figure at 0x5be5ae4ac8>"
      ]
     },
     "metadata": {},
     "output_type": "display_data"
    }
   ],
   "source": [
    "y_true = bins\n",
    "y_pred = [ 2,  2,  2,  2,  2,  2,  2,  2,  2,  2,  2,  2,  2,  2,  2,  2,  2,  2,\n",
    "   2,  2,  2,  2,  2,  2,  2,  2,  2,  2,  2,  2,  2,  2,  2,  2,  2,  2,\n",
    "   2,  2,  2,  2,  2,  2,  1,  1,  2,  2,  2,  2,  2,  1,  2,  2,  2,  2,\n",
    "   2,  1,  2,  2,  2,  1,  2,  2,  2,  2,  2,  2,  2,  2,  2,  2,  1,  2,\n",
    "   2,  2,  2,  2,  2,  2,  2,  2,  2,  2,  2,  2,  2,  2,  1,  2,  2,  2,\n",
    "   2,  2,  2,  2,  2,  2,  2,  2,  2,  2,  2,  2,  2,  2,  2,  2,  2,  2,\n",
    "   2,  2,  2,  2,  2,  2,  2,  2,  1,]\n",
    "\n",
    "cm = confusion_matrix(y_true, y_pred)\n",
    "cm_normalized = cm.astype('float') / cm.sum(axis=1)[:, np.newaxis]\n",
    "plot_confusion_matrix(cm_normalized)\n",
    "print(cm)\n",
    "print('Accuracy:', accuracy_score(y_true, y_pred))\n",
    "print(classification_report(y_true, y_pred))"
   ]
  },
  {
   "cell_type": "code",
   "execution_count": 80,
   "metadata": {
    "collapsed": false,
    "scrolled": false
   },
   "outputs": [
    {
     "name": "stdout",
     "output_type": "stream",
     "text": [
      "[[ 0  7 14]\n",
      " [ 1  9 24]\n",
      " [ 2  5 55]]\n",
      "Accuracy: 0.547008547009\n",
      "             precision    recall  f1-score   support\n",
      "\n",
      "          1       0.00      0.00      0.00        21\n",
      "          2       0.43      0.26      0.33        34\n",
      "          3       0.59      0.89      0.71        62\n",
      "\n",
      "avg / total       0.44      0.55      0.47       117\n",
      "\n"
     ]
    },
    {
     "data": {
      "image/png": "[encoded data removed]",
      "text/plain": [
       "<matplotlib.figure.Figure at 0x5be5a364a8>"
      ]
     },
     "metadata": {},
     "output_type": "display_data"
    }
   ],
   "source": [
    "y_true = bins\n",
    "y_pred = [ 2,  3,  2,  3,  1,  2,  3,  3,  3,  3,  3,  3,  3,  3,  3,  2,  3,  3,\n",
    "   3,  3,  3,  3,  3,  3,  2,  3,  3,  3,  3,  3,  3,  3,  2,  3,  3,  3,\n",
    "   3,  2,  3,  3,  3,  3,  2,  1,  3,  3,  3,  3,  3,  2,  3,  2,  3,  3,\n",
    "   3,  1,  3,  3,  3,  3,  3,  3,  3,  3,  3,  3,  2,  2,  3,  2,  3,  2,\n",
    "   3,  3,  3,  3,  3,  3,  3,  3,  3,  3,  3,  2,  3,  3,  2,  3,  3,  3,\n",
    "   3,  3,  3,  2,  3,  3,  3,  3,  3,  3,  3,  2,  3,  2,  3,  3,  3,  2,\n",
    "   3,  3,  3,  3,  3,  3,  2,  3,  3,]\n",
    "\n",
    "cm = confusion_matrix(y_true, y_pred)\n",
    "cm_normalized = cm.astype('float') / cm.sum(axis=1)[:, np.newaxis]\n",
    "plot_confusion_matrix(cm_normalized)\n",
    "print(cm)\n",
    "print('Accuracy:', accuracy_score(y_true, y_pred))\n",
    "print(classification_report(y_true, y_pred))"
   ]
  },
  {
   "cell_type": "markdown",
   "metadata": {},
   "source": [
    "#### PCA + kNN"
   ]
  },
  {
   "cell_type": "code",
   "execution_count": 41,
   "metadata": {
    "collapsed": false,
    "scrolled": false
   },
   "outputs": [
    {
     "name": "stdout",
     "output_type": "stream",
     "text": [
      "[[20 14]\n",
      " [40 43]]\n",
      "Accuracy: 0.538461538462\n",
      "             precision    recall  f1-score   support\n",
      "\n",
      "          1       0.33      0.59      0.43        34\n",
      "          2       0.75      0.52      0.61        83\n",
      "\n",
      "avg / total       0.63      0.54      0.56       117\n",
      "\n"
     ]
    },
    {
     "data": {
      "image/png": "[encoded data removed]",
      "text/plain": [
       "<matplotlib.figure.Figure at 0x5be5af5cc0>"
      ]
     },
     "metadata": {},
     "output_type": "display_data"
    }
   ],
   "source": [
    "y_true = bins\n",
    "y_pred = [ 1,  1,  1,  1,  1,  1,  2,  2,  1,  2,  2,  2,  1,  2,  2,  2,  1,  1,\n",
    "   1,  2,  2,  2,  2,  2,  1,  2,  2,  2,  1,  2,  2,  2,  2,  2,  1,  2,\n",
    "   2,  2,  2,  2,  1,  1,  1,  1,  1,  1,  1,  1,  1,  2,  2,  1,  1,  1,\n",
    "   1,  1,  1,  2,  1,  1,  1,  1,  2,  2,  1,  2,  2,  1,  2,  1,  1,  1,\n",
    "   1,  1,  2,  2,  1,  2,  2,  2,  1,  1,  2,  1,  1,  1,  1,  2,  1,  2,\n",
    "   2,  2,  2,  1,  1,  1,  1,  1,  1,  2,  2,  1,  1,  2,  2,  2,  2,  2,\n",
    "   1,  2,  2,  2,  2,  2,  1,  1,  1,]\n",
    "\n",
    "cm = confusion_matrix(y_true, y_pred)\n",
    "cm_normalized = cm.astype('float') / cm.sum(axis=1)[:, np.newaxis]\n",
    "plot_confusion_matrix(cm_normalized)\n",
    "print(cm)\n",
    "print('Accuracy:', accuracy_score(y_true, y_pred))\n",
    "print(classification_report(y_true, y_pred))"
   ]
  },
  {
   "cell_type": "code",
   "execution_count": 44,
   "metadata": {
    "collapsed": false,
    "scrolled": false
   },
   "outputs": [
    {
     "name": "stdout",
     "output_type": "stream",
     "text": [
      "[[14  4  3]\n",
      " [15 11  8]\n",
      " [23 13 26]]\n",
      "Accuracy: 0.435897435897\n",
      "             precision    recall  f1-score   support\n",
      "\n",
      "          1       0.27      0.67      0.38        21\n",
      "          2       0.39      0.32      0.35        34\n",
      "          3       0.70      0.42      0.53        62\n",
      "\n",
      "avg / total       0.53      0.44      0.45       117\n",
      "\n"
     ]
    },
    {
     "data": {
      "image/png": "[encoded data removed]",
      "text/plain": [
       "<matplotlib.figure.Figure at 0x5be51daf60>"
      ]
     },
     "metadata": {},
     "output_type": "display_data"
    }
   ],
   "source": [
    "y_true = bins\n",
    "y_pred = [ 2,  2,  1,  1,  1,  2,  3,  3,  1,  2,  1,  3,  1,  3,  3,  2,  2,  1,\n",
    "   1,  3,  3,  3,  3,  3,  1,  2,  3,  3,  2,  1,  2,  3,  1,  3,  1,  3,\n",
    "   3,  2,  2,  3,  1,  1,  1,  2,  1,  2,  1,  1,  1,  2,  2,  1,  1,  2,\n",
    "   1,  2,  1,  1,  1,  1,  1,  1,  3,  3,  2,  3,  1,  2,  1,  2,  1,  2,\n",
    "   2,  1,  3,  3,  2,  3,  1,  3,  1,  1,  3,  1,  1,  1,  1,  3,  1,  3,\n",
    "   3,  1,  3,  2,  1,  1,  1,  2,  2,  3,  1,  1,  2,  3,  3,  1,  3,  1,\n",
    "   2,  3,  1,  3,  3,  3,  1,  1,  1,]\n",
    "\n",
    "cm = confusion_matrix(y_true, y_pred)\n",
    "cm_normalized = cm.astype('float') / cm.sum(axis=1)[:, np.newaxis]\n",
    "plot_confusion_matrix(cm_normalized)\n",
    "print(cm)\n",
    "print('Accuracy:', accuracy_score(y_true, y_pred))\n",
    "print(classification_report(y_true, y_pred))"
   ]
  },
  {
   "cell_type": "markdown",
   "metadata": {},
   "source": [
    "#### kNN"
   ]
  },
  {
   "cell_type": "code",
   "execution_count": 42,
   "metadata": {
    "collapsed": false,
    "scrolled": false
   },
   "outputs": [
    {
     "name": "stdout",
     "output_type": "stream",
     "text": [
      "[[16 18]\n",
      " [23 60]]\n",
      "Accuracy: 0.649572649573\n",
      "             precision    recall  f1-score   support\n",
      "\n",
      "          1       0.41      0.47      0.44        34\n",
      "          2       0.77      0.72      0.75        83\n",
      "\n",
      "avg / total       0.66      0.65      0.66       117\n",
      "\n"
     ]
    },
    {
     "data": {
      "image/png": "[encoded data removed]",
      "text/plain": [
       "<matplotlib.figure.Figure at 0x5be5af5748>"
      ]
     },
     "metadata": {},
     "output_type": "display_data"
    }
   ],
   "source": [
    "y_true = bins\n",
    "y_pred = [ 1,  1,  2,  2,  1,  1,  2,  2,  1,  2,  1,  2,  1,  2,  2,  2,  2,  1,\n",
    "   2,  2,  2,  2,  2,  2,  1,  2,  2,  2,  2,  2,  2,  2,  2,  2,  2,  2,\n",
    "   2,  2,  1,  2,  2,  1,  1,  2,  2,  1,  2,  2,  2,  1,  2,  1,  1,  2,\n",
    "   1,  1,  1,  1,  2,  1,  1,  1,  1,  2,  2,  2,  2,  2,  2,  2,  2,  1,\n",
    "   2,  2,  2,  2,  2,  2,  2,  2,  2,  1,  2,  1,  2,  1,  1,  2,  2,  2,\n",
    "   2,  2,  2,  1,  1,  1,  2,  2,  2,  2,  1,  2,  2,  2,  1,  2,  2,  1,\n",
    "   1,  2,  1,  2,  2,  2,  1,  2,  1,]\n",
    "\n",
    "cm = confusion_matrix(y_true, y_pred)\n",
    "cm_normalized = cm.astype('float') / cm.sum(axis=1)[:, np.newaxis]\n",
    "plot_confusion_matrix(cm_normalized)\n",
    "print(cm)\n",
    "print('Accuracy:', accuracy_score(y_true, y_pred))\n",
    "print(classification_report(y_true, y_pred))"
   ]
  },
  {
   "cell_type": "code",
   "execution_count": 45,
   "metadata": {
    "collapsed": false,
    "scrolled": false
   },
   "outputs": [
    {
     "name": "stdout",
     "output_type": "stream",
     "text": [
      "[[ 9  9  3]\n",
      " [12 13  9]\n",
      " [ 8 30 24]]\n",
      "Accuracy: 0.393162393162\n",
      "             precision    recall  f1-score   support\n",
      "\n",
      "          1       0.31      0.43      0.36        21\n",
      "          2       0.25      0.38      0.30        34\n",
      "          3       0.67      0.39      0.49        62\n",
      "\n",
      "avg / total       0.48      0.39      0.41       117\n",
      "\n"
     ]
    },
    {
     "data": {
      "image/png": "[encoded data removed]",
      "text/plain": [
       "<matplotlib.figure.Figure at 0x5be5a950f0>"
      ]
     },
     "metadata": {},
     "output_type": "display_data"
    }
   ],
   "source": [
    "y_true = bins\n",
    "y_pred = [ 1,  1,  2,  3,  1,  2,  3,  2,  1,  2,  1,  3,  1,  2,  3,  2,  2,  1,\n",
    "   2,  3,  3,  3,  3,  3,  1,  1,  3,  3,  2,  1,  2,  3,  2,  2,  2,  3,\n",
    "   3,  1,  2,  3,  2,  2,  1,  2,  2,  2,  2,  1,  1,  2,  2,  2,  1,  2,\n",
    "   2,  2,  2,  1,  2,  1,  1,  1,  2,  3,  2,  3,  1,  2,  2,  2,  2,  2,\n",
    "   2,  2,  3,  3,  2,  3,  2,  3,  3,  2,  3,  1,  3,  1,  1,  3,  2,  3,\n",
    "   3,  2,  2,  2,  2,  2,  2,  2,  2,  3,  1,  3,  2,  3,  2,  3,  3,  1,\n",
    "   1,  3,  1,  1,  3,  3,  2,  3,  1,]\n",
    "\n",
    "cm = confusion_matrix(y_true, y_pred)\n",
    "cm_normalized = cm.astype('float') / cm.sum(axis=1)[:, np.newaxis]\n",
    "plot_confusion_matrix(cm_normalized)\n",
    "print(cm)\n",
    "print('Accuracy:', accuracy_score(y_true, y_pred))\n",
    "print(classification_report(y_true, y_pred))"
   ]
  },
  {
   "cell_type": "markdown",
   "metadata": {},
   "source": [
    "### Rest 2 (improved preprocessing)"
   ]
  },
  {
   "cell_type": "markdown",
   "metadata": {},
   "source": [
    "#### PCA + SVM"
   ]
  },
  {
   "cell_type": "code",
   "execution_count": 91,
   "metadata": {
    "collapsed": false,
    "scrolled": false
   },
   "outputs": [
    {
     "name": "stdout",
     "output_type": "stream",
     "text": [
      "[[ 1 31]\n",
      " [ 4 78]]\n",
      "Accuracy: 0.69298245614\n",
      "             precision    recall  f1-score   support\n",
      "\n",
      "          1       0.20      0.03      0.05        32\n",
      "          2       0.72      0.95      0.82        82\n",
      "\n",
      "avg / total       0.57      0.69      0.60       114\n",
      "\n"
     ]
    },
    {
     "data": {
      "image/png": "[encoded data removed]",
      "text/plain": [
       "<matplotlib.figure.Figure at 0x5be60fbd68>"
      ]
     },
     "metadata": {},
     "output_type": "display_data"
    }
   ],
   "source": [
    "y_true = bins\n",
    "y_pred = [ 1,  2,  2,  2,  2,  2,  2,  2,  2,  2,  2,  2,  2,  1,  2,  2,  2,  2,\n",
    "   2,  2,  2,  2,  2,  2,  2,  2,  2,  2,  2,  2,  2,  2,  2,  2,  2,  2,\n",
    "   2,  2,  2,  2,  2,  2,  2,  2,  1,  2,  2,  2,  2,  1,  2,  2,  2,  2,\n",
    "   2,  2,  2,  2,  2,  2,  2,  2,  2,  2,  2,  2,  2,  2,  2,  2,  2,  2,\n",
    "   2,  2,  2,  2,  1,  2,  2,  2,  2,  2,  2,  2,  2,  2,  2,  2,  2,  2,\n",
    "   2,  2,  2,  2,  2,  2,  2,  2,  2,  2,  2,  2,  2,  2,  2,  2,  2,  2,\n",
    "   2,  2,  2,  2,  2,  2,]\n",
    "\n",
    "cm = confusion_matrix(y_true, y_pred)\n",
    "cm_normalized = cm.astype('float') / cm.sum(axis=1)[:, np.newaxis]\n",
    "plot_confusion_matrix(cm_normalized)\n",
    "print(cm)\n",
    "print('Accuracy:', accuracy_score(y_true, y_pred))\n",
    "print(classification_report(y_true, y_pred))"
   ]
  },
  {
   "cell_type": "code",
   "execution_count": 93,
   "metadata": {
    "collapsed": false,
    "scrolled": false
   },
   "outputs": [
    {
     "name": "stdout",
     "output_type": "stream",
     "text": [
      "[[ 0  5 15]\n",
      " [ 0  6 26]\n",
      " [ 1  6 55]]\n",
      "Accuracy: 0.535087719298\n",
      "             precision    recall  f1-score   support\n",
      "\n",
      "          1       0.00      0.00      0.00        20\n",
      "          2       0.35      0.19      0.24        32\n",
      "          3       0.57      0.89      0.70        62\n",
      "\n",
      "avg / total       0.41      0.54      0.45       114\n",
      "\n"
     ]
    },
    {
     "data": {
      "image/png": "[encoded data removed]",
      "text/plain": [
       "<matplotlib.figure.Figure at 0x5bdc07a898>"
      ]
     },
     "metadata": {},
     "output_type": "display_data"
    }
   ],
   "source": [
    "y_true = bins\n",
    "y_pred = [ 2,  3,  3,  3,  3,  3,  3,  3,  3,  3,  3,  3,  3,  2,  3,  3,  3,  3,\n",
    "   3,  3,  3,  3,  3,  3,  2,  3,  3,  3,  2,  3,  3,  3,  3,  2,  3,  3,\n",
    "   3,  3,  3,  2,  3,  3,  3,  2,  1,  3,  2,  3,  3,  2,  3,  3,  3,  3,\n",
    "   3,  3,  3,  3,  3,  3,  3,  3,  3,  3,  3,  3,  2,  2,  3,  3,  3,  3,\n",
    "   3,  3,  3,  3,  3,  3,  3,  3,  2,  2,  3,  2,  3,  3,  3,  3,  3,  3,\n",
    "   3,  3,  3,  3,  3,  2,  3,  3,  3,  3,  2,  3,  3,  3,  3,  3,  3,  3,\n",
    "   3,  3,  3,  2,  3,  3,]\n",
    "\n",
    "cm = confusion_matrix(y_true, y_pred)\n",
    "cm_normalized = cm.astype('float') / cm.sum(axis=1)[:, np.newaxis]\n",
    "plot_confusion_matrix(cm_normalized)\n",
    "print(cm)\n",
    "print('Accuracy:', accuracy_score(y_true, y_pred))\n",
    "print(classification_report(y_true, y_pred))"
   ]
  },
  {
   "cell_type": "markdown",
   "metadata": {},
   "source": [
    "#### PCA + kNN"
   ]
  },
  {
   "cell_type": "code",
   "execution_count": 59,
   "metadata": {
    "collapsed": false,
    "scrolled": false
   },
   "outputs": [
    {
     "name": "stdout",
     "output_type": "stream",
     "text": [
      "[[10 22]\n",
      " [27 55]]\n",
      "Accuracy: 0.570175438596\n",
      "             precision    recall  f1-score   support\n",
      "\n",
      "          1       0.27      0.31      0.29        32\n",
      "          2       0.71      0.67      0.69        82\n",
      "\n",
      "avg / total       0.59      0.57      0.58       114\n",
      "\n"
     ]
    },
    {
     "data": {
      "image/png": "[encoded data removed]",
      "text/plain": [
       "<matplotlib.figure.Figure at 0x5be61dfb38>"
      ]
     },
     "metadata": {},
     "output_type": "display_data"
    }
   ],
   "source": [
    "y_true = bins\n",
    "y_pred = [ 1,  1,  2,  2,  2,  1,  2,  1,  2,  1,  2,  2,  1,  1,  2,  2,  2,  2,\n",
    "   1,  2,  1,  2,  2,  2,  2,  2,  2,  2,  2,  2,  2,  2,  1,  2,  1,  1,\n",
    "   2,  2,  2,  1,  2,  2,  1,  1,  2,  2,  1,  2,  2,  2,  2,  1,  2,  1,\n",
    "   1,  2,  2,  1,  1,  1,  2,  2,  2,  1,  2,  2,  2,  1,  2,  2,  2,  1,\n",
    "   2,  2,  1,  2,  2,  2,  2,  2,  1,  2,  1,  2,  1,  1,  2,  1,  2,  2,\n",
    "   2,  1,  1,  2,  1,  1,  2,  2,  1,  1,  2,  2,  2,  2,  2,  2,  2,  2,\n",
    "   2,  2,  2,  2,  2,  2,]\n",
    "\n",
    "cm = confusion_matrix(y_true, y_pred)\n",
    "cm_normalized = cm.astype('float') / cm.sum(axis=1)[:, np.newaxis]\n",
    "plot_confusion_matrix(cm_normalized)\n",
    "print(cm)\n",
    "print('Accuracy:', accuracy_score(y_true, y_pred))\n",
    "print(classification_report(y_true, y_pred))"
   ]
  },
  {
   "cell_type": "code",
   "execution_count": 49,
   "metadata": {
    "collapsed": false,
    "scrolled": false
   },
   "outputs": [
    {
     "name": "stdout",
     "output_type": "stream",
     "text": [
      "[[ 0 17  3]\n",
      " [ 4 17 11]\n",
      " [ 5 32 25]]\n",
      "Accuracy: 0.368421052632\n",
      "             precision    recall  f1-score   support\n",
      "\n",
      "          1       0.00      0.00      0.00        20\n",
      "          2       0.26      0.53      0.35        32\n",
      "          3       0.64      0.40      0.50        62\n",
      "\n",
      "avg / total       0.42      0.37      0.37       114\n",
      "\n"
     ]
    },
    {
     "data": {
      "image/png": "[encoded data removed]",
      "text/plain": [
       "<matplotlib.figure.Figure at 0x5be5fc1588>"
      ]
     },
     "metadata": {},
     "output_type": "display_data"
    }
   ],
   "source": [
    "y_true = bins\n",
    "y_pred = [ 2,  2,  3,  2,  3,  2,  2,  1,  3,  2,  2,  3,  2,  2,  3,  2,  2,  3,\n",
    "   2,  3,  2,  2,  3,  3,  3,  2,  3,  2,  2,  2,  1,  3,  2,  2,  2,  2,\n",
    "   3,  3,  2,  2,  3,  2,  2,  2,  2,  2,  2,  3,  3,  2,  2,  2,  2,  2,\n",
    "   1,  3,  1,  2,  2,  1,  2,  2,  3,  2,  2,  1,  2,  2,  3,  3,  2,  2,\n",
    "   3,  3,  2,  3,  1,  3,  3,  3,  2,  3,  2,  3,  2,  2,  3,  2,  3,  1,\n",
    "   3,  2,  2,  2,  2,  2,  2,  2,  2,  2,  2,  3,  1,  3,  3,  2,  2,  2,\n",
    "   2,  3,  2,  3,  3,  3,]\n",
    "\n",
    "cm = confusion_matrix(y_true, y_pred)\n",
    "cm_normalized = cm.astype('float') / cm.sum(axis=1)[:, np.newaxis]\n",
    "plot_confusion_matrix(cm_normalized)\n",
    "print(cm)\n",
    "print('Accuracy:', accuracy_score(y_true, y_pred))\n",
    "print(classification_report(y_true, y_pred))"
   ]
  },
  {
   "cell_type": "markdown",
   "metadata": {},
   "source": [
    "#### kNN"
   ]
  },
  {
   "cell_type": "code",
   "execution_count": 60,
   "metadata": {
    "collapsed": false,
    "scrolled": false
   },
   "outputs": [
    {
     "name": "stdout",
     "output_type": "stream",
     "text": [
      "[[ 4 28]\n",
      " [12 70]]\n",
      "Accuracy: 0.649122807018\n",
      "             precision    recall  f1-score   support\n",
      "\n",
      "          1       0.25      0.12      0.17        32\n",
      "          2       0.71      0.85      0.78        82\n",
      "\n",
      "avg / total       0.58      0.65      0.61       114\n",
      "\n"
     ]
    },
    {
     "data": {
      "image/png": "[encoded data removed]",
      "text/plain": [
       "<matplotlib.figure.Figure at 0x5be61885f8>"
      ]
     },
     "metadata": {},
     "output_type": "display_data"
    }
   ],
   "source": [
    "y_true = bins\n",
    "y_pred = [ 1,  2,  2,  2,  2,  2,  2,  2,  2,  2,  2,  2,  1,  2,  2,  2,  2,  2,\n",
    "   1,  2,  2,  1,  2,  2,  2,  2,  2,  2,  2,  2,  2,  2,  2,  2,  2,  2,\n",
    "   2,  2,  2,  1,  2,  2,  1,  1,  1,  2,  2,  2,  2,  2,  2,  1,  2,  2,\n",
    "   2,  2,  2,  2,  2,  2,  2,  1,  2,  1,  2,  2,  2,  1,  2,  2,  2,  2,\n",
    "   2,  2,  2,  2,  2,  2,  2,  2,  1,  2,  2,  2,  2,  2,  2,  2,  2,  2,\n",
    "   2,  1,  2,  2,  2,  2,  2,  2,  2,  1,  2,  2,  2,  2,  1,  2,  2,  2,\n",
    "   2,  2,  2,  2,  2,  2,]\n",
    "\n",
    "cm = confusion_matrix(y_true, y_pred)\n",
    "cm_normalized = cm.astype('float') / cm.sum(axis=1)[:, np.newaxis]\n",
    "plot_confusion_matrix(cm_normalized)\n",
    "print(cm)\n",
    "print('Accuracy:', accuracy_score(y_true, y_pred))\n",
    "print(classification_report(y_true, y_pred))"
   ]
  },
  {
   "cell_type": "code",
   "execution_count": 83,
   "metadata": {
    "collapsed": false,
    "scrolled": false
   },
   "outputs": [
    {
     "name": "stdout",
     "output_type": "stream",
     "text": [
      "[[ 0 14  6]\n",
      " [ 0 18 14]\n",
      " [ 0 36 26]]\n",
      "Accuracy: 0.385964912281\n",
      "             precision    recall  f1-score   support\n",
      "\n",
      "          1       0.00      0.00      0.00        20\n",
      "          2       0.26      0.56      0.36        32\n",
      "          3       0.57      0.42      0.48        62\n",
      "\n",
      "avg / total       0.38      0.39      0.36       114\n",
      "\n"
     ]
    },
    {
     "name": "stderr",
     "output_type": "stream",
     "text": [
      "C:\\Users\\Paola\\Anaconda3\\lib\\site-packages\\sklearn\\metrics\\classification.py:1074: UndefinedMetricWarning: Precision and F-score are ill-defined and being set to 0.0 in labels with no predicted samples.\n",
      "  'precision', 'predicted', average, warn_for)\n"
     ]
    },
    {
     "data": {
      "image/png": "[encoded data removed]",
      "text/plain": [
       "<matplotlib.figure.Figure at 0x5be5a1f2b0>"
      ]
     },
     "metadata": {},
     "output_type": "display_data"
    }
   ],
   "source": [
    "y_true = bins\n",
    "y_pred = [ 2,  3,  3,  2,  3,  2,  2,  2,  3,  2,  2,  3,  2,  2,  2,  2,  3,  2,\n",
    "   2,  3,  3,  2,  3,  3,  3,  2,  3,  2,  2,  2,  2,  3,  3,  2,  2,  3,\n",
    "   2,  3,  2,  2,  3,  2,  2,  2,  2,  2,  2,  3,  3,  2,  2,  2,  2,  2,\n",
    "   3,  2,  2,  2,  3,  3,  2,  2,  3,  2,  3,  2,  2,  2,  3,  3,  2,  2,\n",
    "   3,  3,  2,  3,  2,  2,  3,  3,  2,  3,  2,  3,  3,  2,  3,  2,  3,  2,\n",
    "   3,  2,  2,  2,  2,  2,  2,  3,  3,  2,  3,  2,  2,  3,  2,  2,  2,  2,\n",
    "   3,  3,  2,  3,  3,  3,]\n",
    "\n",
    "cm = confusion_matrix(y_true, y_pred)\n",
    "cm_normalized = cm.astype('float') / cm.sum(axis=1)[:, np.newaxis]\n",
    "plot_confusion_matrix(cm_normalized)\n",
    "print(cm)\n",
    "print('Accuracy:', accuracy_score(y_true, y_pred))\n",
    "print(classification_report(y_true, y_pred))"
   ]
  },
  {
   "cell_type": "markdown",
   "metadata": {},
   "source": [
    "### Extended data set"
   ]
  },
  {
   "cell_type": "markdown",
   "metadata": {},
   "source": [
    "#### PCA + SVM"
   ]
  },
  {
   "cell_type": "code",
   "execution_count": 96,
   "metadata": {
    "collapsed": false,
    "scrolled": false
   },
   "outputs": [
    {
     "name": "stdout",
     "output_type": "stream",
     "text": [
      "[[ 43  94]\n",
      " [ 64 234]]\n",
      "Accuracy: 0.636781609195\n",
      "             precision    recall  f1-score   support\n",
      "\n",
      "          1       0.40      0.31      0.35       137\n",
      "          2       0.71      0.79      0.75       298\n",
      "\n",
      "avg / total       0.62      0.64      0.62       435\n",
      "\n"
     ]
    },
    {
     "data": {
      "image/png": "[encoded data removed]",
      "text/plain": [
       "<matplotlib.figure.Figure at 0x5bdc064208>"
      ]
     },
     "metadata": {},
     "output_type": "display_data"
    }
   ],
   "source": [
    "y_true = bins\n",
    "y_pred = [ 2,  2,  2,  2,  2,  2,  1,  2,  1,  1,  2,  2,  1,  2,  1,  1,  2,  2,\n",
    "   1,  1,  2,  2,  1,  2,  2,  1,  2,  2,  1,  2,  2,  2,  2,  2,  2,  2,\n",
    "   2,  2,  1,  2,  2,  2,  2,  2,  1,  1,  2,  1,  2,  2,  2,  2,  2,  1,\n",
    "   1,  2,  1,  2,  1,  2,  1,  2,  2,  2,  2,  1,  2,  1,  2,  1,  2,  2,\n",
    "   2,  2,  1,  2,  2,  2,  2,  2,  1,  2,  2,  1,  2,  2,  1,  2,  2,  2,\n",
    "   2,  2,  1,  2,  2,  2,  2,  2,  1,  2,  2,  2,  2,  2,  1,  2,  2,  2,\n",
    "   2,  2,  1,  2,  2,  2,  2,  2,  1,  2,  1,  1,  2,  2,  1,  1,  2,  1,\n",
    "   2,  2,  2,  1,  2,  2,  2,  2,  1,  2,  2,  2,  1,  2,  1,  2,  2,  2,\n",
    "   2,  2,  2,  1,  1,  1,  2,  1,  2,  2,  1,  2,  2,  1,  2,  2,  2,  2,\n",
    "   2,  2,  2,  2,  2,  2,  1,  1,  2,  2,  2,  1,  2,  1,  2,  2,  2,  2,\n",
    "   2,  1,  2,  1,  2,  2,  1,  1,  2,  2,  2,  2,  2,  2,  2,  2,  2,  2,\n",
    "   1,  2,  2,  2,  2,  2,  1,  2,  2,  1,  2,  2,  2,  2,  2,  2,  2,  2,\n",
    "   2,  1,  1,  1,  2,  2,  2,  1,  2,  2,  2,  2,  1,  1,  2,  1,  2,  2,\n",
    "   2,  1,  1,  2,  2,  2,  2,  2,  1,  2,  1,  2,  1,  2,  2,  2,  2,  2,\n",
    "   2,  2,  1,  2,  2,  1,  2,  2,  2,  2,  2,  2,  1,  2,  2,  2,  2,  2,\n",
    "   2,  2,  2,  1,  2,  2,  2,  2,  2,  2,  2,  2,  1,  1,  2,  2,  2,  2,\n",
    "   1,  1,  1,  2,  2,  2,  2,  1,  2,  1,  2,  2,  2,  1,  2,  2,  1,  2,\n",
    "   1,  2,  2,  1,  1,  1,  2,  1,  2,  2,  2,  2,  2,  2,  2,  2,  2,  2,\n",
    "   2,  2,  2,  2,  2,  2,  1,  2,  2,  2,  2,  2,  1,  1,  2,  2,  2,  1,\n",
    "   2,  1,  2,  2,  1,  2,  2,  2,  2,  2,  1,  2,  2,  2,  2,  2,  2,  2,\n",
    "   2,  2,  2,  2,  1,  2,  1,  2,  2,  2,  2,  2,  2,  2,  2,  2,  2,  2,\n",
    "   2,  2,  2,  2,  2,  2,  2,  2,  2,  2,  2,  2,  2,  1,  2,  1,  2,  2,\n",
    "   1,  2,  2,  2,  2,  2,  2,  2,  2,  2,  2,  2,  2,  2,  1,  2,  2,  2,\n",
    "   1,  1,  2,  2,  2,  2,  2,  1,  2,  2,  2,  1,  2,  2,  2,  1,  2,  2,\n",
    "   1,  2,  2,]\n",
    "\n",
    "cm = confusion_matrix(y_true, y_pred)\n",
    "cm_normalized = cm.astype('float') / cm.sum(axis=1)[:, np.newaxis]\n",
    "plot_confusion_matrix(cm_normalized)\n",
    "print(cm)\n",
    "print('Accuracy:', accuracy_score(y_true, y_pred))\n",
    "print(classification_report(y_true, y_pred))"
   ]
  },
  {
   "cell_type": "code",
   "execution_count": 98,
   "metadata": {
    "collapsed": false,
    "scrolled": false
   },
   "outputs": [
    {
     "name": "stdout",
     "output_type": "stream",
     "text": [
      "[[ 14  21  38]\n",
      " [ 19  50  66]\n",
      " [ 21  64 142]]\n",
      "Accuracy: 0.473563218391\n",
      "             precision    recall  f1-score   support\n",
      "\n",
      "          1       0.26      0.19      0.22        73\n",
      "          2       0.37      0.37      0.37       135\n",
      "          3       0.58      0.63      0.60       227\n",
      "\n",
      "avg / total       0.46      0.47      0.47       435\n",
      "\n"
     ]
    },
    {
     "data": {
      "image/png": "[encoded data removed]",
      "text/plain": [
       "<matplotlib.figure.Figure at 0x5be61ea390>"
      ]
     },
     "metadata": {},
     "output_type": "display_data"
    }
   ],
   "source": [
    "y_true = bins\n",
    "y_pred = [ 2,  2,  3,  3,  3,  3,  2,  3,  1,  2,  3,  3,  2,  2,  1,  2,  2,  3,\n",
    "   1,  3,  3,  2,  1,  3,  3,  1,  3,  3,  1,  3,  3,  2,  2,  3,  3,  3,\n",
    "   3,  2,  2,  3,  2,  3,  3,  1,  2,  2,  3,  2,  3,  3,  3,  2,  2,  2,\n",
    "   2,  1,  2,  2,  1,  1,  2,  2,  3,  3,  2,  2,  2,  1,  3,  1,  3,  1,\n",
    "   2,  3,  2,  3,  3,  3,  3,  3,  2,  3,  3,  2,  3,  3,  3,  3,  3,  2,\n",
    "   3,  3,  3,  2,  3,  3,  2,  2,  1,  3,  3,  3,  2,  2,  2,  3,  3,  3,\n",
    "   2,  3,  2,  3,  2,  3,  2,  3,  2,  2,  2,  1,  3,  2,  2,  1,  2,  2,\n",
    "   2,  3,  3,  3,  3,  2,  3,  1,  3,  2,  2,  3,  2,  3,  2,  3,  3,  3,\n",
    "   3,  1,  3,  3,  1,  1,  3,  3,  3,  2,  3,  2,  2,  2,  3,  3,  3,  2,\n",
    "   3,  2,  3,  3,  2,  3,  2,  1,  3,  2,  3,  2,  3,  1,  3,  2,  3,  3,\n",
    "   3,  1,  3,  1,  3,  3,  2,  2,  2,  3,  3,  3,  3,  2,  2,  2,  3,  2,\n",
    "   2,  3,  3,  2,  3,  2,  2,  2,  2,  2,  3,  3,  3,  3,  3,  2,  3,  3,\n",
    "   3,  1,  1,  3,  3,  3,  2,  1,  3,  3,  2,  2,  1,  1,  2,  2,  3,  3,\n",
    "   3,  3,  2,  3,  3,  3,  3,  3,  1,  3,  3,  3,  1,  3,  3,  3,  3,  3,\n",
    "   3,  2,  1,  3,  3,  1,  2,  3,  3,  2,  3,  3,  3,  2,  2,  3,  2,  3,\n",
    "   3,  3,  3,  1,  1,  3,  2,  3,  3,  3,  3,  3,  2,  3,  3,  3,  3,  3,\n",
    "   2,  1,  2,  3,  3,  3,  2,  2,  3,  1,  3,  1,  3,  2,  3,  2,  2,  2,\n",
    "   1,  2,  3,  1,  3,  1,  2,  1,  3,  3,  3,  3,  3,  3,  3,  3,  3,  3,\n",
    "   1,  2,  3,  3,  3,  2,  1,  2,  2,  3,  3,  3,  2,  1,  3,  3,  3,  2,\n",
    "   3,  2,  3,  3,  2,  3,  3,  3,  3,  3,  1,  3,  3,  3,  1,  2,  3,  3,\n",
    "   3,  3,  3,  3,  3,  1,  3,  3,  2,  3,  3,  3,  3,  1,  2,  3,  3,  3,\n",
    "   3,  3,  3,  3,  3,  3,  1,  3,  2,  3,  2,  3,  3,  2,  2,  2,  3,  3,\n",
    "   2,  3,  3,  3,  3,  3,  3,  3,  3,  2,  3,  2,  1,  3,  3,  2,  3,  2,\n",
    "   2,  3,  3,  2,  3,  3,  2,  1,  3,  3,  3,  2,  1,  2,  1,  2,  2,  3,\n",
    "   2,  3,  3,]\n",
    "\n",
    "cm = confusion_matrix(y_true, y_pred)\n",
    "cm_normalized = cm.astype('float') / cm.sum(axis=1)[:, np.newaxis]\n",
    "plot_confusion_matrix(cm_normalized)\n",
    "print(cm)\n",
    "print('Accuracy:', accuracy_score(y_true, y_pred))\n",
    "print(classification_report(y_true, y_pred))"
   ]
  },
  {
   "cell_type": "markdown",
   "metadata": {},
   "source": [
    "#### PCA + kNN"
   ]
  },
  {
   "cell_type": "code",
   "execution_count": 64,
   "metadata": {
    "collapsed": false,
    "scrolled": false
   },
   "outputs": [
    {
     "name": "stdout",
     "output_type": "stream",
     "text": [
      "[[ 39  98]\n",
      " [ 69 229]]\n",
      "Accuracy: 0.616091954023\n",
      "             precision    recall  f1-score   support\n",
      "\n",
      "          1       0.36      0.28      0.32       137\n",
      "          2       0.70      0.77      0.73       298\n",
      "\n",
      "avg / total       0.59      0.62      0.60       435\n",
      "\n"
     ]
    },
    {
     "data": {
      "image/png": "[encoded data removed]",
      "text/plain": [
       "<matplotlib.figure.Figure at 0x5be5b56da0>"
      ]
     },
     "metadata": {},
     "output_type": "display_data"
    }
   ],
   "source": [
    "y_true = bins\n",
    "y_pred = [ 2,  2,  2,  2,  2,  2,  1,  2,  1,  2,  2,  2,  2,  1,  2,  2,  2,  2,\n",
    "   2,  2,  1,  1,  1,  2,  2,  1,  2,  1,  2,  2,  1,  1,  2,  1,  2,  1,\n",
    "   2,  2,  2,  1,  2,  2,  2,  1,  1,  2,  1,  1,  2,  1,  2,  2,  2,  1,\n",
    "   1,  1,  2,  1,  2,  1,  2,  2,  2,  2,  2,  2,  2,  2,  2,  2,  2,  2,\n",
    "   2,  1,  1,  2,  2,  2,  2,  2,  2,  1,  2,  1,  2,  1,  2,  2,  2,  2,\n",
    "   2,  1,  1,  2,  2,  2,  2,  2,  2,  2,  1,  1,  2,  2,  2,  2,  2,  2,\n",
    "   2,  1,  2,  2,  2,  2,  2,  1,  2,  2,  2,  1,  2,  2,  2,  2,  2,  2,\n",
    "   2,  2,  2,  2,  2,  2,  2,  1,  1,  2,  1,  2,  1,  2,  1,  2,  2,  2,\n",
    "   2,  2,  2,  2,  2,  2,  1,  2,  2,  1,  2,  2,  2,  2,  2,  2,  2,  1,\n",
    "   2,  2,  1,  2,  2,  2,  2,  1,  2,  2,  2,  2,  2,  2,  2,  1,  2,  2,\n",
    "   2,  2,  1,  2,  2,  2,  2,  2,  1,  2,  2,  2,  2,  1,  2,  2,  2,  2,\n",
    "   1,  2,  1,  1,  1,  1,  2,  2,  2,  2,  2,  2,  2,  2,  2,  2,  2,  2,\n",
    "   2,  2,  2,  2,  1,  1,  2,  2,  2,  2,  2,  2,  1,  1,  2,  2,  2,  2,\n",
    "   2,  2,  2,  2,  2,  1,  2,  2,  2,  2,  2,  2,  2,  1,  1,  2,  2,  2,\n",
    "   1,  2,  2,  1,  2,  2,  2,  2,  2,  2,  2,  2,  2,  2,  2,  2,  1,  2,\n",
    "   1,  2,  2,  2,  2,  2,  1,  2,  1,  2,  2,  2,  2,  1,  1,  1,  2,  1,\n",
    "   1,  1,  1,  2,  2,  2,  2,  2,  2,  2,  2,  2,  1,  1,  2,  2,  1,  2,\n",
    "   1,  2,  2,  1,  2,  2,  2,  1,  2,  2,  2,  1,  2,  1,  2,  1,  2,  2,\n",
    "   2,  1,  2,  1,  2,  1,  2,  2,  2,  2,  2,  2,  2,  1,  2,  2,  2,  2,\n",
    "   2,  2,  1,  2,  1,  1,  2,  1,  2,  2,  2,  2,  2,  1,  2,  2,  2,  2,\n",
    "   2,  2,  2,  2,  2,  2,  1,  2,  2,  2,  2,  2,  2,  2,  2,  1,  2,  2,\n",
    "   2,  2,  1,  2,  2,  2,  2,  2,  1,  2,  1,  1,  2,  1,  2,  2,  2,  2,\n",
    "   2,  2,  2,  2,  2,  1,  2,  2,  2,  2,  2,  2,  2,  2,  1,  1,  2,  2,\n",
    "   2,  1,  2,  2,  2,  2,  1,  2,  2,  2,  2,  2,  2,  2,  1,  2,  1,  1,\n",
    "   2,  2,  1,]\n",
    "\n",
    "cm = confusion_matrix(y_true, y_pred)\n",
    "cm_normalized = cm.astype('float') / cm.sum(axis=1)[:, np.newaxis]\n",
    "plot_confusion_matrix(cm_normalized)\n",
    "print(cm)\n",
    "print('Accuracy:', accuracy_score(y_true, y_pred))\n",
    "print(classification_report(y_true, y_pred))"
   ]
  },
  {
   "cell_type": "code",
   "execution_count": 68,
   "metadata": {
    "collapsed": false,
    "scrolled": false
   },
   "outputs": [
    {
     "name": "stdout",
     "output_type": "stream",
     "text": [
      "[[ 23  20  30]\n",
      " [ 27  43  65]\n",
      " [ 51  62 114]]\n",
      "Accuracy: 0.413793103448\n",
      "             precision    recall  f1-score   support\n",
      "\n",
      "          1       0.23      0.32      0.26        73\n",
      "          2       0.34      0.32      0.33       135\n",
      "          3       0.55      0.50      0.52       227\n",
      "\n",
      "avg / total       0.43      0.41      0.42       435\n",
      "\n"
     ]
    },
    {
     "data": {
      "image/png": "[encoded data removed]",
      "text/plain": [
       "<matplotlib.figure.Figure at 0x5be50f7278>"
      ]
     },
     "metadata": {},
     "output_type": "display_data"
    }
   ],
   "source": [
    "y_true = bins\n",
    "y_pred =[ 3,  3,  3,  3,  2,  3,  1,  3,  2,  3,  1,  3,  3,  1,  2,  3,  3,  1,\n",
    "   3,  3,  1,  1,  1,  3,  3,  1,  3,  2,  2,  3,  2,  1,  2,  1,  2,  2,\n",
    "   3,  1,  3,  1,  3,  3,  2,  2,  2,  1,  2,  1,  3,  1,  3,  2,  2,  1,\n",
    "   2,  1,  3,  2,  3,  1,  2,  3,  3,  2,  3,  2,  2,  2,  3,  3,  3,  1,\n",
    "   3,  1,  2,  1,  3,  3,  3,  3,  3,  1,  2,  1,  1,  2,  3,  3,  3,  3,\n",
    "   2,  2,  1,  1,  3,  3,  2,  3,  2,  2,  2,  2,  3,  3,  3,  2,  3,  3,\n",
    "   3,  1,  3,  3,  3,  3,  1,  2,  1,  3,  3,  2,  3,  3,  2,  2,  3,  2,\n",
    "   2,  3,  3,  3,  3,  2,  3,  1,  1,  3,  1,  2,  1,  2,  1,  3,  3,  3,\n",
    "   1,  1,  3,  3,  3,  1,  2,  2,  3,  2,  3,  2,  3,  3,  2,  3,  1,  2,\n",
    "   2,  3,  1,  3,  1,  3,  3,  2,  3,  3,  1,  2,  3,  3,  3,  2,  3,  2,\n",
    "   2,  2,  2,  3,  2,  3,  1,  3,  2,  2,  3,  1,  3,  2,  3,  2,  3,  3,\n",
    "   1,  2,  1,  2,  2,  1,  3,  1,  3,  3,  3,  3,  3,  3,  3,  2,  3,  3,\n",
    "   3,  3,  3,  3,  2,  1,  3,  2,  3,  3,  1,  3,  1,  2,  2,  2,  2,  3,\n",
    "   3,  3,  3,  2,  3,  1,  3,  3,  3,  3,  1,  2,  2,  1,  1,  3,  3,  3,\n",
    "   2,  3,  3,  1,  3,  3,  2,  3,  1,  3,  2,  3,  2,  3,  2,  3,  2,  3,\n",
    "   1,  3,  3,  1,  3,  3,  1,  3,  2,  3,  2,  3,  3,  1,  1,  2,  2,  1,\n",
    "   1,  2,  1,  3,  1,  3,  3,  3,  2,  2,  3,  1,  1,  1,  3,  3,  1,  2,\n",
    "   1,  2,  3,  2,  3,  3,  3,  1,  3,  3,  3,  1,  3,  2,  3,  1,  3,  3,\n",
    "   3,  2,  3,  1,  2,  2,  1,  2,  3,  3,  3,  3,  2,  1,  3,  3,  3,  3,\n",
    "   2,  2,  2,  2,  1,  1,  2,  1,  3,  2,  1,  1,  3,  1,  3,  2,  2,  3,\n",
    "   3,  1,  2,  1,  3,  1,  1,  2,  3,  1,  2,  3,  2,  3,  3,  1,  2,  2,\n",
    "   2,  3,  1,  3,  3,  2,  2,  3,  1,  3,  2,  1,  3,  1,  3,  3,  2,  3,\n",
    "   1,  2,  2,  3,  3,  2,  3,  2,  3,  3,  3,  3,  3,  1,  1,  2,  3,  2,\n",
    "   3,  1,  2,  3,  3,  3,  1,  3,  3,  2,  2,  3,  3,  3,  1,  3,  1,  2,\n",
    "   1,  3,  1,]\n",
    "\n",
    "cm = confusion_matrix(y_true, y_pred)\n",
    "cm_normalized = cm.astype('float') / cm.sum(axis=1)[:, np.newaxis]\n",
    "plot_confusion_matrix(cm_normalized)\n",
    "print(cm)\n",
    "print('Accuracy:', accuracy_score(y_true, y_pred))\n",
    "print(classification_report(y_true, y_pred))"
   ]
  },
  {
   "cell_type": "markdown",
   "metadata": {},
   "source": [
    "#### kNN"
   ]
  },
  {
   "cell_type": "code",
   "execution_count": 65,
   "metadata": {
    "collapsed": false,
    "scrolled": false
   },
   "outputs": [
    {
     "name": "stdout",
     "output_type": "stream",
     "text": [
      "[[ 30 107]\n",
      " [ 46 252]]\n",
      "Accuracy: 0.648275862069\n",
      "             precision    recall  f1-score   support\n",
      "\n",
      "          1       0.39      0.22      0.28       137\n",
      "          2       0.70      0.85      0.77       298\n",
      "\n",
      "avg / total       0.61      0.65      0.61       435\n",
      "\n"
     ]
    },
    {
     "data": {
      "image/png": "[encoded data removed]",
      "text/plain": [
       "<matplotlib.figure.Figure at 0x5be024de80>"
      ]
     },
     "metadata": {},
     "output_type": "display_data"
    }
   ],
   "source": [
    "y_true = bins\n",
    "y_pred =[ 2,  2,  2,  2,  2,  2,  2,  2,  2,  2,  2,  2,  2,  1,  1,  1,  2,  2,\n",
    "   2,  2,  1,  1,  2,  2,  2,  2,  2,  2,  2,  2,  2,  2,  2,  2,  2,  1,\n",
    "   1,  2,  2,  2,  2,  2,  2,  1,  1,  2,  2,  1,  2,  1,  2,  2,  2,  1,\n",
    "   1,  1,  2,  1,  2,  2,  1,  2,  2,  2,  2,  2,  2,  2,  2,  2,  2,  2,\n",
    "   2,  2,  2,  2,  2,  2,  2,  2,  2,  1,  2,  1,  2,  2,  2,  2,  2,  2,\n",
    "   2,  1,  1,  1,  2,  2,  2,  2,  2,  2,  1,  2,  2,  2,  2,  2,  2,  2,\n",
    "   2,  1,  2,  2,  2,  2,  2,  2,  2,  2,  2,  2,  2,  2,  2,  2,  2,  2,\n",
    "   2,  2,  2,  2,  2,  2,  2,  1,  1,  2,  2,  2,  2,  2,  1,  2,  2,  2,\n",
    "   2,  2,  2,  2,  2,  1,  1,  2,  1,  1,  2,  2,  2,  2,  2,  2,  2,  2,\n",
    "   2,  2,  2,  2,  2,  2,  2,  2,  2,  2,  2,  2,  2,  2,  2,  2,  2,  2,\n",
    "   2,  2,  1,  2,  2,  2,  2,  2,  1,  2,  2,  2,  2,  1,  2,  2,  2,  2,\n",
    "   1,  2,  1,  1,  2,  2,  2,  2,  2,  2,  2,  2,  2,  2,  2,  2,  2,  2,\n",
    "   2,  2,  2,  2,  1,  2,  2,  2,  2,  2,  2,  2,  2,  1,  2,  2,  2,  2,\n",
    "   2,  2,  2,  2,  2,  2,  2,  2,  2,  2,  2,  2,  2,  2,  2,  2,  2,  2,\n",
    "   1,  2,  2,  2,  2,  2,  2,  2,  2,  2,  2,  2,  1,  2,  2,  2,  1,  2,\n",
    "   1,  1,  2,  1,  2,  2,  2,  2,  1,  2,  2,  2,  2,  2,  1,  1,  2,  2,\n",
    "   1,  1,  2,  2,  1,  2,  2,  2,  2,  1,  1,  2,  1,  1,  2,  2,  2,  2,\n",
    "   2,  2,  2,  1,  2,  2,  1,  2,  2,  2,  2,  1,  2,  1,  2,  1,  2,  2,\n",
    "   2,  1,  2,  1,  2,  2,  2,  2,  2,  2,  2,  2,  2,  2,  2,  2,  2,  2,\n",
    "   2,  2,  2,  2,  1,  2,  2,  1,  2,  2,  2,  2,  2,  1,  2,  2,  2,  2,\n",
    "   2,  2,  2,  2,  2,  2,  1,  2,  2,  2,  2,  2,  2,  2,  2,  1,  2,  2,\n",
    "   2,  2,  1,  2,  1,  2,  2,  2,  2,  2,  2,  1,  2,  1,  2,  2,  2,  2,\n",
    "   2,  2,  2,  2,  2,  2,  2,  2,  2,  2,  2,  2,  2,  2,  1,  1,  2,  2,\n",
    "   2,  1,  2,  2,  2,  2,  1,  2,  2,  2,  2,  2,  2,  2,  2,  2,  2,  1,\n",
    "   2,  2,  1,]\n",
    "\n",
    "cm = confusion_matrix(y_true, y_pred)\n",
    "cm_normalized = cm.astype('float') / cm.sum(axis=1)[:, np.newaxis]\n",
    "plot_confusion_matrix(cm_normalized)\n",
    "print(cm)\n",
    "print('Accuracy:', accuracy_score(y_true, y_pred))\n",
    "print(classification_report(y_true, y_pred))"
   ]
  },
  {
   "cell_type": "code",
   "execution_count": 69,
   "metadata": {
    "collapsed": false,
    "scrolled": false
   },
   "outputs": [
    {
     "name": "stdout",
     "output_type": "stream",
     "text": [
      "[[ 15  25  33]\n",
      " [ 18  48  69]\n",
      " [ 29  76 122]]\n",
      "Accuracy: 0.425287356322\n",
      "             precision    recall  f1-score   support\n",
      "\n",
      "          1       0.24      0.21      0.22        73\n",
      "          2       0.32      0.36      0.34       135\n",
      "          3       0.54      0.54      0.54       227\n",
      "\n",
      "avg / total       0.42      0.43      0.42       435\n",
      "\n"
     ]
    },
    {
     "data": {
      "image/png": "[encoded data removed]",
      "text/plain": [
       "<matplotlib.figure.Figure at 0x5be5fb60f0>"
      ]
     },
     "metadata": {},
     "output_type": "display_data"
    }
   ],
   "source": [
    "y_true = bins\n",
    "y_pred =[ 3,  3,  3,  3,  3,  3,  2,  1,  2,  3,  1,  3,  2,  1,  2,  1,  3,  2,\n",
    "   3,  3,  1,  1,  1,  3,  3,  1,  3,  3,  2,  3,  2,  3,  3,  1,  2,  2,\n",
    "   2,  1,  3,  3,  2,  3,  2,  1,  2,  1,  2,  2,  3,  2,  2,  2,  2,  1,\n",
    "   2,  1,  3,  2,  1,  3,  2,  3,  2,  3,  2,  2,  2,  3,  3,  3,  3,  3,\n",
    "   3,  3,  2,  2,  2,  3,  3,  3,  3,  1,  3,  1,  2,  2,  2,  3,  3,  3,\n",
    "   3,  2,  1,  2,  3,  3,  3,  2,  2,  2,  1,  3,  3,  3,  3,  3,  2,  3,\n",
    "   3,  2,  3,  3,  3,  3,  3,  3,  1,  3,  3,  2,  3,  3,  2,  2,  3,  2,\n",
    "   2,  3,  3,  3,  3,  2,  3,  1,  1,  3,  3,  2,  3,  2,  1,  3,  3,  3,\n",
    "   3,  3,  3,  3,  3,  1,  2,  3,  2,  2,  3,  2,  3,  3,  2,  3,  2,  2,\n",
    "   2,  3,  3,  3,  2,  3,  2,  2,  3,  2,  1,  2,  3,  1,  3,  2,  2,  2,\n",
    "   3,  2,  2,  3,  3,  3,  2,  3,  2,  2,  3,  2,  3,  2,  3,  2,  3,  3,\n",
    "   1,  2,  1,  2,  2,  3,  3,  2,  3,  3,  3,  3,  3,  3,  3,  2,  3,  3,\n",
    "   3,  3,  2,  3,  1,  2,  3,  2,  3,  3,  2,  3,  3,  2,  2,  2,  2,  3,\n",
    "   3,  3,  3,  2,  3,  3,  3,  3,  3,  3,  2,  2,  3,  3,  3,  3,  3,  2,\n",
    "   2,  3,  2,  1,  3,  3,  2,  3,  2,  3,  3,  3,  2,  3,  2,  3,  2,  3,\n",
    "   1,  2,  3,  1,  3,  3,  3,  3,  2,  3,  2,  3,  3,  2,  1,  1,  2,  3,\n",
    "   1,  2,  1,  3,  1,  3,  3,  2,  2,  1,  1,  1,  1,  1,  1,  3,  2,  2,\n",
    "   3,  2,  3,  1,  3,  3,  2,  1,  3,  2,  3,  2,  3,  2,  2,  1,  3,  3,\n",
    "   3,  2,  3,  1,  2,  2,  1,  2,  3,  3,  3,  2,  3,  3,  3,  3,  3,  3,\n",
    "   2,  3,  2,  3,  1,  2,  3,  1,  3,  2,  3,  3,  3,  1,  3,  2,  2,  3,\n",
    "   3,  2,  3,  3,  3,  1,  1,  3,  3,  2,  3,  3,  1,  3,  3,  1,  3,  2,\n",
    "   2,  3,  1,  3,  2,  2,  2,  3,  1,  3,  2,  1,  3,  1,  3,  3,  2,  3,\n",
    "   2,  2,  2,  3,  3,  2,  3,  3,  3,  2,  2,  3,  3,  2,  1,  2,  3,  2,\n",
    "   3,  1,  2,  3,  2,  3,  1,  3,  3,  2,  3,  3,  3,  2,  2,  2,  3,  2,\n",
    "   3,  2,  2,]\n",
    "\n",
    "cm = confusion_matrix(y_true, y_pred)\n",
    "cm_normalized = cm.astype('float') / cm.sum(axis=1)[:, np.newaxis]\n",
    "plot_confusion_matrix(cm_normalized)\n",
    "print(cm)\n",
    "print('Accuracy:', accuracy_score(y_true, y_pred))\n",
    "print(classification_report(y_true, y_pred))"
   ]
  }
 ],
 "metadata": {
  "anaconda-cloud": {},
  "kernelspec": {
   "display_name": "Python [Root]",
   "language": "python",
   "name": "Python [Root]"
  },
  "language_info": {
   "codemirror_mode": {
    "name": "ipython",
    "version": 3
   },
   "file_extension": ".py",
   "mimetype": "text/x-python",
   "name": "python",
   "nbconvert_exporter": "python",
   "pygments_lexer": "ipython3",
   "version": "3.5.2"
  },
  "nbpresent": {
   "slides": {
    "34c5da37-80a1-4645-a132-f6708a3ac8c3": {
     "id": "34c5da37-80a1-4645-a132-f6708a3ac8c3",
     "prev": "4d09939d-bfe2-4bba-b9f6-6392345ff010",
     "regions": {
      "b275074e-0c7c-4824-a96d-2e5da932ef13": {
       "attrs": {
        "height": 1,
        "width": 1,
        "x": 0,
        "y": 0
       },
       "content": {
        "cell": "249e9ee3-834c-4892-8e5c-484321cfa05f",
        "part": "outputs"
       },
       "id": "b275074e-0c7c-4824-a96d-2e5da932ef13"
      }
     }
    },
    "3af1534d-d4c0-44e1-a94a-7f6e6b6a3155": {
     "id": "3af1534d-d4c0-44e1-a94a-7f6e6b6a3155",
     "prev": null,
     "regions": {}
    },
    "480f33e8-56d9-427b-b38c-047d749a5f47": {
     "id": "480f33e8-56d9-427b-b38c-047d749a5f47",
     "prev": "dde1548d-9659-4c91-8a36-ca0220a850ed",
     "regions": {
      "d024b663-7447-4ee1-9120-546ae187037b": {
       "attrs": {
        "height": 1,
        "width": 1,
        "x": 0,
        "y": 0
       },
       "content": {
        "cell": "28576d7c-5d32-48a7-9472-9fa0bf038271",
        "part": "outputs"
       },
       "id": "d024b663-7447-4ee1-9120-546ae187037b"
      }
     }
    },
    "4d09939d-bfe2-4bba-b9f6-6392345ff010": {
     "id": "4d09939d-bfe2-4bba-b9f6-6392345ff010",
     "prev": "55a59378-103f-4ff6-9c1c-b89f78db1546",
     "regions": {
      "35065415-a8d8-4497-845b-9aaa0501ef3b": {
       "attrs": {
        "height": 1,
        "width": 1,
        "x": 0,
        "y": 0
       },
       "content": {
        "cell": "c9a2120c-e0c1-4145-a176-eebc8a478f07",
        "part": "outputs"
       },
       "id": "35065415-a8d8-4497-845b-9aaa0501ef3b"
      }
     }
    },
    "55a59378-103f-4ff6-9c1c-b89f78db1546": {
     "id": "55a59378-103f-4ff6-9c1c-b89f78db1546",
     "prev": "480f33e8-56d9-427b-b38c-047d749a5f47",
     "regions": {
      "e49702fe-1d71-40b5-ad45-732113155569": {
       "attrs": {
        "height": 1,
        "width": 1,
        "x": 0,
        "y": 0
       },
       "content": {
        "cell": "11c6a379-4d09-462f-90b8-6c4939f12800",
        "part": "outputs"
       },
       "id": "e49702fe-1d71-40b5-ad45-732113155569"
      }
     }
    },
    "63020524-350f-489c-9fec-9a671f61ef33": {
     "id": "63020524-350f-489c-9fec-9a671f61ef33",
     "prev": "b3861796-039d-4f31-9169-b1aa45048cf5",
     "regions": {
      "1bbd7026-0ff3-4a29-949c-87724830689c": {
       "attrs": {
        "height": 1,
        "width": 1,
        "x": 0,
        "y": 0
       },
       "content": {
        "cell": "74d9a764-f2e9-44b5-8ba3-ca470d2be813",
        "part": "outputs"
       },
       "id": "1bbd7026-0ff3-4a29-949c-87724830689c"
      }
     }
    },
    "7128580a-eaf3-4b4a-9a19-66d2f345062a": {
     "id": "7128580a-eaf3-4b4a-9a19-66d2f345062a",
     "prev": "3af1534d-d4c0-44e1-a94a-7f6e6b6a3155",
     "regions": {
      "92e9c0bb-5589-40b5-a2cf-8765715f2050": {
       "attrs": {
        "height": 1,
        "width": 1,
        "x": 0,
        "y": 0
       },
       "content": {
        "cell": "01e6bf81-432a-4a43-9d2f-e665f2ffbf2b",
        "part": "outputs"
       },
       "id": "92e9c0bb-5589-40b5-a2cf-8765715f2050"
      }
     }
    },
    "776644a5-1cc7-409b-8cb9-65723586da42": {
     "id": "776644a5-1cc7-409b-8cb9-65723586da42",
     "prev": "8d25ef72-15b9-4a5d-8f84-4c1dcd1b747d",
     "regions": {
      "272e44ce-1b55-4943-bbfd-1e57a9eb394f": {
       "attrs": {
        "height": 1,
        "width": 1,
        "x": 0,
        "y": 0
       },
       "content": {
        "cell": "31884ee9-02bf-454b-9aec-5ae8579e0929",
        "part": "outputs"
       },
       "id": "272e44ce-1b55-4943-bbfd-1e57a9eb394f"
      }
     }
    },
    "8d25ef72-15b9-4a5d-8f84-4c1dcd1b747d": {
     "id": "8d25ef72-15b9-4a5d-8f84-4c1dcd1b747d",
     "prev": "ccbb82d9-5214-4a71-a679-c3f993ec774b",
     "regions": {
      "7fdb8d16-62fc-464b-a3e2-4fb61afa489c": {
       "attrs": {
        "height": 1,
        "width": 1,
        "x": 0,
        "y": 0
       },
       "content": {
        "cell": "0cf883f4-8f04-4106-95bd-5ab7339d1f3b",
        "part": "outputs"
       },
       "id": "7fdb8d16-62fc-464b-a3e2-4fb61afa489c"
      }
     }
    },
    "a533d288-5a85-430a-93f1-fd16b6f5192a": {
     "id": "a533d288-5a85-430a-93f1-fd16b6f5192a",
     "prev": "63020524-350f-489c-9fec-9a671f61ef33",
     "regions": {
      "05dbc557-5f48-4f6d-b85a-44052a5abbce": {
       "attrs": {
        "height": 1,
        "width": 1,
        "x": 0,
        "y": 0
       },
       "content": {
        "cell": "1e5bd372-3d04-434c-b2e9-272bd201c04f",
        "part": "outputs"
       },
       "id": "05dbc557-5f48-4f6d-b85a-44052a5abbce"
      }
     }
    },
    "b1875397-a4a5-4bc1-8f81-05674aa1d347": {
     "id": "b1875397-a4a5-4bc1-8f81-05674aa1d347",
     "prev": "776644a5-1cc7-409b-8cb9-65723586da42",
     "regions": {
      "b690e234-28ef-4dcf-b608-d5024e9d56cc": {
       "attrs": {
        "height": 1,
        "width": 1,
        "x": 0,
        "y": 0
       },
       "content": {
        "cell": "5f69ee53-9934-4955-9271-0f7d6a489075",
        "part": "outputs"
       },
       "id": "b690e234-28ef-4dcf-b608-d5024e9d56cc"
      }
     }
    },
    "b3861796-039d-4f31-9169-b1aa45048cf5": {
     "id": "b3861796-039d-4f31-9169-b1aa45048cf5",
     "prev": "fe3f232f-77b7-42e5-a6df-826fe11456cd",
     "regions": {
      "d441a732-029d-4b9d-a4f6-ee9e18d6cd29": {
       "attrs": {
        "height": 1,
        "width": 1,
        "x": 0,
        "y": 0
       },
       "content": {
        "cell": "094c6a85-27fd-4ccf-b366-ac5b3ffd200f",
        "part": "outputs"
       },
       "id": "d441a732-029d-4b9d-a4f6-ee9e18d6cd29"
      }
     }
    },
    "c7d19edb-42e6-48ac-af48-33b8e762e6e7": {
     "id": "c7d19edb-42e6-48ac-af48-33b8e762e6e7",
     "prev": "e9e041c0-6a5d-4861-a500-30c7b08523ce",
     "regions": {
      "7394a11e-4452-4fd6-9101-ad9cedeff653": {
       "attrs": {
        "height": 1,
        "width": 1,
        "x": 0,
        "y": 0
       },
       "content": {
        "cell": "2da024a4-9a53-4d62-8e10-e28c77a90abb",
        "part": "outputs"
       },
       "id": "7394a11e-4452-4fd6-9101-ad9cedeff653"
      }
     }
    },
    "ccbb82d9-5214-4a71-a679-c3f993ec774b": {
     "id": "ccbb82d9-5214-4a71-a679-c3f993ec774b",
     "prev": "7128580a-eaf3-4b4a-9a19-66d2f345062a",
     "regions": {
      "cadca528-4cec-4464-93bc-884e27becfb3": {
       "attrs": {
        "height": 1,
        "width": 1,
        "x": 0,
        "y": 0
       },
       "content": {
        "cell": "855398ae-9477-4ce8-9fb0-630bd66f09c7",
        "part": "outputs"
       },
       "id": "cadca528-4cec-4464-93bc-884e27becfb3"
      }
     }
    },
    "dde1548d-9659-4c91-8a36-ca0220a850ed": {
     "id": "dde1548d-9659-4c91-8a36-ca0220a850ed",
     "prev": "e4dfafde-ec3d-4d01-8a51-ac4a0ba60bab",
     "regions": {
      "cbbbad90-6a7e-4394-aeff-24aef993f99f": {
       "attrs": {
        "height": 1,
        "width": 1,
        "x": 0,
        "y": 0
       },
       "content": {
        "cell": "5fc0bc75-8c91-4a60-ae7a-2267429c0502",
        "part": "outputs"
       },
       "id": "cbbbad90-6a7e-4394-aeff-24aef993f99f"
      }
     }
    },
    "e4dfafde-ec3d-4d01-8a51-ac4a0ba60bab": {
     "id": "e4dfafde-ec3d-4d01-8a51-ac4a0ba60bab",
     "prev": "c7d19edb-42e6-48ac-af48-33b8e762e6e7",
     "regions": {
      "8a6c2502-5cd8-458b-b34d-1737c323511d": {
       "attrs": {
        "height": 1,
        "width": 1,
        "x": 0,
        "y": 0
       },
       "content": {
        "cell": "561ade68-fd2b-42b6-bc13-0b1f1acc4359",
        "part": "outputs"
       },
       "id": "8a6c2502-5cd8-458b-b34d-1737c323511d"
      }
     }
    },
    "e9e041c0-6a5d-4861-a500-30c7b08523ce": {
     "id": "e9e041c0-6a5d-4861-a500-30c7b08523ce",
     "prev": "b1875397-a4a5-4bc1-8f81-05674aa1d347",
     "regions": {
      "6b4cceb3-388e-43a7-9c24-774268ddd35f": {
       "attrs": {
        "height": 1,
        "width": 1,
        "x": 0,
        "y": 0
       },
       "content": {
        "cell": "97433717-d14a-406e-8413-45d2710bd7a6",
        "part": "outputs"
       },
       "id": "6b4cceb3-388e-43a7-9c24-774268ddd35f"
      }
     }
    },
    "fe3f232f-77b7-42e5-a6df-826fe11456cd": {
     "id": "fe3f232f-77b7-42e5-a6df-826fe11456cd",
     "prev": "34c5da37-80a1-4645-a132-f6708a3ac8c3",
     "regions": {
      "cb058cce-9c6d-4610-97a9-0906d5d2c795": {
       "attrs": {
        "height": 1,
        "width": 1,
        "x": 0,
        "y": 0
       },
       "content": {
        "cell": "14b5e6e8-7bc9-4b97-9b69-0375847e298d",
        "part": "outputs"
       },
       "id": "cb058cce-9c6d-4610-97a9-0906d5d2c795"
      }
     }
    }
   },
   "themes": {}
  }
 },
 "nbformat": 4,
 "nbformat_minor": 0
}
