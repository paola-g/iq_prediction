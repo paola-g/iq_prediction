{
 "cells": [
  {
   "cell_type": "markdown",
   "metadata": {},
   "source": [
    "### Importing required libraries"
   ]
  },
  {
   "cell_type": "code",
   "execution_count": 12,
   "metadata": {
    "collapsed": true
   },
   "outputs": [],
   "source": [
    "%matplotlib inline\n",
    "\n",
    "from ipywidgets import FloatProgress\n",
    "from IPython.display import display\n",
    "from ipywidgets import *\n",
    "\n",
    "import scipy.io as sio\n",
    "import numpy as np\n",
    "import matplotlib.pyplot as plt\n",
    "\n",
    "import scipy.stats as stats\n",
    "from sklearn import cross_validation\n",
    "from sklearn.multiclass import OneVsRestClassifier\n",
    "from sklearn.svm import LinearSVC\n",
    "from sklearn.svm import SVC\n",
    "from sklearn.decomposition import PCA\n",
    "from sklearn.metrics import confusion_matrix\n",
    "from sklearn.linear_model import LassoCV\n",
    "from sklearn.feature_selection import RFECV\n"
   ]
  },
  {
   "cell_type": "markdown",
   "metadata": {},
   "source": [
    "### Utilities"
   ]
  },
  {
   "cell_type": "code",
   "execution_count": 2,
   "metadata": {
    "collapsed": true
   },
   "outputs": [],
   "source": [
    "# Regression plot showing predicted gF scores vs original gF scores\n",
    "def regression_plot(x,y,n,title):\n",
    "\n",
    "    # fit a curve to the data using a least squares 1st order polynomial fit\n",
    "    z = np.polyfit(x,y,1)\n",
    "\n",
    "    p = np.poly1d(z)\n",
    "    fit = p(x)\n",
    "\n",
    "    # get the coordinates for the fit curve\n",
    "    c_x = [np.min(x),np.max(x)]\n",
    "    c_y = p(c_x)\n",
    "\n",
    "    # predict y values of origional data using the fit\n",
    "    p_y = z[0] * x + z[1]\n",
    "\n",
    "    # calculate the y-error (residuals)\n",
    "    y_err = y - p_y\n",
    "\n",
    "    # create series of new test x-values to predict for\n",
    "    p_x = np.arange(np.min(x),np.max(x)+1,1)\n",
    "\n",
    "    # now calculate confidence intervals for new test x-series\n",
    "    mean_x = np.mean(x)         # mean of x\n",
    "    DF = n - z.size                            # degrees of freedom\n",
    "    t = stats.t.ppf(0.95,DF)           # used for CI and PI bands\n",
    "    s_err = np.sum(np.power(y_err,2))   # sum of the squares of the residuals\n",
    "\n",
    "    #confs = t * np.sqrt((s_err/(n-2))*(1.0/n + (np.power((p_x-mean_x),2)/((np.sum(np.power(x,2)))-n*(np.power(mean_x,2))))))\n",
    "    confs = t * np.sqrt((s_err/(n-2)) * (1.0/n + (np.power((p_x-mean_x),2)/(np.sum(np.power(x - mean_x,2))))))\n",
    "    # now predict y based on test x-values\n",
    "    p_y = z[0]*p_x+z[1]\n",
    "\n",
    "    # get lower and upper confidence limits based on predicted y and confidence intervals\n",
    "    lower = p_y - abs(confs)\n",
    "    upper = p_y + abs(confs)\n",
    "\n",
    "    # set-up the plot\n",
    "    plt.subplots(figsize=(8,8))\n",
    "    plt.axes().set_aspect('equal')\n",
    "    plt.xlabel('Original score')\n",
    "    plt.ylabel('Predicted score')\n",
    "    plt.title(title)\n",
    "\n",
    "    # plot sample data\n",
    "    plt.plot(x,y,'bo')\n",
    "\n",
    "    # plot line of best fit\n",
    "    plt.plot(c_x,c_y,'r-',label='Regression line')\n",
    "\n",
    "    # plot confidence limits\n",
    "    plt.plot(p_x,lower,'b--',label='Lower confidence limit (95%)')\n",
    "    plt.plot(p_x,upper,'b--',label='Upper confidence limit (95%)')\n",
    "\n",
    "    # set coordinate limits\n",
    "    plt.xlim(4,25)\n",
    "    plt.ylim(5,25)\n",
    "\n",
    "    # configure legend\n",
    "    plt.legend(loc=0)\n",
    "    leg = plt.gca().get_legend()\n",
    "    ltext = leg.get_texts()\n",
    "    plt.setp(ltext, fontsize=10)\n",
    "\n",
    "    # add text\n",
    "    rho,p = stats.pearsonr(np.ravel(y),x)\n",
    "    s = 'r={:0.2f}\\np={:1.4f}'.format(rho,p)\n",
    "    plt.text(20, 7, s, fontsize=12)\n",
    "\n",
    "    # show the plot\n",
    "    plt.show()\n",
    "    \n",
    "    \n",
    "def plot_confusion_matrix(cm, title='Confusion matrix', cmap=plt.cm.Blues):\n",
    "    plt.imshow(cm, interpolation='nearest', cmap=cmap)\n",
    "    plt.title(title)\n",
    "    plt.colorbar()\n",
    "    plt.tight_layout()\n",
    "    plt.ylabel('True label')\n",
    "    plt.xlabel('Predicted label')\n"
   ]
  },
  {
   "cell_type": "markdown",
   "metadata": {
    "collapsed": true
   },
   "source": [
    "### Importing data"
   ]
  },
  {
   "cell_type": "code",
   "execution_count": 6,
   "metadata": {
    "collapsed": false
   },
   "outputs": [
    {
     "name": "stdout",
     "output_type": "stream",
     "text": [
      "No. of subjects: 115\n"
     ]
    }
   ],
   "source": [
    "# finn's data set \n",
    "data = sio.loadmat('rfMRI_REST1_HCP_Q2')\n",
    "gF = np.ravel(data['PMAT24_A_CR'])\n",
    "n_subj = len(gF)\n",
    "print('No. of subjects:',n_subj)"
   ]
  },
  {
   "cell_type": "code",
   "execution_count": 40,
   "metadata": {
    "collapsed": false
   },
   "outputs": [
    {
     "name": "stdout",
     "output_type": "stream",
     "text": [
      "No. of subjects: 435\n"
     ]
    }
   ],
   "source": [
    "# extended data set\n",
    "data = sio.loadmat('rfMRI_REST1_HCP_Q2')\n",
    "gF = np.ravel(data['PMAT24_A_CR'])\n",
    "data2 = sio.loadmat('rfMRI_REST1_HCP_S500.mat')\n",
    "gF2 = np.ravel(data2['PMAT24_A_CR'])\n",
    "data_ext = np.concatenate((data['rest_1_mat'],data2['rest_1_mat']),axis=2)\n",
    "gF = np.concatenate((gF,gF2))\n",
    "n_subj = len(gF)\n",
    "print('No. of subjects:',n_subj)"
   ]
  },
  {
   "cell_type": "code",
   "execution_count": 32,
   "metadata": {
    "collapsed": false
   },
   "outputs": [],
   "source": [
    "#data = sio.loadmat('improved_preproc/rfMRI_REST1_HCP_Q2.mat')\n",
    "data = sio.loadmat('improved_preproc/rfMRI_REST2_HCP_Q2.mat')\n",
    "gF = np.ravel(data['PMAT24_A_CR'])\n",
    "n_subj = len(gF)"
   ]
  },
  {
   "cell_type": "markdown",
   "metadata": {},
   "source": [
    "### gF score distribution \n",
    "The gF score is used to divide subjects in 2 or 3 classes."
   ]
  },
  {
   "cell_type": "code",
   "execution_count": 43,
   "metadata": {
    "collapsed": false
   },
   "outputs": [
    {
     "data": {
      "image/png": "[encoded data removed]",
      "text/plain": [
       "<matplotlib.figure.Figure at 0x421dd02c50>"
      ]
     },
     "metadata": {},
     "output_type": "display_data"
    }
   ],
   "source": [
    "n_bins = 3\n",
    "\n",
    "# needed for stratified k-fold\n",
    "hist, bin_limits = np.histogram(gF, n_bins)\n",
    "bins = np.digitize(gF, bin_limits[:-1])\n",
    "plt.hist(bins,n_bins)\n",
    "plt.show()"
   ]
  },
  {
   "cell_type": "markdown",
   "metadata": {},
   "source": [
    "### Building of input matrix\n",
    "Starting from the connectivity matrices of each subject a #subjects x #edges matrix is built selecting for each subject the upper triangular matrix of the connectivity matrix (without the diagonal)."
   ]
  },
  {
   "cell_type": "code",
   "execution_count": 42,
   "metadata": {
    "collapsed": false,
    "scrolled": true
   },
   "outputs": [
    {
     "data": {
      "image/png": "[encoded data removed]",
      "text/plain": [
       "<matplotlib.figure.Figure at 0x421f53b4a8>"
      ]
     },
     "metadata": {},
     "output_type": "display_data"
    }
   ],
   "source": [
    "# choose dataset\n",
    "#conn_mats = data['rest_1_mat']\n",
    "#conn_mats = data['rest_2_mat']\n",
    "conn_mats = data_ext\n",
    "\n",
    "# build matrix n_subjects x n_edges\n",
    "n_parcels = conn_mats.shape[0]\n",
    "triu_idx = np.triu_indices(n_parcels,1)\n",
    "n_edges = len(triu_idx[1]);\n",
    "\n",
    "def plt_conn(subject):\n",
    "    plt.imshow(np.triu(conn_mats[:,:,subject-1]))\n",
    "    plt.colorbar()\n",
    "    plt.title('Connectivity matrix for subject '+str(subject))\n",
    "\n",
    "interact(plt_conn, subject=(1,n_subj))    \n",
    "    \n",
    "    \n",
    "edges = np.zeros([n_subj,n_edges])\n",
    "\n",
    "for subject in range(conn_mats.shape[-1]):\n",
    "    edges[subject,] = conn_mats[:,:,subject][triu_idx]"
   ]
  },
  {
   "cell_type": "markdown",
   "metadata": {},
   "source": [
    "### Tests\n",
    "Instead of performing regression in this experiment we try to divide subjects in 2 or 3 classes according to their gF score."
   ]
  },
  {
   "cell_type": "markdown",
   "metadata": {},
   "source": [
    "When performing PCA, select the number of components such that the amount of variance that needs to be explained is greater than 99.9%."
   ]
  },
  {
   "cell_type": "code",
   "execution_count": 44,
   "metadata": {
    "collapsed": false
   },
   "outputs": [
    {
     "name": "stdout",
     "output_type": "stream",
     "text": [
      "Accuracy: 0.473563218391\n"
     ]
    }
   ],
   "source": [
    "# Test with all edges (PCA in CV)\n",
    "loo = cross_validation.LeaveOneOut(n_subj)\n",
    "errors = np.zeros([n_subj,1])\n",
    "predictions = np.zeros([n_subj,1])\n",
    "#estimator =LinearSVC(random_state=0)\n",
    "estimator = SVC(kernel='linear',probability=True,random_state=42)\n",
    "pca = PCA(n_components=0.999)\n",
    "prob = np.zeros([n_subj,n_bins])\n",
    "i=0\n",
    "f = FloatProgress(min=0, max=n_subj)\n",
    "display(f)\n",
    "for train_index, test_index in loo:\n",
    "    # decomposition\n",
    "    data_pc = pca.fit_transform(edges[train_index,])\n",
    "    # regression\n",
    "    estimator.fit(data_pc,bins[train_index])\n",
    "    predictions[i] = estimator.predict(pca.transform(edges[test_index,]))\n",
    "    prob[i,] = estimator.predict_proba(pca.transform(edges[test_index,]))\n",
    "    errors[i] = 1 if predictions[i]==bins[test_index] else 0\n",
    "    i += 1\n",
    "    f.value += 1\n",
    "        \n",
    "print('Accuracy:',errors.mean())\n",
    "preds_ext_3 = predictions\n"
   ]
  },
  {
   "cell_type": "code",
   "execution_count": 10,
   "metadata": {
    "collapsed": false
   },
   "outputs": [
    {
     "name": "stdout",
     "output_type": "stream",
     "text": [
      "[[ 1.  2.  1.  2.  2.  2.  2.  2.  1.  2.  2.  2.  2.  2.  2.  2.  2.  2.\n",
      "   2.  2.  2.  2.  2.  2.  2.  1.  2.  2.  2.  2.  2.  2.  2.  2.  2.  2.\n",
      "   1.  2.  1.  1.  2.  2.  1.  1.  2.  2.  2.  2.  2.  2.  2.  2.  2.  1.\n",
      "   1.  2.  1.  2.  1.  2.  1.  2.  1.  2.  2.  2.  2.  1.  2.  1.  2.  2.\n",
      "   2.  2.  1.  2.  2.  2.  2.  2.  1.  2.  1.  1.  2.  2.  2.  2.  2.  2.\n",
      "   2.  1.  2.  2.  2.  2.  2.  2.  1.  2.  2.  2.  2.  2.  2.  1.  2.  2.\n",
      "   2.  2.  2.  2.  2.  2.  2.]]\n"
     ]
    }
   ],
   "source": [
    "print(np.transpose(preds_finn))"
   ]
  },
  {
   "cell_type": "code",
   "execution_count": 24,
   "metadata": {
    "collapsed": false
   },
   "outputs": [
    {
     "name": "stdout",
     "output_type": "stream",
     "text": [
      "[[ 2.  3.  2.  3.  1.  2.  3.  3.  3.  3.  3.  3.  3.  3.  3.  2.  3.  3.\n",
      "   3.  3.  3.  3.  3.  3.  2.  3.  3.  3.  3.  3.  3.  3.  2.  3.  3.  3.\n",
      "   3.  2.  3.  3.  3.  3.  2.  1.  3.  3.  3.  3.  3.  2.  3.  2.  3.  3.\n",
      "   3.  1.  3.  3.  3.  3.  3.  3.  3.  3.  3.  3.  2.  2.  3.  2.  3.  2.\n",
      "   3.  3.  3.  3.  3.  3.  3.  3.  3.  3.  3.  2.  3.  3.  2.  3.  3.  3.\n",
      "   3.  3.  3.  2.  3.  3.  3.  3.  3.  3.  3.  2.  3.  2.  3.  3.  3.  2.\n",
      "   3.  3.  3.  3.  3.  3.  2.  3.  3.]]\n"
     ]
    }
   ],
   "source": [
    "print(np.transpose(preds_rest_1)) # 3 classes"
   ]
  },
  {
   "cell_type": "code",
   "execution_count": 31,
   "metadata": {
    "collapsed": false
   },
   "outputs": [
    {
     "name": "stdout",
     "output_type": "stream",
     "text": [
      "[[ 2.  2.  2.  2.  2.  2.  2.  2.  2.  2.  2.  2.  2.  2.  2.  2.  2.  2.\n",
      "   2.  2.  2.  2.  2.  2.  2.  2.  2.  2.  2.  2.  2.  2.  2.  2.  2.  2.\n",
      "   2.  2.  2.  2.  2.  2.  1.  1.  2.  2.  2.  2.  2.  1.  2.  2.  2.  2.\n",
      "   2.  1.  2.  2.  2.  1.  2.  2.  2.  2.  2.  2.  2.  2.  2.  2.  1.  2.\n",
      "   2.  2.  2.  2.  2.  2.  2.  2.  2.  2.  2.  2.  2.  2.  1.  2.  2.  2.\n",
      "   2.  2.  2.  2.  2.  2.  2.  2.  2.  2.  2.  2.  2.  2.  2.  2.  2.  2.\n",
      "   2.  2.  2.  2.  2.  2.  2.  2.  1.]]\n"
     ]
    }
   ],
   "source": [
    "print(np.transpose(preds_rest_1)) # 2 classes"
   ]
  },
  {
   "cell_type": "code",
   "execution_count": 36,
   "metadata": {
    "collapsed": false
   },
   "outputs": [
    {
     "name": "stdout",
     "output_type": "stream",
     "text": [
      "[[ 1.  2.  2.  2.  2.  2.  2.  2.  2.  2.  2.  2.  2.  1.  2.  2.  2.  2.\n",
      "   2.  2.  2.  2.  2.  2.  2.  2.  2.  2.  2.  2.  2.  2.  2.  2.  2.  2.\n",
      "   2.  2.  2.  2.  2.  2.  2.  2.  1.  2.  2.  2.  2.  1.  2.  2.  2.  2.\n",
      "   2.  2.  2.  2.  2.  2.  2.  2.  2.  2.  2.  2.  2.  2.  2.  2.  2.  2.\n",
      "   2.  2.  2.  2.  1.  2.  2.  2.  2.  2.  2.  2.  2.  2.  2.  2.  2.  2.\n",
      "   2.  2.  2.  2.  2.  2.  2.  2.  2.  2.  2.  2.  2.  2.  2.  2.  2.  2.\n",
      "   2.  2.  2.  2.  2.  2.]]\n"
     ]
    }
   ],
   "source": [
    "print(np.transpose(preds_rest_2)) # 2 classes"
   ]
  },
  {
   "cell_type": "code",
   "execution_count": 39,
   "metadata": {
    "collapsed": false
   },
   "outputs": [
    {
     "name": "stdout",
     "output_type": "stream",
     "text": [
      "[[ 2.  3.  3.  3.  3.  3.  3.  3.  3.  3.  3.  3.  3.  2.  3.  3.  3.  3.\n",
      "   3.  3.  3.  3.  3.  3.  2.  3.  3.  3.  2.  3.  3.  3.  3.  2.  3.  3.\n",
      "   3.  3.  3.  2.  3.  3.  3.  2.  1.  3.  2.  3.  3.  2.  3.  3.  3.  3.\n",
      "   3.  3.  3.  3.  3.  3.  3.  3.  3.  3.  3.  3.  2.  2.  3.  3.  3.  3.\n",
      "   3.  3.  3.  3.  3.  3.  3.  3.  2.  2.  3.  2.  3.  3.  3.  3.  3.  3.\n",
      "   3.  3.  3.  3.  3.  2.  3.  3.  3.  3.  2.  3.  3.  3.  3.  3.  3.  3.\n",
      "   3.  3.  3.  2.  3.  3.]]\n"
     ]
    }
   ],
   "source": [
    "print(np.transpose(preds_rest_2)) # 3 classes"
   ]
  },
  {
   "cell_type": "code",
   "execution_count": 19,
   "metadata": {
    "collapsed": false
   },
   "outputs": [
    {
     "name": "stdout",
     "output_type": "stream",
     "text": [
      "[[ 2.  3.  2.  3.  1.  3.  3.  3.  1.  3.  3.  3.  3.  3.  3.  3.  3.  3.\n",
      "   3.  3.  3.  3.  3.  3.  3.  1.  3.  3.  2.  3.  3.  3.  2.  3.  2.  3.\n",
      "   3.  1.  1.  3.  2.  3.  2.  1.  3.  3.  2.  3.  3.  3.  3.  2.  3.  2.\n",
      "   3.  3.  1.  3.  3.  1.  2.  2.  2.  3.  2.  2.  2.  1.  3.  1.  3.  1.\n",
      "   3.  3.  1.  3.  3.  1.  3.  3.  3.  3.  2.  2.  2.  3.  3.  3.  3.  3.\n",
      "   3.  1.  3.  2.  3.  3.  3.  3.  1.  2.  1.  3.  2.  3.  3.  2.  3.  3.\n",
      "   2.  3.  2.  3.  2.  3.  3.]]\n"
     ]
    }
   ],
   "source": [
    "print(np.transpose(preds_finn_3))"
   ]
  },
  {
   "cell_type": "code",
   "execution_count": 21,
   "metadata": {
    "collapsed": false
   },
   "outputs": [
    {
     "name": "stdout",
     "output_type": "stream",
     "text": [
      "[[ 2.  2.  2.  2.  2.  2.  1.  2.  1.  1.  2.  2.  1.  2.  1.  1.  2.  2.\n",
      "   1.  1.  2.  2.  1.  2.  2.  1.  2.  2.  1.  2.  2.  2.  2.  2.  2.  2.\n",
      "   2.  2.  1.  2.  2.  2.  2.  2.  1.  1.  2.  1.  2.  2.  2.  2.  2.  1.\n",
      "   1.  2.  1.  2.  1.  2.  1.  2.  2.  2.  2.  1.  2.  1.  2.  1.  2.  2.\n",
      "   2.  2.  1.  2.  2.  2.  2.  2.  1.  2.  2.  1.  2.  2.  1.  2.  2.  2.\n",
      "   2.  2.  1.  2.  2.  2.  2.  2.  1.  2.  2.  2.  2.  2.  1.  2.  2.  2.\n",
      "   2.  2.  1.  2.  2.  2.  2.  2.  1.  2.  1.  1.  2.  2.  1.  1.  2.  1.\n",
      "   2.  2.  2.  1.  2.  2.  2.  2.  1.  2.  2.  2.  1.  2.  1.  2.  2.  2.\n",
      "   2.  2.  2.  1.  1.  1.  2.  1.  2.  2.  1.  2.  2.  1.  2.  2.  2.  2.\n",
      "   2.  2.  2.  2.  2.  2.  1.  1.  2.  2.  2.  1.  2.  1.  2.  2.  2.  2.\n",
      "   2.  1.  2.  1.  2.  2.  1.  1.  2.  2.  2.  2.  2.  2.  2.  2.  2.  2.\n",
      "   1.  2.  2.  2.  2.  2.  1.  2.  2.  1.  2.  2.  2.  2.  2.  2.  2.  2.\n",
      "   2.  1.  1.  1.  2.  2.  2.  1.  2.  2.  2.  2.  1.  1.  2.  1.  2.  2.\n",
      "   2.  1.  1.  2.  2.  2.  2.  2.  1.  2.  1.  2.  1.  2.  2.  2.  2.  2.\n",
      "   2.  2.  1.  2.  2.  1.  2.  2.  2.  2.  2.  2.  1.  2.  2.  2.  2.  2.\n",
      "   2.  2.  2.  1.  2.  2.  2.  2.  2.  2.  2.  2.  1.  1.  2.  2.  2.  2.\n",
      "   1.  1.  1.  2.  2.  2.  2.  1.  2.  1.  2.  2.  2.  1.  2.  2.  1.  2.\n",
      "   1.  2.  2.  1.  1.  1.  2.  1.  2.  2.  2.  2.  2.  2.  2.  2.  2.  2.\n",
      "   2.  2.  2.  2.  2.  2.  1.  2.  2.  2.  2.  2.  1.  1.  2.  2.  2.  1.\n",
      "   2.  1.  2.  2.  1.  2.  2.  2.  2.  2.  1.  2.  2.  2.  2.  2.  2.  2.\n",
      "   2.  2.  2.  2.  1.  2.  1.  2.  2.  2.  2.  2.  2.  2.  2.  2.  2.  2.\n",
      "   2.  2.  2.  2.  2.  2.  2.  2.  2.  2.  2.  2.  2.  1.  2.  1.  2.  2.\n",
      "   1.  2.  2.  2.  2.  2.  2.  2.  2.  2.  2.  2.  2.  2.  1.  2.  2.  2.\n",
      "   1.  1.  2.  2.  2.  2.  2.  1.  2.  2.  2.  1.  2.  2.  2.  1.  2.  2.\n",
      "   1.  2.  2.]]\n"
     ]
    }
   ],
   "source": [
    "print(np.transpose(preds_ext))"
   ]
  },
  {
   "cell_type": "code",
   "execution_count": 47,
   "metadata": {
    "collapsed": false
   },
   "outputs": [
    {
     "name": "stdout",
     "output_type": "stream",
     "text": [
      "[[ 2.  2.  3.  3.  3.  3.  2.  3.  1.  2.  3.  3.  2.  2.  1.  2.  2.  3.\n",
      "   1.  3.  3.  2.  1.  3.  3.  1.  3.  3.  1.  3.  3.  2.  2.  3.  3.  3.\n",
      "   3.  2.  2.  3.  2.  3.  3.  1.  2.  2.  3.  2.  3.  3.  3.  2.  2.  2.\n",
      "   2.  1.  2.  2.  1.  1.  2.  2.  3.  3.  2.  2.  2.  1.  3.  1.  3.  1.\n",
      "   2.  3.  2.  3.  3.  3.  3.  3.  2.  3.  3.  2.  3.  3.  3.  3.  3.  2.\n",
      "   3.  3.  3.  2.  3.  3.  2.  2.  1.  3.  3.  3.  2.  2.  2.  3.  3.  3.\n",
      "   2.  3.  2.  3.  2.  3.  2.  3.  2.  2.  2.  1.  3.  2.  2.  1.  2.  2.\n",
      "   2.  3.  3.  3.  3.  2.  3.  1.  3.  2.  2.  3.  2.  3.  2.  3.  3.  3.\n",
      "   3.  1.  3.  3.  1.  1.  3.  3.  3.  2.  3.  2.  2.  2.  3.  3.  3.  2.\n",
      "   3.  2.  3.  3.  2.  3.  2.  1.  3.  2.  3.  2.  3.  1.  3.  2.  3.  3.\n",
      "   3.  1.  3.  1.  3.  3.  2.  2.  2.  3.  3.  3.  3.  2.  2.  2.  3.  2.\n",
      "   2.  3.  3.  2.  3.  2.  2.  2.  2.  2.  3.  3.  3.  3.  3.  2.  3.  3.\n",
      "   3.  1.  1.  3.  3.  3.  2.  1.  3.  3.  2.  2.  1.  1.  2.  2.  3.  3.\n",
      "   3.  3.  2.  3.  3.  3.  3.  3.  1.  3.  3.  3.  1.  3.  3.  3.  3.  3.\n",
      "   3.  2.  1.  3.  3.  1.  2.  3.  3.  2.  3.  3.  3.  2.  2.  3.  2.  3.\n",
      "   3.  3.  3.  1.  1.  3.  2.  3.  3.  3.  3.  3.  2.  3.  3.  3.  3.  3.\n",
      "   2.  1.  2.  3.  3.  3.  2.  2.  3.  1.  3.  1.  3.  2.  3.  2.  2.  2.\n",
      "   1.  2.  3.  1.  3.  1.  2.  1.  3.  3.  3.  3.  3.  3.  3.  3.  3.  3.\n",
      "   1.  2.  3.  3.  3.  2.  1.  2.  2.  3.  3.  3.  2.  1.  3.  3.  3.  2.\n",
      "   3.  2.  3.  3.  2.  3.  3.  3.  3.  3.  1.  3.  3.  3.  1.  2.  3.  3.\n",
      "   3.  3.  3.  3.  3.  1.  3.  3.  2.  3.  3.  3.  3.  1.  2.  3.  3.  3.\n",
      "   3.  3.  3.  3.  3.  3.  1.  3.  2.  3.  2.  3.  3.  2.  2.  2.  3.  3.\n",
      "   2.  3.  3.  3.  3.  3.  3.  3.  3.  2.  3.  2.  1.  3.  3.  2.  3.  2.\n",
      "   2.  3.  3.  2.  3.  3.  2.  1.  3.  3.  3.  2.  1.  2.  1.  2.  2.  3.\n",
      "   2.  3.  3.]]\n"
     ]
    }
   ],
   "source": [
    "print(np.transpose(preds_ext_3)) #3 classes"
   ]
  },
  {
   "cell_type": "code",
   "execution_count": 45,
   "metadata": {
    "collapsed": false
   },
   "outputs": [
    {
     "name": "stdout",
     "output_type": "stream",
     "text": [
      "[[ 2.  2.  3.  3.  3.  3.  2.  3.  1.  2.  3.  3.  2.  2.  1.  2.  2.  3.\n",
      "   1.  3.  3.  2.  1.  3.  3.  1.  3.  3.  1.  3.  3.  2.  2.  3.  3.  3.\n",
      "   3.  2.  2.  3.  2.  3.  3.  1.  2.  2.  3.  2.  3.  3.  3.  2.  2.  2.\n",
      "   2.  1.  2.  2.  1.  1.  2.  2.  3.  3.  2.  2.  2.  1.  3.  1.  3.  1.\n",
      "   2.  3.  2.  3.  3.  3.  3.  3.  2.  3.  3.  2.  3.  3.  3.  3.  3.  2.\n",
      "   3.  3.  3.  2.  3.  3.  2.  2.  1.  3.  3.  3.  2.  2.  2.  3.  3.  3.\n",
      "   2.  3.  2.  3.  2.  3.  2.  3.  2.  2.  2.  1.  3.  2.  2.  1.  2.  2.\n",
      "   2.  3.  3.  3.  3.  2.  3.  1.  3.  2.  2.  3.  2.  3.  2.  3.  3.  3.\n",
      "   3.  1.  3.  3.  1.  1.  3.  3.  3.  2.  3.  2.  2.  2.  3.  3.  3.  2.\n",
      "   3.  2.  3.  3.  2.  3.  2.  1.  3.  2.  3.  2.  3.  1.  3.  2.  3.  3.\n",
      "   3.  1.  3.  1.  3.  3.  2.  2.  2.  3.  3.  3.  3.  2.  2.  2.  3.  2.\n",
      "   2.  3.  3.  2.  3.  2.  2.  2.  2.  2.  3.  3.  3.  3.  3.  2.  3.  3.\n",
      "   3.  1.  1.  3.  3.  3.  2.  1.  3.  3.  2.  2.  1.  1.  2.  2.  3.  3.\n",
      "   3.  3.  2.  3.  3.  3.  3.  3.  1.  3.  3.  3.  1.  3.  3.  3.  3.  3.\n",
      "   3.  2.  1.  3.  3.  1.  2.  3.  3.  2.  3.  3.  3.  2.  2.  3.  2.  3.\n",
      "   3.  3.  3.  1.  1.  3.  2.  3.  3.  3.  3.  3.  2.  3.  3.  3.  3.  3.\n",
      "   2.  1.  2.  3.  3.  3.  2.  2.  3.  1.  3.  1.  3.  2.  3.  2.  2.  2.\n",
      "   1.  2.  3.  1.  3.  1.  2.  1.  3.  3.  3.  3.  3.  3.  3.  3.  3.  3.\n",
      "   1.  2.  3.  3.  3.  2.  1.  2.  2.  3.  3.  3.  2.  1.  3.  3.  3.  2.\n",
      "   3.  2.  3.  3.  2.  3.  3.  3.  3.  3.  1.  3.  3.  3.  1.  2.  3.  3.\n",
      "   3.  3.  3.  3.  3.  1.  3.  3.  2.  3.  3.  3.  3.  1.  2.  3.  3.  3.\n",
      "   3.  3.  3.  3.  3.  3.  1.  3.  2.  3.  2.  3.  3.  2.  2.  2.  3.  3.\n",
      "   2.  3.  3.  3.  3.  3.  3.  3.  3.  2.  3.  2.  1.  3.  3.  2.  3.  2.\n",
      "   2.  3.  3.  2.  3.  3.  2.  1.  3.  3.  3.  2.  1.  2.  1.  2.  2.  3.\n",
      "   2.  3.  3.]]\n"
     ]
    }
   ],
   "source": [
    "print(np.transpose(preds_ext_3))"
   ]
  },
  {
   "cell_type": "code",
   "execution_count": 10,
   "metadata": {
    "collapsed": false
   },
   "outputs": [
    {
     "name": "stdout",
     "output_type": "stream",
     "text": [
      "[[ 0.31889587  0.68110413]\n",
      " [ 0.3257797   0.6742203 ]\n",
      " [ 0.1774778   0.8225222 ]\n",
      " [ 0.29943797  0.70056203]\n",
      " [ 0.20069011  0.79930989]\n",
      " [ 0.11871529  0.88128471]\n",
      " [ 0.41536154  0.58463846]\n",
      " [ 0.24536527  0.75463473]\n",
      " [ 0.3909282   0.6090718 ]\n",
      " [ 0.42057394  0.57942606]\n",
      " [ 0.23869793  0.76130207]\n",
      " [ 0.2304941   0.7695059 ]\n",
      " [ 0.4149918   0.5850082 ]\n",
      " [ 0.31369332  0.68630668]\n",
      " [ 0.51451405  0.48548595]\n",
      " [ 0.37553874  0.62446126]\n",
      " [ 0.32378772  0.67621228]\n",
      " [ 0.33172435  0.66827565]\n",
      " [ 0.37642913  0.62357087]\n",
      " [ 0.41779331  0.58220669]\n",
      " [ 0.29152095  0.70847905]\n",
      " [ 0.36169048  0.63830952]\n",
      " [ 0.39688921  0.60311079]\n",
      " [ 0.34332447  0.65667553]\n",
      " [ 0.23678131  0.76321869]\n",
      " [ 0.40350048  0.59649952]\n",
      " [ 0.23880793  0.76119207]\n",
      " [ 0.220563    0.779437  ]\n",
      " [ 0.50642216  0.49357784]\n",
      " [ 0.20122926  0.79877074]\n",
      " [ 0.21135124  0.78864876]\n",
      " [ 0.28841565  0.71158435]\n",
      " [ 0.35068328  0.64931672]\n",
      " [ 0.16698778  0.83301222]\n",
      " [ 0.30053965  0.69946035]\n",
      " [ 0.30483951  0.69516049]\n",
      " [ 0.35432909  0.64567091]\n",
      " [ 0.35608679  0.64391321]\n",
      " [ 0.45184507  0.54815493]\n",
      " [ 0.35196634  0.64803366]\n",
      " [ 0.24733671  0.75266329]\n",
      " [ 0.19409508  0.80590492]\n",
      " [ 0.21587815  0.78412185]\n",
      " [ 0.3456235   0.6543765 ]\n",
      " [ 0.49095702  0.50904298]\n",
      " [ 0.42263007  0.57736993]\n",
      " [ 0.30592271  0.69407729]\n",
      " [ 0.3935588   0.6064412 ]\n",
      " [ 0.31904924  0.68095076]\n",
      " [ 0.2933879   0.7066121 ]\n",
      " [ 0.32379937  0.67620063]\n",
      " [ 0.33416346  0.66583654]\n",
      " [ 0.24091024  0.75908976]\n",
      " [ 0.52829252  0.47170748]\n",
      " [ 0.42252015  0.57747985]\n",
      " [ 0.3075787   0.6924213 ]\n",
      " [ 0.36796046  0.63203954]\n",
      " [ 0.22432347  0.77567653]\n",
      " [ 0.45465487  0.54534513]\n",
      " [ 0.30974379  0.69025621]\n",
      " [ 0.39342259  0.60657741]\n",
      " [ 0.29741245  0.70258755]\n",
      " [ 0.22155789  0.77844211]\n",
      " [ 0.24233165  0.75766835]\n",
      " [ 0.26084013  0.73915987]\n",
      " [ 0.42463025  0.57536975]\n",
      " [ 0.2991043   0.7008957 ]\n",
      " [ 0.37950281  0.62049719]\n",
      " [ 0.21771278  0.78228722]\n",
      " [ 0.46256984  0.53743016]\n",
      " [ 0.27433616  0.72566384]\n",
      " [ 0.3238786   0.6761214 ]\n",
      " [ 0.31345768  0.68654232]\n",
      " [ 0.36454706  0.63545294]\n",
      " [ 0.3958715   0.6041285 ]\n",
      " [ 0.19509552  0.80490448]\n",
      " [ 0.34148207  0.65851793]\n",
      " [ 0.357439    0.642561  ]\n",
      " [ 0.26537731  0.73462269]\n",
      " [ 0.35429651  0.64570349]\n",
      " [ 0.50555668  0.49444332]\n",
      " [ 0.32187847  0.67812153]\n",
      " [ 0.24008492  0.75991508]\n",
      " [ 0.50969081  0.49030919]\n",
      " [ 0.29896955  0.70103045]\n",
      " [ 0.18903613  0.81096387]\n",
      " [ 0.40057243  0.59942757]\n",
      " [ 0.31187583  0.68812417]\n",
      " [ 0.34052181  0.65947819]\n",
      " [ 0.3342684   0.6657316 ]\n",
      " [ 0.28170937  0.71829063]\n",
      " [ 0.29761592  0.70238408]\n",
      " [ 0.45698971  0.54301029]\n",
      " [ 0.25932322  0.74067678]\n",
      " [ 0.35425869  0.64574131]\n",
      " [ 0.20040992  0.79959008]\n",
      " [ 0.26148793  0.73851207]\n",
      " [ 0.24930821  0.75069179]\n",
      " [ 0.37996758  0.62003242]\n",
      " [ 0.26577371  0.73422629]\n",
      " [ 0.34604395  0.65395605]\n",
      " [ 0.23076505  0.76923495]\n",
      " [ 0.31644645  0.68355355]\n",
      " [ 0.23116505  0.76883495]\n",
      " [ 0.3742317   0.6257683 ]\n",
      " [ 0.19955981  0.80044019]\n",
      " [ 0.31215712  0.68784288]\n",
      " [ 0.3537748   0.6462252 ]\n",
      " [ 0.25837311  0.74162689]\n",
      " [ 0.21838029  0.78161971]\n",
      " [ 0.5         0.5       ]\n",
      " [ 0.17245923  0.82754077]\n",
      " [ 0.2768233   0.7231767 ]\n",
      " [ 0.18682237  0.81317763]\n",
      " [ 0.28140485  0.71859515]\n",
      " [ 0.31970229  0.68029771]\n",
      " [ 0.47655304  0.52344696]\n",
      " [ 0.26738983  0.73261017]\n",
      " [ 0.40888014  0.59111986]\n",
      " [ 0.51889638  0.48110362]\n",
      " [ 0.28293857  0.71706143]\n",
      " [ 0.34015886  0.65984114]\n",
      " [ 0.38432728  0.61567272]\n",
      " [ 0.36601551  0.63398449]\n",
      " [ 0.27048528  0.72951472]\n",
      " [ 0.38313207  0.61686793]\n",
      " [ 0.28233932  0.71766068]\n",
      " [ 0.26030341  0.73969659]\n",
      " [ 0.28871797  0.71128203]\n",
      " [ 0.45809563  0.54190437]\n",
      " [ 0.2548991   0.7451009 ]\n",
      " [ 0.30582996  0.69417004]\n",
      " [ 0.35033086  0.64966914]\n",
      " [ 0.35010169  0.64989831]\n",
      " [ 0.37197043  0.62802957]\n",
      " [ 0.28626557  0.71373443]\n",
      " [ 0.2623807   0.7376193 ]\n",
      " [ 0.29381604  0.70618396]\n",
      " [ 0.4510608   0.5489392 ]\n",
      " [ 0.32317176  0.67682824]\n",
      " [ 0.42614244  0.57385756]\n",
      " [ 0.28817591  0.71182409]\n",
      " [ 0.19616092  0.80383908]\n",
      " [ 0.25884993  0.74115007]\n",
      " [ 0.36185386  0.63814614]\n",
      " [ 0.23977098  0.76022902]\n",
      " [ 0.32994913  0.67005087]\n",
      " [ 0.38051813  0.61948187]\n",
      " [ 0.38484024  0.61515976]\n",
      " [ 0.53760764  0.46239236]\n",
      " [ 0.19944519  0.80055481]\n",
      " [ 0.37110664  0.62889336]\n",
      " [ 0.27950951  0.72049049]\n",
      " [ 0.352737    0.647263  ]\n",
      " [ 0.38475372  0.61524628]\n",
      " [ 0.25571185  0.74428815]\n",
      " [ 0.35826732  0.64173268]\n",
      " [ 0.41269156  0.58730844]\n",
      " [ 0.19680779  0.80319221]\n",
      " [ 0.23298127  0.76701873]\n",
      " [ 0.30932076  0.69067924]\n",
      " [ 0.28901437  0.71098563]\n",
      " [ 0.28407179  0.71592821]\n",
      " [ 0.20475297  0.79524703]\n",
      " [ 0.31011608  0.68988392]\n",
      " [ 0.12104336  0.87895664]\n",
      " [ 0.25773238  0.74226762]\n",
      " [ 0.23941793  0.76058207]\n",
      " [ 0.4118328   0.5881672 ]\n",
      " [ 0.39014605  0.60985395]\n",
      " [ 0.32570172  0.67429828]\n",
      " [ 0.28286242  0.71713758]\n",
      " [ 0.26277808  0.73722192]\n",
      " [ 0.47219594  0.52780406]\n",
      " [ 0.32592927  0.67407073]\n",
      " [ 0.48092438  0.51907562]\n",
      " [ 0.19045299  0.80954701]\n",
      " [ 0.32100071  0.67899929]\n",
      " [ 0.23740027  0.76259973]\n",
      " [ 0.18985804  0.81014196]\n",
      " [ 0.28760404  0.71239596]\n",
      " [ 0.41961111  0.58038889]\n",
      " [ 0.2082042   0.7917958 ]\n",
      " [ 0.37333314  0.62666686]\n",
      " [ 0.25810378  0.74189622]\n",
      " [ 0.35426302  0.64573698]\n",
      " [ 0.37314921  0.62685079]\n",
      " [ 0.41793167  0.58206833]\n",
      " [ 0.33830382  0.66169618]\n",
      " [ 0.349543    0.650457  ]\n",
      " [ 0.14086639  0.85913361]\n",
      " [ 0.32328136  0.67671864]\n",
      " [ 0.18476545  0.81523455]\n",
      " [ 0.27453185  0.72546815]\n",
      " [ 0.3450684   0.6549316 ]\n",
      " [ 0.30939619  0.69060381]\n",
      " [ 0.15955668  0.84044332]\n",
      " [ 0.36086719  0.63913281]\n",
      " [ 0.3925321   0.6074679 ]\n",
      " [ 0.28082731  0.71917269]\n",
      " [ 0.1626001   0.8373999 ]\n",
      " [ 0.33195764  0.66804236]\n",
      " [ 0.27560322  0.72439678]\n",
      " [ 0.31770006  0.68229994]\n",
      " [ 0.48636956  0.51363044]\n",
      " [ 0.3525358   0.6474642 ]\n",
      " [ 0.30627571  0.69372429]\n",
      " [ 0.4093307   0.5906693 ]\n",
      " [ 0.1710813   0.8289187 ]\n",
      " [ 0.27360753  0.72639247]\n",
      " [ 0.23987663  0.76012337]\n",
      " [ 0.20609601  0.79390399]\n",
      " [ 0.28484446  0.71515554]\n",
      " [ 0.29380578  0.70619422]\n",
      " [ 0.20927874  0.79072126]\n",
      " [ 0.09146564  0.90853436]\n",
      " [ 0.27961782  0.72038218]\n",
      " [ 0.47691824  0.52308176]\n",
      " [ 0.37632022  0.62367978]\n",
      " [ 0.37670964  0.62329036]\n",
      " [ 0.32524821  0.67475179]\n",
      " [ 0.20165282  0.79834718]\n",
      " [ 0.35459958  0.64540042]\n",
      " [ 0.48056962  0.51943038]\n",
      " [ 0.35262805  0.64737195]\n",
      " [ 0.15834908  0.84165092]\n",
      " [ 0.31305722  0.68694278]\n",
      " [ 0.22155983  0.77844017]\n",
      " [ 0.51148554  0.48851446]\n",
      " [ 0.37446399  0.62553601]\n",
      " [ 0.24159571  0.75840429]\n",
      " [ 0.48170687  0.51829313]\n",
      " [ 0.16424513  0.83575487]\n",
      " [ 0.22657975  0.77342025]\n",
      " [ 0.31067887  0.68932113]\n",
      " [ 0.3955734   0.6044266 ]\n",
      " [ 0.40087644  0.59912356]\n",
      " [ 0.30452779  0.69547221]\n",
      " [ 0.26260978  0.73739022]\n",
      " [ 0.21747541  0.78252459]\n",
      " [ 0.22073318  0.77926682]\n",
      " [ 0.18537471  0.81462529]\n",
      " [ 0.40194001  0.59805999]\n",
      " [ 0.20580284  0.79419716]\n",
      " [ 0.39481171  0.60518829]\n",
      " [ 0.17339448  0.82660552]\n",
      " [ 0.5         0.5       ]\n",
      " [ 0.34954473  0.65045527]\n",
      " [ 0.28678827  0.71321173]\n",
      " [ 0.24580519  0.75419481]\n",
      " [ 0.31505682  0.68494318]\n",
      " [ 0.18277282  0.81722718]\n",
      " [ 0.31107518  0.68892482]\n",
      " [ 0.35245499  0.64754501]\n",
      " [ 0.37639854  0.62360146]\n",
      " [ 0.23954569  0.76045431]\n",
      " [ 0.33076531  0.66923469]\n",
      " [ 0.60357916  0.39642084]\n",
      " [ 0.17172185  0.82827815]\n",
      " [ 0.21824667  0.78175333]\n",
      " [ 0.32379801  0.67620199]\n",
      " [ 0.26826153  0.73173847]\n",
      " [ 0.29866724  0.70133276]\n",
      " [ 0.22231688  0.77768312]\n",
      " [ 0.39336205  0.60663795]\n",
      " [ 0.27616273  0.72383727]\n",
      " [ 0.21467401  0.78532599]\n",
      " [ 0.25772052  0.74227948]\n",
      " [ 0.35258983  0.64741017]\n",
      " [ 0.24666265  0.75333735]\n",
      " [ 0.29073657  0.70926343]\n",
      " [ 0.29390472  0.70609528]\n",
      " [ 0.29488727  0.70511273]\n",
      " [ 0.39623099  0.60376901]\n",
      " [ 0.33451476  0.66548524]\n",
      " [ 0.28998429  0.71001571]\n",
      " [ 0.20971086  0.79028914]\n",
      " [ 0.29364862  0.70635138]\n",
      " [ 0.33725249  0.66274751]\n",
      " [ 0.13027558  0.86972442]\n",
      " [ 0.30639748  0.69360252]\n",
      " [ 0.19284002  0.80715998]\n",
      " [ 0.38053065  0.61946935]\n",
      " [ 0.36814501  0.63185499]\n",
      " [ 0.34752968  0.65247032]\n",
      " [ 0.3544356   0.6455644 ]\n",
      " [ 0.33973216  0.66026784]\n",
      " [ 0.30186743  0.69813257]\n",
      " [ 0.39968338  0.60031662]\n",
      " [ 0.43666473  0.56333527]\n",
      " [ 0.44562696  0.55437304]\n",
      " [ 0.30294783  0.69705217]\n",
      " [ 0.2982943   0.7017057 ]\n",
      " [ 0.27091118  0.72908882]\n",
      " [ 0.30717119  0.69282881]\n",
      " [ 0.48324671  0.51675329]\n",
      " [ 0.24916077  0.75083923]\n",
      " [ 0.49264263  0.50735737]\n",
      " [ 0.31336306  0.68663694]\n",
      " [ 0.30923118  0.69076882]\n",
      " [ 0.2911945   0.7088055 ]\n",
      " [ 0.49210729  0.50789271]\n",
      " [ 0.26153447  0.73846553]\n",
      " [ 0.33891404  0.66108596]\n",
      " [ 0.4307972   0.5692028 ]\n",
      " [ 0.35517646  0.64482354]\n",
      " [ 0.46065144  0.53934856]\n",
      " [ 0.2661485   0.7338515 ]\n",
      " [ 0.25262803  0.74737197]\n",
      " [ 0.38102469  0.61897531]\n",
      " [ 0.41521762  0.58478238]\n",
      " [ 0.38633477  0.61366523]\n",
      " [ 0.26688336  0.73311664]\n",
      " [ 0.41017262  0.58982738]\n",
      " [ 0.37208221  0.62791779]\n",
      " [ 0.29739639  0.70260361]\n",
      " [ 0.12195116  0.87804884]\n",
      " [ 0.24998174  0.75001826]\n",
      " [ 0.266878    0.733122  ]\n",
      " [ 0.31769751  0.68230249]\n",
      " [ 0.13972746  0.86027254]\n",
      " [ 0.2656581   0.7343419 ]\n",
      " [ 0.26002173  0.73997827]\n",
      " [ 0.24168587  0.75831413]\n",
      " [ 0.29049804  0.70950196]\n",
      " [ 0.3469479   0.6530521 ]\n",
      " [ 0.28254225  0.71745775]\n",
      " [ 0.32674587  0.67325413]\n",
      " [ 0.29021496  0.70978504]\n",
      " [ 0.37517528  0.62482472]\n",
      " [ 0.42238397  0.57761603]\n",
      " [ 0.31163357  0.68836643]\n",
      " [ 0.35210496  0.64789504]\n",
      " [ 0.23109636  0.76890364]\n",
      " [ 0.27863032  0.72136968]\n",
      " [ 0.19744253  0.80255747]\n",
      " [ 0.51801871  0.48198129]\n",
      " [ 0.78226477  0.21773523]\n",
      " [ 0.28391686  0.71608314]\n",
      " [ 0.12477118  0.87522882]\n",
      " [ 0.37050223  0.62949777]\n",
      " [ 0.52517454  0.47482546]\n",
      " [ 0.30959916  0.69040084]\n",
      " [ 0.5186829   0.4813171 ]\n",
      " [ 0.35133212  0.64866788]\n",
      " [ 0.23395897  0.76604103]\n",
      " [ 0.43633418  0.56366582]\n",
      " [ 0.36986209  0.63013791]\n",
      " [ 0.15566933  0.84433067]\n",
      " [ 0.35002176  0.64997824]\n",
      " [ 0.35864159  0.64135841]\n",
      " [ 0.30706052  0.69293948]\n",
      " [ 0.36777648  0.63222352]\n",
      " [ 0.30407961  0.69592039]\n",
      " [ 0.27581913  0.72418087]\n",
      " [ 0.2892728   0.7107272 ]\n",
      " [ 0.35571007  0.64428993]\n",
      " [ 0.26784371  0.73215629]\n",
      " [ 0.27138325  0.72861675]\n",
      " [ 0.13636003  0.86363997]\n",
      " [ 0.26793421  0.73206579]\n",
      " [ 0.23712057  0.76287943]\n",
      " [ 0.25334165  0.74665835]\n",
      " [ 0.26782651  0.73217349]\n",
      " [ 0.36725535  0.63274465]\n",
      " [ 0.36525992  0.63474008]\n",
      " [ 0.4183374   0.5816626 ]\n",
      " [ 0.11000388  0.88999612]\n",
      " [ 0.30231331  0.69768669]\n",
      " [ 0.22402842  0.77597158]\n",
      " [ 0.25716908  0.74283092]\n",
      " [ 0.27641796  0.72358204]\n",
      " [ 0.31295923  0.68704077]\n",
      " [ 0.349346    0.650654  ]\n",
      " [ 0.19313138  0.80686862]\n",
      " [ 0.2865449   0.7134551 ]\n",
      " [ 0.12673846  0.87326154]\n",
      " [ 0.18441016  0.81558984]\n",
      " [ 0.3407296   0.6592704 ]\n",
      " [ 0.14887859  0.85112141]\n",
      " [ 0.38167598  0.61832402]\n",
      " [ 0.26870725  0.73129275]\n",
      " [ 0.25378509  0.74621491]\n",
      " [ 0.27281949  0.72718051]\n",
      " [ 0.2499669   0.7500331 ]\n",
      " [ 0.18467727  0.81532273]\n",
      " [ 0.3305229   0.6694771 ]\n",
      " [ 0.18173916  0.81826084]\n",
      " [ 0.35500922  0.64499078]\n",
      " [ 0.35133375  0.64866625]\n",
      " [ 0.19096465  0.80903535]\n",
      " [ 0.47545898  0.52454102]\n",
      " [ 0.23194552  0.76805448]\n",
      " [ 0.41001413  0.58998587]\n",
      " [ 0.0669879   0.9330121 ]\n",
      " [ 0.17656169  0.82343831]\n",
      " [ 0.42599616  0.57400384]\n",
      " [ 0.23595673  0.76404327]\n",
      " [ 0.27359063  0.72640937]\n",
      " [ 0.3238672   0.6761328 ]\n",
      " [ 0.11020996  0.88979004]\n",
      " [ 0.30572196  0.69427804]\n",
      " [ 0.33643877  0.66356123]\n",
      " [ 0.25333421  0.74666579]\n",
      " [ 0.31919913  0.68080087]\n",
      " [ 0.29292132  0.70707868]\n",
      " [ 0.16122371  0.83877629]\n",
      " [ 0.3619079   0.6380921 ]\n",
      " [ 0.30835305  0.69164695]\n",
      " [ 0.35594166  0.64405834]\n",
      " [ 0.50725697  0.49274303]\n",
      " [ 0.3695345   0.6304655 ]\n",
      " [ 0.37746805  0.62253195]\n",
      " [ 0.27868768  0.72131232]\n",
      " [ 0.46674251  0.53325749]\n",
      " [ 0.38577198  0.61422802]\n",
      " [ 0.2259166   0.7740834 ]\n",
      " [ 0.30504364  0.69495636]\n",
      " [ 0.2779178   0.7220822 ]\n",
      " [ 0.19626202  0.80373798]\n",
      " [ 0.27794175  0.72205825]\n",
      " [ 0.41731172  0.58268828]\n",
      " [ 0.06461766  0.93538234]\n",
      " [ 0.27574896  0.72425104]\n",
      " [ 0.10837029  0.89162971]\n",
      " [ 0.40927741  0.59072259]\n",
      " [ 0.3530567   0.6469433 ]\n",
      " [ 0.24851153  0.75148847]\n",
      " [ 0.35434877  0.64565123]\n",
      " [ 0.39855976  0.60144024]\n",
      " [ 0.32313343  0.67686657]\n",
      " [ 0.32031007  0.67968993]\n",
      " [ 0.39770472  0.60229528]\n",
      " [ 0.20310187  0.79689813]\n",
      " [ 0.26731148  0.73268852]]\n"
     ]
    }
   ],
   "source": [
    "print(prob)"
   ]
  },
  {
   "cell_type": "code",
   "execution_count": 9,
   "metadata": {
    "collapsed": false
   },
   "outputs": [
    {
     "data": {
      "text/plain": [
       "array([[ 43,  94],\n",
       "       [ 64, 234]])"
      ]
     },
     "execution_count": 9,
     "metadata": {},
     "output_type": "execute_result"
    }
   ],
   "source": [
    "confusion_matrix(bins, preds_ext)"
   ]
  },
  {
   "cell_type": "code",
   "execution_count": 44,
   "metadata": {
    "collapsed": false
   },
   "outputs": [
    {
     "data": {
      "text/plain": [
       "array([[ 1, 31],\n",
       "       [ 4, 78]])"
      ]
     },
     "execution_count": 44,
     "metadata": {},
     "output_type": "execute_result"
    }
   ],
   "source": [
    "confusion_matrix(bins, preds)"
   ]
  },
  {
   "cell_type": "code",
   "execution_count": 17,
   "metadata": {
    "collapsed": false
   },
   "outputs": [
    {
     "data": {
      "text/plain": [
       "array([[27, 25],\n",
       "       [20, 42]])"
      ]
     },
     "execution_count": 17,
     "metadata": {},
     "output_type": "execute_result"
    }
   ],
   "source": [
    "confusion_matrix(bins, preds_2)"
   ]
  },
  {
   "cell_type": "code",
   "execution_count": 20,
   "metadata": {
    "collapsed": false,
    "scrolled": true
   },
   "outputs": [
    {
     "data": {
      "text/plain": [
       "array([[ 1, 31],\n",
       "       [ 6, 76]])"
      ]
     },
     "execution_count": 20,
     "metadata": {},
     "output_type": "execute_result"
    }
   ],
   "source": [
    "confusion_matrix(bins, preds_3)"
   ]
  },
  {
   "cell_type": "code",
   "execution_count": 25,
   "metadata": {
    "collapsed": false,
    "scrolled": true
   },
   "outputs": [
    {
     "data": {
      "text/plain": [
       "array([[ 1, 31],\n",
       "       [ 6, 76]])"
      ]
     },
     "execution_count": 25,
     "metadata": {},
     "output_type": "execute_result"
    }
   ],
   "source": [
    "confusion_matrix(bins, preds_4)"
   ]
  },
  {
   "cell_type": "code",
   "execution_count": 11,
   "metadata": {
    "collapsed": true
   },
   "outputs": [],
   "source": [
    "results = {'preds_ext':preds_ext, 'prob_ext':prob}\n",
    "sio.savemat('res_svm_class.mat',results)"
   ]
  },
  {
   "cell_type": "markdown",
   "metadata": {},
   "source": [
    "#### SVM + RFE "
   ]
  },
  {
   "cell_type": "code",
   "execution_count": 48,
   "metadata": {
    "collapsed": false,
    "scrolled": true
   },
   "outputs": [
    {
     "ename": "KeyboardInterrupt",
     "evalue": "",
     "output_type": "error",
     "traceback": [
      "\u001b[1;31m---------------------------------------------------------------------------\u001b[0m",
      "\u001b[1;31mKeyboardInterrupt\u001b[0m                         Traceback (most recent call last)",
      "\u001b[1;32m<ipython-input-48-a41e18c5f47c>\u001b[0m in \u001b[0;36m<module>\u001b[1;34m()\u001b[0m\n\u001b[0;32m     10\u001b[0m \u001b[0mdisplay\u001b[0m\u001b[1;33m(\u001b[0m\u001b[0mf\u001b[0m\u001b[1;33m)\u001b[0m\u001b[1;33m\u001b[0m\u001b[0m\n\u001b[0;32m     11\u001b[0m \u001b[1;32mfor\u001b[0m \u001b[0mtrain_index\u001b[0m\u001b[1;33m,\u001b[0m \u001b[0mtest_index\u001b[0m \u001b[1;32min\u001b[0m \u001b[0mloo\u001b[0m\u001b[1;33m:\u001b[0m\u001b[1;33m\u001b[0m\u001b[0m\n\u001b[1;32m---> 12\u001b[1;33m     \u001b[0mestimator\u001b[0m\u001b[1;33m.\u001b[0m\u001b[0mfit\u001b[0m\u001b[1;33m(\u001b[0m\u001b[0medges\u001b[0m\u001b[1;33m[\u001b[0m\u001b[0mtrain_index\u001b[0m\u001b[1;33m,\u001b[0m\u001b[1;33m]\u001b[0m\u001b[1;33m,\u001b[0m\u001b[0mbins\u001b[0m\u001b[1;33m[\u001b[0m\u001b[0mtrain_index\u001b[0m\u001b[1;33m]\u001b[0m\u001b[1;33m)\u001b[0m\u001b[1;33m\u001b[0m\u001b[0m\n\u001b[0m\u001b[0;32m     13\u001b[0m     \u001b[0mpredictions\u001b[0m\u001b[1;33m[\u001b[0m\u001b[0mi\u001b[0m\u001b[1;33m]\u001b[0m \u001b[1;33m=\u001b[0m \u001b[0mestimator\u001b[0m\u001b[1;33m.\u001b[0m\u001b[0mpredict\u001b[0m\u001b[1;33m(\u001b[0m\u001b[0medges\u001b[0m\u001b[1;33m[\u001b[0m\u001b[0mtest_index\u001b[0m\u001b[1;33m,\u001b[0m\u001b[1;33m]\u001b[0m\u001b[1;33m)\u001b[0m\u001b[1;33m\u001b[0m\u001b[0m\n\u001b[0;32m     14\u001b[0m     \u001b[0mprob\u001b[0m\u001b[1;33m[\u001b[0m\u001b[0mi\u001b[0m\u001b[1;33m,\u001b[0m\u001b[1;33m]\u001b[0m \u001b[1;33m=\u001b[0m \u001b[0mestimator\u001b[0m\u001b[1;33m.\u001b[0m\u001b[0mpredict_proba\u001b[0m\u001b[1;33m(\u001b[0m\u001b[0medges\u001b[0m\u001b[1;33m[\u001b[0m\u001b[0mtest_index\u001b[0m\u001b[1;33m,\u001b[0m\u001b[1;33m]\u001b[0m\u001b[1;33m)\u001b[0m\u001b[1;33m\u001b[0m\u001b[0m\n",
      "\u001b[1;32mC:\\Users\\Paola\\Anaconda3\\lib\\site-packages\\sklearn\\feature_selection\\rfe.py\u001b[0m in \u001b[0;36mfit\u001b[1;34m(self, X, y)\u001b[0m\n\u001b[0;32m    422\u001b[0m                       verbose=self.verbose - 1)\n\u001b[0;32m    423\u001b[0m \u001b[1;33m\u001b[0m\u001b[0m\n\u001b[1;32m--> 424\u001b[1;33m             rfe._fit(X_train, y_train, lambda estimator, features:\n\u001b[0m\u001b[0;32m    425\u001b[0m                      _score(estimator, X_test[:, features], y_test, scorer))\n\u001b[0;32m    426\u001b[0m             \u001b[0mscores\u001b[0m\u001b[1;33m.\u001b[0m\u001b[0mappend\u001b[0m\u001b[1;33m(\u001b[0m\u001b[0mnp\u001b[0m\u001b[1;33m.\u001b[0m\u001b[0marray\u001b[0m\u001b[1;33m(\u001b[0m\u001b[0mrfe\u001b[0m\u001b[1;33m.\u001b[0m\u001b[0mscores_\u001b[0m\u001b[1;33m[\u001b[0m\u001b[1;33m:\u001b[0m\u001b[1;33m:\u001b[0m\u001b[1;33m-\u001b[0m\u001b[1;36m1\u001b[0m\u001b[1;33m]\u001b[0m\u001b[1;33m)\u001b[0m\u001b[1;33m.\u001b[0m\u001b[0mreshape\u001b[0m\u001b[1;33m(\u001b[0m\u001b[1;36m1\u001b[0m\u001b[1;33m,\u001b[0m \u001b[1;33m-\u001b[0m\u001b[1;36m1\u001b[0m\u001b[1;33m)\u001b[0m\u001b[1;33m)\u001b[0m\u001b[1;33m\u001b[0m\u001b[0m\n",
      "\u001b[1;32mC:\\Users\\Paola\\Anaconda3\\lib\\site-packages\\sklearn\\feature_selection\\rfe.py\u001b[0m in \u001b[0;36m_fit\u001b[1;34m(self, X, y, step_score)\u001b[0m\n\u001b[0;32m    172\u001b[0m                 \u001b[0mprint\u001b[0m\u001b[1;33m(\u001b[0m\u001b[1;34m\"Fitting estimator with %d features.\"\u001b[0m \u001b[1;33m%\u001b[0m \u001b[0mnp\u001b[0m\u001b[1;33m.\u001b[0m\u001b[0msum\u001b[0m\u001b[1;33m(\u001b[0m\u001b[0msupport_\u001b[0m\u001b[1;33m)\u001b[0m\u001b[1;33m)\u001b[0m\u001b[1;33m\u001b[0m\u001b[0m\n\u001b[0;32m    173\u001b[0m \u001b[1;33m\u001b[0m\u001b[0m\n\u001b[1;32m--> 174\u001b[1;33m             \u001b[0mestimator\u001b[0m\u001b[1;33m.\u001b[0m\u001b[0mfit\u001b[0m\u001b[1;33m(\u001b[0m\u001b[0mX\u001b[0m\u001b[1;33m[\u001b[0m\u001b[1;33m:\u001b[0m\u001b[1;33m,\u001b[0m \u001b[0mfeatures\u001b[0m\u001b[1;33m]\u001b[0m\u001b[1;33m,\u001b[0m \u001b[0my\u001b[0m\u001b[1;33m)\u001b[0m\u001b[1;33m\u001b[0m\u001b[0m\n\u001b[0m\u001b[0;32m    175\u001b[0m \u001b[1;33m\u001b[0m\u001b[0m\n\u001b[0;32m    176\u001b[0m             \u001b[1;31m# Get coefs\u001b[0m\u001b[1;33m\u001b[0m\u001b[1;33m\u001b[0m\u001b[0m\n",
      "\u001b[1;32mC:\\Users\\Paola\\Anaconda3\\lib\\site-packages\\sklearn\\svm\\base.py\u001b[0m in \u001b[0;36mfit\u001b[1;34m(self, X, y, sample_weight)\u001b[0m\n\u001b[0;32m    191\u001b[0m \u001b[1;33m\u001b[0m\u001b[0m\n\u001b[0;32m    192\u001b[0m         \u001b[0mseed\u001b[0m \u001b[1;33m=\u001b[0m \u001b[0mrnd\u001b[0m\u001b[1;33m.\u001b[0m\u001b[0mrandint\u001b[0m\u001b[1;33m(\u001b[0m\u001b[0mnp\u001b[0m\u001b[1;33m.\u001b[0m\u001b[0miinfo\u001b[0m\u001b[1;33m(\u001b[0m\u001b[1;34m'i'\u001b[0m\u001b[1;33m)\u001b[0m\u001b[1;33m.\u001b[0m\u001b[0mmax\u001b[0m\u001b[1;33m)\u001b[0m\u001b[1;33m\u001b[0m\u001b[0m\n\u001b[1;32m--> 193\u001b[1;33m         \u001b[0mfit\u001b[0m\u001b[1;33m(\u001b[0m\u001b[0mX\u001b[0m\u001b[1;33m,\u001b[0m \u001b[0my\u001b[0m\u001b[1;33m,\u001b[0m \u001b[0msample_weight\u001b[0m\u001b[1;33m,\u001b[0m \u001b[0msolver_type\u001b[0m\u001b[1;33m,\u001b[0m \u001b[0mkernel\u001b[0m\u001b[1;33m,\u001b[0m \u001b[0mrandom_seed\u001b[0m\u001b[1;33m=\u001b[0m\u001b[0mseed\u001b[0m\u001b[1;33m)\u001b[0m\u001b[1;33m\u001b[0m\u001b[0m\n\u001b[0m\u001b[0;32m    194\u001b[0m         \u001b[1;31m# see comment on the other call to np.iinfo in this file\u001b[0m\u001b[1;33m\u001b[0m\u001b[1;33m\u001b[0m\u001b[0m\n\u001b[0;32m    195\u001b[0m \u001b[1;33m\u001b[0m\u001b[0m\n",
      "\u001b[1;32mC:\\Users\\Paola\\Anaconda3\\lib\\site-packages\\sklearn\\svm\\base.py\u001b[0m in \u001b[0;36m_dense_fit\u001b[1;34m(self, X, y, sample_weight, solver_type, kernel, random_seed)\u001b[0m\n\u001b[0;32m    249\u001b[0m                 \u001b[0mcache_size\u001b[0m\u001b[1;33m=\u001b[0m\u001b[0mself\u001b[0m\u001b[1;33m.\u001b[0m\u001b[0mcache_size\u001b[0m\u001b[1;33m,\u001b[0m \u001b[0mcoef0\u001b[0m\u001b[1;33m=\u001b[0m\u001b[0mself\u001b[0m\u001b[1;33m.\u001b[0m\u001b[0mcoef0\u001b[0m\u001b[1;33m,\u001b[0m\u001b[1;33m\u001b[0m\u001b[0m\n\u001b[0;32m    250\u001b[0m                 \u001b[0mgamma\u001b[0m\u001b[1;33m=\u001b[0m\u001b[0mself\u001b[0m\u001b[1;33m.\u001b[0m\u001b[0m_gamma\u001b[0m\u001b[1;33m,\u001b[0m \u001b[0mepsilon\u001b[0m\u001b[1;33m=\u001b[0m\u001b[0mself\u001b[0m\u001b[1;33m.\u001b[0m\u001b[0mepsilon\u001b[0m\u001b[1;33m,\u001b[0m\u001b[1;33m\u001b[0m\u001b[0m\n\u001b[1;32m--> 251\u001b[1;33m                 max_iter=self.max_iter, random_seed=random_seed)\n\u001b[0m\u001b[0;32m    252\u001b[0m \u001b[1;33m\u001b[0m\u001b[0m\n\u001b[0;32m    253\u001b[0m         \u001b[0mself\u001b[0m\u001b[1;33m.\u001b[0m\u001b[0m_warn_from_fit_status\u001b[0m\u001b[1;33m(\u001b[0m\u001b[1;33m)\u001b[0m\u001b[1;33m\u001b[0m\u001b[0m\n",
      "\u001b[1;31mKeyboardInterrupt\u001b[0m: "
     ]
    }
   ],
   "source": [
    "loo = cross_validation.LeaveOneOut(n_subj)\n",
    "errors = np.zeros([n_subj,1])\n",
    "predictions = np.zeros([n_subj,1])\n",
    "#estimator =LinearSVC(random_state=0)\n",
    "svc = SVC(kernel='linear',probability=True,random_state=42)\n",
    "estimator = RFECV(svc, step=round(0.10*edges.shape[1]), cv=5)\n",
    "prob = np.zeros([n_subj,n_bins])\n",
    "i=0\n",
    "f = FloatProgress(min=0, max=n_subj)\n",
    "display(f)\n",
    "for train_index, test_index in loo:\n",
    "    estimator.fit(edges[train_index,],bins[train_index])\n",
    "    predictions[i] = estimator.predict(edges[test_index,])\n",
    "    prob[i,] = estimator.predict_proba(edges[test_index,])\n",
    "    errors[i] = 1 if predictions[i]==bins[test_index] else 0\n",
    "    i += 1\n",
    "    f.value += 1\n",
    "        \n",
    "print('Accuracy:',errors.mean())\n",
    "print(np.transpose(predictions))"
   ]
  },
  {
   "cell_type": "code",
   "execution_count": 53,
   "metadata": {
    "collapsed": false
   },
   "outputs": [
    {
     "name": "stdout",
     "output_type": "stream",
     "text": [
      "[[ 3.  3.  3.  3.  3.  3.  3.  3.  3.  3.  3.  3.  3.  3.  3.  3.  3.  3.\n",
      "   3.  3.  3.  3.  3.  3.  3.  3.  3.  3.  3.  3.  3.  3.  3.  3.  3.  3.\n",
      "   3.  3.  3.  3.  3.  3.  3.  3.  3.  3.  3.  3.  3.  3.  3.  3.  3.  3.\n",
      "   3.  3.  3.  3.  3.  3.  3.  3.  3.  3.  0.  0.  0.  0.  0.  0.  0.  0.\n",
      "   0.  0.  0.  0.  0.  0.  0.  0.  0.  0.  0.  0.  0.  0.  0.  0.  0.  0.\n",
      "   0.  0.  0.  0.  0.  0.  0.  0.  0.  0.  0.  0.  0.  0.  0.  0.  0.  0.\n",
      "   0.  0.  0.  0.  0.  0.  0.  0.  0.  0.  0.  0.  0.  0.  0.  0.  0.  0.\n",
      "   0.  0.  0.  0.  0.  0.  0.  0.  0.  0.  0.  0.  0.  0.  0.  0.  0.  0.\n",
      "   0.  0.  0.  0.  0.  0.  0.  0.  0.  0.  0.  0.  0.  0.  0.  0.  0.  0.\n",
      "   0.  0.  0.  0.  0.  0.  0.  0.  0.  0.  0.  0.  0.  0.  0.  0.  0.  0.\n",
      "   0.  0.  0.  0.  0.  0.  0.  0.  0.  0.  0.  0.  0.  0.  0.  0.  0.  0.\n",
      "   0.  0.  0.  0.  0.  0.  0.  0.  0.  0.  0.  0.  0.  0.  0.  0.  0.  0.\n",
      "   0.  0.  0.  0.  0.  0.  0.  0.  0.  0.  0.  0.  0.  0.  0.  0.  0.  0.\n",
      "   0.  0.  0.  0.  0.  0.  0.  0.  0.  0.  0.  0.  0.  0.  0.  0.  0.  0.\n",
      "   0.  0.  0.  0.  0.  0.  0.  0.  0.  0.  0.  0.  0.  0.  0.  0.  0.  0.\n",
      "   0.  0.  0.  0.  0.  0.  0.  0.  0.  0.  0.  0.  0.  0.  0.  0.  0.  0.\n",
      "   0.  0.  0.  0.  0.  0.  0.  0.  0.  0.  0.  0.  0.  0.  0.  0.  0.  0.\n",
      "   0.  0.  0.  0.  0.  0.  0.  0.  0.  0.  0.  0.  0.  0.  0.  0.  0.  0.\n",
      "   0.  0.  0.  0.  0.  0.  0.  0.  0.  0.  0.  0.  0.  0.  0.  0.  0.  0.\n",
      "   0.  0.  0.  0.  0.  0.  0.  0.  0.  0.  0.  0.  0.  0.  0.  0.  0.  0.\n",
      "   0.  0.  0.  0.  0.  0.  0.  0.  0.  0.  0.  0.  0.  0.  0.  0.  0.  0.\n",
      "   0.  0.  0.  0.  0.  0.  0.  0.  0.  0.  0.  0.  0.  0.  0.  0.  0.  0.\n",
      "   0.  0.  0.  0.  0.  0.  0.  0.  0.  0.  0.  0.  0.  0.  0.  0.  0.  0.\n",
      "   0.  0.  0.  0.  0.  0.  0.  0.  0.  0.  0.  0.  0.  0.  0.  0.  0.  0.\n",
      "   0.  0.  0.]]\n",
      "[[ 0.20099875  0.43306596  0.36593528]\n",
      " [ 0.22376968  0.32602528  0.45020505]\n",
      " [ 0.22195745  0.3456805   0.43236205]\n",
      " [ 0.23123916  0.68868998  0.08007086]\n",
      " [ 0.16535486  0.35259201  0.48205314]\n",
      " [ 0.37999804  0.31044049  0.30956147]\n",
      " [ 0.42089798  0.28554466  0.29355737]\n",
      " [ 0.19463935  0.34329252  0.46206813]\n",
      " [ 0.20753866  0.3759552   0.41650614]\n",
      " [ 0.19002634  0.29733413  0.51263953]\n",
      " [ 0.10483685  0.41974993  0.47541322]\n",
      " [ 0.18989753  0.30374366  0.50635881]\n",
      " [ 0.22435257  0.30990816  0.46573926]\n",
      " [ 0.15694247  0.34300417  0.50005336]\n",
      " [ 0.54769474  0.12424235  0.32806291]\n",
      " [ 0.18556907  0.47214402  0.34228691]\n",
      " [ 0.19142184  0.41867586  0.3899023 ]\n",
      " [ 0.29485151  0.25596363  0.44918486]\n",
      " [ 0.54081658  0.11020262  0.3489808 ]\n",
      " [ 0.18915131  0.31635359  0.49449511]\n",
      " [ 0.20077694  0.37819084  0.42103221]\n",
      " [ 0.96499892  0.01743711  0.01756396]\n",
      " [ 0.17937762  0.34919686  0.47142552]\n",
      " [ 0.18651784  0.36262417  0.45085799]\n",
      " [ 0.49874366  0.10639346  0.39486287]\n",
      " [ 0.42313501  0.41607323  0.16079176]\n",
      " [ 0.17650094  0.37273847  0.45076058]\n",
      " [ 0.23915753  0.26839635  0.49244611]\n",
      " [ 0.57371623  0.14653149  0.27975228]\n",
      " [ 0.17472454  0.32095912  0.50431634]\n",
      " [ 0.2073766   0.05834711  0.73427629]\n",
      " [ 0.19457862  0.32030053  0.48512085]\n",
      " [ 0.46946248  0.38212098  0.14841654]\n",
      " [ 0.19264316  0.34568022  0.46167662]\n",
      " [ 0.41595671  0.17685048  0.40719281]\n",
      " [ 0.50851827  0.164031    0.32745073]\n",
      " [ 0.21438749  0.38347938  0.40213313]\n",
      " [ 0.21684066  0.32741138  0.45574795]\n",
      " [ 0.18455997  0.35225156  0.46318847]\n",
      " [ 0.39156123  0.18014467  0.42829411]\n",
      " [ 0.49562839  0.18804952  0.31632209]\n",
      " [ 0.17093614  0.36196414  0.46709972]\n",
      " [ 0.17878203  0.48062725  0.34059071]\n",
      " [ 0.15261027  0.32768862  0.51970111]\n",
      " [ 0.20987547  0.59293705  0.19718748]\n",
      " [ 0.50605163  0.02676921  0.46717916]\n",
      " [ 0.52179037  0.12340479  0.35480485]\n",
      " [ 0.07217682  0.3069877   0.62083548]\n",
      " [ 0.18990336  0.40422703  0.40586961]\n",
      " [ 0.17562389  0.38644432  0.43793179]\n",
      " [ 0.18040483  0.45296334  0.36663182]\n",
      " [ 0.186582    0.37283594  0.44058206]\n",
      " [ 0.16851216  0.38519199  0.44629586]\n",
      " [ 0.290755    0.36803462  0.34121038]\n",
      " [ 0.17186204  0.39223779  0.43590017]\n",
      " [ 0.31863756  0.40696806  0.27439438]\n",
      " [ 0.16311519  0.38866122  0.44822359]\n",
      " [ 0.20343053  0.24768679  0.54888268]\n",
      " [ 0.31036395  0.38707488  0.30256117]\n",
      " [ 0.16353612  0.30782159  0.52864228]\n",
      " [ 0.33206915  0.17399706  0.49393379]\n",
      " [ 0.09317988  0.46413068  0.44268944]\n",
      " [ 0.19242355  0.36763326  0.43994319]\n",
      " [ 0.24707734  0.66671751  0.08620515]\n",
      " [ 0.          0.          0.        ]\n",
      " [ 0.          0.          0.        ]\n",
      " [ 0.          0.          0.        ]\n",
      " [ 0.          0.          0.        ]\n",
      " [ 0.          0.          0.        ]\n",
      " [ 0.          0.          0.        ]\n",
      " [ 0.          0.          0.        ]\n",
      " [ 0.          0.          0.        ]\n",
      " [ 0.          0.          0.        ]\n",
      " [ 0.          0.          0.        ]\n",
      " [ 0.          0.          0.        ]\n",
      " [ 0.          0.          0.        ]\n",
      " [ 0.          0.          0.        ]\n",
      " [ 0.          0.          0.        ]\n",
      " [ 0.          0.          0.        ]\n",
      " [ 0.          0.          0.        ]\n",
      " [ 0.          0.          0.        ]\n",
      " [ 0.          0.          0.        ]\n",
      " [ 0.          0.          0.        ]\n",
      " [ 0.          0.          0.        ]\n",
      " [ 0.          0.          0.        ]\n",
      " [ 0.          0.          0.        ]\n",
      " [ 0.          0.          0.        ]\n",
      " [ 0.          0.          0.        ]\n",
      " [ 0.          0.          0.        ]\n",
      " [ 0.          0.          0.        ]\n",
      " [ 0.          0.          0.        ]\n",
      " [ 0.          0.          0.        ]\n",
      " [ 0.          0.          0.        ]\n",
      " [ 0.          0.          0.        ]\n",
      " [ 0.          0.          0.        ]\n",
      " [ 0.          0.          0.        ]\n",
      " [ 0.          0.          0.        ]\n",
      " [ 0.          0.          0.        ]\n",
      " [ 0.          0.          0.        ]\n",
      " [ 0.          0.          0.        ]\n",
      " [ 0.          0.          0.        ]\n",
      " [ 0.          0.          0.        ]\n",
      " [ 0.          0.          0.        ]\n",
      " [ 0.          0.          0.        ]\n",
      " [ 0.          0.          0.        ]\n",
      " [ 0.          0.          0.        ]\n",
      " [ 0.          0.          0.        ]\n",
      " [ 0.          0.          0.        ]\n",
      " [ 0.          0.          0.        ]\n",
      " [ 0.          0.          0.        ]\n",
      " [ 0.          0.          0.        ]\n",
      " [ 0.          0.          0.        ]\n",
      " [ 0.          0.          0.        ]\n",
      " [ 0.          0.          0.        ]\n",
      " [ 0.          0.          0.        ]\n",
      " [ 0.          0.          0.        ]\n",
      " [ 0.          0.          0.        ]\n",
      " [ 0.          0.          0.        ]\n",
      " [ 0.          0.          0.        ]\n",
      " [ 0.          0.          0.        ]\n",
      " [ 0.          0.          0.        ]\n",
      " [ 0.          0.          0.        ]\n",
      " [ 0.          0.          0.        ]\n",
      " [ 0.          0.          0.        ]\n",
      " [ 0.          0.          0.        ]\n",
      " [ 0.          0.          0.        ]\n",
      " [ 0.          0.          0.        ]\n",
      " [ 0.          0.          0.        ]\n",
      " [ 0.          0.          0.        ]\n",
      " [ 0.          0.          0.        ]\n",
      " [ 0.          0.          0.        ]\n",
      " [ 0.          0.          0.        ]\n",
      " [ 0.          0.          0.        ]\n",
      " [ 0.          0.          0.        ]\n",
      " [ 0.          0.          0.        ]\n",
      " [ 0.          0.          0.        ]\n",
      " [ 0.          0.          0.        ]\n",
      " [ 0.          0.          0.        ]\n",
      " [ 0.          0.          0.        ]\n",
      " [ 0.          0.          0.        ]\n",
      " [ 0.          0.          0.        ]\n",
      " [ 0.          0.          0.        ]\n",
      " [ 0.          0.          0.        ]\n",
      " [ 0.          0.          0.        ]\n",
      " [ 0.          0.          0.        ]\n",
      " [ 0.          0.          0.        ]\n",
      " [ 0.          0.          0.        ]\n",
      " [ 0.          0.          0.        ]\n",
      " [ 0.          0.          0.        ]\n",
      " [ 0.          0.          0.        ]\n",
      " [ 0.          0.          0.        ]\n",
      " [ 0.          0.          0.        ]\n",
      " [ 0.          0.          0.        ]\n",
      " [ 0.          0.          0.        ]\n",
      " [ 0.          0.          0.        ]\n",
      " [ 0.          0.          0.        ]\n",
      " [ 0.          0.          0.        ]\n",
      " [ 0.          0.          0.        ]\n",
      " [ 0.          0.          0.        ]\n",
      " [ 0.          0.          0.        ]\n",
      " [ 0.          0.          0.        ]\n",
      " [ 0.          0.          0.        ]\n",
      " [ 0.          0.          0.        ]\n",
      " [ 0.          0.          0.        ]\n",
      " [ 0.          0.          0.        ]\n",
      " [ 0.          0.          0.        ]\n",
      " [ 0.          0.          0.        ]\n",
      " [ 0.          0.          0.        ]\n",
      " [ 0.          0.          0.        ]\n",
      " [ 0.          0.          0.        ]\n",
      " [ 0.          0.          0.        ]\n",
      " [ 0.          0.          0.        ]\n",
      " [ 0.          0.          0.        ]\n",
      " [ 0.          0.          0.        ]\n",
      " [ 0.          0.          0.        ]\n",
      " [ 0.          0.          0.        ]\n",
      " [ 0.          0.          0.        ]\n",
      " [ 0.          0.          0.        ]\n",
      " [ 0.          0.          0.        ]\n",
      " [ 0.          0.          0.        ]\n",
      " [ 0.          0.          0.        ]\n",
      " [ 0.          0.          0.        ]\n",
      " [ 0.          0.          0.        ]\n",
      " [ 0.          0.          0.        ]\n",
      " [ 0.          0.          0.        ]\n",
      " [ 0.          0.          0.        ]\n",
      " [ 0.          0.          0.        ]\n",
      " [ 0.          0.          0.        ]\n",
      " [ 0.          0.          0.        ]\n",
      " [ 0.          0.          0.        ]\n",
      " [ 0.          0.          0.        ]\n",
      " [ 0.          0.          0.        ]\n",
      " [ 0.          0.          0.        ]\n",
      " [ 0.          0.          0.        ]\n",
      " [ 0.          0.          0.        ]\n",
      " [ 0.          0.          0.        ]\n",
      " [ 0.          0.          0.        ]\n",
      " [ 0.          0.          0.        ]\n",
      " [ 0.          0.          0.        ]\n",
      " [ 0.          0.          0.        ]\n",
      " [ 0.          0.          0.        ]\n",
      " [ 0.          0.          0.        ]\n",
      " [ 0.          0.          0.        ]\n",
      " [ 0.          0.          0.        ]\n",
      " [ 0.          0.          0.        ]\n",
      " [ 0.          0.          0.        ]\n",
      " [ 0.          0.          0.        ]\n",
      " [ 0.          0.          0.        ]\n",
      " [ 0.          0.          0.        ]\n",
      " [ 0.          0.          0.        ]\n",
      " [ 0.          0.          0.        ]\n",
      " [ 0.          0.          0.        ]\n",
      " [ 0.          0.          0.        ]\n",
      " [ 0.          0.          0.        ]\n",
      " [ 0.          0.          0.        ]\n",
      " [ 0.          0.          0.        ]\n",
      " [ 0.          0.          0.        ]\n",
      " [ 0.          0.          0.        ]\n",
      " [ 0.          0.          0.        ]\n",
      " [ 0.          0.          0.        ]\n",
      " [ 0.          0.          0.        ]\n",
      " [ 0.          0.          0.        ]\n",
      " [ 0.          0.          0.        ]\n",
      " [ 0.          0.          0.        ]\n",
      " [ 0.          0.          0.        ]\n",
      " [ 0.          0.          0.        ]\n",
      " [ 0.          0.          0.        ]\n",
      " [ 0.          0.          0.        ]\n",
      " [ 0.          0.          0.        ]\n",
      " [ 0.          0.          0.        ]\n",
      " [ 0.          0.          0.        ]\n",
      " [ 0.          0.          0.        ]\n",
      " [ 0.          0.          0.        ]\n",
      " [ 0.          0.          0.        ]\n",
      " [ 0.          0.          0.        ]\n",
      " [ 0.          0.          0.        ]\n",
      " [ 0.          0.          0.        ]\n",
      " [ 0.          0.          0.        ]\n",
      " [ 0.          0.          0.        ]\n",
      " [ 0.          0.          0.        ]\n",
      " [ 0.          0.          0.        ]\n",
      " [ 0.          0.          0.        ]\n",
      " [ 0.          0.          0.        ]\n",
      " [ 0.          0.          0.        ]\n",
      " [ 0.          0.          0.        ]\n",
      " [ 0.          0.          0.        ]\n",
      " [ 0.          0.          0.        ]\n",
      " [ 0.          0.          0.        ]\n",
      " [ 0.          0.          0.        ]\n",
      " [ 0.          0.          0.        ]\n",
      " [ 0.          0.          0.        ]\n",
      " [ 0.          0.          0.        ]\n",
      " [ 0.          0.          0.        ]\n",
      " [ 0.          0.          0.        ]\n",
      " [ 0.          0.          0.        ]\n",
      " [ 0.          0.          0.        ]\n",
      " [ 0.          0.          0.        ]\n",
      " [ 0.          0.          0.        ]\n",
      " [ 0.          0.          0.        ]\n",
      " [ 0.          0.          0.        ]\n",
      " [ 0.          0.          0.        ]\n",
      " [ 0.          0.          0.        ]\n",
      " [ 0.          0.          0.        ]\n",
      " [ 0.          0.          0.        ]\n",
      " [ 0.          0.          0.        ]\n",
      " [ 0.          0.          0.        ]\n",
      " [ 0.          0.          0.        ]\n",
      " [ 0.          0.          0.        ]\n",
      " [ 0.          0.          0.        ]\n",
      " [ 0.          0.          0.        ]\n",
      " [ 0.          0.          0.        ]\n",
      " [ 0.          0.          0.        ]\n",
      " [ 0.          0.          0.        ]\n",
      " [ 0.          0.          0.        ]\n",
      " [ 0.          0.          0.        ]\n",
      " [ 0.          0.          0.        ]\n",
      " [ 0.          0.          0.        ]\n",
      " [ 0.          0.          0.        ]\n",
      " [ 0.          0.          0.        ]\n",
      " [ 0.          0.          0.        ]\n",
      " [ 0.          0.          0.        ]\n",
      " [ 0.          0.          0.        ]\n",
      " [ 0.          0.          0.        ]\n",
      " [ 0.          0.          0.        ]\n",
      " [ 0.          0.          0.        ]\n",
      " [ 0.          0.          0.        ]\n",
      " [ 0.          0.          0.        ]\n",
      " [ 0.          0.          0.        ]\n",
      " [ 0.          0.          0.        ]\n",
      " [ 0.          0.          0.        ]\n",
      " [ 0.          0.          0.        ]\n",
      " [ 0.          0.          0.        ]\n",
      " [ 0.          0.          0.        ]\n",
      " [ 0.          0.          0.        ]\n",
      " [ 0.          0.          0.        ]\n",
      " [ 0.          0.          0.        ]\n",
      " [ 0.          0.          0.        ]\n",
      " [ 0.          0.          0.        ]\n",
      " [ 0.          0.          0.        ]\n",
      " [ 0.          0.          0.        ]\n",
      " [ 0.          0.          0.        ]\n",
      " [ 0.          0.          0.        ]\n",
      " [ 0.          0.          0.        ]\n",
      " [ 0.          0.          0.        ]\n",
      " [ 0.          0.          0.        ]\n",
      " [ 0.          0.          0.        ]\n",
      " [ 0.          0.          0.        ]\n",
      " [ 0.          0.          0.        ]\n",
      " [ 0.          0.          0.        ]\n",
      " [ 0.          0.          0.        ]\n",
      " [ 0.          0.          0.        ]\n",
      " [ 0.          0.          0.        ]\n",
      " [ 0.          0.          0.        ]\n",
      " [ 0.          0.          0.        ]\n",
      " [ 0.          0.          0.        ]\n",
      " [ 0.          0.          0.        ]\n",
      " [ 0.          0.          0.        ]\n",
      " [ 0.          0.          0.        ]\n",
      " [ 0.          0.          0.        ]\n",
      " [ 0.          0.          0.        ]\n",
      " [ 0.          0.          0.        ]\n",
      " [ 0.          0.          0.        ]\n",
      " [ 0.          0.          0.        ]\n",
      " [ 0.          0.          0.        ]\n",
      " [ 0.          0.          0.        ]\n",
      " [ 0.          0.          0.        ]\n",
      " [ 0.          0.          0.        ]\n",
      " [ 0.          0.          0.        ]\n",
      " [ 0.          0.          0.        ]\n",
      " [ 0.          0.          0.        ]\n",
      " [ 0.          0.          0.        ]\n",
      " [ 0.          0.          0.        ]\n",
      " [ 0.          0.          0.        ]\n",
      " [ 0.          0.          0.        ]\n",
      " [ 0.          0.          0.        ]\n",
      " [ 0.          0.          0.        ]\n",
      " [ 0.          0.          0.        ]\n",
      " [ 0.          0.          0.        ]\n",
      " [ 0.          0.          0.        ]\n",
      " [ 0.          0.          0.        ]\n",
      " [ 0.          0.          0.        ]\n",
      " [ 0.          0.          0.        ]\n",
      " [ 0.          0.          0.        ]\n",
      " [ 0.          0.          0.        ]\n",
      " [ 0.          0.          0.        ]\n",
      " [ 0.          0.          0.        ]\n",
      " [ 0.          0.          0.        ]\n",
      " [ 0.          0.          0.        ]\n",
      " [ 0.          0.          0.        ]\n",
      " [ 0.          0.          0.        ]\n",
      " [ 0.          0.          0.        ]\n",
      " [ 0.          0.          0.        ]\n",
      " [ 0.          0.          0.        ]\n",
      " [ 0.          0.          0.        ]\n",
      " [ 0.          0.          0.        ]\n",
      " [ 0.          0.          0.        ]\n",
      " [ 0.          0.          0.        ]\n",
      " [ 0.          0.          0.        ]\n",
      " [ 0.          0.          0.        ]\n",
      " [ 0.          0.          0.        ]\n",
      " [ 0.          0.          0.        ]\n",
      " [ 0.          0.          0.        ]\n",
      " [ 0.          0.          0.        ]\n",
      " [ 0.          0.          0.        ]\n",
      " [ 0.          0.          0.        ]\n",
      " [ 0.          0.          0.        ]\n",
      " [ 0.          0.          0.        ]\n",
      " [ 0.          0.          0.        ]\n",
      " [ 0.          0.          0.        ]\n",
      " [ 0.          0.          0.        ]\n",
      " [ 0.          0.          0.        ]\n",
      " [ 0.          0.          0.        ]\n",
      " [ 0.          0.          0.        ]\n",
      " [ 0.          0.          0.        ]\n",
      " [ 0.          0.          0.        ]\n",
      " [ 0.          0.          0.        ]\n",
      " [ 0.          0.          0.        ]\n",
      " [ 0.          0.          0.        ]\n",
      " [ 0.          0.          0.        ]\n",
      " [ 0.          0.          0.        ]\n",
      " [ 0.          0.          0.        ]\n",
      " [ 0.          0.          0.        ]\n",
      " [ 0.          0.          0.        ]\n",
      " [ 0.          0.          0.        ]\n",
      " [ 0.          0.          0.        ]\n",
      " [ 0.          0.          0.        ]\n",
      " [ 0.          0.          0.        ]\n",
      " [ 0.          0.          0.        ]\n",
      " [ 0.          0.          0.        ]\n",
      " [ 0.          0.          0.        ]\n",
      " [ 0.          0.          0.        ]\n",
      " [ 0.          0.          0.        ]\n",
      " [ 0.          0.          0.        ]\n",
      " [ 0.          0.          0.        ]\n",
      " [ 0.          0.          0.        ]\n",
      " [ 0.          0.          0.        ]\n",
      " [ 0.          0.          0.        ]\n",
      " [ 0.          0.          0.        ]\n",
      " [ 0.          0.          0.        ]\n",
      " [ 0.          0.          0.        ]\n",
      " [ 0.          0.          0.        ]\n",
      " [ 0.          0.          0.        ]\n",
      " [ 0.          0.          0.        ]\n",
      " [ 0.          0.          0.        ]\n",
      " [ 0.          0.          0.        ]\n",
      " [ 0.          0.          0.        ]\n",
      " [ 0.          0.          0.        ]\n",
      " [ 0.          0.          0.        ]\n",
      " [ 0.          0.          0.        ]\n",
      " [ 0.          0.          0.        ]\n",
      " [ 0.          0.          0.        ]\n",
      " [ 0.          0.          0.        ]\n",
      " [ 0.          0.          0.        ]\n",
      " [ 0.          0.          0.        ]\n",
      " [ 0.          0.          0.        ]\n",
      " [ 0.          0.          0.        ]\n",
      " [ 0.          0.          0.        ]\n",
      " [ 0.          0.          0.        ]\n",
      " [ 0.          0.          0.        ]\n",
      " [ 0.          0.          0.        ]\n",
      " [ 0.          0.          0.        ]\n",
      " [ 0.          0.          0.        ]\n",
      " [ 0.          0.          0.        ]\n",
      " [ 0.          0.          0.        ]\n",
      " [ 0.          0.          0.        ]\n",
      " [ 0.          0.          0.        ]\n",
      " [ 0.          0.          0.        ]\n",
      " [ 0.          0.          0.        ]\n",
      " [ 0.          0.          0.        ]\n",
      " [ 0.          0.          0.        ]\n",
      " [ 0.          0.          0.        ]\n",
      " [ 0.          0.          0.        ]\n",
      " [ 0.          0.          0.        ]\n",
      " [ 0.          0.          0.        ]\n",
      " [ 0.          0.          0.        ]]\n"
     ]
    }
   ],
   "source": [
    "# partial results\n",
    "np.set_printoptions(threshold=np.inf)\n",
    "\n",
    "print(np.transpose(predictions))\n",
    "print(prob)\n"
   ]
  },
  {
   "cell_type": "code",
   "execution_count": 15,
   "metadata": {
    "collapsed": false
   },
   "outputs": [
    {
     "name": "stdout",
     "output_type": "stream",
     "text": [
      "[[ 2.  2.  2.  2.  2.  2.  2.  2.  2.  2.  2.  2.  2.  2.  2.  2.  2.  2.\n",
      "   2.  2.  2.  2.  2.  2.  2.  2.  2.  2.  2.  2.  2.  2.  2.  2.  2.  2.\n",
      "   2.  2.  2.  2.  2.  2.  2.  2.  2.  2.  2.  2.  2.  2.  2.  2.  2.  2.\n",
      "   2.  2.  2.  2.  2.  2.  2.  2.  2.  2.  2.  2.  2.  2.  2.  2.  2.  2.\n",
      "   2.  2.  2.  2.  2.  2.  2.  2.  2.  2.  2.  2.  2.  2.  2.  2.  2.  2.\n",
      "   2.  2.  2.  2.  2.  2.  2.  2.  2.  2.  2.  2.  2.  2.  2.  2.  2.  2.\n",
      "   2.  2.  2.  2.  2.  2.  2.]]\n"
     ]
    }
   ],
   "source": [
    "# SVM + RFE on Finn's data\n",
    "print(np.transpose(predictions))"
   ]
  },
  {
   "cell_type": "code",
   "execution_count": 17,
   "metadata": {
    "collapsed": false
   },
   "outputs": [
    {
     "name": "stdout",
     "output_type": "stream",
     "text": [
      "[[ 3.  3.  3.  3.  1.  3.  3.  3.  3.  3.  3.  3.  3.  3.  3.  3.  3.  3.\n",
      "   3.  3.  3.  3.  3.  3.  3.  3.  3.  3.  3.  3.  3.  3.  3.  3.  3.  3.\n",
      "   3.  3.  3.  3.  2.  3.  2.  3.  3.  3.  2.  3.  3.  3.  3.  3.  3.  3.\n",
      "   3.  3.  3.  3.  3.  3.  2.  3.  2.  3.  3.  3.  2.  1.  3.  2.  3.  3.\n",
      "   3.  3.  3.  3.  3.  3.  3.  3.  3.  3.  2.  3.  2.  3.  3.  3.  3.  3.\n",
      "   3.  3.  3.  2.  3.  3.  3.  3.  3.  3.  1.  3.  2.  3.  3.  3.  3.  3.\n",
      "   2.  3.  3.  3.  2.  3.  3.]]\n"
     ]
    }
   ],
   "source": [
    "# SVM + RFE on Finn's data\n",
    "print(np.transpose(predictions))"
   ]
  },
  {
   "cell_type": "markdown",
   "metadata": {},
   "source": [
    "### Classification and regression\n",
    "Data are split in training and test set. Then the training set is used to train a classifier in order to divide data in two classes according to their gF score. Two regressor are built, one for each of the classes, still using training data alone. Finally the trained classifier is used to assign each sample of the test data to one of the two regressors."
   ]
  },
  {
   "cell_type": "code",
   "execution_count": 12,
   "metadata": {
    "collapsed": false
   },
   "outputs": [
    {
     "name": "stdout",
     "output_type": "stream",
     "text": [
      "[2 2 1 2 2 2 2 2 1 2 1 2 1 2 2 1 1 2 2 1 2 2 2 2 2 1 2 2 2 2 2 2 1 2 2 2 2\n",
      " 2 2 1 2 2 1 2 1 2 2 1 2 2 1 2 1 2 2 1 2 2 2 2 2 1 2 2 2 2 1 1 2 2 2 2 2 2\n",
      " 2 2 2 1 2 1 1 1 1 1 2 2 1 2 2 2 2 1 2 1 2 2 2 2 1 1 2 1 2 2 2 2 1 2 1 2 2\n",
      " 2 2 2 1 1 1 1 2 2 2 2 2 2 1 2 2 2 2 2 2 2 2 1 2 2 2 2 1 2 2 2 2 1 1 1 1 1\n",
      " 2 1 2 2 2 2 1 1 2 2 2 1 1 2 1 2 2 2 2 2 1 2 1 1 1 1 1 1 2 1 2 2 2 1 1 2 2\n",
      " 1 2 2 1 2 2 1 2 2 2 2 1 2 1 2 1 1 2 1 1 2 1 2 2 2 1 2 2 2 2 1 2 2 2 2 2 2\n",
      " 2 2 2 2 2 2 1 2 1 2 2 1 2 2 2 2 2 2 1 2 1 2 1 2 1 2 1 2 1 2 2 1 2 2 2 2 2\n",
      " 2 2 2 2 2 2 2 1 1 2 2 2 1 2 2 2 2 2 2 1 2 1 2 2 1 1 1 2 2 2 1 1 1 2 2 2 2\n",
      " 2 1 1 1 2 1 2 1 1 2 1 1 2 1 2 2 1 2 2 2 2 2 1 2 2 2 2 2 2 1 2 2 1 2 1 2 1\n",
      " 1 1 2 2 2 2 2 2 1 2 2 2 2 2 2 2 2 2 1 1 2 2 1 1 2 2 2 2 2 2 2 1 2 2 2 2 1\n",
      " 1 2 1 2 2 2 2 1 2 2 2 1 2 2 2 1 2 1 2 1 2 1 1 2 2 2 2 2 2 2 2 2 1 2 2 2 2\n",
      " 2 1 2 2 2 2 2 2 1 2 2 1 1 2 1 2 1 2 1 2 2 1 2 1 2 2 2 2]\n"
     ]
    }
   ],
   "source": [
    "n_bins = 2\n",
    "hist, bin_limits = np.histogram(gF, n_bins)\n",
    "bins = np.digitize(gF, bin_limits[:-1])\n",
    "print(bins)"
   ]
  },
  {
   "cell_type": "code",
   "execution_count": 13,
   "metadata": {
    "collapsed": false
   },
   "outputs": [
    {
     "data": {
      "image/png": "[encoded data removed]",
      "text/plain": [
       "<matplotlib.figure.Figure at 0x9f462c1898>"
      ]
     },
     "metadata": {},
     "output_type": "display_data"
    },
    {
     "data": {
      "image/png": "[encoded data removed]",
      "text/plain": [
       "<matplotlib.figure.Figure at 0x9f462c1048>"
      ]
     },
     "metadata": {},
     "output_type": "display_data"
    }
   ],
   "source": [
    "# Hold out set\n",
    "X_train, X_test, y_train, y_test = cross_validation.train_test_split(edges,gF,test_size=0.2, random_state=42, stratify=bins)\n",
    "test_bins = np.digitize(y_test, bin_limits[:-1])\n",
    "train_bins = np.digitize(y_train, bin_limits[:-1])\n",
    "\n",
    "plt.hist(y_train, bins=n_bins)\n",
    "plt.title('training set gF distribution')\n",
    "plt.show()\n",
    "plt.hist(y_test, bins=n_bins)\n",
    "plt.title('test set gF distribution')\n",
    "plt.show()"
   ]
  },
  {
   "cell_type": "code",
   "execution_count": 14,
   "metadata": {
    "collapsed": false,
    "scrolled": false
   },
   "outputs": [
    {
     "name": "stderr",
     "output_type": "stream",
     "text": [
      "C:\\Users\\Paola\\Anaconda3\\lib\\site-packages\\sklearn\\linear_model\\coordinate_descent.py:466: ConvergenceWarning: Objective did not converge. You might want to increase the number of iterations\n",
      "  ConvergenceWarning)\n"
     ]
    }
   ],
   "source": [
    "errors_c = np.zeros([len(y_test)])\n",
    "errors_r = np.zeros([len(y_test)])\n",
    "predictions_c = np.zeros([len(y_test)])\n",
    "predictions_r = np.zeros([len(y_test)])\n",
    "#estimator = OneVsRestClassifier(LinearSVC(random_state=0))\n",
    "estimator = LinearSVC(random_state=0)\n",
    "pca = PCA(n_components=0.999)\n",
    "k=5\n",
    "n_bins_cv = 2\n",
    "\n",
    "# decomposition\n",
    "data_pc = pca.fit_transform(X_train)\n",
    "\n",
    "# classification\n",
    "estimator.fit(data_pc,train_bins)\n",
    "predictions_c = estimator.predict(pca.transform(X_test))\n",
    "errors_c = predictions_c==test_bins\n",
    "\n",
    "# regressor for class 1\n",
    "hist_cv, bin_limits_cv = np.histogram(y_train[train_bins==1], n_bins_cv)\n",
    "bins_cv = np.digitize(y_train[train_bins==1], bin_limits_cv[:-1])\n",
    "cv = cross_validation.StratifiedKFold(bins_cv,k)\n",
    "#cv = cross_validation.KFold(k)\n",
    "lasso = LassoCV(cv=cv,n_jobs=-1)\n",
    "lasso.fit(X_train[train_bins==1,],y_train[train_bins==1])\n",
    "predictions_r[predictions_c==1] = lasso.predict(X_test[predictions_c==1])\n",
    "errors_r[test_bins==1] = abs(predictions_r[test_bins==1]-y_test[test_bins==1])\n",
    "\n",
    "# regressor for class 2\n",
    "hist_cv, bin_limits_cv = np.histogram(y_train[train_bins==2], n_bins_cv)\n",
    "bins_cv = np.digitize(y_train[train_bins==2], bin_limits_cv[:-1])\n",
    "cv = cross_validation.StratifiedKFold(bins_cv,k)\n",
    "lasso = LassoCV(cv=cv,n_jobs=-1)\n",
    "lasso.fit(X_train[train_bins==2,],y_train[train_bins==2])\n",
    "predictions_r[predictions_c==2] = lasso.predict(X_test[predictions_c==2])      \n",
    "errors_r[test_bins==2] = abs(predictions_r[test_bins==2]-y_test[test_bins==2])\n",
    "\n"
   ]
  },
  {
   "cell_type": "code",
   "execution_count": 16,
   "metadata": {
    "collapsed": false
   },
   "outputs": [
    {
     "name": "stdout",
     "output_type": "stream",
     "text": [
      "[ 19.322294    19.01522167  19.77912626  10.73636364  20.40935917\n",
      "  19.30616907  19.93841357  10.73636364  19.03177296  19.04494765\n",
      "  10.73636364  10.73636364  19.87433107  20.55652168  19.23454413\n",
      "  19.36181652  10.73636364  10.73636364  18.93892366  20.58466351\n",
      "  19.51562007  18.98916885  19.41736325  19.76923772  20.10100903\n",
      "  19.40851404  10.73636364  19.22277643  10.73636364  19.36156509\n",
      "  19.77047393  18.76534125  20.16051397  10.73636364  10.73636364\n",
      "  10.73636364  20.03383038  19.01093313  19.86173201  19.18725181\n",
      "  19.40964205  20.28112823  19.53723207  19.66685988  20.21605318\n",
      "  10.73636364  10.73636364  18.91695245  10.73636364  19.68846158\n",
      "  19.52626571  19.68034536  20.02878663  10.73636364  10.73636364\n",
      "  19.06520594  10.73636364  19.61875082  19.19607683  19.57087256\n",
      "  10.73636364  19.40917566  19.68900163  19.603279    19.64964352\n",
      "  10.73636364  19.63277518  19.57430424  19.31110434  19.30760597\n",
      "  10.73636364  19.34167187  18.84528409  19.56919179  19.47315834\n",
      "  18.85372424  10.73636364  19.80607411  10.73636364  19.75037357\n",
      "  19.46638417  19.53028615  10.73636364  19.65356179  19.20171238\n",
      "  10.73636364  19.81106928]\n"
     ]
    }
   ],
   "source": [
    "print(predictions_r)"
   ]
  },
  {
   "cell_type": "markdown",
   "metadata": {},
   "source": [
    "The probabilities given in output by the classifier are used as weights to compute a linear combination of the output of the two regressors"
   ]
  },
  {
   "cell_type": "code",
   "execution_count": 17,
   "metadata": {
    "collapsed": false,
    "scrolled": false
   },
   "outputs": [
    {
     "name": "stderr",
     "output_type": "stream",
     "text": [
      "C:\\Users\\Paola\\Anaconda3\\lib\\site-packages\\sklearn\\linear_model\\coordinate_descent.py:466: ConvergenceWarning: Objective did not converge. You might want to increase the number of iterations\n",
      "  ConvergenceWarning)\n"
     ]
    }
   ],
   "source": [
    "errors_c = np.zeros([len(y_test)])\n",
    "errors_r1 = np.zeros([len(y_test)])\n",
    "errors_r2 = np.zeros([len(y_test)])\n",
    "predictions_c = np.zeros([len(y_test)])\n",
    "predictions_r1 = np.zeros([len(y_test)])\n",
    "predictions_r2 = np.zeros([len(y_test)])\n",
    "prob = np.zeros([len(y_test),2])\n",
    "\n",
    "#estimator = OneVsRestClassifier(LinearSVC(random_state=0))\n",
    "#estimator = LinearSVC(random_state=0)\n",
    "estimator = SVC(kernel='linear',probability=True,random_state=0)\n",
    "pca = PCA(n_components=0.999)\n",
    "k=5\n",
    "n_bins_cv = 2\n",
    "\n",
    "# decomposition\n",
    "data_pc = pca.fit_transform(X_train)\n",
    "\n",
    "# classification\n",
    "estimator.fit(data_pc,train_bins)\n",
    "predictions_c = estimator.predict(pca.transform(X_test))\n",
    "prob = estimator.predict_proba(pca.transform(X_test))\n",
    "errors_c = predictions_c==test_bins\n",
    "\n",
    "# regressor for class 1\n",
    "hist_cv, bin_limits_cv = np.histogram(y_train[train_bins==1], n_bins_cv)\n",
    "bins_cv = np.digitize(y_train[train_bins==1], bin_limits_cv[:-1])\n",
    "cv = cross_validation.StratifiedKFold(bins_cv,k)\n",
    "lasso = LassoCV(cv=cv,n_jobs=-1)\n",
    "lasso.fit(X_train[train_bins==1,],y_train[train_bins==1])\n",
    "predictions_r1 = lasso.predict(X_test)\n",
    "errors_r1 = abs(predictions_r1-y_test)\n",
    "\n",
    "# regressor for class 2\n",
    "hist_cv, bin_limits_cv = np.histogram(y_train[train_bins==2], n_bins_cv)\n",
    "bins_cv = np.digitize(y_train[train_bins==2], bin_limits_cv[:-1])\n",
    "cv = cross_validation.StratifiedKFold(bins_cv,k)\n",
    "lasso = LassoCV(cv=cv,n_jobs=-1)\n",
    "lasso.fit(X_train[train_bins==2,],y_train[train_bins==2])\n",
    "predictions_r2 = lasso.predict(X_test)      \n",
    "errors_r2 = abs(predictions_r2-y_test)\n",
    "\n",
    "final_preds = prob[:,0]*predictions_r1 + prob[:,1]*predictions_r2\n",
    "\n"
   ]
  },
  {
   "cell_type": "code",
   "execution_count": 18,
   "metadata": {
    "collapsed": false
   },
   "outputs": [
    {
     "name": "stdout",
     "output_type": "stream",
     "text": [
      "[ 17.03534863  17.22522184  17.83872364  15.44909558  17.23655112\n",
      "  17.22797719  16.69227094  15.48863418  16.57187407  16.95579411\n",
      "  16.03724469  15.93780972  16.63023899  18.82883834  16.66319206\n",
      "  17.24921791  15.8234867   16.57685084  17.27025141  17.82079129\n",
      "  16.69520003  16.47565803  16.84707483  17.38379335  18.259516\n",
      "  17.14495822  16.04419291  16.88998663  15.98411632  17.79360605\n",
      "  17.20762041  17.2872317   18.00016116  16.37529722  15.89266394\n",
      "  15.82853403  17.53168009  16.85090787  16.88955702  16.40024003\n",
      "  17.21206216  17.48629187  17.61098921  16.77267085  17.58321241\n",
      "  16.26924346  15.24401591  17.47069877  16.09039274  17.85099454\n",
      "  16.67810436  17.83863284  18.62696375  15.64885678  15.76320586\n",
      "  16.11823987  15.17242119  17.76053072  16.62414565  17.52127271\n",
      "  15.5814174   16.65901763  17.46205228  16.79035212  16.60117151\n",
      "  16.43006588  17.70168792  17.09724079  16.71845268  17.37399254\n",
      "  16.23989273  17.63829656  16.41932638  17.04667086  17.60571559\n",
      "  17.43820847  16.02131765  17.51342894  15.827432    16.46233088\n",
      "  18.35403914  17.28274618  15.7153866   17.89194699  17.816974\n",
      "  15.84382103  17.86975989]\n"
     ]
    }
   ],
   "source": [
    "#data_ext\n",
    "print(final_preds)"
   ]
  },
  {
   "cell_type": "code",
   "execution_count": 60,
   "metadata": {
    "collapsed": false
   },
   "outputs": [
    {
     "name": "stdout",
     "output_type": "stream",
     "text": [
      "[ 16.78817621  16.79449873  16.16698028  16.32242964  16.50318109\n",
      "  16.72517111  17.12017499  16.77752074  16.79746662  16.44549997\n",
      "  16.62491928  17.46759334  16.8149031   16.63513961  16.38139242\n",
      "  16.44757554  16.6544701   16.97434174  16.90784355  16.69727397\n",
      "  16.66907056  16.60802469  16.92485291]\n",
      "[19 16 20  7 21 18 20 23 15 10 20 19 13 16 18 21 20 20 19  7 22 12  6]\n"
     ]
    }
   ],
   "source": [
    "#Rest2\n",
    "print(final_preds)\n",
    "print(y_test)"
   ]
  },
  {
   "cell_type": "code",
   "execution_count": 59,
   "metadata": {
    "collapsed": false,
    "scrolled": false
   },
   "outputs": [
    {
     "data": {
      "image/png": "[encoded data removed]",
      "text/plain": [
       "<matplotlib.figure.Figure at 0x7503feb400>"
      ]
     },
     "metadata": {},
     "output_type": "display_data"
    }
   ],
   "source": [
    "regression_plot(np.ravel(y_test),final_preds,len(y_test),'SVM + Lasso on Finn\\'s data (linear combination)')"
   ]
  },
  {
   "cell_type": "code",
   "execution_count": 19,
   "metadata": {
    "collapsed": false,
    "scrolled": false
   },
   "outputs": [
    {
     "data": {
      "image/png": "[encoded data removed]",
      "text/plain": [
       "<matplotlib.figure.Figure at 0x9f6e4ac4a8>"
      ]
     },
     "metadata": {},
     "output_type": "display_data"
    }
   ],
   "source": [
    "regression_plot(np.ravel(y_test),final_preds,len(y_test),'SVM + Lasso on extended data (linear combination)')"
   ]
  },
  {
   "cell_type": "code",
   "execution_count": null,
   "metadata": {
    "collapsed": true
   },
   "outputs": [],
   "source": [
    "regression_plot(np.ravel(y_test),final_preds,len(y_test),'SVM + Lasso on Finn\\'s data (linear combination)')"
   ]
  },
  {
   "cell_type": "markdown",
   "metadata": {},
   "source": [
    "#### Preliminary test\n",
    "In order to evaluate the performance of the double regression, an oracle is used instead of the classifier"
   ]
  },
  {
   "cell_type": "code",
   "execution_count": 11,
   "metadata": {
    "collapsed": false,
    "scrolled": false
   },
   "outputs": [],
   "source": [
    "errors_r = np.zeros([len(y_test)])\n",
    "predictions_r = np.zeros([len(y_test)])\n",
    "\n",
    "k=5\n",
    "n_bins_cv = 2\n",
    "\n",
    "# regressor for class 1\n",
    "hist_cv, bin_limits_cv = np.histogram(y_train[train_bins==1], n_bins_cv)\n",
    "bins_cv = np.digitize(y_train[train_bins==1], bin_limits_cv[:-1])\n",
    "cv = cross_validation.StratifiedKFold(bins_cv,k)\n",
    "#cv = cross_validation.KFold(k)\n",
    "lasso = LassoCV(cv=cv,n_jobs=-1)\n",
    "lasso.fit(X_train[train_bins==1,],y_train[train_bins==1])\n",
    "predictions_r[test_bins==1] = lasso.predict(X_test[test_bins==1])\n",
    "errors_r[test_bins==1] = abs(predictions_r[test_bins==1]-y_test[test_bins==1])\n",
    "\n",
    "# regressor for class 2\n",
    "hist_cv, bin_limits_cv = np.histogram(y_train[train_bins==2], n_bins_cv)\n",
    "bins_cv = np.digitize(y_train[train_bins==2], bin_limits_cv[:-1])\n",
    "cv = cross_validation.StratifiedKFold(bins_cv,k)\n",
    "lasso = LassoCV(cv=cv,n_jobs=-1)\n",
    "lasso.fit(X_train[train_bins==2,],y_train[train_bins==2])\n",
    "predictions_r[test_bins==2] = lasso.predict(X_test[test_bins==2])      \n",
    "errors_r[test_bins==2] = abs(predictions_r[test_bins==2]-y_test[test_bins==2])\n",
    "\n"
   ]
  },
  {
   "cell_type": "code",
   "execution_count": 67,
   "metadata": {
    "collapsed": false,
    "scrolled": true
   },
   "outputs": [
    {
     "name": "stdout",
     "output_type": "stream",
     "text": [
      "[[ 1  5]\n",
      " [ 1 16]]\n",
      "Mean regression error: 3.87123911479\n"
     ]
    }
   ],
   "source": [
    "print(confusion_matrix(test_bins, predictions_c))\n",
    "print('Mean regression error:',errors_r.mean())"
   ]
  },
  {
   "cell_type": "code",
   "execution_count": 12,
   "metadata": {
    "collapsed": false
   },
   "outputs": [
    {
     "name": "stdout",
     "output_type": "stream",
     "text": [
      "Mean regression error: 1.93646968231\n"
     ]
    }
   ],
   "source": [
    "print('Mean regression error:',errors_r.mean())"
   ]
  },
  {
   "cell_type": "code",
   "execution_count": 14,
   "metadata": {
    "collapsed": false
   },
   "outputs": [
    {
     "name": "stdout",
     "output_type": "stream",
     "text": [
      "[ 19.32678708  19.69442632  17.95923211  11.93222149  19.86805903\n",
      "  18.66479361  19.28390395  19.3842552   20.07267152  10.36669783\n",
      "  19.18010019  19.76105205  11.08494866  19.03395738  19.52445776\n",
      "  19.50400842  19.85424396  19.51400362  20.14663027  10.18809713\n",
      "  19.21307972  11.94585248  10.61869759]\n"
     ]
    }
   ],
   "source": [
    "print(predictions_r)"
   ]
  },
  {
   "cell_type": "code",
   "execution_count": 43,
   "metadata": {
    "collapsed": false
   },
   "outputs": [
    {
     "data": {
      "image/png": "[encoded data removed]",
      "text/plain": [
       "<matplotlib.figure.Figure at 0xd495300b70>"
      ]
     },
     "metadata": {},
     "output_type": "display_data"
    }
   ],
   "source": [
    "regression_plot(np.ravel(y_test),predictions_r,len(y_test),'SVM + Lasso on Finn\\'s data (training-test split)')"
   ]
  },
  {
   "cell_type": "code",
   "execution_count": 15,
   "metadata": {
    "collapsed": false
   },
   "outputs": [
    {
     "data": {
      "image/png": "[encoded data removed]",
      "text/plain": [
       "<matplotlib.figure.Figure at 0x9f4632f438>"
      ]
     },
     "metadata": {},
     "output_type": "display_data"
    }
   ],
   "source": [
    "regression_plot(np.ravel(y_test),predictions_r,len(y_test),'SVM + Lasso on extended data (training-test split)')"
   ]
  },
  {
   "cell_type": "code",
   "execution_count": 13,
   "metadata": {
    "collapsed": false
   },
   "outputs": [
    {
     "data": {
      "image/png": "[encoded data removed]",
      "text/plain": [
       "<matplotlib.figure.Figure at 0xf76e7286d8>"
      ]
     },
     "metadata": {},
     "output_type": "display_data"
    }
   ],
   "source": [
    "regression_plot(np.ravel(y_test),predictions_r,len(y_test),'Oracle + Lasso on Rest2 improved data (training-test split)')"
   ]
  },
  {
   "cell_type": "markdown",
   "metadata": {},
   "source": [
    "Classification and regression with leave-one-out require much more time and I still have to select the final model"
   ]
  },
  {
   "cell_type": "code",
   "execution_count": 38,
   "metadata": {
    "collapsed": false,
    "scrolled": false
   },
   "outputs": [
    {
     "name": "stdout",
     "output_type": "stream",
     "text": [
      "Accuracy: 0.692307692308\n"
     ]
    }
   ],
   "source": [
    "loo = cross_validation.LeaveOneOut(len(y_train))\n",
    "errors_c = np.zeros([len(y_train),1])\n",
    "errors_r = np.zeros([len(y_train),1])\n",
    "predictions_c = np.zeros([len(y_train),1])\n",
    "predictions_r = np.zeros([len(y_train),1])\n",
    "estimator = OneVsRestClassifier(LinearSVC(random_state=0))\n",
    "pca = PCA(n_components=0.999)\n",
    "k=5\n",
    "n_bins_cv = 4\n",
    "\n",
    "i=0\n",
    "f = FloatProgress(min=0, max=len(y_train))\n",
    "display(f)\n",
    "for train_index, test_index in loo:\n",
    "    # decomposition\n",
    "    data_pc = pca.fit_transform(X_train[train_index,])\n",
    "    # regression\n",
    "    estimator.fit(data_pc,bins[train_index])\n",
    "    predictions_c[i] = estimator.predict(pca.transform(X_train[test_index,]))\n",
    "\n",
    "    errors_c[i] = 1 if predictions[i]==bins[test_index] else 0\n",
    "    i += 1\n",
    "    f.value += 1\n",
    "        \n",
    "print('Accuracy:',errors_c.mean())\n",
    "preds_5 = predictions\n"
   ]
  },
  {
   "cell_type": "code",
   "execution_count": 39,
   "metadata": {
    "collapsed": false,
    "scrolled": true
   },
   "outputs": [
    {
     "data": {
      "text/plain": [
       "array([[ 2, 24],\n",
       "       [ 4, 61]])"
      ]
     },
     "execution_count": 39,
     "metadata": {},
     "output_type": "execute_result"
    }
   ],
   "source": [
    "confusion_matrix(bins, preds_5)"
   ]
  },
  {
   "cell_type": "code",
   "execution_count": null,
   "metadata": {
    "collapsed": false
   },
   "outputs": [],
   "source": [
    "# TODO: merge to above cell\n",
    "k=5\n",
    "n_bins_cv = 4\n",
    "\n",
    "f = FloatProgress(min=0, max=len(y_train))\n",
    "display(f)\n",
    "for train_index, test_index in loo:\n",
    "    hist_cv, bin_limits_cv = np.histogram(y_train[train_index], n_bins_cv)\n",
    "    bins_cv = np.digitize(y_train[train_index], bin_limits_cv[:-1])\n",
    "    cv = cross_validation.StratifiedKFold(bins_cv,k)\n",
    "    lasso = LassoCV(cv=cv,n_jobs=-1)\n",
    "    lasso.fit(X_train[train_index,],y_train[train_index])\n",
    "    predictions_r = lasso.predict(X_train[test_index,])\n",
    "    errors_r[i] = abs(predictions[i]-y_train[test_index])\n",
    "\n",
    "print('Mean error:',errors_r.mean())"
   ]
  }
 ],
 "metadata": {
  "anaconda-cloud": {},
  "kernelspec": {
   "display_name": "Python [Root]",
   "language": "python",
   "name": "Python [Root]"
  },
  "language_info": {
   "codemirror_mode": {
    "name": "ipython",
    "version": 3
   },
   "file_extension": ".py",
   "mimetype": "text/x-python",
   "name": "python",
   "nbconvert_exporter": "python",
   "pygments_lexer": "ipython3",
   "version": "3.5.2"
  }
 },
 "nbformat": 4,
 "nbformat_minor": 0
}
