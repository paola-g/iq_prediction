{
 "cells": [
  {
   "cell_type": "markdown",
   "metadata": {},
   "source": [
    "### Importing required libraries"
   ]
  },
  {
   "cell_type": "code",
   "execution_count": 2,
   "metadata": {
    "collapsed": true
   },
   "outputs": [],
   "source": [
    "%matplotlib inline\n",
    "\n",
    "from ipywidgets import FloatProgress\n",
    "from IPython.display import display\n",
    "from ipywidgets import *\n",
    "\n",
    "import scipy.io as sio\n",
    "import numpy as np\n",
    "import matplotlib.pyplot as plt\n",
    "\n",
    "import scipy.stats as stats\n",
    "from sklearn import cross_validation\n",
    "from sklearn.ensemble import RandomForestClassifier\n",
    "from sklearn.decomposition import PCA\n",
    "from sklearn.metrics import confusion_matrix"
   ]
  },
  {
   "cell_type": "markdown",
   "metadata": {},
   "source": [
    "### Utilities"
   ]
  },
  {
   "cell_type": "code",
   "execution_count": 2,
   "metadata": {
    "collapsed": true
   },
   "outputs": [],
   "source": [
    "def regression_plot(x,y,title):\n",
    "\n",
    "    # fit a curve to the data using a least squares 1st order polynomial fit\n",
    "    z = np.polyfit(x,y,1)\n",
    "\n",
    "    p = np.poly1d(z)\n",
    "    fit = p(x)\n",
    "\n",
    "    # get the coordinates for the fit curve\n",
    "    c_x = [np.min(x),np.max(x)]\n",
    "    c_y = p(c_x)\n",
    "\n",
    "    # predict y values of origional data using the fit\n",
    "    p_y = z[0] * x + z[1]\n",
    "\n",
    "    # calculate the y-error (residuals)\n",
    "    y_err = y - p_y\n",
    "\n",
    "    # create series of new test x-values to predict for\n",
    "    p_x = np.arange(np.min(x),np.max(x)+1,1)\n",
    "\n",
    "    # now calculate confidence intervals for new test x-series\n",
    "    mean_x = np.mean(x)         # mean of x\n",
    "    DF = n_subj - z.size                            # degrees of freedom\n",
    "    t = stats.t.ppf(0.95,DF)           # used for CI and PI bands\n",
    "    s_err = np.sum(np.power(y_err,2))   # sum of the squares of the residuals\n",
    "\n",
    "    #confs = t * np.sqrt((s_err/(n-2))*(1.0/n + (np.power((p_x-mean_x),2)/((np.sum(np.power(x,2)))-n*(np.power(mean_x,2))))))\n",
    "    confs = t * np.sqrt((s_err/DF) * (1.0/n_subj + (np.power((p_x-mean_x),2)/(np.sum(np.power(x - mean_x,2))))))\n",
    "    # now predict y based on test x-values\n",
    "    p_y = z[0]*p_x+z[1]\n",
    "\n",
    "    # get lower and upper confidence limits based on predicted y and confidence intervals\n",
    "    lower = p_y - abs(confs)\n",
    "    upper = p_y + abs(confs)\n",
    "\n",
    "    # set-up the plot\n",
    "    plt.subplots(figsize=(8,8))\n",
    "    plt.axes().set_aspect('equal')\n",
    "    plt.xlabel('Original score')\n",
    "    plt.ylabel('Predicted score')\n",
    "    plt.title(title)\n",
    "\n",
    "    # plot sample data\n",
    "    plt.plot(x,y,'bo')\n",
    "\n",
    "    # plot line of best fit\n",
    "    plt.plot(c_x,c_y,'r-',label='Regression line')\n",
    "\n",
    "    # plot confidence limits\n",
    "    plt.plot(p_x,lower,'b--',label='Lower confidence limit (95%)')\n",
    "    plt.plot(p_x,upper,'b--',label='Upper confidence limit (95%)')\n",
    "\n",
    "    # set coordinate limits\n",
    "    plt.xlim(4,25)\n",
    "    plt.ylim(5,25)\n",
    "\n",
    "    # configure legend\n",
    "    plt.legend(loc=0)\n",
    "    leg = plt.gca().get_legend()\n",
    "    ltext = leg.get_texts()\n",
    "    plt.setp(ltext, fontsize=10)\n",
    "\n",
    "    # add text\n",
    "    rho,p = stats.pearsonr(np.ravel(y),x)\n",
    "    s = 'r={:0.2f}\\np={:1.4f}'.format(rho,p)\n",
    "    plt.text(20, 7, s, fontsize=12)\n",
    "\n",
    "    # show the plot\n",
    "    plt.show()\n",
    "    \n",
    "    "
   ]
  },
  {
   "cell_type": "markdown",
   "metadata": {
    "collapsed": true
   },
   "source": [
    "### Importing data"
   ]
  },
  {
   "cell_type": "code",
   "execution_count": 3,
   "metadata": {
    "collapsed": false
   },
   "outputs": [
    {
     "name": "stdout",
     "output_type": "stream",
     "text": [
      "No. of subjects: 115\n"
     ]
    }
   ],
   "source": [
    "# finn's data set \n",
    "data = sio.loadmat('rfMRI_REST1_HCP_Q2')\n",
    "gF = np.ravel(data['PMAT24_A_CR'])\n",
    "n_subj = len(gF)\n",
    "print('No. of subjects:',n_subj)"
   ]
  },
  {
   "cell_type": "code",
   "execution_count": 39,
   "metadata": {
    "collapsed": false
   },
   "outputs": [
    {
     "name": "stdout",
     "output_type": "stream",
     "text": [
      "No. of subjects: 435\n"
     ]
    }
   ],
   "source": [
    "# extended data set\n",
    "data = sio.loadmat('rfMRI_REST1_HCP_Q2')\n",
    "gF = np.ravel(data['PMAT24_A_CR'])\n",
    "data2 = sio.loadmat('rfMRI_REST1_HCP_S500.mat')\n",
    "gF2 = np.ravel(data2['PMAT24_A_CR'])\n",
    "data_ext = np.concatenate((data['rest_1_mat'],data2['rest_1_mat']),axis=2)\n",
    "gF = np.concatenate((gF,gF2))\n",
    "n_subj = len(gF)\n",
    "print('No. of subjects:',n_subj)"
   ]
  },
  {
   "cell_type": "code",
   "execution_count": 32,
   "metadata": {
    "collapsed": false
   },
   "outputs": [],
   "source": [
    "#data = sio.loadmat('improved_preproc/rfMRI_REST1_HCP_Q2.mat')\n",
    "data = sio.loadmat('improved_preproc/rfMRI_REST2_HCP_Q2.mat')\n",
    "gF = np.ravel(data['PMAT24_A_CR'])\n",
    "n_subj = len(gF)"
   ]
  },
  {
   "cell_type": "markdown",
   "metadata": {},
   "source": [
    "### gF score distribution \n",
    "The gF score is used to divide subjects in 2 or 3 classes."
   ]
  },
  {
   "cell_type": "code",
   "execution_count": 44,
   "metadata": {
    "collapsed": false
   },
   "outputs": [
    {
     "name": "stdout",
     "output_type": "stream",
     "text": [
      "[17 17  8 16 22 16 17 15 14 24 10 19 12 22 18  8 14 24 20 13 20 20 19 20 19\n",
      " 10 21 17 19 18 23 20 11 22 22 22 17 15 21 10 21 17  6 18 11 22 22  9 23 17\n",
      "  5 16  9 20 15 12 21 20 16 16 15  9 22 18 15 17 14 12 18 18 21 22 20 21 18\n",
      " 20 20 12 23  7 12 11 14  9 21 20  8 20 20 22 23 12 21  9 18 20 16 21 10  8\n",
      " 19  7 20 21 20 15 10 18 14 20 18 19 19 22 14  7 11 14 15 21 20 20 17 21 10\n",
      " 21 22 22 22 24 23 23 24 13 18 20 22 19 13 17 22 17 15 13 13 12  8 14 21 11\n",
      " 18 16 21 16 10 13 21 21 19 14 14 22 11 19 23 18 22 16  9 20  9 13  6 10 13\n",
      "  8 21 10 21 15 19  8  9 17 18  7 22 18 10 20 21 14 16 17 20 17 13 20 12 20\n",
      "  9 12 19  9 14 18  8 15 20 22 14 23 23 19 21 11 18 18 19 18 21 20 22 19 23\n",
      " 19 22 20  8 22 12 22 20  8 21 20 21 22 16 23  6 15 10 23  6 22  7 20 11 21\n",
      "  6 20 22 12 19 16 21 17 23 16 18 15 23 18 16 21 12 11 17 17 18 12 19 20 17\n",
      " 21 18 20  9 17 14 21 15 13 14 12 16 21 21  6 14 13 19 21 18 19 17 14  8  7\n",
      " 18 12 23 14 11 22  9 14 22 14 15 15 14 16 18 22 21 15 14 15 18 21 22 24 17\n",
      " 10 21 19 10 15 13 15 11 12  7 15 21 18 21 20 22 10 19 22 20 20 22 20 20 22\n",
      " 15 11  8 20 15  8 11 15 19 24 22 16 18 17  7 20 15 23 21 12 12 19 13 19 23\n",
      " 24 18 13 20 23 20 11 24 19 19 14 18 12 22 10 21 11 13 21 24 22 22 21 21 21\n",
      " 20 16 10 19 21 21 21 16 12 18 23 18 23 17 15 14 20 18 13 11 21 12 15 13 16\n",
      " 14 16 15 10 20 14 24 22 23 20]\n",
      "[2 2 1 2 3 2 2 2 2 3 1 3 2 3 3 1 2 3 3 2 3 3 3 3 3 1 3 2 3 3 3 3 1 3 3 3 2\n",
      " 2 3 1 3 2 1 3 1 3 3 1 3 2 1 2 1 3 2 2 3 3 2 2 2 1 3 3 2 2 2 2 3 3 3 3 3 3\n",
      " 3 3 3 2 3 1 2 1 2 1 3 3 1 3 3 3 3 2 3 1 3 3 2 3 1 1 3 1 3 3 3 2 1 3 2 3 3\n",
      " 3 3 3 2 1 1 2 2 3 3 3 2 3 1 3 3 3 3 3 3 3 3 2 3 3 3 3 2 2 3 2 2 2 2 2 1 2\n",
      " 3 1 3 2 3 2 1 2 3 3 3 2 2 3 1 3 3 3 3 2 1 3 1 2 1 1 2 1 3 1 3 2 3 1 1 2 3\n",
      " 1 3 3 1 3 3 2 2 2 3 2 2 3 2 3 1 2 3 1 2 3 1 2 3 3 2 3 3 3 3 1 3 3 3 3 3 3\n",
      " 3 3 3 3 3 3 1 3 2 3 3 1 3 3 3 3 2 3 1 2 1 3 1 3 1 3 1 3 1 3 3 2 3 2 3 2 3\n",
      " 2 3 2 3 3 2 3 2 1 2 2 3 2 3 3 2 3 3 3 1 2 2 3 2 2 2 2 2 3 3 1 2 2 3 3 3 3\n",
      " 2 2 1 1 3 2 3 2 1 3 1 2 3 2 2 2 2 2 3 3 3 2 2 2 3 3 3 3 2 1 3 3 1 2 2 2 1\n",
      " 2 1 2 3 3 3 3 3 1 3 3 3 3 3 3 3 3 2 1 1 3 2 1 1 2 3 3 3 2 3 2 1 3 2 3 3 2\n",
      " 2 3 2 3 3 3 3 2 3 3 3 1 3 3 3 2 3 2 3 1 3 1 2 3 3 3 3 3 3 3 3 2 1 3 3 3 3\n",
      " 2 2 3 3 3 3 2 2 2 3 3 2 1 3 2 2 2 2 2 2 2 1 3 2 3 3 3 3]\n",
      "[  5.          11.33333333  17.66666667  24.        ]\n"
     ]
    }
   ],
   "source": [
    "n_bins = 3\n",
    "def plot_hist(n_bins):\n",
    "    plt.hist(gF, bins=n_bins)\n",
    "    plt.title(\"gF score distribution\")\n",
    "    plt.xlabel(\"gF\")\n",
    "    plt.ylabel(\"Frequency\")\n",
    "    plt.show()\n",
    "    return n_bins\n",
    "    \n",
    "#interact(plot_hist, n_bins=(1,10,1)) \n",
    "\n",
    "# needed for stratified k-fold\n",
    "hist, bin_limits = np.histogram(gF, n_bins)\n",
    "bins = np.digitize(gF, bin_limits[:-1])\n",
    "print(gF)\n",
    "print(bins)\n",
    "print(bin_limits)"
   ]
  },
  {
   "cell_type": "markdown",
   "metadata": {},
   "source": [
    "### Building of input matrix\n",
    "Starting from the connectivity matrices of each subject a #subjects x #edges matrix is built selecting for each subject the upper triangular matrix of the connectivity matrix (without the diagonal)."
   ]
  },
  {
   "cell_type": "code",
   "execution_count": 41,
   "metadata": {
    "collapsed": false,
    "scrolled": true
   },
   "outputs": [
    {
     "data": {
      "image/png": "[encoded data removed]",
      "text/plain": [
       "<matplotlib.figure.Figure at 0x20b6bc26a0>"
      ]
     },
     "metadata": {},
     "output_type": "display_data"
    }
   ],
   "source": [
    "# choose dataset\n",
    "#conn_mats = data['rest_1_mat']\n",
    "#conn_mats = data['rest_2_mat']\n",
    "conn_mats = data_ext\n",
    "# build matrix n_subjects x n_edges\n",
    "n_parcels = conn_mats.shape[0]\n",
    "triu_idx = np.triu_indices(n_parcels,1)\n",
    "n_edges = len(triu_idx[1]);\n",
    "\n",
    "def plt_conn(subject):\n",
    "    plt.imshow(np.triu(conn_mats[:,:,subject-1]))\n",
    "    plt.colorbar()\n",
    "    plt.title('Connectivity matrix for subject '+str(subject))\n",
    "\n",
    "interact(plt_conn, subject=(1,n_subj))    \n",
    "    \n",
    "    \n",
    "edges = np.zeros([n_subj,n_edges])\n",
    "\n",
    "for subject in range(conn_mats.shape[-1]):\n",
    "    edges[subject,] = conn_mats[:,:,subject][triu_idx]"
   ]
  },
  {
   "cell_type": "markdown",
   "metadata": {},
   "source": [
    "### Tests\n",
    "Instead of performing regression in this experiment we try to divide subjects in 2 or 3 classes according to their gF score.\n",
    "The following tests have been performed:\n",
    "1. Dimensionality reduction with PCA on training data (to avoid bias) + classification with Random Forest in a LOOCV loop.\n",
    "2. Two distinct model are built first selecting edges with a significant (positive or negative) correlation with the gF score, than applying PCA and Random Forest classification in a LOOCV loop"
   ]
  },
  {
   "cell_type": "markdown",
   "metadata": {},
   "source": [
    "When performing PCA, select the number of components such that the amount of variance that needs to be explained is greater than 99.9%."
   ]
  },
  {
   "cell_type": "code",
   "execution_count": 45,
   "metadata": {
    "collapsed": false
   },
   "outputs": [
    {
     "name": "stdout",
     "output_type": "stream",
     "text": [
      "Accuracy: 0.52183908046\n"
     ]
    }
   ],
   "source": [
    "# Test with all edges (PCA in CV)\n",
    "loo = cross_validation.LeaveOneOut(n_subj)\n",
    "errors = np.zeros([n_subj,1])\n",
    "predictions = np.zeros([n_subj,1])\n",
    "estimator = RandomForestClassifier(random_state=0, n_estimators=1000, oob_score=True)\n",
    "pca = PCA(n_components=0.999)\n",
    "\n",
    "i=0\n",
    "f = FloatProgress(min=0, max=n_subj)\n",
    "display(f)\n",
    "for train_index, test_index in loo:\n",
    "    # decomposition\n",
    "    data_pc = pca.fit_transform(edges[train_index,])\n",
    "    # regression\n",
    "    estimator.fit(data_pc,bins[train_index])\n",
    "    predictions[i] = estimator.predict(pca.transform(edges[test_index,]))\n",
    "\n",
    "    errors[i] = 1 if predictions[i]==bins[test_index] else 0\n",
    "    i += 1\n",
    "    f.value += 1\n",
    "        \n",
    "print('Accuracy:',errors.mean())\n"
   ]
  },
  {
   "cell_type": "code",
   "execution_count": 37,
   "metadata": {
    "collapsed": false
   },
   "outputs": [
    {
     "name": "stdout",
     "output_type": "stream",
     "text": [
      "Accuracy: 0.719298245614\n"
     ]
    }
   ],
   "source": [
    "# Test with all edges (no PCA)\n",
    "loo = cross_validation.LeaveOneOut(n_subj)\n",
    "errors = np.zeros([n_subj,1])\n",
    "predictions = np.zeros([n_subj,1])\n",
    "estimator = RandomForestClassifier(random_state=0, n_estimators=1000, oob_score=True)\n",
    "pca = PCA(n_components=0.999)\n",
    "\n",
    "i=0\n",
    "f = FloatProgress(min=0, max=n_subj)\n",
    "display(f)\n",
    "for train_index, test_index in loo:\n",
    "    # regression\n",
    "    estimator.fit(edges[train_index,],bins[train_index])\n",
    "    predictions[i] = estimator.predict(edges[test_index,])\n",
    "\n",
    "    errors[i] = 1 if predictions[i]==bins[test_index] else 0\n",
    "    i += 1\n",
    "    f.value += 1\n",
    "        \n",
    "print('Accuracy:',errors.mean())\n"
   ]
  },
  {
   "cell_type": "code",
   "execution_count": 38,
   "metadata": {
    "collapsed": false
   },
   "outputs": [
    {
     "data": {
      "text/plain": [
       "array([[ 0, 32],\n",
       "       [ 0, 82]])"
      ]
     },
     "execution_count": 38,
     "metadata": {},
     "output_type": "execute_result"
    }
   ],
   "source": [
    "confusion_matrix(bins, predictions)"
   ]
  },
  {
   "cell_type": "code",
   "execution_count": 16,
   "metadata": {
    "collapsed": false
   },
   "outputs": [
    {
     "data": {
      "text/plain": [
       "array([[ 3,  4, 14],\n",
       "       [ 3,  3, 27],\n",
       "       [ 2,  4, 55]])"
      ]
     },
     "execution_count": 16,
     "metadata": {},
     "output_type": "execute_result"
    }
   ],
   "source": [
    "confusion_matrix(bins, predictions)"
   ]
  },
  {
   "cell_type": "code",
   "execution_count": 9,
   "metadata": {
    "collapsed": false,
    "scrolled": true
   },
   "outputs": [
    {
     "name": "stdout",
     "output_type": "stream",
     "text": [
      "[[ 2.  2.  2.  2.  2.  2.  2.  2.  2.  2.  2.  2.  2.  2.  2.  2.  2.  2.\n",
      "   2.  2.  2.  2.  2.  2.  2.  2.  2.  2.  2.  2.  2.  2.  2.  2.  2.  2.\n",
      "   2.  2.  2.  2.  2.  2.  2.  2.  2.  2.  2.  2.  2.  2.  2.  2.  2.  2.\n",
      "   2.  2.  2.  2.  2.  2.  2.  2.  2.  2.  2.  2.  2.  2.  2.  2.  2.  2.\n",
      "   2.  2.  2.  2.  2.  2.  2.  2.  2.  2.  2.  2.  2.  2.  2.  2.  2.  2.\n",
      "   2.  2.  2.  2.  2.  2.  2.  2.  2.  2.  2.  2.  2.  2.  2.  2.  2.  2.\n",
      "   2.  2.  2.  2.  2.  2.  2.]]\n",
      "[2 2 1 2 2 2 2 2 1 2 1 2 1 2 2 1 1 2 2 1 2 2 2 2 2 1 2 2 2 2 2 2 1 2 2 2 2\n",
      " 2 2 1 2 2 1 2 1 2 2 1 2 2 1 2 1 2 2 1 2 2 2 2 2 1 2 2 2 2 1 1 2 2 2 2 2 2\n",
      " 2 2 2 1 2 1 1 1 1 1 2 2 1 2 2 2 2 1 2 1 2 2 2 2 1 1 2 1 2 2 2 2 1 2 1 2 2\n",
      " 2 2 2 1]\n"
     ]
    }
   ],
   "source": [
    "# RF + PCA\n",
    "print(np.transpose(predictions))\n",
    "print(bins)"
   ]
  },
  {
   "cell_type": "code",
   "execution_count": 11,
   "metadata": {
    "collapsed": false
   },
   "outputs": [
    {
     "name": "stdout",
     "output_type": "stream",
     "text": [
      "[[ 2.  2.  2.  2.  2.  2.  2.  2.  2.  2.  2.  2.  2.  2.  2.  2.  2.  2.\n",
      "   2.  2.  2.  2.  2.  2.  2.  2.  2.  2.  2.  2.  2.  2.  2.  2.  2.  2.\n",
      "   2.  2.  2.  2.  2.  2.  2.  2.  2.  2.  2.  2.  2.  2.  2.  2.  2.  2.\n",
      "   2.  2.  2.  2.  2.  2.  2.  2.  2.  2.  2.  2.  2.  2.  2.  2.  2.  2.\n",
      "   2.  2.  2.  2.  2.  2.  2.  2.  2.  2.  2.  2.  2.  2.  2.  2.  2.  2.\n",
      "   2.  2.  2.  2.  2.  2.  2.  2.  2.  2.  2.  2.  2.  2.  2.  2.  2.  2.\n",
      "   2.  2.  2.  2.  2.  2.  2.]]\n",
      "[2 2 1 2 2 2 2 2 1 2 1 2 1 2 2 1 1 2 2 1 2 2 2 2 2 1 2 2 2 2 2 2 1 2 2 2 2\n",
      " 2 2 1 2 2 1 2 1 2 2 1 2 2 1 2 1 2 2 1 2 2 2 2 2 1 2 2 2 2 1 1 2 2 2 2 2 2\n",
      " 2 2 2 1 2 1 1 1 1 1 2 2 1 2 2 2 2 1 2 1 2 2 2 2 1 1 2 1 2 2 2 2 1 2 1 2 2\n",
      " 2 2 2 1]\n"
     ]
    }
   ],
   "source": [
    "# RF + PCA (more decision trees)\n",
    "print(np.transpose(predictions))\n",
    "print(bins)"
   ]
  },
  {
   "cell_type": "code",
   "execution_count": 17,
   "metadata": {
    "collapsed": false
   },
   "outputs": [
    {
     "name": "stdout",
     "output_type": "stream",
     "text": [
      "[[ 3.  3.  3.  3.  3.  3.  3.  3.  1.  3.  1.  3.  3.  1.  3.  3.  3.  3.\n",
      "   3.  2.  2.  3.  3.  2.  3.  1.  3.  2.  3.  3.  3.  3.  2.  3.  3.  3.\n",
      "   3.  1.  3.  3.  3.  3.  2.  2.  3.  3.  3.  3.  3.  3.  3.  3.  3.  3.\n",
      "   3.  3.  3.  3.  3.  1.  3.  3.  2.  3.  3.  3.  3.  3.  3.  3.  3.  3.\n",
      "   3.  3.  3.  3.  3.  3.  3.  3.  2.  2.  3.  2.  3.  3.  3.  3.  3.  3.\n",
      "   3.  3.  3.  3.  3.  3.  3.  3.  1.  3.  1.  3.  3.  3.  3.  3.  3.  3.\n",
      "   3.  3.  3.  3.  3.  3.  3.]]\n",
      "[2 2 1 2 3 2 2 2 2 3 1 3 2 3 3 1 2 3 3 2 3 3 3 3 3 1 3 2 3 3 3 3 1 3 3 3 2\n",
      " 2 3 1 3 2 1 3 1 3 3 1 3 2 1 2 1 3 2 2 3 3 2 2 2 1 3 3 2 2 2 2 3 3 3 3 3 3\n",
      " 3 3 3 2 3 1 2 1 2 1 3 3 1 3 3 3 3 2 3 1 3 3 2 3 1 1 3 1 3 3 3 2 1 3 2 3 3\n",
      " 3 3 3 2]\n"
     ]
    }
   ],
   "source": [
    "# RF + PCA (more decision trees) - 3 classes\n",
    "print(np.transpose(predictions))\n",
    "print(bins)"
   ]
  },
  {
   "cell_type": "code",
   "execution_count": 7,
   "metadata": {
    "collapsed": false,
    "scrolled": true
   },
   "outputs": [
    {
     "name": "stdout",
     "output_type": "stream",
     "text": [
      "[[ 2.  2.  2.  2.  2.  2.  2.  2.  2.  2.  1.  2.  2.  2.  2.  2.  2.  2.\n",
      "   2.  1.  2.  2.  2.  2.  2.  1.  2.  2.  2.  2.  2.  2.  2.  2.  2.  2.\n",
      "   2.  2.  2.  2.  2.  2.  2.  1.  2.  2.  2.  2.  2.  2.  2.  2.  2.  2.\n",
      "   2.  2.  2.  2.  2.  1.  2.  2.  1.  2.  2.  2.  2.  1.  2.  2.  2.  2.\n",
      "   2.  2.  2.  2.  2.  2.  2.  2.  2.  2.  1.  1.  2.  2.  2.  2.  2.  2.\n",
      "   2.  1.  2.  2.  2.  2.  2.  2.  1.  2.  1.  2.  2.  2.  2.  2.  2.  2.\n",
      "   2.  2.  2.  2.  2.  2.  2.]]\n",
      "[2 2 1 2 2 2 2 2 1 2 1 2 1 2 2 1 1 2 2 1 2 2 2 2 2 1 2 2 2 2 2 2 1 2 2 2 2\n",
      " 2 2 1 2 2 1 2 1 2 2 1 2 2 1 2 1 2 2 1 2 2 2 2 2 1 2 2 2 2 1 1 2 2 2 2 2 2\n",
      " 2 2 2 1 2 1 1 1 1 1 2 2 1 2 2 2 2 1 2 1 2 2 2 2 1 1 2 1 2 2 2 2 1 2 1 2 2\n",
      " 2 2 2 1]\n"
     ]
    }
   ],
   "source": [
    "# RF (no PCA)\n",
    "print(np.transpose(predictions))\n",
    "print(bins)"
   ]
  },
  {
   "cell_type": "code",
   "execution_count": 23,
   "metadata": {
    "collapsed": false,
    "scrolled": true
   },
   "outputs": [
    {
     "name": "stdout",
     "output_type": "stream",
     "text": [
      "[[ 3.  3.  3.  3.  3.  3.  3.  3.  3.  3.  3.  3.  3.  3.  3.  3.  3.  3.\n",
      "   3.  3.  3.  3.  3.  3.  3.  3.  3.  3.  3.  3.  3.  3.  3.  3.  3.  3.\n",
      "   3.  3.  3.  3.  3.  3.  3.  3.  3.  3.  3.  3.  3.  3.  3.  3.  3.  3.\n",
      "   3.  3.  3.  3.  3.  3.  3.  3.  3.  3.  3.  3.  3.  3.  3.  3.  3.  3.\n",
      "   3.  3.  3.  3.  3.  3.  3.  3.  3.  3.  3.  3.  3.  3.  3.  3.  3.  3.\n",
      "   3.  3.  3.  3.  3.  3.  3.  3.  3.  3.  3.  3.  3.  3.  3.  3.  3.  3.\n",
      "   3.  3.  3.  3.  3.  3.  3.  3.  3.]]\n",
      "[2 2 1 2 3 2 2 2 2 3 1 3 2 3 3 1 2 3 3 2 3 3 3 3 3 1 3 2 3 3 3 3 1 3 3 3 2\n",
      " 2 3 1 3 2 1 3 1 3 3 1 3 2 1 2 1 2 3 2 2 3 3 2 2 2 1 3 3 2 2 2 2 3 3 3 3 3\n",
      " 3 3 3 3 3 2 3 1 2 1 2 1 3 3 1 3 3 3 3 2 3 1 3 3 2 3 1 1 3 1 3 3 3 2 1 3 2\n",
      " 3 3 3 3 3 2]\n"
     ]
    }
   ],
   "source": [
    "# RF + PCA on Rest1\n",
    "print(np.transpose(predictions))\n",
    "print(bins)"
   ]
  },
  {
   "cell_type": "code",
   "execution_count": 25,
   "metadata": {
    "collapsed": false,
    "scrolled": true
   },
   "outputs": [
    {
     "name": "stdout",
     "output_type": "stream",
     "text": [
      "[[ 3.  3.  3.  3.  3.  3.  3.  3.  3.  3.  3.  3.  3.  3.  3.  3.  3.  3.\n",
      "   3.  3.  3.  3.  3.  3.  3.  3.  3.  3.  3.  3.  3.  3.  3.  3.  3.  3.\n",
      "   3.  3.  3.  3.  3.  3.  3.  3.  3.  3.  3.  3.  3.  3.  3.  3.  3.  3.\n",
      "   3.  3.  3.  3.  3.  3.  3.  3.  3.  3.  3.  3.  3.  3.  3.  3.  3.  3.\n",
      "   3.  3.  3.  3.  3.  3.  3.  3.  3.  3.  3.  3.  3.  3.  3.  3.  3.  3.\n",
      "   3.  3.  3.  3.  3.  3.  3.  3.  3.  3.  3.  3.  3.  3.  3.  3.  3.  3.\n",
      "   3.  3.  3.  3.  3.  3.  3.  3.  3.]]\n",
      "[2 2 1 2 3 2 2 2 2 3 1 3 2 3 3 1 2 3 3 2 3 3 3 3 3 1 3 2 3 3 3 3 1 3 3 3 2\n",
      " 2 3 1 3 2 1 3 1 3 3 1 3 2 1 2 1 2 3 2 2 3 3 2 2 2 1 3 3 2 2 2 2 3 3 3 3 3\n",
      " 3 3 3 3 3 2 3 1 2 1 2 1 3 3 1 3 3 3 3 2 3 1 3 3 2 3 1 1 3 1 3 3 3 2 1 3 2\n",
      " 3 3 3 3 3 2]\n"
     ]
    }
   ],
   "source": [
    "# RF on Rest1\n",
    "print(np.transpose(predictions))\n",
    "print(bins)"
   ]
  },
  {
   "cell_type": "code",
   "execution_count": 43,
   "metadata": {
    "collapsed": false,
    "scrolled": true
   },
   "outputs": [
    {
     "name": "stdout",
     "output_type": "stream",
     "text": [
      "[[ 2.  2.  2.  2.  2.  2.  2.  2.  2.  2.  2.  2.  2.  2.  2.  2.  2.  2.\n",
      "   2.  2.  2.  2.  2.  2.  2.  2.  2.  2.  2.  2.  2.  2.  2.  2.  2.  2.\n",
      "   2.  2.  2.  2.  2.  2.  2.  2.  2.  2.  2.  2.  2.  2.  2.  2.  2.  2.\n",
      "   2.  2.  2.  2.  2.  2.  2.  2.  2.  2.  2.  2.  2.  2.  2.  2.  2.  2.\n",
      "   2.  2.  2.  2.  2.  2.  2.  2.  2.  2.  2.  2.  2.  2.  2.  2.  2.  2.\n",
      "   2.  2.  2.  2.  2.  2.  2.  2.  2.  2.  2.  2.  2.  2.  2.  2.  2.  2.\n",
      "   2.  2.  2.  2.  2.  2.  2.  2.  2.  2.  2.  2.  2.  2.  2.  2.  2.  2.\n",
      "   2.  2.  2.  2.  2.  2.  2.  2.  2.  2.  2.  2.  2.  2.  2.  2.  2.  2.\n",
      "   2.  2.  2.  2.  2.  2.  2.  2.  2.  2.  2.  2.  2.  2.  2.  2.  2.  2.\n",
      "   2.  2.  2.  2.  2.  2.  2.  2.  2.  2.  2.  2.  2.  2.  2.  2.  2.  2.\n",
      "   2.  2.  2.  2.  2.  2.  2.  2.  2.  2.  2.  2.  2.  2.  2.  2.  2.  2.\n",
      "   2.  2.  2.  2.  2.  2.  2.  2.  2.  2.  2.  2.  2.  2.  2.  2.  2.  2.\n",
      "   2.  2.  2.  2.  2.  2.  2.  2.  2.  2.  2.  2.  2.  2.  2.  2.  2.  2.\n",
      "   2.  2.  2.  2.  2.  2.  2.  2.  2.  2.  2.  2.  2.  2.  2.  2.  2.  2.\n",
      "   2.  2.  2.  2.  2.  2.  2.  2.  2.  2.  2.  2.  2.  2.  2.  2.  2.  2.\n",
      "   2.  2.  2.  2.  2.  2.  2.  2.  2.  2.  2.  2.  2.  2.  2.  2.  2.  2.\n",
      "   2.  2.  2.  2.  2.  2.  2.  2.  2.  2.  2.  2.  2.  2.  2.  2.  2.  2.\n",
      "   2.  2.  2.  2.  2.  2.  2.  2.  2.  2.  2.  2.  2.  2.  2.  2.  2.  2.\n",
      "   2.  2.  2.  2.  2.  2.  2.  2.  2.  2.  2.  2.  2.  2.  2.  2.  2.  2.\n",
      "   2.  2.  2.  2.  2.  2.  2.  2.  2.  2.  2.  2.  2.  2.  2.  2.  2.  2.\n",
      "   2.  2.  2.  2.  2.  2.  2.  2.  2.  2.  2.  2.  2.  2.  2.  2.  2.  2.\n",
      "   2.  2.  2.  2.  2.  2.  2.  2.  2.  2.  2.  2.  2.  2.  2.  2.  2.  2.\n",
      "   2.  2.  2.  2.  2.  2.  2.  2.  2.  2.  2.  2.  2.  2.  2.  2.  2.  2.\n",
      "   2.  2.  2.  2.  2.  2.  2.  2.  2.  2.  2.  2.  2.  2.  2.  2.  2.  2.\n",
      "   2.  2.  2.]]\n"
     ]
    }
   ],
   "source": [
    "# PCA + RF on extended data\n",
    "print(np.transpose(predictions))"
   ]
  },
  {
   "cell_type": "code",
   "execution_count": 46,
   "metadata": {
    "collapsed": false,
    "scrolled": true
   },
   "outputs": [
    {
     "name": "stdout",
     "output_type": "stream",
     "text": [
      "[[ 3.  3.  3.  3.  3.  3.  3.  3.  3.  3.  3.  3.  3.  3.  3.  3.  3.  3.\n",
      "   3.  3.  3.  3.  3.  3.  3.  3.  3.  3.  3.  3.  3.  3.  3.  3.  3.  3.\n",
      "   3.  3.  3.  3.  3.  3.  3.  3.  3.  3.  3.  3.  3.  3.  3.  3.  3.  3.\n",
      "   3.  3.  3.  3.  3.  3.  3.  3.  3.  3.  3.  3.  3.  3.  3.  3.  3.  3.\n",
      "   3.  3.  3.  3.  3.  3.  3.  3.  3.  3.  3.  3.  3.  3.  3.  3.  3.  3.\n",
      "   3.  3.  3.  3.  3.  3.  3.  3.  3.  3.  3.  3.  3.  3.  3.  3.  3.  3.\n",
      "   3.  3.  3.  3.  3.  3.  3.  3.  3.  3.  3.  3.  3.  3.  3.  3.  3.  3.\n",
      "   3.  3.  3.  3.  3.  3.  3.  3.  3.  3.  3.  3.  3.  3.  3.  3.  3.  3.\n",
      "   3.  3.  3.  3.  3.  3.  3.  3.  3.  3.  3.  3.  3.  3.  3.  3.  3.  3.\n",
      "   3.  3.  3.  3.  3.  3.  3.  3.  3.  3.  3.  3.  3.  3.  3.  3.  3.  3.\n",
      "   3.  3.  3.  3.  3.  3.  3.  3.  3.  3.  3.  3.  3.  3.  3.  3.  3.  3.\n",
      "   3.  3.  3.  3.  3.  3.  3.  3.  3.  3.  3.  3.  3.  3.  3.  3.  3.  3.\n",
      "   3.  3.  3.  3.  3.  3.  3.  3.  3.  3.  3.  3.  3.  3.  3.  3.  3.  3.\n",
      "   3.  3.  3.  3.  3.  3.  3.  3.  3.  3.  3.  3.  3.  3.  3.  3.  3.  3.\n",
      "   3.  3.  3.  3.  3.  3.  3.  3.  3.  3.  3.  3.  3.  3.  3.  3.  3.  3.\n",
      "   3.  3.  3.  3.  3.  3.  3.  3.  3.  3.  3.  3.  3.  3.  3.  3.  3.  3.\n",
      "   3.  3.  3.  3.  3.  3.  3.  3.  3.  3.  3.  3.  3.  3.  3.  3.  3.  3.\n",
      "   3.  3.  3.  3.  3.  3.  3.  3.  3.  3.  3.  3.  3.  3.  3.  3.  3.  3.\n",
      "   3.  3.  3.  3.  3.  3.  3.  3.  3.  3.  3.  3.  3.  3.  3.  3.  3.  3.\n",
      "   3.  3.  3.  3.  3.  3.  3.  3.  3.  3.  3.  3.  3.  3.  3.  3.  3.  3.\n",
      "   3.  3.  3.  3.  3.  3.  3.  3.  3.  3.  3.  3.  3.  3.  3.  3.  3.  3.\n",
      "   3.  3.  3.  3.  3.  3.  3.  3.  3.  3.  3.  3.  3.  3.  3.  3.  3.  3.\n",
      "   3.  3.  3.  3.  3.  3.  3.  3.  3.  3.  3.  3.  3.  3.  3.  3.  3.  3.\n",
      "   3.  3.  3.  3.  3.  3.  3.  3.  3.  3.  3.  3.  3.  3.  3.  3.  3.  3.\n",
      "   3.  3.  3.]]\n"
     ]
    }
   ],
   "source": [
    "# PCA + RF on extended data - 3 classes\n",
    "print(np.transpose(predictions))"
   ]
  },
  {
   "cell_type": "code",
   "execution_count": 32,
   "metadata": {
    "collapsed": false
   },
   "outputs": [
    {
     "name": "stdout",
     "output_type": "stream",
     "text": [
      "0.719298245614\n",
      "0.710526315789\n"
     ]
    }
   ],
   "source": [
    "# Test with two distinct model for positive and negative edges (PCA on training data)\n",
    "\n",
    "\n",
    "loo = cross_validation.LeaveOneOut(n_subj)\n",
    "errors_pos = np.zeros([n_subj,1])\n",
    "errors_neg = np.zeros([n_subj,1])\n",
    "predictions_pos = np.zeros([n_subj,1])\n",
    "predictions_neg = np.zeros([n_subj,1])\n",
    "estimator = RandomForestClassifier(random_state=0, n_estimators=100, oob_score=True)\n",
    "pca = PCA(n_components=0.999)\n",
    "\n",
    "\n",
    "\n",
    "def regress(p,score,edges):\n",
    "    i=0\n",
    "    f = FloatProgress(min=0, max=n_subj)\n",
    "    display(f)\n",
    "    for train_index, test_index in loo:\n",
    "        pears = [stats.pearsonr(edges[train_index,i],gF[train_index]) for i in range(0,n_edges)]\n",
    "        # select edges (positively and negatively) correlated with gF with threshold p\n",
    "        idx_filtered_pos = np.array([idx for idx in range(1,n_edges) if pears[idx][1]<p and pears[idx][0]>0])\n",
    "        idx_filtered_neg = np.array([idx for idx in range(1,n_edges) if pears[idx][1]<p and pears[idx][0]<0])\n",
    "        filtered_pos = edges[np.ix_(train_index,idx_filtered_pos)]\n",
    "        filtered_neg = edges[np.ix_(train_index,idx_filtered_neg)]\n",
    "        # decomposition & regression \n",
    "        pc_pos = pca.fit_transform(filtered_pos)\n",
    "        estimator.fit(pc_pos,bins[train_index])\n",
    "        predictions_pos[i] = estimator.predict(pca.transform(edges[np.ix_(test_index,idx_filtered_pos)]))\n",
    "        pc_neg = pca.fit_transform(filtered_neg)\n",
    "        estimator.fit(pc_neg,bins[train_index])\n",
    "        predictions_neg[i] = estimator.predict(pca.transform(edges[np.ix_(test_index,idx_filtered_neg)]))\n",
    "        errors_pos[i] =  1 if predictions_pos[i]==bins[test_index] else 0\n",
    "        errors_neg[i] =  1 if predictions_neg[i]==bins[test_index] else 0\n",
    "        i=i+1\n",
    "        f.value += 1\n",
    "        \n",
    "#interact(regress, p=(0.01,0.1,0.01),score=fixed(gF), edges=fixed(edges))\n",
    "p = 0.01\n",
    "regress(p,gF,edges)\n",
    "preds_3 = predictions_pos\n",
    "preds_4 = predictions_neg\n",
    "\n",
    "print(np.mean(errors_pos))\n",
    "print(np.mean(errors_neg))\n"
   ]
  },
  {
   "cell_type": "code",
   "execution_count": 34,
   "metadata": {
    "collapsed": false
   },
   "outputs": [
    {
     "name": "stdout",
     "output_type": "stream",
     "text": [
      "[[ 2.  2.  2.  2.  2.  2.  2.  2.  2.  2.  2.  2.  2.  2.  2.  2.  2.  2.\n",
      "   2.  2.  2.  2.  2.  2.  2.  2.  2.  2.  2.  2.  2.  2.  2.  2.  2.  2.\n",
      "   2.  2.  2.  2.  2.  2.  2.  2.  2.  2.  2.  2.  2.  2.  2.  2.  2.  2.\n",
      "   2.  2.  2.  2.  2.  2.  2.  2.  2.  2.  2.  2.  2.  2.  2.  2.  2.  2.\n",
      "   2.  2.  2.  2.  2.  2.  2.  2.  2.  2.  2.  2.  2.  2.  2.  2.  2.  2.\n",
      "   2.  2.  2.  2.  2.  2.  2.  2.  2.  2.  2.  2.  2.  2.  2.  2.  2.  2.\n",
      "   2.  2.  2.  2.  2.  2.]]\n",
      "[[ 2.  2.  2.  2.  2.  2.  2.  2.  2.  2.  2.  2.  2.  2.  2.  2.  2.  2.\n",
      "   2.  2.  2.  2.  2.  2.  2.  2.  2.  2.  2.  2.  2.  2.  2.  2.  2.  2.\n",
      "   2.  2.  2.  2.  2.  2.  2.  2.  2.  2.  2.  2.  2.  2.  2.  2.  2.  2.\n",
      "   2.  2.  2.  2.  2.  2.  2.  2.  2.  2.  2.  2.  2.  2.  2.  2.  2.  2.\n",
      "   2.  2.  2.  2.  2.  2.  2.  2.  2.  2.  2.  2.  2.  2.  2.  2.  2.  2.\n",
      "   2.  2.  2.  2.  1.  2.  2.  2.  2.  2.  2.  2.  2.  2.  2.  2.  2.  2.\n",
      "   2.  2.  2.  2.  2.  2.]]\n"
     ]
    }
   ],
   "source": [
    "print(np.transpose(preds_3))\n",
    "print(np.transpose(preds_4))"
   ]
  },
  {
   "cell_type": "code",
   "execution_count": 9,
   "metadata": {
    "collapsed": false
   },
   "outputs": [
    {
     "name": "stdout",
     "output_type": "stream",
     "text": [
      "Mean error: 0.719298245614\n",
      "[ 2.  2.  2.  2.  2.  2.  2.  2.  2.  2.  2.  2.  2.  2.  2.  2.  2.  2.\n",
      "  2.  2.  2.  2.  2.  2.  2.  2.  2.  2.  2.  2.  2.  2.  2.  2.  2.  2.\n",
      "  2.  2.  2.  2.  2.  2.  2.  2.  2.  2.  2.  2.  2.  2.  2.  2.  2.  2.\n",
      "  2.  2.  2.  2.  2.  2.  2.  2.  2.  2.  2.  2.  2.  2.  2.  2.  2.  2.\n",
      "  2.  2.  2.  2.  2.  2.  2.  2.  2.  2.  2.  2.  2.  2.  2.  2.  2.  2.\n",
      "  2.  2.  2.  2.  2.  2.  2.  2.  2.  2.  2.  2.  2.  2.  2.  2.  2.  2.\n",
      "  2.  2.  2.  2.  2.  2.]\n"
     ]
    }
   ],
   "source": [
    "# Test with all edges (PCA in 5-fold CV)\n",
    "k = 5\n",
    "cv = cross_validation.StratifiedKFold(bins,k)\n",
    "errors = np.zeros([n_subj])\n",
    "predictions = np.zeros([n_subj])\n",
    "estimator = RandomForestClassifier(random_state=0, n_estimators=100, oob_score=True)\n",
    "pca = PCA(n_components=0.999)\n",
    "\n",
    "i=0\n",
    "f = FloatProgress(min=0, max=k)\n",
    "display(f)\n",
    "for train_index, test_index in cv:\n",
    "    # decomposition\n",
    "    data_pc = pca.fit_transform(edges[train_index,])\n",
    "    # regression\n",
    "    estimator.fit(data_pc,bins[train_index])\n",
    "    predictions[test_index] = np.ravel(estimator.predict(pca.transform(edges[test_index,])))\n",
    "\n",
    "    errors[test_index] = predictions[i]==bins[test_index]\n",
    "    i += 1\n",
    "    f.value += 1\n",
    "        \n",
    "print('Mean error:',errors.mean())\n",
    "preds_5 = predictions\n",
    "print(preds_5)"
   ]
  },
  {
   "cell_type": "code",
   "execution_count": 11,
   "metadata": {
    "collapsed": false
   },
   "outputs": [
    {
     "name": "stdout",
     "output_type": "stream",
     "text": [
      "Mean error: 0.719298245614\n",
      "[ 2.  2.  2.  2.  2.  2.  2.  2.  2.  2.  2.  2.  2.  2.  2.  2.  2.  2.\n",
      "  2.  2.  2.  2.  2.  2.  2.  2.  2.  2.  2.  2.  2.  2.  2.  2.  2.  2.\n",
      "  2.  2.  2.  2.  2.  2.  2.  2.  2.  2.  2.  2.  2.  2.  2.  2.  2.  2.\n",
      "  2.  2.  2.  2.  2.  2.  2.  2.  2.  2.  2.  2.  2.  2.  2.  2.  2.  2.\n",
      "  2.  2.  2.  2.  2.  2.  2.  2.  2.  2.  2.  2.  2.  2.  2.  2.  2.  2.\n",
      "  2.  2.  2.  2.  2.  2.  2.  2.  2.  2.  2.  2.  2.  2.  2.  2.  2.  2.\n",
      "  2.  2.  2.  2.  2.  2.]\n"
     ]
    }
   ],
   "source": [
    "# Test with all edges (PCA in 10-fold CV)\n",
    "k = 10\n",
    "cv = cross_validation.StratifiedKFold(bins,k)\n",
    "errors = np.zeros([n_subj])\n",
    "predictions = np.zeros([n_subj])\n",
    "estimator = RandomForestClassifier(random_state=0, n_estimators=100, oob_score=True)\n",
    "pca = PCA(n_components=0.999)\n",
    "\n",
    "i=0\n",
    "f = FloatProgress(min=0, max=k)\n",
    "display(f)\n",
    "for train_index, test_index in cv:\n",
    "    # decomposition\n",
    "    data_pc = pca.fit_transform(edges[train_index,])\n",
    "    # regression\n",
    "    estimator.fit(data_pc,bins[train_index])\n",
    "    predictions[test_index] = np.ravel(estimator.predict(pca.transform(edges[test_index,])))\n",
    "\n",
    "    errors[test_index] = predictions[i]==bins[test_index]\n",
    "    i += 1\n",
    "    f.value += 1\n",
    "        \n",
    "print('Mean error:',errors.mean())\n",
    "preds_6 = predictions\n",
    "print(preds_6)"
   ]
  },
  {
   "cell_type": "code",
   "execution_count": 10,
   "metadata": {
    "collapsed": false
   },
   "outputs": [],
   "source": [
    "results = {'rf_improved_1_class_pca_all':preds_1,'rf_improved_1_class_pca_train':preds_2,\n",
    "           'rf_improved_1_class_pca_pos':preds_3,'rf_improved_1_class_pca_neg':preds_4,\n",
    "          'rf_improved_1_class_pca_train_5FCV':preds_5,'rf_improved_1_class_pca_train_10FCV':preds_6}\n",
    "sio.savemat('res_class_randomforest_improved_1.mat',results,appendmat=True)"
   ]
  },
  {
   "cell_type": "code",
   "execution_count": 19,
   "metadata": {
    "collapsed": false
   },
   "outputs": [],
   "source": [
    "results = {'rf_improved_2_class_pca_all':preds_1,'rf_improved_2_class_pca_train':preds_2,\n",
    "           'rf_improved_2_class_pca_pos':preds_3,'rf_improved_2_class_pca_neg':preds_4,\n",
    "          'rf_improved_2_class_pca_train_5FCV':preds_5,'rf_improved_2_class_pca_train_10FCV':preds_6}\n",
    "sio.savemat('res_class_randomforest_improved_2.mat',results,appendmat=True)"
   ]
  }
 ],
 "metadata": {
  "anaconda-cloud": {},
  "kernelspec": {
   "display_name": "Python [Root]",
   "language": "python",
   "name": "Python [Root]"
  },
  "language_info": {
   "codemirror_mode": {
    "name": "ipython",
    "version": 3
   },
   "file_extension": ".py",
   "mimetype": "text/x-python",
   "name": "python",
   "nbconvert_exporter": "python",
   "pygments_lexer": "ipython3",
   "version": "3.5.2"
  }
 },
 "nbformat": 4,
 "nbformat_minor": 0
}
